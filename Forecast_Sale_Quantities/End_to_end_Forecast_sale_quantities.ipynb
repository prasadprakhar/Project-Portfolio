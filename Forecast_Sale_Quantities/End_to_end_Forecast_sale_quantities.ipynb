{
 "cells": [
  {
   "cell_type": "markdown",
   "metadata": {},
   "source": [
    "# E2E (31/32) Forecast Sales Quantities"
   ]
  },
  {
   "cell_type": "code",
   "execution_count": 133,
   "metadata": {},
   "outputs": [],
   "source": [
    "# usual imports # \n",
    "import pandas as pd\n",
    "import numpy as np\n",
    "\n",
    "import matplotlib.pyplot as plt\n",
    "import seaborn as sns\n",
    "\n",
    "%matplotlib inline "
   ]
  },
  {
   "cell_type": "code",
   "execution_count": 134,
   "metadata": {},
   "outputs": [],
   "source": [
    "# ignore unwanted warnings #\n",
    "import warnings\n",
    "warnings.filterwarnings(action='ignore')"
   ]
  },
  {
   "cell_type": "code",
   "execution_count": 135,
   "metadata": {},
   "outputs": [],
   "source": [
    "# consistent plot size #\n",
    "from pylab import rcParams\n",
    "rcParams['figure.figsize']=12,5"
   ]
  },
  {
   "cell_type": "code",
   "execution_count": 136,
   "metadata": {},
   "outputs": [],
   "source": [
    "from datetime import datetime"
   ]
  },
  {
   "cell_type": "code",
   "execution_count": 137,
   "metadata": {},
   "outputs": [],
   "source": [
    "# load the datasets #\n",
    "df_sales = pd.read_csv('/cxldata/datasets/project/sales_historical_sales_value.csv',index_col='time',parse_dates=True)"
   ]
  },
  {
   "cell_type": "code",
   "execution_count": 138,
   "metadata": {},
   "outputs": [],
   "source": [
    "df_income = pd.read_csv('/cxldata/datasets/project/sales_disposable_personal_income.csv',index_col='time',parse_dates=True)"
   ]
  },
  {
   "cell_type": "code",
   "execution_count": 139,
   "metadata": {},
   "outputs": [
    {
     "data": {
      "text/html": [
       "<div>\n",
       "<style scoped>\n",
       "    .dataframe tbody tr th:only-of-type {\n",
       "        vertical-align: middle;\n",
       "    }\n",
       "\n",
       "    .dataframe tbody tr th {\n",
       "        vertical-align: top;\n",
       "    }\n",
       "\n",
       "    .dataframe thead th {\n",
       "        text-align: right;\n",
       "    }\n",
       "</style>\n",
       "<table border=\"1\" class=\"dataframe\">\n",
       "  <thead>\n",
       "    <tr style=\"text-align: right;\">\n",
       "      <th></th>\n",
       "      <th>ID1</th>\n",
       "      <th>ID2</th>\n",
       "      <th>value</th>\n",
       "    </tr>\n",
       "    <tr>\n",
       "      <th>time</th>\n",
       "      <th></th>\n",
       "      <th></th>\n",
       "      <th></th>\n",
       "    </tr>\n",
       "  </thead>\n",
       "  <tbody>\n",
       "    <tr>\n",
       "      <td>2010-11-13</td>\n",
       "      <td>1</td>\n",
       "      <td>2</td>\n",
       "      <td>130</td>\n",
       "    </tr>\n",
       "    <tr>\n",
       "      <td>2010-11-20</td>\n",
       "      <td>1</td>\n",
       "      <td>2</td>\n",
       "      <td>222</td>\n",
       "    </tr>\n",
       "    <tr>\n",
       "      <td>2010-11-27</td>\n",
       "      <td>1</td>\n",
       "      <td>2</td>\n",
       "      <td>166</td>\n",
       "    </tr>\n",
       "    <tr>\n",
       "      <td>2010-12-04</td>\n",
       "      <td>1</td>\n",
       "      <td>2</td>\n",
       "      <td>174</td>\n",
       "    </tr>\n",
       "    <tr>\n",
       "      <td>2010-12-11</td>\n",
       "      <td>1</td>\n",
       "      <td>2</td>\n",
       "      <td>236</td>\n",
       "    </tr>\n",
       "  </tbody>\n",
       "</table>\n",
       "</div>"
      ],
      "text/plain": [
       "            ID1  ID2  value\n",
       "time                       \n",
       "2010-11-13    1    2    130\n",
       "2010-11-20    1    2    222\n",
       "2010-11-27    1    2    166\n",
       "2010-12-04    1    2    174\n",
       "2010-12-11    1    2    236"
      ]
     },
     "execution_count": 139,
     "metadata": {},
     "output_type": "execute_result"
    }
   ],
   "source": [
    "df_sales.head()"
   ]
  },
  {
   "cell_type": "code",
   "execution_count": 140,
   "metadata": {},
   "outputs": [
    {
     "data": {
      "text/html": [
       "<div>\n",
       "<style scoped>\n",
       "    .dataframe tbody tr th:only-of-type {\n",
       "        vertical-align: middle;\n",
       "    }\n",
       "\n",
       "    .dataframe tbody tr th {\n",
       "        vertical-align: top;\n",
       "    }\n",
       "\n",
       "    .dataframe thead th {\n",
       "        text-align: right;\n",
       "    }\n",
       "</style>\n",
       "<table border=\"1\" class=\"dataframe\">\n",
       "  <thead>\n",
       "    <tr style=\"text-align: right;\">\n",
       "      <th></th>\n",
       "      <th>value</th>\n",
       "    </tr>\n",
       "    <tr>\n",
       "      <th>time</th>\n",
       "      <th></th>\n",
       "    </tr>\n",
       "  </thead>\n",
       "  <tbody>\n",
       "    <tr>\n",
       "      <td>2009-11-07</td>\n",
       "      <td>10886.9</td>\n",
       "    </tr>\n",
       "    <tr>\n",
       "      <td>2009-11-14</td>\n",
       "      <td>10886.9</td>\n",
       "    </tr>\n",
       "    <tr>\n",
       "      <td>2009-11-21</td>\n",
       "      <td>10886.9</td>\n",
       "    </tr>\n",
       "    <tr>\n",
       "      <td>2009-11-28</td>\n",
       "      <td>10886.9</td>\n",
       "    </tr>\n",
       "    <tr>\n",
       "      <td>2009-12-05</td>\n",
       "      <td>10924.7</td>\n",
       "    </tr>\n",
       "  </tbody>\n",
       "</table>\n",
       "</div>"
      ],
      "text/plain": [
       "              value\n",
       "time               \n",
       "2009-11-07  10886.9\n",
       "2009-11-14  10886.9\n",
       "2009-11-21  10886.9\n",
       "2009-11-28  10886.9\n",
       "2009-12-05  10924.7"
      ]
     },
     "execution_count": 140,
     "metadata": {},
     "output_type": "execute_result"
    }
   ],
   "source": [
    "df_income.head()"
   ]
  },
  {
   "cell_type": "code",
   "execution_count": 141,
   "metadata": {},
   "outputs": [
    {
     "data": {
      "text/html": [
       "<div>\n",
       "<style scoped>\n",
       "    .dataframe tbody tr th:only-of-type {\n",
       "        vertical-align: middle;\n",
       "    }\n",
       "\n",
       "    .dataframe tbody tr th {\n",
       "        vertical-align: top;\n",
       "    }\n",
       "\n",
       "    .dataframe thead th {\n",
       "        text-align: right;\n",
       "    }\n",
       "</style>\n",
       "<table border=\"1\" class=\"dataframe\">\n",
       "  <thead>\n",
       "    <tr style=\"text-align: right;\">\n",
       "      <th></th>\n",
       "      <th>ID1</th>\n",
       "      <th>ID2</th>\n",
       "      <th>value</th>\n",
       "    </tr>\n",
       "    <tr>\n",
       "      <th>time</th>\n",
       "      <th></th>\n",
       "      <th></th>\n",
       "      <th></th>\n",
       "    </tr>\n",
       "  </thead>\n",
       "  <tbody>\n",
       "    <tr>\n",
       "      <td>2012-02-25</td>\n",
       "      <td>1</td>\n",
       "      <td>2</td>\n",
       "      <td>284</td>\n",
       "    </tr>\n",
       "    <tr>\n",
       "      <td>2012-02-25</td>\n",
       "      <td>2</td>\n",
       "      <td>1</td>\n",
       "      <td>114</td>\n",
       "    </tr>\n",
       "    <tr>\n",
       "      <td>2012-02-25</td>\n",
       "      <td>3</td>\n",
       "      <td>1</td>\n",
       "      <td>62</td>\n",
       "    </tr>\n",
       "    <tr>\n",
       "      <td>2012-02-25</td>\n",
       "      <td>4</td>\n",
       "      <td>2</td>\n",
       "      <td>194</td>\n",
       "    </tr>\n",
       "    <tr>\n",
       "      <td>2012-02-25</td>\n",
       "      <td>5</td>\n",
       "      <td>1</td>\n",
       "      <td>118</td>\n",
       "    </tr>\n",
       "    <tr>\n",
       "      <td>2012-02-25</td>\n",
       "      <td>6</td>\n",
       "      <td>1</td>\n",
       "      <td>870</td>\n",
       "    </tr>\n",
       "    <tr>\n",
       "      <td>2012-02-25</td>\n",
       "      <td>7</td>\n",
       "      <td>1</td>\n",
       "      <td>294</td>\n",
       "    </tr>\n",
       "    <tr>\n",
       "      <td>2012-02-25</td>\n",
       "      <td>8</td>\n",
       "      <td>1</td>\n",
       "      <td>558</td>\n",
       "    </tr>\n",
       "    <tr>\n",
       "      <td>2012-02-25</td>\n",
       "      <td>9</td>\n",
       "      <td>1</td>\n",
       "      <td>460</td>\n",
       "    </tr>\n",
       "    <tr>\n",
       "      <td>2012-02-25</td>\n",
       "      <td>10</td>\n",
       "      <td>1</td>\n",
       "      <td>224</td>\n",
       "    </tr>\n",
       "    <tr>\n",
       "      <td>2012-02-25</td>\n",
       "      <td>11</td>\n",
       "      <td>1</td>\n",
       "      <td>194</td>\n",
       "    </tr>\n",
       "    <tr>\n",
       "      <td>2012-02-25</td>\n",
       "      <td>12</td>\n",
       "      <td>1</td>\n",
       "      <td>1634</td>\n",
       "    </tr>\n",
       "    <tr>\n",
       "      <td>2012-02-25</td>\n",
       "      <td>13</td>\n",
       "      <td>1</td>\n",
       "      <td>1338</td>\n",
       "    </tr>\n",
       "    <tr>\n",
       "      <td>2012-02-25</td>\n",
       "      <td>14</td>\n",
       "      <td>1</td>\n",
       "      <td>954</td>\n",
       "    </tr>\n",
       "    <tr>\n",
       "      <td>2012-02-25</td>\n",
       "      <td>15</td>\n",
       "      <td>1</td>\n",
       "      <td>344</td>\n",
       "    </tr>\n",
       "  </tbody>\n",
       "</table>\n",
       "</div>"
      ],
      "text/plain": [
       "            ID1  ID2  value\n",
       "time                       \n",
       "2012-02-25    1    2    284\n",
       "2012-02-25    2    1    114\n",
       "2012-02-25    3    1     62\n",
       "2012-02-25    4    2    194\n",
       "2012-02-25    5    1    118\n",
       "2012-02-25    6    1    870\n",
       "2012-02-25    7    1    294\n",
       "2012-02-25    8    1    558\n",
       "2012-02-25    9    1    460\n",
       "2012-02-25   10    1    224\n",
       "2012-02-25   11    1    194\n",
       "2012-02-25   12    1   1634\n",
       "2012-02-25   13    1   1338\n",
       "2012-02-25   14    1    954\n",
       "2012-02-25   15    1    344"
      ]
     },
     "execution_count": 141,
     "metadata": {},
     "output_type": "execute_result"
    }
   ],
   "source": [
    "df_sales.loc['2012-02-25']"
   ]
  },
  {
   "cell_type": "code",
   "execution_count": 142,
   "metadata": {},
   "outputs": [
    {
     "data": {
      "text/plain": [
       "DatetimeIndex(['2010-11-13', '2010-11-20', '2010-11-27', '2010-12-04',\n",
       "               '2010-12-11', '2010-12-18', '2010-12-25', '2011-01-01',\n",
       "               '2011-01-08', '2011-01-15',\n",
       "               ...\n",
       "               '2013-10-19', '2013-10-26', '2013-11-09', '2013-11-16',\n",
       "               '2013-11-23', '2013-11-30', '2013-12-07', '2013-12-14',\n",
       "               '2013-12-21', '2013-12-28'],\n",
       "              dtype='datetime64[ns]', name='time', length=2459, freq=None)"
      ]
     },
     "execution_count": 142,
     "metadata": {},
     "output_type": "execute_result"
    }
   ],
   "source": [
    "df_sales.index"
   ]
  },
  {
   "cell_type": "code",
   "execution_count": 143,
   "metadata": {},
   "outputs": [
    {
     "data": {
      "text/plain": [
       "DatetimeIndex(['2009-11-07', '2009-11-14', '2009-11-21', '2009-11-28',\n",
       "               '2009-12-05', '2009-12-12', '2009-12-19', '2009-12-26',\n",
       "               '2010-01-02', '2010-01-09',\n",
       "               ...\n",
       "               '2013-11-23', '2013-11-30', '2013-12-07', '2013-12-14',\n",
       "               '2013-12-21', '2013-12-28', '2014-01-04', '2014-01-11',\n",
       "               '2014-01-18', '2014-01-25'],\n",
       "              dtype='datetime64[ns]', name='time', length=221, freq=None)"
      ]
     },
     "execution_count": 143,
     "metadata": {},
     "output_type": "execute_result"
    }
   ],
   "source": [
    "# check the date index and infer the freq #\n",
    "df_income.index"
   ]
  },
  {
   "cell_type": "code",
   "execution_count": 144,
   "metadata": {},
   "outputs": [],
   "source": [
    "# set the index freq #\n",
    "df_income.index.freq = 'W-SAT'"
   ]
  },
  {
   "cell_type": "code",
   "execution_count": 145,
   "metadata": {},
   "outputs": [
    {
     "data": {
      "text/plain": [
       "DatetimeIndex(['2009-11-07', '2009-11-14', '2009-11-21', '2009-11-28',\n",
       "               '2009-12-05', '2009-12-12', '2009-12-19', '2009-12-26',\n",
       "               '2010-01-02', '2010-01-09',\n",
       "               ...\n",
       "               '2013-11-23', '2013-11-30', '2013-12-07', '2013-12-14',\n",
       "               '2013-12-21', '2013-12-28', '2014-01-04', '2014-01-11',\n",
       "               '2014-01-18', '2014-01-25'],\n",
       "              dtype='datetime64[ns]', name='time', length=221, freq='W-SAT')"
      ]
     },
     "execution_count": 145,
     "metadata": {},
     "output_type": "execute_result"
    }
   ],
   "source": [
    "# check the datetime index freq after assigning the freq to Weekly Saturday #\n",
    "df_income.index"
   ]
  },
  {
   "cell_type": "code",
   "execution_count": 146,
   "metadata": {},
   "outputs": [],
   "source": [
    "income = df_income.copy()"
   ]
  },
  {
   "cell_type": "code",
   "execution_count": 147,
   "metadata": {},
   "outputs": [
    {
     "data": {
      "image/png": "[encoded data removed]",
      "text/plain": [
       "<Figure size 864x360 with 1 Axes>"
      ]
     },
     "metadata": {
      "needs_background": "light"
     },
     "output_type": "display_data"
    }
   ],
   "source": [
    "income.plot(legend=True,title='Personal Disposable Income');"
   ]
  },
  {
   "cell_type": "code",
   "execution_count": 148,
   "metadata": {},
   "outputs": [],
   "source": [
    "from statsmodels.tsa.seasonal import seasonal_decompose"
   ]
  },
  {
   "cell_type": "code",
   "execution_count": 149,
   "metadata": {},
   "outputs": [],
   "source": [
    "decompose = seasonal_decompose(income['value'],model='additive')"
   ]
  },
  {
   "cell_type": "code",
   "execution_count": 150,
   "metadata": {},
   "outputs": [
    {
     "data": {
      "image/png": "[encoded data removed]",
      "text/plain": [
       "<Figure size 864x360 with 4 Axes>"
      ]
     },
     "metadata": {
      "needs_background": "light"
     },
     "output_type": "display_data"
    }
   ],
   "source": [
    "decompose.plot();"
   ]
  },
  {
   "cell_type": "code",
   "execution_count": 151,
   "metadata": {},
   "outputs": [
    {
     "data": {
      "text/plain": [
       "<matplotlib.axes._subplots.AxesSubplot at 0x7f0b2af8e908>"
      ]
     },
     "execution_count": 151,
     "metadata": {},
     "output_type": "execute_result"
    },
    {
     "data": {
      "image/png": "[encoded data removed]",
      "text/plain": [
       "<Figure size 864x360 with 1 Axes>"
      ]
     },
     "metadata": {
      "needs_background": "light"
     },
     "output_type": "display_data"
    }
   ],
   "source": [
    "decompose.seasonal.plot(title='Personal Disposable Income - Seasonal Decomposition')"
   ]
  },
  {
   "cell_type": "code",
   "execution_count": 152,
   "metadata": {},
   "outputs": [
    {
     "data": {
      "image/png": "[encoded data removed]",
      "text/plain": [
       "<Figure size 864x360 with 1 Axes>"
      ]
     },
     "metadata": {
      "needs_background": "light"
     },
     "output_type": "display_data"
    }
   ],
   "source": [
    "decompose.trend.plot(title='Personal Disposable Income - Trend');"
   ]
  },
  {
   "cell_type": "code",
   "execution_count": 153,
   "metadata": {},
   "outputs": [],
   "source": [
    "# dickey fuller test to test for stationarity #\n",
    "\n",
    "def dickey_fuller(series,title='Your Dataset'):\n",
    "    from statsmodels.tsa.stattools import adfuller\n",
    "    \n",
    "    print(f'Augmented Dickey Fuller Test of {title}\\n')\n",
    "    result = adfuller(series.dropna(),autolag='AIC')\n",
    "    \n",
    "    df = pd.Series(result[0:4],index=['test-statistics','p-Value','#lags used','#observations'])\n",
    "    \n",
    "    print (df.to_string())\n",
    "    \n",
    "    for key,value in result[4].items():\n",
    "        print (f'critical {key} value is {value}')\n",
    "               \n",
    "                 \n",
    "    if result[1] < 0.05:\n",
    "        print ('There is sufficient evidence against the Null Hypothesis')\n",
    "        print ('We reject the Null Hypothesis')\n",
    "        print ('Conclusion: The provided dataset is stationary')\n",
    "    else:\n",
    "        print ('There is not sufficient evidence against the Null Hypothesis')\n",
    "        print ('We fail to reject the Null Hypothesis')\n",
    "        print ('Conclusion: The provided dataset is non-stationary')"
   ]
  },
  {
   "cell_type": "code",
   "execution_count": 154,
   "metadata": {},
   "outputs": [
    {
     "name": "stdout",
     "output_type": "stream",
     "text": [
      "Augmented Dickey Fuller Test of Personal Disposable Income\n",
      "\n",
      "test-statistics     -1.575139\n",
      "p-Value              0.496069\n",
      "#lags used           5.000000\n",
      "#observations      215.000000\n",
      "critical 1% value is -3.461136478222043\n",
      "critical 5% value is -2.875078880098608\n",
      "critical 10% value is -2.5739861168199027\n",
      "There is not sufficient evidence against the Null Hypothesis\n",
      "We fail to reject the Null Hypothesis\n",
      "Conclusion: The provided dataset is non-stationary\n"
     ]
    }
   ],
   "source": [
    "dickey_fuller(income['value'],title = 'Personal Disposable Income')"
   ]
  },
  {
   "cell_type": "markdown",
   "metadata": {},
   "source": [
    "- As per the Dickey Fuller test , the data set is non stationary "
   ]
  },
  {
   "cell_type": "code",
   "execution_count": 155,
   "metadata": {},
   "outputs": [],
   "source": [
    "from statsmodels.graphics.tsaplots import plot_acf,plot_pacf,month_plot,quarter_plot"
   ]
  },
  {
   "cell_type": "code",
   "execution_count": 156,
   "metadata": {},
   "outputs": [
    {
     "data": {
      "image/png": "[encoded data removed]",
      "text/plain": [
       "<Figure size 864x360 with 1 Axes>"
      ]
     },
     "metadata": {
      "needs_background": "light"
     },
     "output_type": "display_data"
    }
   ],
   "source": [
    "# auto correlation plot #\n",
    "plot_acf(income['value']);"
   ]
  },
  {
   "cell_type": "code",
   "execution_count": 157,
   "metadata": {},
   "outputs": [
    {
     "data": {
      "image/png": "[encoded data removed]",
      "text/plain": [
       "<Figure size 864x360 with 1 Axes>"
      ]
     },
     "metadata": {
      "needs_background": "light"
     },
     "output_type": "display_data"
    }
   ],
   "source": [
    "# partial auto correlation plot #\n",
    "plot_pacf(income['value']);"
   ]
  },
  {
   "cell_type": "markdown",
   "metadata": {},
   "source": [
    "- ACF decays gradually while PACF cuts off sharply. \n",
    "- The autocorrelation pattern can be better explained by adding an AR term than the MA term"
   ]
  },
  {
   "cell_type": "code",
   "execution_count": 158,
   "metadata": {},
   "outputs": [],
   "source": [
    "# import the AR model\n",
    "from statsmodels.tsa.ar_model import AR\n",
    "from pandas.plotting import lag_plot"
   ]
  },
  {
   "cell_type": "code",
   "execution_count": 159,
   "metadata": {},
   "outputs": [
    {
     "data": {
      "image/png": "[encoded data removed]",
      "text/plain": [
       "<Figure size 864x360 with 1 Axes>"
      ]
     },
     "metadata": {
      "needs_background": "light"
     },
     "output_type": "display_data"
    }
   ],
   "source": [
    "lag_plot(income['value'],lag=1);"
   ]
  },
  {
   "cell_type": "markdown",
   "metadata": {},
   "source": [
    "- The plot indicates that the dataset is highly auto correlated. Difference of 1 lag should make the\n",
    "  dataset stationary"
   ]
  },
  {
   "cell_type": "code",
   "execution_count": 160,
   "metadata": {},
   "outputs": [],
   "source": [
    "income['diff1'] = income['value'].diff()"
   ]
  },
  {
   "cell_type": "code",
   "execution_count": 161,
   "metadata": {},
   "outputs": [
    {
     "name": "stdout",
     "output_type": "stream",
     "text": [
      "Augmented Dickey Fuller Test of Your Dataset\n",
      "\n",
      "test-statistics   -8.523404e+00\n",
      "p-Value            1.085282e-13\n",
      "#lags used         4.000000e+00\n",
      "#observations      2.150000e+02\n",
      "critical 1% value is -3.461136478222043\n",
      "critical 5% value is -2.875078880098608\n",
      "critical 10% value is -2.5739861168199027\n",
      "There is sufficient evidence against the Null Hypothesis\n",
      "We reject the Null Hypothesis\n",
      "Conclusion: The provided dataset is stationary\n"
     ]
    }
   ],
   "source": [
    "dickey_fuller(income['diff1'])"
   ]
  },
  {
   "cell_type": "markdown",
   "metadata": {},
   "source": [
    "- The dataset becomes stationary with first order difference"
   ]
  },
  {
   "cell_type": "code",
   "execution_count": 162,
   "metadata": {},
   "outputs": [],
   "source": [
    "income.dropna(inplace=True)\n",
    "model = AR(income['value'])"
   ]
  },
  {
   "cell_type": "code",
   "execution_count": 163,
   "metadata": {},
   "outputs": [],
   "source": [
    "fitt = model.fit(ic='t-stat')"
   ]
  },
  {
   "cell_type": "code",
   "execution_count": 164,
   "metadata": {},
   "outputs": [
    {
     "data": {
      "text/plain": [
       "6"
      ]
     },
     "execution_count": 164,
     "metadata": {},
     "output_type": "execute_result"
    }
   ],
   "source": [
    "fitt.k_ar"
   ]
  },
  {
   "cell_type": "code",
   "execution_count": 165,
   "metadata": {},
   "outputs": [
    {
     "data": {
      "text/plain": [
       "const       255.841284\n",
       "L1.value      1.001386\n",
       "L2.value     -0.019711\n",
       "L3.value     -0.000799\n",
       "L4.value      0.065309\n",
       "L5.value     -0.369888\n",
       "L6.value      0.301726\n",
       "dtype: float64"
      ]
     },
     "execution_count": 165,
     "metadata": {},
     "output_type": "execute_result"
    }
   ],
   "source": [
    "fitt.params"
   ]
  },
  {
   "cell_type": "markdown",
   "metadata": {},
   "source": [
    "- AR order of 6 is returned by the model"
   ]
  },
  {
   "cell_type": "code",
   "execution_count": 166,
   "metadata": {},
   "outputs": [],
   "source": [
    "decompose1 = seasonal_decompose(income['diff1'],model='additive')"
   ]
  },
  {
   "cell_type": "code",
   "execution_count": 167,
   "metadata": {},
   "outputs": [
    {
     "data": {
      "image/png": "[encoded data removed]",
      "text/plain": [
       "<Figure size 864x360 with 4 Axes>"
      ]
     },
     "metadata": {
      "needs_background": "light"
     },
     "output_type": "display_data"
    }
   ],
   "source": [
    "decompose1.plot(); # check for trend and seasonality in the first order difference "
   ]
  },
  {
   "cell_type": "code",
   "execution_count": 168,
   "metadata": {},
   "outputs": [
    {
     "data": {
      "text/html": [
       "<div>\n",
       "<style scoped>\n",
       "    .dataframe tbody tr th:only-of-type {\n",
       "        vertical-align: middle;\n",
       "    }\n",
       "\n",
       "    .dataframe tbody tr th {\n",
       "        vertical-align: top;\n",
       "    }\n",
       "\n",
       "    .dataframe thead th {\n",
       "        text-align: right;\n",
       "    }\n",
       "</style>\n",
       "<table border=\"1\" class=\"dataframe\">\n",
       "  <thead>\n",
       "    <tr style=\"text-align: right;\">\n",
       "      <th></th>\n",
       "      <th>value</th>\n",
       "      <th>diff1</th>\n",
       "    </tr>\n",
       "    <tr>\n",
       "      <th>time</th>\n",
       "      <th></th>\n",
       "      <th></th>\n",
       "    </tr>\n",
       "  </thead>\n",
       "  <tbody>\n",
       "    <tr>\n",
       "      <td>2009-11-14</td>\n",
       "      <td>10886.9</td>\n",
       "      <td>0.0</td>\n",
       "    </tr>\n",
       "    <tr>\n",
       "      <td>2009-11-21</td>\n",
       "      <td>10886.9</td>\n",
       "      <td>0.0</td>\n",
       "    </tr>\n",
       "    <tr>\n",
       "      <td>2009-11-28</td>\n",
       "      <td>10886.9</td>\n",
       "      <td>0.0</td>\n",
       "    </tr>\n",
       "    <tr>\n",
       "      <td>2009-12-05</td>\n",
       "      <td>10924.7</td>\n",
       "      <td>37.8</td>\n",
       "    </tr>\n",
       "    <tr>\n",
       "      <td>2009-12-12</td>\n",
       "      <td>10924.7</td>\n",
       "      <td>0.0</td>\n",
       "    </tr>\n",
       "  </tbody>\n",
       "</table>\n",
       "</div>"
      ],
      "text/plain": [
       "              value  diff1\n",
       "time                      \n",
       "2009-11-14  10886.9    0.0\n",
       "2009-11-21  10886.9    0.0\n",
       "2009-11-28  10886.9    0.0\n",
       "2009-12-05  10924.7   37.8\n",
       "2009-12-12  10924.7    0.0"
      ]
     },
     "execution_count": 168,
     "metadata": {},
     "output_type": "execute_result"
    }
   ],
   "source": [
    "income.head()"
   ]
  },
  {
   "cell_type": "code",
   "execution_count": 169,
   "metadata": {},
   "outputs": [],
   "source": [
    "sales = df_sales.copy()"
   ]
  },
  {
   "cell_type": "code",
   "execution_count": 170,
   "metadata": {},
   "outputs": [
    {
     "data": {
      "text/html": [
       "<div>\n",
       "<style scoped>\n",
       "    .dataframe tbody tr th:only-of-type {\n",
       "        vertical-align: middle;\n",
       "    }\n",
       "\n",
       "    .dataframe tbody tr th {\n",
       "        vertical-align: top;\n",
       "    }\n",
       "\n",
       "    .dataframe thead th {\n",
       "        text-align: right;\n",
       "    }\n",
       "</style>\n",
       "<table border=\"1\" class=\"dataframe\">\n",
       "  <thead>\n",
       "    <tr style=\"text-align: right;\">\n",
       "      <th></th>\n",
       "      <th>ID1</th>\n",
       "      <th>ID2</th>\n",
       "      <th>value</th>\n",
       "    </tr>\n",
       "    <tr>\n",
       "      <th>time</th>\n",
       "      <th></th>\n",
       "      <th></th>\n",
       "      <th></th>\n",
       "    </tr>\n",
       "  </thead>\n",
       "  <tbody>\n",
       "    <tr>\n",
       "      <td>2010-11-13</td>\n",
       "      <td>1</td>\n",
       "      <td>2</td>\n",
       "      <td>130</td>\n",
       "    </tr>\n",
       "    <tr>\n",
       "      <td>2010-11-20</td>\n",
       "      <td>1</td>\n",
       "      <td>2</td>\n",
       "      <td>222</td>\n",
       "    </tr>\n",
       "    <tr>\n",
       "      <td>2010-11-27</td>\n",
       "      <td>1</td>\n",
       "      <td>2</td>\n",
       "      <td>166</td>\n",
       "    </tr>\n",
       "    <tr>\n",
       "      <td>2010-12-04</td>\n",
       "      <td>1</td>\n",
       "      <td>2</td>\n",
       "      <td>174</td>\n",
       "    </tr>\n",
       "    <tr>\n",
       "      <td>2010-12-11</td>\n",
       "      <td>1</td>\n",
       "      <td>2</td>\n",
       "      <td>236</td>\n",
       "    </tr>\n",
       "  </tbody>\n",
       "</table>\n",
       "</div>"
      ],
      "text/plain": [
       "            ID1  ID2  value\n",
       "time                       \n",
       "2010-11-13    1    2    130\n",
       "2010-11-20    1    2    222\n",
       "2010-11-27    1    2    166\n",
       "2010-12-04    1    2    174\n",
       "2010-12-11    1    2    236"
      ]
     },
     "execution_count": 170,
     "metadata": {},
     "output_type": "execute_result"
    }
   ],
   "source": [
    "sales.head()"
   ]
  },
  {
   "cell_type": "code",
   "execution_count": 171,
   "metadata": {},
   "outputs": [
    {
     "data": {
      "text/plain": [
       "DatetimeIndex(['2010-11-13', '2010-11-20', '2010-11-27', '2010-12-04',\n",
       "               '2010-12-11', '2010-12-18', '2010-12-25', '2011-01-01',\n",
       "               '2011-01-08', '2011-01-15',\n",
       "               ...\n",
       "               '2013-10-19', '2013-10-26', '2013-11-09', '2013-11-16',\n",
       "               '2013-11-23', '2013-11-30', '2013-12-07', '2013-12-14',\n",
       "               '2013-12-21', '2013-12-28'],\n",
       "              dtype='datetime64[ns]', name='time', length=2459, freq=None)"
      ]
     },
     "execution_count": 171,
     "metadata": {},
     "output_type": "execute_result"
    }
   ],
   "source": [
    "sales.index"
   ]
  },
  {
   "cell_type": "code",
   "execution_count": 172,
   "metadata": {},
   "outputs": [
    {
     "name": "stdout",
     "output_type": "stream",
     "text": [
      "<class 'pandas.core.frame.DataFrame'>\n",
      "DatetimeIndex: 2459 entries, 2010-11-13 to 2013-12-28\n",
      "Data columns (total 3 columns):\n",
      "ID1      2459 non-null int64\n",
      "ID2      2459 non-null int64\n",
      "value    2459 non-null int64\n",
      "dtypes: int64(3)\n",
      "memory usage: 76.8 KB\n"
     ]
    }
   ],
   "source": [
    "sales.info()"
   ]
  },
  {
   "cell_type": "code",
   "execution_count": 173,
   "metadata": {},
   "outputs": [],
   "source": [
    "sales.columns = ['StoreID','ProductID','value']"
   ]
  },
  {
   "cell_type": "code",
   "execution_count": 174,
   "metadata": {},
   "outputs": [
    {
     "data": {
      "text/html": [
       "<div>\n",
       "<style scoped>\n",
       "    .dataframe tbody tr th:only-of-type {\n",
       "        vertical-align: middle;\n",
       "    }\n",
       "\n",
       "    .dataframe tbody tr th {\n",
       "        vertical-align: top;\n",
       "    }\n",
       "\n",
       "    .dataframe thead th {\n",
       "        text-align: right;\n",
       "    }\n",
       "</style>\n",
       "<table border=\"1\" class=\"dataframe\">\n",
       "  <thead>\n",
       "    <tr style=\"text-align: right;\">\n",
       "      <th></th>\n",
       "      <th>StoreID</th>\n",
       "      <th>ProductID</th>\n",
       "      <th>value</th>\n",
       "    </tr>\n",
       "    <tr>\n",
       "      <th>time</th>\n",
       "      <th></th>\n",
       "      <th></th>\n",
       "      <th></th>\n",
       "    </tr>\n",
       "  </thead>\n",
       "  <tbody>\n",
       "    <tr>\n",
       "      <td>2010-11-13</td>\n",
       "      <td>1</td>\n",
       "      <td>2</td>\n",
       "      <td>130</td>\n",
       "    </tr>\n",
       "    <tr>\n",
       "      <td>2010-11-20</td>\n",
       "      <td>1</td>\n",
       "      <td>2</td>\n",
       "      <td>222</td>\n",
       "    </tr>\n",
       "    <tr>\n",
       "      <td>2010-11-27</td>\n",
       "      <td>1</td>\n",
       "      <td>2</td>\n",
       "      <td>166</td>\n",
       "    </tr>\n",
       "    <tr>\n",
       "      <td>2010-12-04</td>\n",
       "      <td>1</td>\n",
       "      <td>2</td>\n",
       "      <td>174</td>\n",
       "    </tr>\n",
       "    <tr>\n",
       "      <td>2010-12-11</td>\n",
       "      <td>1</td>\n",
       "      <td>2</td>\n",
       "      <td>236</td>\n",
       "    </tr>\n",
       "  </tbody>\n",
       "</table>\n",
       "</div>"
      ],
      "text/plain": [
       "            StoreID  ProductID  value\n",
       "time                                 \n",
       "2010-11-13        1          2    130\n",
       "2010-11-20        1          2    222\n",
       "2010-11-27        1          2    166\n",
       "2010-12-04        1          2    174\n",
       "2010-12-11        1          2    236"
      ]
     },
     "execution_count": 174,
     "metadata": {},
     "output_type": "execute_result"
    }
   ],
   "source": [
    "sales.head()"
   ]
  },
  {
   "cell_type": "code",
   "execution_count": 175,
   "metadata": {},
   "outputs": [
    {
     "data": {
      "text/plain": [
       "15    164\n",
       "13    164\n",
       "11    164\n",
       "9     164\n",
       "7     164\n",
       "5     164\n",
       "3     164\n",
       "14    164\n",
       "12    164\n",
       "10    164\n",
       "8     164\n",
       "6     164\n",
       "4     164\n",
       "2     164\n",
       "1     163\n",
       "Name: StoreID, dtype: int64"
      ]
     },
     "execution_count": 175,
     "metadata": {},
     "output_type": "execute_result"
    }
   ],
   "source": [
    "sales['StoreID'].value_counts()"
   ]
  },
  {
   "cell_type": "code",
   "execution_count": 176,
   "metadata": {},
   "outputs": [
    {
     "data": {
      "text/plain": [
       "1    2132\n",
       "2     327\n",
       "Name: ProductID, dtype: int64"
      ]
     },
     "execution_count": 176,
     "metadata": {},
     "output_type": "execute_result"
    }
   ],
   "source": [
    "sales['ProductID'].value_counts().sort_values(ascending=False)"
   ]
  },
  {
   "cell_type": "code",
   "execution_count": 177,
   "metadata": {},
   "outputs": [
    {
     "data": {
      "text/html": [
       "<div>\n",
       "<style scoped>\n",
       "    .dataframe tbody tr th:only-of-type {\n",
       "        vertical-align: middle;\n",
       "    }\n",
       "\n",
       "    .dataframe tbody tr th {\n",
       "        vertical-align: top;\n",
       "    }\n",
       "\n",
       "    .dataframe thead th {\n",
       "        text-align: right;\n",
       "    }\n",
       "</style>\n",
       "<table border=\"1\" class=\"dataframe\">\n",
       "  <thead>\n",
       "    <tr style=\"text-align: right;\">\n",
       "      <th></th>\n",
       "      <th>time</th>\n",
       "      <th>StoreID</th>\n",
       "      <th>ProductID</th>\n",
       "      <th>value</th>\n",
       "    </tr>\n",
       "  </thead>\n",
       "  <tbody>\n",
       "    <tr>\n",
       "      <td>0</td>\n",
       "      <td>2010-11-13</td>\n",
       "      <td>1</td>\n",
       "      <td>2</td>\n",
       "      <td>130</td>\n",
       "    </tr>\n",
       "    <tr>\n",
       "      <td>1</td>\n",
       "      <td>2010-11-20</td>\n",
       "      <td>1</td>\n",
       "      <td>2</td>\n",
       "      <td>222</td>\n",
       "    </tr>\n",
       "    <tr>\n",
       "      <td>2</td>\n",
       "      <td>2010-11-27</td>\n",
       "      <td>1</td>\n",
       "      <td>2</td>\n",
       "      <td>166</td>\n",
       "    </tr>\n",
       "    <tr>\n",
       "      <td>3</td>\n",
       "      <td>2010-12-04</td>\n",
       "      <td>1</td>\n",
       "      <td>2</td>\n",
       "      <td>174</td>\n",
       "    </tr>\n",
       "    <tr>\n",
       "      <td>4</td>\n",
       "      <td>2010-12-11</td>\n",
       "      <td>1</td>\n",
       "      <td>2</td>\n",
       "      <td>236</td>\n",
       "    </tr>\n",
       "    <tr>\n",
       "      <td>...</td>\n",
       "      <td>...</td>\n",
       "      <td>...</td>\n",
       "      <td>...</td>\n",
       "      <td>...</td>\n",
       "    </tr>\n",
       "    <tr>\n",
       "      <td>2454</td>\n",
       "      <td>2013-11-30</td>\n",
       "      <td>15</td>\n",
       "      <td>1</td>\n",
       "      <td>140</td>\n",
       "    </tr>\n",
       "    <tr>\n",
       "      <td>2455</td>\n",
       "      <td>2013-12-07</td>\n",
       "      <td>15</td>\n",
       "      <td>1</td>\n",
       "      <td>186</td>\n",
       "    </tr>\n",
       "    <tr>\n",
       "      <td>2456</td>\n",
       "      <td>2013-12-14</td>\n",
       "      <td>15</td>\n",
       "      <td>1</td>\n",
       "      <td>184</td>\n",
       "    </tr>\n",
       "    <tr>\n",
       "      <td>2457</td>\n",
       "      <td>2013-12-21</td>\n",
       "      <td>15</td>\n",
       "      <td>1</td>\n",
       "      <td>220</td>\n",
       "    </tr>\n",
       "    <tr>\n",
       "      <td>2458</td>\n",
       "      <td>2013-12-28</td>\n",
       "      <td>15</td>\n",
       "      <td>1</td>\n",
       "      <td>212</td>\n",
       "    </tr>\n",
       "  </tbody>\n",
       "</table>\n",
       "<p>2459 rows × 4 columns</p>\n",
       "</div>"
      ],
      "text/plain": [
       "           time  StoreID  ProductID  value\n",
       "0    2010-11-13        1          2    130\n",
       "1    2010-11-20        1          2    222\n",
       "2    2010-11-27        1          2    166\n",
       "3    2010-12-04        1          2    174\n",
       "4    2010-12-11        1          2    236\n",
       "...         ...      ...        ...    ...\n",
       "2454 2013-11-30       15          1    140\n",
       "2455 2013-12-07       15          1    186\n",
       "2456 2013-12-14       15          1    184\n",
       "2457 2013-12-21       15          1    220\n",
       "2458 2013-12-28       15          1    212\n",
       "\n",
       "[2459 rows x 4 columns]"
      ]
     },
     "execution_count": 177,
     "metadata": {},
     "output_type": "execute_result"
    }
   ],
   "source": [
    "sales.reset_index()"
   ]
  },
  {
   "cell_type": "code",
   "execution_count": 178,
   "metadata": {},
   "outputs": [],
   "source": [
    "tsales = sales.groupby(['time','StoreID','ProductID'],observed=True)['value'].sum()"
   ]
  },
  {
   "cell_type": "code",
   "execution_count": 179,
   "metadata": {},
   "outputs": [
    {
     "data": {
      "text/plain": [
       "time        StoreID  ProductID\n",
       "2010-11-06  2        1             144\n",
       "            3        1              60\n",
       "            4        2             440\n",
       "            5        1             128\n",
       "            6        1             302\n",
       "                                  ... \n",
       "2013-12-28  11       1             182\n",
       "            12       1            1470\n",
       "            13       1            1248\n",
       "            14       1             694\n",
       "            15       1             212\n",
       "Name: value, Length: 2459, dtype: int64"
      ]
     },
     "execution_count": 179,
     "metadata": {},
     "output_type": "execute_result"
    }
   ],
   "source": [
    "tsales"
   ]
  },
  {
   "cell_type": "code",
   "execution_count": 180,
   "metadata": {},
   "outputs": [],
   "source": [
    "frame = pd.DataFrame(tsales)"
   ]
  },
  {
   "cell_type": "code",
   "execution_count": 181,
   "metadata": {},
   "outputs": [
    {
     "data": {
      "text/html": [
       "<div>\n",
       "<style scoped>\n",
       "    .dataframe tbody tr th:only-of-type {\n",
       "        vertical-align: middle;\n",
       "    }\n",
       "\n",
       "    .dataframe tbody tr th {\n",
       "        vertical-align: top;\n",
       "    }\n",
       "\n",
       "    .dataframe thead th {\n",
       "        text-align: right;\n",
       "    }\n",
       "</style>\n",
       "<table border=\"1\" class=\"dataframe\">\n",
       "  <thead>\n",
       "    <tr style=\"text-align: right;\">\n",
       "      <th></th>\n",
       "      <th></th>\n",
       "      <th></th>\n",
       "      <th>value</th>\n",
       "    </tr>\n",
       "    <tr>\n",
       "      <th>time</th>\n",
       "      <th>StoreID</th>\n",
       "      <th>ProductID</th>\n",
       "      <th></th>\n",
       "    </tr>\n",
       "  </thead>\n",
       "  <tbody>\n",
       "    <tr>\n",
       "      <td rowspan=\"5\" valign=\"top\">2010-11-06</td>\n",
       "      <td>2</td>\n",
       "      <td>1</td>\n",
       "      <td>144</td>\n",
       "    </tr>\n",
       "    <tr>\n",
       "      <td>3</td>\n",
       "      <td>1</td>\n",
       "      <td>60</td>\n",
       "    </tr>\n",
       "    <tr>\n",
       "      <td>4</td>\n",
       "      <td>2</td>\n",
       "      <td>440</td>\n",
       "    </tr>\n",
       "    <tr>\n",
       "      <td>5</td>\n",
       "      <td>1</td>\n",
       "      <td>128</td>\n",
       "    </tr>\n",
       "    <tr>\n",
       "      <td>6</td>\n",
       "      <td>1</td>\n",
       "      <td>302</td>\n",
       "    </tr>\n",
       "    <tr>\n",
       "      <td>...</td>\n",
       "      <td>...</td>\n",
       "      <td>...</td>\n",
       "      <td>...</td>\n",
       "    </tr>\n",
       "    <tr>\n",
       "      <td rowspan=\"5\" valign=\"top\">2013-12-28</td>\n",
       "      <td>11</td>\n",
       "      <td>1</td>\n",
       "      <td>182</td>\n",
       "    </tr>\n",
       "    <tr>\n",
       "      <td>12</td>\n",
       "      <td>1</td>\n",
       "      <td>1470</td>\n",
       "    </tr>\n",
       "    <tr>\n",
       "      <td>13</td>\n",
       "      <td>1</td>\n",
       "      <td>1248</td>\n",
       "    </tr>\n",
       "    <tr>\n",
       "      <td>14</td>\n",
       "      <td>1</td>\n",
       "      <td>694</td>\n",
       "    </tr>\n",
       "    <tr>\n",
       "      <td>15</td>\n",
       "      <td>1</td>\n",
       "      <td>212</td>\n",
       "    </tr>\n",
       "  </tbody>\n",
       "</table>\n",
       "<p>2459 rows × 1 columns</p>\n",
       "</div>"
      ],
      "text/plain": [
       "                              value\n",
       "time       StoreID ProductID       \n",
       "2010-11-06 2       1            144\n",
       "           3       1             60\n",
       "           4       2            440\n",
       "           5       1            128\n",
       "           6       1            302\n",
       "...                             ...\n",
       "2013-12-28 11      1            182\n",
       "           12      1           1470\n",
       "           13      1           1248\n",
       "           14      1            694\n",
       "           15      1            212\n",
       "\n",
       "[2459 rows x 1 columns]"
      ]
     },
     "execution_count": 181,
     "metadata": {},
     "output_type": "execute_result"
    }
   ],
   "source": [
    "frame"
   ]
  },
  {
   "cell_type": "code",
   "execution_count": 182,
   "metadata": {},
   "outputs": [
    {
     "data": {
      "text/plain": [
       "MultiIndex([('2010-11-06',  2, 1),\n",
       "            ('2010-11-06',  3, 1),\n",
       "            ('2010-11-06',  4, 2),\n",
       "            ('2010-11-06',  5, 1),\n",
       "            ('2010-11-06',  6, 1),\n",
       "            ('2010-11-06',  7, 1),\n",
       "            ('2010-11-06',  8, 1),\n",
       "            ('2010-11-06',  9, 1),\n",
       "            ('2010-11-06', 10, 1),\n",
       "            ('2010-11-06', 11, 1),\n",
       "            ...\n",
       "            ('2013-12-28',  6, 1),\n",
       "            ('2013-12-28',  7, 1),\n",
       "            ('2013-12-28',  8, 1),\n",
       "            ('2013-12-28',  9, 1),\n",
       "            ('2013-12-28', 10, 1),\n",
       "            ('2013-12-28', 11, 1),\n",
       "            ('2013-12-28', 12, 1),\n",
       "            ('2013-12-28', 13, 1),\n",
       "            ('2013-12-28', 14, 1),\n",
       "            ('2013-12-28', 15, 1)],\n",
       "           names=['time', 'StoreID', 'ProductID'], length=2459)"
      ]
     },
     "execution_count": 182,
     "metadata": {},
     "output_type": "execute_result"
    }
   ],
   "source": [
    "frame.index"
   ]
  },
  {
   "cell_type": "code",
   "execution_count": 183,
   "metadata": {},
   "outputs": [],
   "source": [
    "frame.reset_index(inplace=True)"
   ]
  },
  {
   "cell_type": "code",
   "execution_count": 184,
   "metadata": {},
   "outputs": [],
   "source": [
    "pincome = income.copy()"
   ]
  },
  {
   "cell_type": "code",
   "execution_count": 185,
   "metadata": {},
   "outputs": [
    {
     "data": {
      "text/html": [
       "<div>\n",
       "<style scoped>\n",
       "    .dataframe tbody tr th:only-of-type {\n",
       "        vertical-align: middle;\n",
       "    }\n",
       "\n",
       "    .dataframe tbody tr th {\n",
       "        vertical-align: top;\n",
       "    }\n",
       "\n",
       "    .dataframe thead th {\n",
       "        text-align: right;\n",
       "    }\n",
       "</style>\n",
       "<table border=\"1\" class=\"dataframe\">\n",
       "  <thead>\n",
       "    <tr style=\"text-align: right;\">\n",
       "      <th></th>\n",
       "      <th>value</th>\n",
       "      <th>diff1</th>\n",
       "    </tr>\n",
       "    <tr>\n",
       "      <th>time</th>\n",
       "      <th></th>\n",
       "      <th></th>\n",
       "    </tr>\n",
       "  </thead>\n",
       "  <tbody>\n",
       "    <tr>\n",
       "      <td>2009-11-14</td>\n",
       "      <td>10886.9</td>\n",
       "      <td>0.0</td>\n",
       "    </tr>\n",
       "    <tr>\n",
       "      <td>2009-11-21</td>\n",
       "      <td>10886.9</td>\n",
       "      <td>0.0</td>\n",
       "    </tr>\n",
       "    <tr>\n",
       "      <td>2009-11-28</td>\n",
       "      <td>10886.9</td>\n",
       "      <td>0.0</td>\n",
       "    </tr>\n",
       "    <tr>\n",
       "      <td>2009-12-05</td>\n",
       "      <td>10924.7</td>\n",
       "      <td>37.8</td>\n",
       "    </tr>\n",
       "    <tr>\n",
       "      <td>2009-12-12</td>\n",
       "      <td>10924.7</td>\n",
       "      <td>0.0</td>\n",
       "    </tr>\n",
       "  </tbody>\n",
       "</table>\n",
       "</div>"
      ],
      "text/plain": [
       "              value  diff1\n",
       "time                      \n",
       "2009-11-14  10886.9    0.0\n",
       "2009-11-21  10886.9    0.0\n",
       "2009-11-28  10886.9    0.0\n",
       "2009-12-05  10924.7   37.8\n",
       "2009-12-12  10924.7    0.0"
      ]
     },
     "execution_count": 185,
     "metadata": {},
     "output_type": "execute_result"
    }
   ],
   "source": [
    "pincome.head()"
   ]
  },
  {
   "cell_type": "code",
   "execution_count": 186,
   "metadata": {},
   "outputs": [],
   "source": [
    "pincome.reset_index(inplace=True)"
   ]
  },
  {
   "cell_type": "code",
   "execution_count": 187,
   "metadata": {},
   "outputs": [],
   "source": [
    "pincome.drop('diff1',inplace=True,axis=1)"
   ]
  },
  {
   "cell_type": "code",
   "execution_count": 188,
   "metadata": {},
   "outputs": [
    {
     "data": {
      "text/html": [
       "<div>\n",
       "<style scoped>\n",
       "    .dataframe tbody tr th:only-of-type {\n",
       "        vertical-align: middle;\n",
       "    }\n",
       "\n",
       "    .dataframe tbody tr th {\n",
       "        vertical-align: top;\n",
       "    }\n",
       "\n",
       "    .dataframe thead th {\n",
       "        text-align: right;\n",
       "    }\n",
       "</style>\n",
       "<table border=\"1\" class=\"dataframe\">\n",
       "  <thead>\n",
       "    <tr style=\"text-align: right;\">\n",
       "      <th></th>\n",
       "      <th>time</th>\n",
       "      <th>value</th>\n",
       "    </tr>\n",
       "  </thead>\n",
       "  <tbody>\n",
       "    <tr>\n",
       "      <td>0</td>\n",
       "      <td>2009-11-14</td>\n",
       "      <td>10886.9</td>\n",
       "    </tr>\n",
       "    <tr>\n",
       "      <td>1</td>\n",
       "      <td>2009-11-21</td>\n",
       "      <td>10886.9</td>\n",
       "    </tr>\n",
       "    <tr>\n",
       "      <td>2</td>\n",
       "      <td>2009-11-28</td>\n",
       "      <td>10886.9</td>\n",
       "    </tr>\n",
       "    <tr>\n",
       "      <td>3</td>\n",
       "      <td>2009-12-05</td>\n",
       "      <td>10924.7</td>\n",
       "    </tr>\n",
       "    <tr>\n",
       "      <td>4</td>\n",
       "      <td>2009-12-12</td>\n",
       "      <td>10924.7</td>\n",
       "    </tr>\n",
       "  </tbody>\n",
       "</table>\n",
       "</div>"
      ],
      "text/plain": [
       "        time    value\n",
       "0 2009-11-14  10886.9\n",
       "1 2009-11-21  10886.9\n",
       "2 2009-11-28  10886.9\n",
       "3 2009-12-05  10924.7\n",
       "4 2009-12-12  10924.7"
      ]
     },
     "execution_count": 188,
     "metadata": {},
     "output_type": "execute_result"
    }
   ],
   "source": [
    "pincome.head()"
   ]
  },
  {
   "cell_type": "code",
   "execution_count": 189,
   "metadata": {},
   "outputs": [
    {
     "data": {
      "text/plain": [
       "Index(['time', 'StoreID', 'ProductID', 'value'], dtype='object')"
      ]
     },
     "execution_count": 189,
     "metadata": {},
     "output_type": "execute_result"
    }
   ],
   "source": [
    "frame.columns"
   ]
  },
  {
   "cell_type": "code",
   "execution_count": 190,
   "metadata": {},
   "outputs": [
    {
     "name": "stdout",
     "output_type": "stream",
     "text": [
      "<class 'pandas.core.frame.DataFrame'>\n",
      "RangeIndex: 2459 entries, 0 to 2458\n",
      "Data columns (total 4 columns):\n",
      "time         2459 non-null datetime64[ns]\n",
      "StoreID      2459 non-null int64\n",
      "ProductID    2459 non-null int64\n",
      "value        2459 non-null int64\n",
      "dtypes: datetime64[ns](1), int64(3)\n",
      "memory usage: 77.0 KB\n"
     ]
    }
   ],
   "source": [
    "frame.info()"
   ]
  },
  {
   "cell_type": "code",
   "execution_count": 191,
   "metadata": {},
   "outputs": [
    {
     "name": "stdout",
     "output_type": "stream",
     "text": [
      "<class 'pandas.core.frame.DataFrame'>\n",
      "RangeIndex: 220 entries, 0 to 219\n",
      "Data columns (total 2 columns):\n",
      "time     220 non-null datetime64[ns]\n",
      "value    220 non-null float64\n",
      "dtypes: datetime64[ns](1), float64(1)\n",
      "memory usage: 3.6 KB\n"
     ]
    }
   ],
   "source": [
    "pincome.info()"
   ]
  },
  {
   "cell_type": "code",
   "execution_count": 192,
   "metadata": {},
   "outputs": [],
   "source": [
    "pincome['value'] = pincome['value'].astype(float)"
   ]
  },
  {
   "cell_type": "code",
   "execution_count": 193,
   "metadata": {},
   "outputs": [
    {
     "name": "stdout",
     "output_type": "stream",
     "text": [
      "<class 'pandas.core.frame.DataFrame'>\n",
      "RangeIndex: 220 entries, 0 to 219\n",
      "Data columns (total 2 columns):\n",
      "time     220 non-null datetime64[ns]\n",
      "value    220 non-null float64\n",
      "dtypes: datetime64[ns](1), float64(1)\n",
      "memory usage: 3.6 KB\n"
     ]
    }
   ],
   "source": [
    "pincome.info()"
   ]
  },
  {
   "cell_type": "code",
   "execution_count": 194,
   "metadata": {},
   "outputs": [
    {
     "data": {
      "text/plain": [
       "Index(['time', 'value'], dtype='object')"
      ]
     },
     "execution_count": 194,
     "metadata": {},
     "output_type": "execute_result"
    }
   ],
   "source": [
    "pincome.columns"
   ]
  },
  {
   "cell_type": "code",
   "execution_count": 195,
   "metadata": {},
   "outputs": [
    {
     "data": {
      "text/plain": [
       "Index(['time', 'StoreID', 'ProductID', 'value'], dtype='object')"
      ]
     },
     "execution_count": 195,
     "metadata": {},
     "output_type": "execute_result"
    }
   ],
   "source": [
    "frame.columns"
   ]
  },
  {
   "cell_type": "code",
   "execution_count": 196,
   "metadata": {},
   "outputs": [],
   "source": [
    "pincome.columns = ['time', 'income']"
   ]
  },
  {
   "cell_type": "code",
   "execution_count": 197,
   "metadata": {},
   "outputs": [
    {
     "name": "stdout",
     "output_type": "stream",
     "text": [
      "<class 'pandas.core.frame.DataFrame'>\n",
      "RangeIndex: 220 entries, 0 to 219\n",
      "Data columns (total 2 columns):\n",
      "time      220 non-null datetime64[ns]\n",
      "income    220 non-null float64\n",
      "dtypes: datetime64[ns](1), float64(1)\n",
      "memory usage: 3.6 KB\n"
     ]
    }
   ],
   "source": [
    "pincome.info()"
   ]
  },
  {
   "cell_type": "code",
   "execution_count": 198,
   "metadata": {},
   "outputs": [
    {
     "data": {
      "text/html": [
       "<div>\n",
       "<style scoped>\n",
       "    .dataframe tbody tr th:only-of-type {\n",
       "        vertical-align: middle;\n",
       "    }\n",
       "\n",
       "    .dataframe tbody tr th {\n",
       "        vertical-align: top;\n",
       "    }\n",
       "\n",
       "    .dataframe thead th {\n",
       "        text-align: right;\n",
       "    }\n",
       "</style>\n",
       "<table border=\"1\" class=\"dataframe\">\n",
       "  <thead>\n",
       "    <tr style=\"text-align: right;\">\n",
       "      <th></th>\n",
       "      <th>time</th>\n",
       "      <th>StoreID</th>\n",
       "      <th>ProductID</th>\n",
       "      <th>value</th>\n",
       "    </tr>\n",
       "  </thead>\n",
       "  <tbody>\n",
       "    <tr>\n",
       "      <td>0</td>\n",
       "      <td>2010-11-06</td>\n",
       "      <td>2</td>\n",
       "      <td>1</td>\n",
       "      <td>144</td>\n",
       "    </tr>\n",
       "    <tr>\n",
       "      <td>1</td>\n",
       "      <td>2010-11-06</td>\n",
       "      <td>3</td>\n",
       "      <td>1</td>\n",
       "      <td>60</td>\n",
       "    </tr>\n",
       "    <tr>\n",
       "      <td>2</td>\n",
       "      <td>2010-11-06</td>\n",
       "      <td>4</td>\n",
       "      <td>2</td>\n",
       "      <td>440</td>\n",
       "    </tr>\n",
       "    <tr>\n",
       "      <td>3</td>\n",
       "      <td>2010-11-06</td>\n",
       "      <td>5</td>\n",
       "      <td>1</td>\n",
       "      <td>128</td>\n",
       "    </tr>\n",
       "    <tr>\n",
       "      <td>4</td>\n",
       "      <td>2010-11-06</td>\n",
       "      <td>6</td>\n",
       "      <td>1</td>\n",
       "      <td>302</td>\n",
       "    </tr>\n",
       "  </tbody>\n",
       "</table>\n",
       "</div>"
      ],
      "text/plain": [
       "        time  StoreID  ProductID  value\n",
       "0 2010-11-06        2          1    144\n",
       "1 2010-11-06        3          1     60\n",
       "2 2010-11-06        4          2    440\n",
       "3 2010-11-06        5          1    128\n",
       "4 2010-11-06        6          1    302"
      ]
     },
     "execution_count": 198,
     "metadata": {},
     "output_type": "execute_result"
    }
   ],
   "source": [
    "frame.head()"
   ]
  },
  {
   "cell_type": "code",
   "execution_count": 199,
   "metadata": {},
   "outputs": [],
   "source": [
    "# set the date as the index to later join with the income dataframe #\n",
    "frame.set_index('time',inplace=True)"
   ]
  },
  {
   "cell_type": "code",
   "execution_count": 200,
   "metadata": {},
   "outputs": [
    {
     "data": {
      "text/html": [
       "<div>\n",
       "<style scoped>\n",
       "    .dataframe tbody tr th:only-of-type {\n",
       "        vertical-align: middle;\n",
       "    }\n",
       "\n",
       "    .dataframe tbody tr th {\n",
       "        vertical-align: top;\n",
       "    }\n",
       "\n",
       "    .dataframe thead th {\n",
       "        text-align: right;\n",
       "    }\n",
       "</style>\n",
       "<table border=\"1\" class=\"dataframe\">\n",
       "  <thead>\n",
       "    <tr style=\"text-align: right;\">\n",
       "      <th></th>\n",
       "      <th>StoreID</th>\n",
       "      <th>ProductID</th>\n",
       "      <th>value</th>\n",
       "    </tr>\n",
       "    <tr>\n",
       "      <th>time</th>\n",
       "      <th></th>\n",
       "      <th></th>\n",
       "      <th></th>\n",
       "    </tr>\n",
       "  </thead>\n",
       "  <tbody>\n",
       "    <tr>\n",
       "      <td>2010-11-06</td>\n",
       "      <td>2</td>\n",
       "      <td>1</td>\n",
       "      <td>144</td>\n",
       "    </tr>\n",
       "    <tr>\n",
       "      <td>2010-11-06</td>\n",
       "      <td>3</td>\n",
       "      <td>1</td>\n",
       "      <td>60</td>\n",
       "    </tr>\n",
       "    <tr>\n",
       "      <td>2010-11-06</td>\n",
       "      <td>4</td>\n",
       "      <td>2</td>\n",
       "      <td>440</td>\n",
       "    </tr>\n",
       "    <tr>\n",
       "      <td>2010-11-06</td>\n",
       "      <td>5</td>\n",
       "      <td>1</td>\n",
       "      <td>128</td>\n",
       "    </tr>\n",
       "    <tr>\n",
       "      <td>2010-11-06</td>\n",
       "      <td>6</td>\n",
       "      <td>1</td>\n",
       "      <td>302</td>\n",
       "    </tr>\n",
       "  </tbody>\n",
       "</table>\n",
       "</div>"
      ],
      "text/plain": [
       "            StoreID  ProductID  value\n",
       "time                                 \n",
       "2010-11-06        2          1    144\n",
       "2010-11-06        3          1     60\n",
       "2010-11-06        4          2    440\n",
       "2010-11-06        5          1    128\n",
       "2010-11-06        6          1    302"
      ]
     },
     "execution_count": 200,
     "metadata": {},
     "output_type": "execute_result"
    }
   ],
   "source": [
    "frame.head()"
   ]
  },
  {
   "cell_type": "code",
   "execution_count": 201,
   "metadata": {},
   "outputs": [
    {
     "data": {
      "text/html": [
       "<div>\n",
       "<style scoped>\n",
       "    .dataframe tbody tr th:only-of-type {\n",
       "        vertical-align: middle;\n",
       "    }\n",
       "\n",
       "    .dataframe tbody tr th {\n",
       "        vertical-align: top;\n",
       "    }\n",
       "\n",
       "    .dataframe thead th {\n",
       "        text-align: right;\n",
       "    }\n",
       "</style>\n",
       "<table border=\"1\" class=\"dataframe\">\n",
       "  <thead>\n",
       "    <tr style=\"text-align: right;\">\n",
       "      <th></th>\n",
       "      <th>time</th>\n",
       "      <th>income</th>\n",
       "    </tr>\n",
       "  </thead>\n",
       "  <tbody>\n",
       "    <tr>\n",
       "      <td>0</td>\n",
       "      <td>2009-11-14</td>\n",
       "      <td>10886.9</td>\n",
       "    </tr>\n",
       "    <tr>\n",
       "      <td>1</td>\n",
       "      <td>2009-11-21</td>\n",
       "      <td>10886.9</td>\n",
       "    </tr>\n",
       "    <tr>\n",
       "      <td>2</td>\n",
       "      <td>2009-11-28</td>\n",
       "      <td>10886.9</td>\n",
       "    </tr>\n",
       "    <tr>\n",
       "      <td>3</td>\n",
       "      <td>2009-12-05</td>\n",
       "      <td>10924.7</td>\n",
       "    </tr>\n",
       "    <tr>\n",
       "      <td>4</td>\n",
       "      <td>2009-12-12</td>\n",
       "      <td>10924.7</td>\n",
       "    </tr>\n",
       "  </tbody>\n",
       "</table>\n",
       "</div>"
      ],
      "text/plain": [
       "        time   income\n",
       "0 2009-11-14  10886.9\n",
       "1 2009-11-21  10886.9\n",
       "2 2009-11-28  10886.9\n",
       "3 2009-12-05  10924.7\n",
       "4 2009-12-12  10924.7"
      ]
     },
     "execution_count": 201,
     "metadata": {},
     "output_type": "execute_result"
    }
   ],
   "source": [
    "pincome.head()"
   ]
  },
  {
   "cell_type": "code",
   "execution_count": 202,
   "metadata": {},
   "outputs": [],
   "source": [
    "# set the date as the index to later join with the income dataframe #\n",
    "pincome.set_index('time',inplace=True)"
   ]
  },
  {
   "cell_type": "code",
   "execution_count": 203,
   "metadata": {},
   "outputs": [
    {
     "data": {
      "text/html": [
       "<div>\n",
       "<style scoped>\n",
       "    .dataframe tbody tr th:only-of-type {\n",
       "        vertical-align: middle;\n",
       "    }\n",
       "\n",
       "    .dataframe tbody tr th {\n",
       "        vertical-align: top;\n",
       "    }\n",
       "\n",
       "    .dataframe thead th {\n",
       "        text-align: right;\n",
       "    }\n",
       "</style>\n",
       "<table border=\"1\" class=\"dataframe\">\n",
       "  <thead>\n",
       "    <tr style=\"text-align: right;\">\n",
       "      <th></th>\n",
       "      <th>income</th>\n",
       "    </tr>\n",
       "    <tr>\n",
       "      <th>time</th>\n",
       "      <th></th>\n",
       "    </tr>\n",
       "  </thead>\n",
       "  <tbody>\n",
       "    <tr>\n",
       "      <td>2009-11-14</td>\n",
       "      <td>10886.9</td>\n",
       "    </tr>\n",
       "    <tr>\n",
       "      <td>2009-11-21</td>\n",
       "      <td>10886.9</td>\n",
       "    </tr>\n",
       "    <tr>\n",
       "      <td>2009-11-28</td>\n",
       "      <td>10886.9</td>\n",
       "    </tr>\n",
       "    <tr>\n",
       "      <td>2009-12-05</td>\n",
       "      <td>10924.7</td>\n",
       "    </tr>\n",
       "    <tr>\n",
       "      <td>2009-12-12</td>\n",
       "      <td>10924.7</td>\n",
       "    </tr>\n",
       "  </tbody>\n",
       "</table>\n",
       "</div>"
      ],
      "text/plain": [
       "             income\n",
       "time               \n",
       "2009-11-14  10886.9\n",
       "2009-11-21  10886.9\n",
       "2009-11-28  10886.9\n",
       "2009-12-05  10924.7\n",
       "2009-12-12  10924.7"
      ]
     },
     "execution_count": 203,
     "metadata": {},
     "output_type": "execute_result"
    }
   ],
   "source": [
    "pincome.head()"
   ]
  },
  {
   "cell_type": "code",
   "execution_count": 204,
   "metadata": {},
   "outputs": [],
   "source": [
    "# join the sales and the personal disposable income dataset #\n",
    "df = frame.join(pincome)"
   ]
  },
  {
   "cell_type": "code",
   "execution_count": 205,
   "metadata": {},
   "outputs": [],
   "source": [
    "# create a copy of the merged dataset #\n",
    "qsales = df.copy()"
   ]
  },
  {
   "cell_type": "code",
   "execution_count": 206,
   "metadata": {},
   "outputs": [
    {
     "data": {
      "text/html": [
       "<div>\n",
       "<style scoped>\n",
       "    .dataframe tbody tr th:only-of-type {\n",
       "        vertical-align: middle;\n",
       "    }\n",
       "\n",
       "    .dataframe tbody tr th {\n",
       "        vertical-align: top;\n",
       "    }\n",
       "\n",
       "    .dataframe thead th {\n",
       "        text-align: right;\n",
       "    }\n",
       "</style>\n",
       "<table border=\"1\" class=\"dataframe\">\n",
       "  <thead>\n",
       "    <tr style=\"text-align: right;\">\n",
       "      <th></th>\n",
       "      <th>StoreID</th>\n",
       "      <th>ProductID</th>\n",
       "      <th>value</th>\n",
       "      <th>income</th>\n",
       "    </tr>\n",
       "    <tr>\n",
       "      <th>time</th>\n",
       "      <th></th>\n",
       "      <th></th>\n",
       "      <th></th>\n",
       "      <th></th>\n",
       "    </tr>\n",
       "  </thead>\n",
       "  <tbody>\n",
       "    <tr>\n",
       "      <td>2010-11-06</td>\n",
       "      <td>2</td>\n",
       "      <td>1</td>\n",
       "      <td>144</td>\n",
       "      <td>11160.8</td>\n",
       "    </tr>\n",
       "    <tr>\n",
       "      <td>2010-11-06</td>\n",
       "      <td>3</td>\n",
       "      <td>1</td>\n",
       "      <td>60</td>\n",
       "      <td>11160.8</td>\n",
       "    </tr>\n",
       "    <tr>\n",
       "      <td>2010-11-06</td>\n",
       "      <td>4</td>\n",
       "      <td>2</td>\n",
       "      <td>440</td>\n",
       "      <td>11160.8</td>\n",
       "    </tr>\n",
       "    <tr>\n",
       "      <td>2010-11-06</td>\n",
       "      <td>5</td>\n",
       "      <td>1</td>\n",
       "      <td>128</td>\n",
       "      <td>11160.8</td>\n",
       "    </tr>\n",
       "    <tr>\n",
       "      <td>2010-11-06</td>\n",
       "      <td>6</td>\n",
       "      <td>1</td>\n",
       "      <td>302</td>\n",
       "      <td>11160.8</td>\n",
       "    </tr>\n",
       "  </tbody>\n",
       "</table>\n",
       "</div>"
      ],
      "text/plain": [
       "            StoreID  ProductID  value   income\n",
       "time                                          \n",
       "2010-11-06        2          1    144  11160.8\n",
       "2010-11-06        3          1     60  11160.8\n",
       "2010-11-06        4          2    440  11160.8\n",
       "2010-11-06        5          1    128  11160.8\n",
       "2010-11-06        6          1    302  11160.8"
      ]
     },
     "execution_count": 206,
     "metadata": {},
     "output_type": "execute_result"
    }
   ],
   "source": [
    "qsales.head()"
   ]
  },
  {
   "cell_type": "code",
   "execution_count": 207,
   "metadata": {},
   "outputs": [
    {
     "data": {
      "text/plain": [
       "<matplotlib.axes._subplots.AxesSubplot at 0x7f0b071075f8>"
      ]
     },
     "execution_count": 207,
     "metadata": {},
     "output_type": "execute_result"
    },
    {
     "data": {
      "image/png": "[encoded data removed]",
      "text/plain": [
       "<Figure size 864x360 with 1 Axes>"
      ]
     },
     "metadata": {
      "needs_background": "light"
     },
     "output_type": "display_data"
    }
   ],
   "source": [
    "# plot and check affect due to merging the datasets #\n",
    "qsales['income'].plot()"
   ]
  },
  {
   "cell_type": "code",
   "execution_count": 208,
   "metadata": {},
   "outputs": [
    {
     "data": {
      "image/png": "[encoded data removed]",
      "text/plain": [
       "<Figure size 864x360 with 1 Axes>"
      ]
     },
     "metadata": {
      "needs_background": "light"
     },
     "output_type": "display_data"
    }
   ],
   "source": [
    "plt.hist(qsales['value'],bins=30)\n",
    "plt.grid()\n",
    "plt.title('Sale quantities per Store per product');"
   ]
  },
  {
   "cell_type": "markdown",
   "metadata": {},
   "source": [
    "- The sale quantity is right skewed and does not follow a normal distribution \n",
    "- Transformation of the sale quantities can be done and then the distribution can be rechecked"
   ]
  },
  {
   "cell_type": "code",
   "execution_count": 209,
   "metadata": {},
   "outputs": [
    {
     "data": {
      "text/plain": [
       "0"
      ]
     },
     "execution_count": 209,
     "metadata": {},
     "output_type": "execute_result"
    }
   ],
   "source": [
    "# check for sale quantities less than 20 #\n",
    "len(qsales[qsales['value'] < 20])"
   ]
  },
  {
   "cell_type": "markdown",
   "metadata": {},
   "source": [
    "- There are no dates when the sale quantity was less than 20 "
   ]
  },
  {
   "cell_type": "code",
   "execution_count": 210,
   "metadata": {},
   "outputs": [],
   "source": [
    "import math"
   ]
  },
  {
   "cell_type": "code",
   "execution_count": 211,
   "metadata": {},
   "outputs": [
    {
     "name": "stdout",
     "output_type": "stream",
     "text": [
      "<class 'pandas.core.frame.DataFrame'>\n",
      "DatetimeIndex: 2459 entries, 2010-11-06 to 2013-12-28\n",
      "Data columns (total 4 columns):\n",
      "StoreID      2459 non-null int64\n",
      "ProductID    2459 non-null int64\n",
      "value        2459 non-null int64\n",
      "income       2459 non-null float64\n",
      "dtypes: float64(1), int64(3)\n",
      "memory usage: 96.1 KB\n"
     ]
    }
   ],
   "source": [
    "qsales.info()"
   ]
  },
  {
   "cell_type": "code",
   "execution_count": 212,
   "metadata": {},
   "outputs": [],
   "source": [
    "qsales['value'] = qsales['value'].astype(float)"
   ]
  },
  {
   "cell_type": "code",
   "execution_count": 213,
   "metadata": {},
   "outputs": [
    {
     "data": {
      "text/html": [
       "<div>\n",
       "<style scoped>\n",
       "    .dataframe tbody tr th:only-of-type {\n",
       "        vertical-align: middle;\n",
       "    }\n",
       "\n",
       "    .dataframe tbody tr th {\n",
       "        vertical-align: top;\n",
       "    }\n",
       "\n",
       "    .dataframe thead th {\n",
       "        text-align: right;\n",
       "    }\n",
       "</style>\n",
       "<table border=\"1\" class=\"dataframe\">\n",
       "  <thead>\n",
       "    <tr style=\"text-align: right;\">\n",
       "      <th></th>\n",
       "      <th>StoreID</th>\n",
       "      <th>ProductID</th>\n",
       "      <th>value</th>\n",
       "      <th>income</th>\n",
       "    </tr>\n",
       "    <tr>\n",
       "      <th>time</th>\n",
       "      <th></th>\n",
       "      <th></th>\n",
       "      <th></th>\n",
       "      <th></th>\n",
       "    </tr>\n",
       "  </thead>\n",
       "  <tbody>\n",
       "    <tr>\n",
       "      <td>2010-11-06</td>\n",
       "      <td>2</td>\n",
       "      <td>1</td>\n",
       "      <td>144.0</td>\n",
       "      <td>11160.8</td>\n",
       "    </tr>\n",
       "    <tr>\n",
       "      <td>2010-11-06</td>\n",
       "      <td>3</td>\n",
       "      <td>1</td>\n",
       "      <td>60.0</td>\n",
       "      <td>11160.8</td>\n",
       "    </tr>\n",
       "    <tr>\n",
       "      <td>2010-11-06</td>\n",
       "      <td>4</td>\n",
       "      <td>2</td>\n",
       "      <td>440.0</td>\n",
       "      <td>11160.8</td>\n",
       "    </tr>\n",
       "    <tr>\n",
       "      <td>2010-11-06</td>\n",
       "      <td>5</td>\n",
       "      <td>1</td>\n",
       "      <td>128.0</td>\n",
       "      <td>11160.8</td>\n",
       "    </tr>\n",
       "    <tr>\n",
       "      <td>2010-11-06</td>\n",
       "      <td>6</td>\n",
       "      <td>1</td>\n",
       "      <td>302.0</td>\n",
       "      <td>11160.8</td>\n",
       "    </tr>\n",
       "  </tbody>\n",
       "</table>\n",
       "</div>"
      ],
      "text/plain": [
       "            StoreID  ProductID  value   income\n",
       "time                                          \n",
       "2010-11-06        2          1  144.0  11160.8\n",
       "2010-11-06        3          1   60.0  11160.8\n",
       "2010-11-06        4          2  440.0  11160.8\n",
       "2010-11-06        5          1  128.0  11160.8\n",
       "2010-11-06        6          1  302.0  11160.8"
      ]
     },
     "execution_count": 213,
     "metadata": {},
     "output_type": "execute_result"
    }
   ],
   "source": [
    "qsales.head()"
   ]
  },
  {
   "cell_type": "code",
   "execution_count": 214,
   "metadata": {},
   "outputs": [],
   "source": [
    "# Applying the log transformation , +1 to prevent -inf for accidental log on 0 or null values #\n",
    "qsales['logvalue'] = np.log(qsales['value']+1)"
   ]
  },
  {
   "cell_type": "code",
   "execution_count": 215,
   "metadata": {},
   "outputs": [
    {
     "data": {
      "text/plain": [
       "count    2459.000000\n",
       "mean        5.634582\n",
       "std         0.825383\n",
       "min         3.367296\n",
       "25%         5.003946\n",
       "50%         5.609472\n",
       "75%         6.226535\n",
       "max         7.747165\n",
       "Name: logvalue, dtype: float64"
      ]
     },
     "execution_count": 215,
     "metadata": {},
     "output_type": "execute_result"
    }
   ],
   "source": [
    "qsales['logvalue'].describe()"
   ]
  },
  {
   "cell_type": "code",
   "execution_count": 216,
   "metadata": {},
   "outputs": [
    {
     "data": {
      "text/plain": [
       "Text(0.5, 0, 'Sale quantities on logarithmic scale')"
      ]
     },
     "execution_count": 216,
     "metadata": {},
     "output_type": "execute_result"
    },
    {
     "data": {
      "image/png": "[encoded data removed]",
      "text/plain": [
       "<Figure size 864x360 with 1 Axes>"
      ]
     },
     "metadata": {
      "needs_background": "light"
     },
     "output_type": "display_data"
    }
   ],
   "source": [
    "sns.distplot(qsales['logvalue'],kde=False);\n",
    "plt.xlabel('Sale quantities on logarithmic scale')"
   ]
  },
  {
   "cell_type": "code",
   "execution_count": 217,
   "metadata": {},
   "outputs": [
    {
     "data": {
      "text/plain": [
       "DatetimeIndex(['2010-11-06', '2010-11-13', '2010-11-20', '2010-11-27',\n",
       "               '2010-12-04', '2010-12-11', '2010-12-18', '2010-12-25',\n",
       "               '2011-01-01', '2011-01-08',\n",
       "               ...\n",
       "               '2013-10-19', '2013-10-26', '2013-11-09', '2013-11-16',\n",
       "               '2013-11-23', '2013-11-30', '2013-12-07', '2013-12-14',\n",
       "               '2013-12-21', '2013-12-28'],\n",
       "              dtype='datetime64[ns]', name='time', length=164, freq=None)"
      ]
     },
     "execution_count": 217,
     "metadata": {},
     "output_type": "execute_result"
    }
   ],
   "source": [
    "qsales.index.unique()"
   ]
  },
  {
   "cell_type": "code",
   "execution_count": 218,
   "metadata": {},
   "outputs": [],
   "source": [
    "import holidays\n",
    "from datetime import date"
   ]
  },
  {
   "cell_type": "code",
   "execution_count": 219,
   "metadata": {},
   "outputs": [],
   "source": [
    "holiday = [] \n",
    "\n",
    "for hol in holidays.UnitedStates(years = [2010,2011,2012,2013]).keys():\n",
    "    holiday.append(hol)"
   ]
  },
  {
   "cell_type": "code",
   "execution_count": 220,
   "metadata": {},
   "outputs": [
    {
     "name": "stdout",
     "output_type": "stream",
     "text": [
      "(datetime.date(2010, 1, 1), \"New Year's Day\")\n",
      "(datetime.date(2010, 12, 31), \"New Year's Day (Observed)\")\n",
      "(datetime.date(2010, 1, 18), 'Martin Luther King, Jr. Day')\n",
      "(datetime.date(2010, 2, 15), \"Washington's Birthday\")\n",
      "(datetime.date(2010, 5, 31), 'Memorial Day')\n",
      "(datetime.date(2010, 7, 4), 'Independence Day')\n",
      "(datetime.date(2010, 7, 5), 'Independence Day (Observed)')\n",
      "(datetime.date(2010, 9, 6), 'Labor Day')\n",
      "(datetime.date(2010, 10, 11), 'Columbus Day')\n",
      "(datetime.date(2010, 11, 11), 'Veterans Day')\n",
      "(datetime.date(2010, 11, 25), 'Thanksgiving')\n",
      "(datetime.date(2010, 12, 25), 'Christmas Day')\n",
      "(datetime.date(2010, 12, 24), 'Christmas Day (Observed)')\n",
      "(datetime.date(2011, 1, 1), \"New Year's Day\")\n",
      "(datetime.date(2011, 1, 17), 'Martin Luther King, Jr. Day')\n",
      "(datetime.date(2011, 2, 21), \"Washington's Birthday\")\n",
      "(datetime.date(2011, 5, 30), 'Memorial Day')\n",
      "(datetime.date(2011, 7, 4), 'Independence Day')\n",
      "(datetime.date(2011, 9, 5), 'Labor Day')\n",
      "(datetime.date(2011, 10, 10), 'Columbus Day')\n",
      "(datetime.date(2011, 11, 11), 'Veterans Day')\n",
      "(datetime.date(2011, 11, 24), 'Thanksgiving')\n",
      "(datetime.date(2011, 12, 25), 'Christmas Day')\n",
      "(datetime.date(2011, 12, 26), 'Christmas Day (Observed)')\n",
      "(datetime.date(2012, 1, 1), \"New Year's Day\")\n",
      "(datetime.date(2012, 1, 2), \"New Year's Day (Observed)\")\n",
      "(datetime.date(2012, 1, 16), 'Martin Luther King, Jr. Day')\n",
      "(datetime.date(2012, 2, 20), \"Washington's Birthday\")\n",
      "(datetime.date(2012, 5, 28), 'Memorial Day')\n",
      "(datetime.date(2012, 7, 4), 'Independence Day')\n",
      "(datetime.date(2012, 9, 3), 'Labor Day')\n",
      "(datetime.date(2012, 10, 8), 'Columbus Day')\n",
      "(datetime.date(2012, 11, 11), 'Veterans Day')\n",
      "(datetime.date(2012, 11, 12), 'Veterans Day (Observed)')\n",
      "(datetime.date(2012, 11, 22), 'Thanksgiving')\n",
      "(datetime.date(2012, 12, 25), 'Christmas Day')\n",
      "(datetime.date(2013, 1, 1), \"New Year's Day\")\n",
      "(datetime.date(2013, 1, 21), 'Martin Luther King, Jr. Day')\n",
      "(datetime.date(2013, 2, 18), \"Washington's Birthday\")\n",
      "(datetime.date(2013, 5, 27), 'Memorial Day')\n",
      "(datetime.date(2013, 7, 4), 'Independence Day')\n",
      "(datetime.date(2013, 9, 2), 'Labor Day')\n",
      "(datetime.date(2013, 10, 14), 'Columbus Day')\n",
      "(datetime.date(2013, 11, 11), 'Veterans Day')\n",
      "(datetime.date(2013, 11, 28), 'Thanksgiving')\n",
      "(datetime.date(2013, 12, 25), 'Christmas Day')\n"
     ]
    }
   ],
   "source": [
    "# print the US holidays in 2014 to 2016 #\n",
    "for hol in holidays.UnitedStates(years = [2010,2011,2012,2013]).items():\n",
    "    print (hol)"
   ]
  },
  {
   "cell_type": "markdown",
   "metadata": {},
   "source": [
    "### Add Holidays\n",
    "- 1 if the date is a holiday \n",
    "- 0 if the date is Not a holiday"
   ]
  },
  {
   "cell_type": "code",
   "execution_count": 221,
   "metadata": {},
   "outputs": [],
   "source": [
    "# check each row date if it is in the holiday list of 2014 to 2016 #\n",
    "h = []\n",
    "\n",
    "for i in range(len(qsales)):\n",
    "    if (qsales.index[i] in holiday):\n",
    "        h.append(1)\n",
    "    else:\n",
    "        h.append(0)"
   ]
  },
  {
   "cell_type": "code",
   "execution_count": 222,
   "metadata": {},
   "outputs": [],
   "source": [
    "qsales['holiday'] = h"
   ]
  },
  {
   "cell_type": "code",
   "execution_count": 223,
   "metadata": {},
   "outputs": [
    {
     "data": {
      "text/html": [
       "<div>\n",
       "<style scoped>\n",
       "    .dataframe tbody tr th:only-of-type {\n",
       "        vertical-align: middle;\n",
       "    }\n",
       "\n",
       "    .dataframe tbody tr th {\n",
       "        vertical-align: top;\n",
       "    }\n",
       "\n",
       "    .dataframe thead th {\n",
       "        text-align: right;\n",
       "    }\n",
       "</style>\n",
       "<table border=\"1\" class=\"dataframe\">\n",
       "  <thead>\n",
       "    <tr style=\"text-align: right;\">\n",
       "      <th></th>\n",
       "      <th>StoreID</th>\n",
       "      <th>ProductID</th>\n",
       "      <th>value</th>\n",
       "      <th>income</th>\n",
       "      <th>logvalue</th>\n",
       "      <th>holiday</th>\n",
       "    </tr>\n",
       "    <tr>\n",
       "      <th>time</th>\n",
       "      <th></th>\n",
       "      <th></th>\n",
       "      <th></th>\n",
       "      <th></th>\n",
       "      <th></th>\n",
       "      <th></th>\n",
       "    </tr>\n",
       "  </thead>\n",
       "  <tbody>\n",
       "    <tr>\n",
       "      <td>2010-11-06</td>\n",
       "      <td>2</td>\n",
       "      <td>1</td>\n",
       "      <td>144.0</td>\n",
       "      <td>11160.8</td>\n",
       "      <td>4.976734</td>\n",
       "      <td>0</td>\n",
       "    </tr>\n",
       "    <tr>\n",
       "      <td>2010-11-06</td>\n",
       "      <td>3</td>\n",
       "      <td>1</td>\n",
       "      <td>60.0</td>\n",
       "      <td>11160.8</td>\n",
       "      <td>4.110874</td>\n",
       "      <td>0</td>\n",
       "    </tr>\n",
       "    <tr>\n",
       "      <td>2010-11-06</td>\n",
       "      <td>4</td>\n",
       "      <td>2</td>\n",
       "      <td>440.0</td>\n",
       "      <td>11160.8</td>\n",
       "      <td>6.089045</td>\n",
       "      <td>0</td>\n",
       "    </tr>\n",
       "    <tr>\n",
       "      <td>2010-11-06</td>\n",
       "      <td>5</td>\n",
       "      <td>1</td>\n",
       "      <td>128.0</td>\n",
       "      <td>11160.8</td>\n",
       "      <td>4.859812</td>\n",
       "      <td>0</td>\n",
       "    </tr>\n",
       "    <tr>\n",
       "      <td>2010-11-06</td>\n",
       "      <td>6</td>\n",
       "      <td>1</td>\n",
       "      <td>302.0</td>\n",
       "      <td>11160.8</td>\n",
       "      <td>5.713733</td>\n",
       "      <td>0</td>\n",
       "    </tr>\n",
       "  </tbody>\n",
       "</table>\n",
       "</div>"
      ],
      "text/plain": [
       "            StoreID  ProductID  value   income  logvalue  holiday\n",
       "time                                                             \n",
       "2010-11-06        2          1  144.0  11160.8  4.976734        0\n",
       "2010-11-06        3          1   60.0  11160.8  4.110874        0\n",
       "2010-11-06        4          2  440.0  11160.8  6.089045        0\n",
       "2010-11-06        5          1  128.0  11160.8  4.859812        0\n",
       "2010-11-06        6          1  302.0  11160.8  5.713733        0"
      ]
     },
     "execution_count": 223,
     "metadata": {},
     "output_type": "execute_result"
    }
   ],
   "source": [
    "qsales.head()"
   ]
  },
  {
   "cell_type": "markdown",
   "metadata": {},
   "source": [
    "### Date Features"
   ]
  },
  {
   "cell_type": "code",
   "execution_count": 224,
   "metadata": {},
   "outputs": [],
   "source": [
    "# weekday #\n",
    "wkday = []\n",
    "for i in range(len(sales)):\n",
    "    wkday.append(qsales.index[i].weekday())   \n",
    "    \n",
    "# year #\n",
    "yr = []\n",
    "for i in range(len(sales)):\n",
    "    yr.append(qsales.index[i].year)   \n",
    "    \n",
    "# month #\n",
    "mon = []\n",
    "for i in range(len(sales)):\n",
    "    mon.append(qsales.index[i].month)  "
   ]
  },
  {
   "cell_type": "markdown",
   "metadata": {},
   "source": [
    "### Weekend Features"
   ]
  },
  {
   "cell_type": "code",
   "execution_count": 225,
   "metadata": {},
   "outputs": [],
   "source": [
    "# add the weekend column, day value of 5 is Saturday and 6 is for Sunday #\n",
    "def weekend(day):\n",
    "    if day == 5 or day == 6:\n",
    "        return 1\n",
    "    else:\n",
    "        return 0"
   ]
  },
  {
   "cell_type": "code",
   "execution_count": 226,
   "metadata": {},
   "outputs": [],
   "source": [
    "qsales['month'] = mon\n",
    "qsales['day'] = wkday\n",
    "qsales['year'] = yr"
   ]
  },
  {
   "cell_type": "code",
   "execution_count": 227,
   "metadata": {},
   "outputs": [],
   "source": [
    "qsales['weekend'] = qsales['day'].apply(weekend)"
   ]
  },
  {
   "cell_type": "code",
   "execution_count": 228,
   "metadata": {},
   "outputs": [
    {
     "name": "stdout",
     "output_type": "stream",
     "text": [
      "<class 'pandas.core.frame.DataFrame'>\n",
      "DatetimeIndex: 2459 entries, 2010-11-06 to 2013-12-28\n",
      "Data columns (total 10 columns):\n",
      "StoreID      2459 non-null int64\n",
      "ProductID    2459 non-null int64\n",
      "value        2459 non-null float64\n",
      "income       2459 non-null float64\n",
      "logvalue     2459 non-null float64\n",
      "holiday      2459 non-null int64\n",
      "month        2459 non-null int64\n",
      "day          2459 non-null int64\n",
      "year         2459 non-null int64\n",
      "weekend      2459 non-null int64\n",
      "dtypes: float64(3), int64(7)\n",
      "memory usage: 291.3 KB\n"
     ]
    }
   ],
   "source": [
    "qsales.info()"
   ]
  },
  {
   "cell_type": "markdown",
   "metadata": {},
   "source": [
    "### Season Features"
   ]
  },
  {
   "cell_type": "code",
   "execution_count": 229,
   "metadata": {},
   "outputs": [],
   "source": [
    "# first order difference of the logvalue #\n",
    "qsales['logvalue_Diff1'] = qsales['logvalue'].diff()"
   ]
  },
  {
   "cell_type": "code",
   "execution_count": 230,
   "metadata": {},
   "outputs": [],
   "source": [
    "# second order difference of the logvalue #\n",
    "qsales['logvalue_Diff2'] = qsales['logvalue_Diff1'].diff()"
   ]
  },
  {
   "cell_type": "code",
   "execution_count": 231,
   "metadata": {},
   "outputs": [],
   "source": [
    "# add the previous day sale figure of each individual product of the store  #\n",
    "qsales['logvalue_Prev1'] = qsales.groupby(['StoreID','ProductID'])['logvalue'].shift()"
   ]
  },
  {
   "cell_type": "code",
   "execution_count": 232,
   "metadata": {},
   "outputs": [],
   "source": [
    "# add the previous day sale figure of each individual product of the store  #\n",
    "qsales['logvalue_Prev2'] = qsales.groupby(['StoreID','ProductID'])['logvalue'].shift(periods=2)"
   ]
  },
  {
   "cell_type": "code",
   "execution_count": 233,
   "metadata": {},
   "outputs": [
    {
     "name": "stdout",
     "output_type": "stream",
     "text": [
      "<class 'pandas.core.frame.DataFrame'>\n",
      "DatetimeIndex: 2459 entries, 2010-11-06 to 2013-12-28\n",
      "Data columns (total 14 columns):\n",
      "StoreID           2459 non-null int64\n",
      "ProductID         2459 non-null int64\n",
      "value             2459 non-null float64\n",
      "income            2459 non-null float64\n",
      "logvalue          2459 non-null float64\n",
      "holiday           2459 non-null int64\n",
      "month             2459 non-null int64\n",
      "day               2459 non-null int64\n",
      "year              2459 non-null int64\n",
      "weekend           2459 non-null int64\n",
      "logvalue_Diff1    2458 non-null float64\n",
      "logvalue_Diff2    2457 non-null float64\n",
      "logvalue_Prev1    2444 non-null float64\n",
      "logvalue_Prev2    2429 non-null float64\n",
      "dtypes: float64(7), int64(7)\n",
      "memory usage: 368.2 KB\n"
     ]
    }
   ],
   "source": [
    "qsales.info()"
   ]
  },
  {
   "cell_type": "code",
   "execution_count": 265,
   "metadata": {},
   "outputs": [],
   "source": [
    "# add the lag of the personal disposable income based on AR model #\n",
    "# adding this column is purely optional ,model predictions are not affected due to this column #\n",
    "qsales['income_lag'] = qsales.groupby(['StoreID','ProductID'])['income'].shift(periods=6)"
   ]
  },
  {
   "cell_type": "code",
   "execution_count": 235,
   "metadata": {},
   "outputs": [
    {
     "name": "stdout",
     "output_type": "stream",
     "text": [
      "<class 'pandas.core.frame.DataFrame'>\n",
      "DatetimeIndex: 2459 entries, 2010-11-06 to 2013-12-28\n",
      "Data columns (total 15 columns):\n",
      "StoreID           2459 non-null int64\n",
      "ProductID         2459 non-null int64\n",
      "value             2459 non-null float64\n",
      "income            2459 non-null float64\n",
      "logvalue          2459 non-null float64\n",
      "holiday           2459 non-null int64\n",
      "month             2459 non-null int64\n",
      "day               2459 non-null int64\n",
      "year              2459 non-null int64\n",
      "weekend           2459 non-null int64\n",
      "logvalue_Diff1    2458 non-null float64\n",
      "logvalue_Diff2    2457 non-null float64\n",
      "logvalue_Prev1    2444 non-null float64\n",
      "logvalue_Prev2    2429 non-null float64\n",
      "income_lag        2369 non-null float64\n",
      "dtypes: float64(8), int64(7)\n",
      "memory usage: 387.4 KB\n"
     ]
    }
   ],
   "source": [
    "qsales.info()"
   ]
  },
  {
   "cell_type": "code",
   "execution_count": 236,
   "metadata": {},
   "outputs": [
    {
     "data": {
      "text/html": [
       "<div>\n",
       "<style scoped>\n",
       "    .dataframe tbody tr th:only-of-type {\n",
       "        vertical-align: middle;\n",
       "    }\n",
       "\n",
       "    .dataframe tbody tr th {\n",
       "        vertical-align: top;\n",
       "    }\n",
       "\n",
       "    .dataframe thead th {\n",
       "        text-align: right;\n",
       "    }\n",
       "</style>\n",
       "<table border=\"1\" class=\"dataframe\">\n",
       "  <thead>\n",
       "    <tr style=\"text-align: right;\">\n",
       "      <th></th>\n",
       "      <th>StoreID</th>\n",
       "      <th>ProductID</th>\n",
       "      <th>value</th>\n",
       "      <th>income</th>\n",
       "      <th>logvalue</th>\n",
       "      <th>holiday</th>\n",
       "      <th>month</th>\n",
       "      <th>day</th>\n",
       "      <th>year</th>\n",
       "      <th>weekend</th>\n",
       "      <th>logvalue_Diff1</th>\n",
       "      <th>logvalue_Diff2</th>\n",
       "      <th>logvalue_Prev1</th>\n",
       "      <th>logvalue_Prev2</th>\n",
       "      <th>income_lag</th>\n",
       "    </tr>\n",
       "    <tr>\n",
       "      <th>time</th>\n",
       "      <th></th>\n",
       "      <th></th>\n",
       "      <th></th>\n",
       "      <th></th>\n",
       "      <th></th>\n",
       "      <th></th>\n",
       "      <th></th>\n",
       "      <th></th>\n",
       "      <th></th>\n",
       "      <th></th>\n",
       "      <th></th>\n",
       "      <th></th>\n",
       "      <th></th>\n",
       "      <th></th>\n",
       "      <th></th>\n",
       "    </tr>\n",
       "  </thead>\n",
       "  <tbody>\n",
       "    <tr>\n",
       "      <td>2010-11-06</td>\n",
       "      <td>2</td>\n",
       "      <td>1</td>\n",
       "      <td>144.0</td>\n",
       "      <td>11160.8</td>\n",
       "      <td>4.976734</td>\n",
       "      <td>0</td>\n",
       "      <td>11</td>\n",
       "      <td>5</td>\n",
       "      <td>2010</td>\n",
       "      <td>1</td>\n",
       "      <td>NaN</td>\n",
       "      <td>NaN</td>\n",
       "      <td>NaN</td>\n",
       "      <td>NaN</td>\n",
       "      <td>NaN</td>\n",
       "    </tr>\n",
       "    <tr>\n",
       "      <td>2010-11-06</td>\n",
       "      <td>3</td>\n",
       "      <td>1</td>\n",
       "      <td>60.0</td>\n",
       "      <td>11160.8</td>\n",
       "      <td>4.110874</td>\n",
       "      <td>0</td>\n",
       "      <td>11</td>\n",
       "      <td>5</td>\n",
       "      <td>2010</td>\n",
       "      <td>1</td>\n",
       "      <td>-0.865860</td>\n",
       "      <td>NaN</td>\n",
       "      <td>NaN</td>\n",
       "      <td>NaN</td>\n",
       "      <td>NaN</td>\n",
       "    </tr>\n",
       "    <tr>\n",
       "      <td>2010-11-06</td>\n",
       "      <td>4</td>\n",
       "      <td>2</td>\n",
       "      <td>440.0</td>\n",
       "      <td>11160.8</td>\n",
       "      <td>6.089045</td>\n",
       "      <td>0</td>\n",
       "      <td>11</td>\n",
       "      <td>5</td>\n",
       "      <td>2010</td>\n",
       "      <td>1</td>\n",
       "      <td>1.978171</td>\n",
       "      <td>2.844031</td>\n",
       "      <td>NaN</td>\n",
       "      <td>NaN</td>\n",
       "      <td>NaN</td>\n",
       "    </tr>\n",
       "    <tr>\n",
       "      <td>2010-11-06</td>\n",
       "      <td>5</td>\n",
       "      <td>1</td>\n",
       "      <td>128.0</td>\n",
       "      <td>11160.8</td>\n",
       "      <td>4.859812</td>\n",
       "      <td>0</td>\n",
       "      <td>11</td>\n",
       "      <td>5</td>\n",
       "      <td>2010</td>\n",
       "      <td>1</td>\n",
       "      <td>-1.229232</td>\n",
       "      <td>-3.207403</td>\n",
       "      <td>NaN</td>\n",
       "      <td>NaN</td>\n",
       "      <td>NaN</td>\n",
       "    </tr>\n",
       "    <tr>\n",
       "      <td>2010-11-06</td>\n",
       "      <td>6</td>\n",
       "      <td>1</td>\n",
       "      <td>302.0</td>\n",
       "      <td>11160.8</td>\n",
       "      <td>5.713733</td>\n",
       "      <td>0</td>\n",
       "      <td>11</td>\n",
       "      <td>5</td>\n",
       "      <td>2010</td>\n",
       "      <td>1</td>\n",
       "      <td>0.853920</td>\n",
       "      <td>2.083153</td>\n",
       "      <td>NaN</td>\n",
       "      <td>NaN</td>\n",
       "      <td>NaN</td>\n",
       "    </tr>\n",
       "  </tbody>\n",
       "</table>\n",
       "</div>"
      ],
      "text/plain": [
       "            StoreID  ProductID  value   income  logvalue  holiday  month  day  \\\n",
       "time                                                                            \n",
       "2010-11-06        2          1  144.0  11160.8  4.976734        0     11    5   \n",
       "2010-11-06        3          1   60.0  11160.8  4.110874        0     11    5   \n",
       "2010-11-06        4          2  440.0  11160.8  6.089045        0     11    5   \n",
       "2010-11-06        5          1  128.0  11160.8  4.859812        0     11    5   \n",
       "2010-11-06        6          1  302.0  11160.8  5.713733        0     11    5   \n",
       "\n",
       "            year  weekend  logvalue_Diff1  logvalue_Diff2  logvalue_Prev1  \\\n",
       "time                                                                        \n",
       "2010-11-06  2010        1             NaN             NaN             NaN   \n",
       "2010-11-06  2010        1       -0.865860             NaN             NaN   \n",
       "2010-11-06  2010        1        1.978171        2.844031             NaN   \n",
       "2010-11-06  2010        1       -1.229232       -3.207403             NaN   \n",
       "2010-11-06  2010        1        0.853920        2.083153             NaN   \n",
       "\n",
       "            logvalue_Prev2  income_lag  \n",
       "time                                    \n",
       "2010-11-06             NaN         NaN  \n",
       "2010-11-06             NaN         NaN  \n",
       "2010-11-06             NaN         NaN  \n",
       "2010-11-06             NaN         NaN  \n",
       "2010-11-06             NaN         NaN  "
      ]
     },
     "execution_count": 236,
     "metadata": {},
     "output_type": "execute_result"
    }
   ],
   "source": [
    "qsales.head()"
   ]
  },
  {
   "cell_type": "code",
   "execution_count": 237,
   "metadata": {},
   "outputs": [],
   "source": [
    "# change the datatype of ProductID to string #\n",
    "qsales['ProductID'] =  qsales['ProductID'].astype('str')"
   ]
  },
  {
   "cell_type": "code",
   "execution_count": 238,
   "metadata": {},
   "outputs": [],
   "source": [
    "# change the datatype of StoreID to string #\n",
    "qsales['StoreID'] =  qsales['StoreID'].astype('str')"
   ]
  },
  {
   "cell_type": "code",
   "execution_count": 239,
   "metadata": {},
   "outputs": [
    {
     "name": "stdout",
     "output_type": "stream",
     "text": [
      "<class 'pandas.core.frame.DataFrame'>\n",
      "DatetimeIndex: 2459 entries, 2010-11-06 to 2013-12-28\n",
      "Data columns (total 15 columns):\n",
      "StoreID           2459 non-null object\n",
      "ProductID         2459 non-null object\n",
      "value             2459 non-null float64\n",
      "income            2459 non-null float64\n",
      "logvalue          2459 non-null float64\n",
      "holiday           2459 non-null int64\n",
      "month             2459 non-null int64\n",
      "day               2459 non-null int64\n",
      "year              2459 non-null int64\n",
      "weekend           2459 non-null int64\n",
      "logvalue_Diff1    2458 non-null float64\n",
      "logvalue_Diff2    2457 non-null float64\n",
      "logvalue_Prev1    2444 non-null float64\n",
      "logvalue_Prev2    2429 non-null float64\n",
      "income_lag        2369 non-null float64\n",
      "dtypes: float64(8), int64(5), object(2)\n",
      "memory usage: 387.4+ KB\n"
     ]
    }
   ],
   "source": [
    "qsales.info()"
   ]
  },
  {
   "cell_type": "code",
   "execution_count": 240,
   "metadata": {},
   "outputs": [],
   "source": [
    "product_id = pd.get_dummies(qsales['ProductID'],drop_first=True)\n",
    "store_id = pd.get_dummies(qsales['StoreID'],drop_first=True)"
   ]
  },
  {
   "cell_type": "code",
   "execution_count": 241,
   "metadata": {},
   "outputs": [],
   "source": [
    "qsales_encoded = pd.concat([qsales,store_id,product_id],ignore_index=False,axis=1)"
   ]
  },
  {
   "cell_type": "code",
   "execution_count": 242,
   "metadata": {},
   "outputs": [
    {
     "data": {
      "text/html": [
       "<div>\n",
       "<style scoped>\n",
       "    .dataframe tbody tr th:only-of-type {\n",
       "        vertical-align: middle;\n",
       "    }\n",
       "\n",
       "    .dataframe tbody tr th {\n",
       "        vertical-align: top;\n",
       "    }\n",
       "\n",
       "    .dataframe thead th {\n",
       "        text-align: right;\n",
       "    }\n",
       "</style>\n",
       "<table border=\"1\" class=\"dataframe\">\n",
       "  <thead>\n",
       "    <tr style=\"text-align: right;\">\n",
       "      <th></th>\n",
       "      <th>StoreID</th>\n",
       "      <th>ProductID</th>\n",
       "      <th>value</th>\n",
       "      <th>income</th>\n",
       "      <th>logvalue</th>\n",
       "      <th>holiday</th>\n",
       "      <th>month</th>\n",
       "      <th>day</th>\n",
       "      <th>year</th>\n",
       "      <th>weekend</th>\n",
       "      <th>...</th>\n",
       "      <th>15</th>\n",
       "      <th>2</th>\n",
       "      <th>3</th>\n",
       "      <th>4</th>\n",
       "      <th>5</th>\n",
       "      <th>6</th>\n",
       "      <th>7</th>\n",
       "      <th>8</th>\n",
       "      <th>9</th>\n",
       "      <th>2</th>\n",
       "    </tr>\n",
       "    <tr>\n",
       "      <th>time</th>\n",
       "      <th></th>\n",
       "      <th></th>\n",
       "      <th></th>\n",
       "      <th></th>\n",
       "      <th></th>\n",
       "      <th></th>\n",
       "      <th></th>\n",
       "      <th></th>\n",
       "      <th></th>\n",
       "      <th></th>\n",
       "      <th></th>\n",
       "      <th></th>\n",
       "      <th></th>\n",
       "      <th></th>\n",
       "      <th></th>\n",
       "      <th></th>\n",
       "      <th></th>\n",
       "      <th></th>\n",
       "      <th></th>\n",
       "      <th></th>\n",
       "      <th></th>\n",
       "    </tr>\n",
       "  </thead>\n",
       "  <tbody>\n",
       "    <tr>\n",
       "      <td>2010-11-06</td>\n",
       "      <td>2</td>\n",
       "      <td>1</td>\n",
       "      <td>144.0</td>\n",
       "      <td>11160.8</td>\n",
       "      <td>4.976734</td>\n",
       "      <td>0</td>\n",
       "      <td>11</td>\n",
       "      <td>5</td>\n",
       "      <td>2010</td>\n",
       "      <td>1</td>\n",
       "      <td>...</td>\n",
       "      <td>0</td>\n",
       "      <td>1</td>\n",
       "      <td>0</td>\n",
       "      <td>0</td>\n",
       "      <td>0</td>\n",
       "      <td>0</td>\n",
       "      <td>0</td>\n",
       "      <td>0</td>\n",
       "      <td>0</td>\n",
       "      <td>0</td>\n",
       "    </tr>\n",
       "    <tr>\n",
       "      <td>2010-11-06</td>\n",
       "      <td>3</td>\n",
       "      <td>1</td>\n",
       "      <td>60.0</td>\n",
       "      <td>11160.8</td>\n",
       "      <td>4.110874</td>\n",
       "      <td>0</td>\n",
       "      <td>11</td>\n",
       "      <td>5</td>\n",
       "      <td>2010</td>\n",
       "      <td>1</td>\n",
       "      <td>...</td>\n",
       "      <td>0</td>\n",
       "      <td>0</td>\n",
       "      <td>1</td>\n",
       "      <td>0</td>\n",
       "      <td>0</td>\n",
       "      <td>0</td>\n",
       "      <td>0</td>\n",
       "      <td>0</td>\n",
       "      <td>0</td>\n",
       "      <td>0</td>\n",
       "    </tr>\n",
       "    <tr>\n",
       "      <td>2010-11-06</td>\n",
       "      <td>4</td>\n",
       "      <td>2</td>\n",
       "      <td>440.0</td>\n",
       "      <td>11160.8</td>\n",
       "      <td>6.089045</td>\n",
       "      <td>0</td>\n",
       "      <td>11</td>\n",
       "      <td>5</td>\n",
       "      <td>2010</td>\n",
       "      <td>1</td>\n",
       "      <td>...</td>\n",
       "      <td>0</td>\n",
       "      <td>0</td>\n",
       "      <td>0</td>\n",
       "      <td>1</td>\n",
       "      <td>0</td>\n",
       "      <td>0</td>\n",
       "      <td>0</td>\n",
       "      <td>0</td>\n",
       "      <td>0</td>\n",
       "      <td>1</td>\n",
       "    </tr>\n",
       "    <tr>\n",
       "      <td>2010-11-06</td>\n",
       "      <td>5</td>\n",
       "      <td>1</td>\n",
       "      <td>128.0</td>\n",
       "      <td>11160.8</td>\n",
       "      <td>4.859812</td>\n",
       "      <td>0</td>\n",
       "      <td>11</td>\n",
       "      <td>5</td>\n",
       "      <td>2010</td>\n",
       "      <td>1</td>\n",
       "      <td>...</td>\n",
       "      <td>0</td>\n",
       "      <td>0</td>\n",
       "      <td>0</td>\n",
       "      <td>0</td>\n",
       "      <td>1</td>\n",
       "      <td>0</td>\n",
       "      <td>0</td>\n",
       "      <td>0</td>\n",
       "      <td>0</td>\n",
       "      <td>0</td>\n",
       "    </tr>\n",
       "    <tr>\n",
       "      <td>2010-11-06</td>\n",
       "      <td>6</td>\n",
       "      <td>1</td>\n",
       "      <td>302.0</td>\n",
       "      <td>11160.8</td>\n",
       "      <td>5.713733</td>\n",
       "      <td>0</td>\n",
       "      <td>11</td>\n",
       "      <td>5</td>\n",
       "      <td>2010</td>\n",
       "      <td>1</td>\n",
       "      <td>...</td>\n",
       "      <td>0</td>\n",
       "      <td>0</td>\n",
       "      <td>0</td>\n",
       "      <td>0</td>\n",
       "      <td>0</td>\n",
       "      <td>1</td>\n",
       "      <td>0</td>\n",
       "      <td>0</td>\n",
       "      <td>0</td>\n",
       "      <td>0</td>\n",
       "    </tr>\n",
       "  </tbody>\n",
       "</table>\n",
       "<p>5 rows × 30 columns</p>\n",
       "</div>"
      ],
      "text/plain": [
       "           StoreID ProductID  value   income  logvalue  holiday  month  day  \\\n",
       "time                                                                          \n",
       "2010-11-06       2         1  144.0  11160.8  4.976734        0     11    5   \n",
       "2010-11-06       3         1   60.0  11160.8  4.110874        0     11    5   \n",
       "2010-11-06       4         2  440.0  11160.8  6.089045        0     11    5   \n",
       "2010-11-06       5         1  128.0  11160.8  4.859812        0     11    5   \n",
       "2010-11-06       6         1  302.0  11160.8  5.713733        0     11    5   \n",
       "\n",
       "            year  weekend  ...  15  2  3  4  5  6  7  8  9  2  \n",
       "time                       ...                                 \n",
       "2010-11-06  2010        1  ...   0  1  0  0  0  0  0  0  0  0  \n",
       "2010-11-06  2010        1  ...   0  0  1  0  0  0  0  0  0  0  \n",
       "2010-11-06  2010        1  ...   0  0  0  1  0  0  0  0  0  1  \n",
       "2010-11-06  2010        1  ...   0  0  0  0  1  0  0  0  0  0  \n",
       "2010-11-06  2010        1  ...   0  0  0  0  0  1  0  0  0  0  \n",
       "\n",
       "[5 rows x 30 columns]"
      ]
     },
     "execution_count": 242,
     "metadata": {},
     "output_type": "execute_result"
    }
   ],
   "source": [
    "qsales_encoded.head()"
   ]
  },
  {
   "cell_type": "code",
   "execution_count": 243,
   "metadata": {},
   "outputs": [
    {
     "data": {
      "text/plain": [
       "Index(['StoreID', 'ProductID', 'value', 'income', 'logvalue', 'holiday',\n",
       "       'month', 'day', 'year', 'weekend', 'logvalue_Diff1', 'logvalue_Diff2',\n",
       "       'logvalue_Prev1', 'logvalue_Prev2', 'income_lag', '10', '11', '12',\n",
       "       '13', '14', '15', '2', '3', '4', '5', '6', '7', '8', '9', '2'],\n",
       "      dtype='object')"
      ]
     },
     "execution_count": 243,
     "metadata": {},
     "output_type": "execute_result"
    }
   ],
   "source": [
    "qsales_encoded.columns"
   ]
  },
  {
   "cell_type": "code",
   "execution_count": 244,
   "metadata": {},
   "outputs": [],
   "source": [
    "#qsales_encoded.drop(['StoreID','ProductID'],axis=1,inplace=True)"
   ]
  },
  {
   "cell_type": "code",
   "execution_count": 245,
   "metadata": {},
   "outputs": [
    {
     "data": {
      "text/plain": [
       "2459"
      ]
     },
     "execution_count": 245,
     "metadata": {},
     "output_type": "execute_result"
    }
   ],
   "source": [
    "len(qsales_encoded)"
   ]
  },
  {
   "cell_type": "markdown",
   "metadata": {},
   "source": [
    "## Train test split "
   ]
  },
  {
   "cell_type": "code",
   "execution_count": 246,
   "metadata": {},
   "outputs": [],
   "source": [
    "qsales_encoded.dropna(inplace=True)"
   ]
  },
  {
   "cell_type": "code",
   "execution_count": 247,
   "metadata": {},
   "outputs": [
    {
     "data": {
      "text/plain": [
       "765"
      ]
     },
     "execution_count": 247,
     "metadata": {},
     "output_type": "execute_result"
    }
   ],
   "source": [
    "len(qsales_encoded[qsales_encoded['year'] == 2013])"
   ]
  },
  {
   "cell_type": "code",
   "execution_count": 248,
   "metadata": {},
   "outputs": [
    {
     "data": {
      "text/plain": [
       "1604"
      ]
     },
     "execution_count": 248,
     "metadata": {},
     "output_type": "execute_result"
    }
   ],
   "source": [
    "len(qsales_encoded[qsales_encoded['year'] != 2013])"
   ]
  },
  {
   "cell_type": "code",
   "execution_count": 249,
   "metadata": {},
   "outputs": [],
   "source": [
    "for_training = qsales_encoded.iloc[:1604]\n",
    "for_testing = qsales_encoded.iloc[1604:]"
   ]
  },
  {
   "cell_type": "code",
   "execution_count": 250,
   "metadata": {},
   "outputs": [],
   "source": [
    "X_train = for_training.drop(['value','logvalue','StoreID','ProductID'],axis=1)\n",
    "y_train = for_training['logvalue']\n",
    "\n",
    "X_test = for_testing.drop(['value','logvalue','StoreID','ProductID'],axis=1)\n",
    "y_test = for_testing[['logvalue','StoreID','ProductID']]"
   ]
  },
  {
   "cell_type": "markdown",
   "metadata": {},
   "source": [
    "## Train the Model and Predict Sale Quantities "
   ]
  },
  {
   "cell_type": "code",
   "execution_count": 251,
   "metadata": {},
   "outputs": [],
   "source": [
    "# import the ensemble models #\n",
    "from sklearn.ensemble import RandomForestRegressor,GradientBoostingRegressor\n",
    "from statsmodels.tools.eval_measures import mse,rmse"
   ]
  },
  {
   "cell_type": "code",
   "execution_count": 252,
   "metadata": {},
   "outputs": [],
   "source": [
    "rfmodel = RandomForestRegressor(n_estimators=100,random_state=101)"
   ]
  },
  {
   "cell_type": "code",
   "execution_count": 253,
   "metadata": {},
   "outputs": [
    {
     "data": {
      "text/plain": [
       "RandomForestRegressor(bootstrap=True, ccp_alpha=0.0, criterion='mse',\n",
       "                      max_depth=None, max_features='auto', max_leaf_nodes=None,\n",
       "                      max_samples=None, min_impurity_decrease=0.0,\n",
       "                      min_impurity_split=None, min_samples_leaf=1,\n",
       "                      min_samples_split=2, min_weight_fraction_leaf=0.0,\n",
       "                      n_estimators=100, n_jobs=None, oob_score=False,\n",
       "                      random_state=101, verbose=0, warm_start=False)"
      ]
     },
     "execution_count": 253,
     "metadata": {},
     "output_type": "execute_result"
    }
   ],
   "source": [
    "rfmodel.fit(X_train,y_train)"
   ]
  },
  {
   "cell_type": "code",
   "execution_count": 254,
   "metadata": {},
   "outputs": [],
   "source": [
    "rf_predictions = rfmodel.predict(X_test)"
   ]
  },
  {
   "cell_type": "code",
   "execution_count": 255,
   "metadata": {},
   "outputs": [
    {
     "name": "stdout",
     "output_type": "stream",
     "text": [
      "RMSE Random Forest Model = 0.17762\n"
     ]
    }
   ],
   "source": [
    "RF_RMSE = rmse(y_test['logvalue'],rf_predictions)\n",
    "print(f'RMSE Random Forest Model = {RF_RMSE:.5f}')"
   ]
  },
  {
   "cell_type": "code",
   "execution_count": 256,
   "metadata": {},
   "outputs": [],
   "source": [
    "gbmodel = GradientBoostingRegressor(n_estimators=100,random_state=101)"
   ]
  },
  {
   "cell_type": "code",
   "execution_count": 257,
   "metadata": {},
   "outputs": [
    {
     "data": {
      "text/plain": [
       "GradientBoostingRegressor(alpha=0.9, ccp_alpha=0.0, criterion='friedman_mse',\n",
       "                          init=None, learning_rate=0.1, loss='ls', max_depth=3,\n",
       "                          max_features=None, max_leaf_nodes=None,\n",
       "                          min_impurity_decrease=0.0, min_impurity_split=None,\n",
       "                          min_samples_leaf=1, min_samples_split=2,\n",
       "                          min_weight_fraction_leaf=0.0, n_estimators=100,\n",
       "                          n_iter_no_change=None, presort='deprecated',\n",
       "                          random_state=101, subsample=1.0, tol=0.0001,\n",
       "                          validation_fraction=0.1, verbose=0, warm_start=False)"
      ]
     },
     "execution_count": 257,
     "metadata": {},
     "output_type": "execute_result"
    }
   ],
   "source": [
    "gbmodel.fit(X_train,y_train)"
   ]
  },
  {
   "cell_type": "code",
   "execution_count": 258,
   "metadata": {},
   "outputs": [],
   "source": [
    "gb_predictions = gbmodel.predict(X_test)"
   ]
  },
  {
   "cell_type": "code",
   "execution_count": 259,
   "metadata": {},
   "outputs": [
    {
     "name": "stdout",
     "output_type": "stream",
     "text": [
      "RMSE Gradient Boosting Model = 0.17379\n"
     ]
    }
   ],
   "source": [
    "GB_RMSE = rmse(y_test['logvalue'],gb_predictions)\n",
    "print(f'RMSE Gradient Boosting Model = {GB_RMSE:.5f}')"
   ]
  },
  {
   "cell_type": "code",
   "execution_count": 260,
   "metadata": {},
   "outputs": [
    {
     "data": {
      "text/plain": [
       "count    765.000000\n",
       "mean       5.636280\n",
       "std        0.807299\n",
       "min        3.367296\n",
       "25%        5.043425\n",
       "50%        5.594711\n",
       "75%        6.333280\n",
       "max        7.359468\n",
       "Name: logvalue, dtype: float64"
      ]
     },
     "execution_count": 260,
     "metadata": {},
     "output_type": "execute_result"
    }
   ],
   "source": [
    "y_test['logvalue'].describe()"
   ]
  },
  {
   "cell_type": "markdown",
   "metadata": {},
   "source": [
    "## Cross Validation"
   ]
  },
  {
   "cell_type": "code",
   "execution_count": 261,
   "metadata": {},
   "outputs": [],
   "source": [
    "from sklearn.model_selection import cross_val_score"
   ]
  },
  {
   "cell_type": "code",
   "execution_count": 262,
   "metadata": {},
   "outputs": [
    {
     "data": {
      "text/plain": [
       "0.9561093598940056"
      ]
     },
     "execution_count": 262,
     "metadata": {},
     "output_type": "execute_result"
    }
   ],
   "source": [
    "gb_scores = cross_val_score(gbmodel, X_train, y_train, cv=10)\n",
    "gb_scores.mean()"
   ]
  },
  {
   "cell_type": "markdown",
   "metadata": {},
   "source": [
    "## Conclusion\n",
    "\n",
    "Against the log transformed sales quantities \n",
    "\n",
    "- RMSE using Random Forest Model = 0.17762\n",
    "- RMSE using Gradient Boost Model = 0.17379\n",
    "\n",
    "Cross Validation score (RMSE) using the Gradient Boosting model =  0.95610"
   ]
  },
  {
   "cell_type": "markdown",
   "metadata": {},
   "source": [
    "## Create Comparison Table"
   ]
  },
  {
   "cell_type": "code",
   "execution_count": 263,
   "metadata": {},
   "outputs": [],
   "source": [
    "# create a dataframe of actual values vs the predicted values #\n",
    "\n",
    "qsales_compare = pd.DataFrame({'StoreID':y_test['StoreID'],'ProductID':y_test['ProductID'],'SaleValues(log)':y_test['logvalue'],'Model Predictions':gb_predictions})"
   ]
  },
  {
   "cell_type": "code",
   "execution_count": 264,
   "metadata": {},
   "outputs": [
    {
     "data": {
      "text/html": [
       "<div>\n",
       "<style scoped>\n",
       "    .dataframe tbody tr th:only-of-type {\n",
       "        vertical-align: middle;\n",
       "    }\n",
       "\n",
       "    .dataframe tbody tr th {\n",
       "        vertical-align: top;\n",
       "    }\n",
       "\n",
       "    .dataframe thead th {\n",
       "        text-align: right;\n",
       "    }\n",
       "</style>\n",
       "<table border=\"1\" class=\"dataframe\">\n",
       "  <thead>\n",
       "    <tr style=\"text-align: right;\">\n",
       "      <th></th>\n",
       "      <th>StoreID</th>\n",
       "      <th>ProductID</th>\n",
       "      <th>SaleValues(log)</th>\n",
       "      <th>Model Predictions</th>\n",
       "    </tr>\n",
       "    <tr>\n",
       "      <th>time</th>\n",
       "      <th></th>\n",
       "      <th></th>\n",
       "      <th></th>\n",
       "      <th></th>\n",
       "    </tr>\n",
       "  </thead>\n",
       "  <tbody>\n",
       "    <tr>\n",
       "      <td>2013-01-05</td>\n",
       "      <td>1</td>\n",
       "      <td>2</td>\n",
       "      <td>5.313206</td>\n",
       "      <td>5.123745</td>\n",
       "    </tr>\n",
       "    <tr>\n",
       "      <td>2013-01-05</td>\n",
       "      <td>2</td>\n",
       "      <td>1</td>\n",
       "      <td>5.093750</td>\n",
       "      <td>5.105931</td>\n",
       "    </tr>\n",
       "    <tr>\n",
       "      <td>2013-01-05</td>\n",
       "      <td>3</td>\n",
       "      <td>1</td>\n",
       "      <td>3.610918</td>\n",
       "      <td>3.579991</td>\n",
       "    </tr>\n",
       "    <tr>\n",
       "      <td>2013-01-05</td>\n",
       "      <td>4</td>\n",
       "      <td>2</td>\n",
       "      <td>5.659482</td>\n",
       "      <td>5.779354</td>\n",
       "    </tr>\n",
       "    <tr>\n",
       "      <td>2013-01-05</td>\n",
       "      <td>5</td>\n",
       "      <td>1</td>\n",
       "      <td>4.634729</td>\n",
       "      <td>4.693193</td>\n",
       "    </tr>\n",
       "    <tr>\n",
       "      <td>...</td>\n",
       "      <td>...</td>\n",
       "      <td>...</td>\n",
       "      <td>...</td>\n",
       "      <td>...</td>\n",
       "    </tr>\n",
       "    <tr>\n",
       "      <td>2013-12-28</td>\n",
       "      <td>11</td>\n",
       "      <td>1</td>\n",
       "      <td>5.209486</td>\n",
       "      <td>5.134978</td>\n",
       "    </tr>\n",
       "    <tr>\n",
       "      <td>2013-12-28</td>\n",
       "      <td>12</td>\n",
       "      <td>1</td>\n",
       "      <td>7.293698</td>\n",
       "      <td>7.217706</td>\n",
       "    </tr>\n",
       "    <tr>\n",
       "      <td>2013-12-28</td>\n",
       "      <td>13</td>\n",
       "      <td>1</td>\n",
       "      <td>7.130099</td>\n",
       "      <td>7.014239</td>\n",
       "    </tr>\n",
       "    <tr>\n",
       "      <td>2013-12-28</td>\n",
       "      <td>14</td>\n",
       "      <td>1</td>\n",
       "      <td>6.543912</td>\n",
       "      <td>6.537957</td>\n",
       "    </tr>\n",
       "    <tr>\n",
       "      <td>2013-12-28</td>\n",
       "      <td>15</td>\n",
       "      <td>1</td>\n",
       "      <td>5.361292</td>\n",
       "      <td>5.338264</td>\n",
       "    </tr>\n",
       "  </tbody>\n",
       "</table>\n",
       "<p>765 rows × 4 columns</p>\n",
       "</div>"
      ],
      "text/plain": [
       "           StoreID ProductID  SaleValues(log)  Model Predictions\n",
       "time                                                            \n",
       "2013-01-05       1         2         5.313206           5.123745\n",
       "2013-01-05       2         1         5.093750           5.105931\n",
       "2013-01-05       3         1         3.610918           3.579991\n",
       "2013-01-05       4         2         5.659482           5.779354\n",
       "2013-01-05       5         1         4.634729           4.693193\n",
       "...            ...       ...              ...                ...\n",
       "2013-12-28      11         1         5.209486           5.134978\n",
       "2013-12-28      12         1         7.293698           7.217706\n",
       "2013-12-28      13         1         7.130099           7.014239\n",
       "2013-12-28      14         1         6.543912           6.537957\n",
       "2013-12-28      15         1         5.361292           5.338264\n",
       "\n",
       "[765 rows x 4 columns]"
      ]
     },
     "execution_count": 264,
     "metadata": {},
     "output_type": "execute_result"
    }
   ],
   "source": [
    "qsales_compare"
   ]
  },
  {
   "cell_type": "code",
   "execution_count": null,
   "metadata": {},
   "outputs": [],
   "source": []
  }
 ],
 "metadata": {
  "kernelspec": {
   "display_name": "Python 3",
   "language": "python",
   "name": "python3"
  },
  "language_info": {
   "codemirror_mode": {
    "name": "ipython",
    "version": 3
   },
   "file_extension": ".py",
   "mimetype": "text/x-python",
   "name": "python",
   "nbconvert_exporter": "python",
   "pygments_lexer": "ipython3",
   "version": "3.6.8"
  },
  "toc": {
   "base_numbering": 1,
   "nav_menu": {},
   "number_sections": true,
   "sideBar": true,
   "skip_h1_title": false,
   "title_cell": "Table of Contents",
   "title_sidebar": "Contents",
   "toc_cell": false,
   "toc_position": {},
   "toc_section_display": true,
   "toc_window_display": false
  }
 },
 "nbformat": 4,
 "nbformat_minor": 2
}
