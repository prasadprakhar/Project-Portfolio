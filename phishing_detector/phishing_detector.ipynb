{
 "cells": [
  {
   "cell_type": "markdown",
   "metadata": {},
   "source": [
    "# _Phishing Detector with Logistic Regression_\n",
    "***\n",
    "<b>DESCRIPTION</b>\n",
    "\n",
    "<b>Background of Problem Statement :</b>\n",
    "\n",
    "You are expected to write the code for a binary classification model (phishing website or not) using Python Scikit-Learn that trains on the data and calculates the accuracy score on the test data. You have to use one or more of the classification algorithms to train a model on the phishing website dataset.\n",
    "\n",
    "<b>Problem Objective :</b>\n",
    "\n",
    "The dataset is a text file which provides the following resources that can be used as inputs for model building :\n",
    "\n",
    " A collection of website URLs for 11000+ websites. Each sample has 30 website parameters and a class label identifying it as a phishing website or not (1 or -1).\n",
    "The code template containing these code blocks:\n",
    "Import modules (Part 1)\n",
    "Load data function + input/output field descriptions\n",
    "The dataset also serves as an input for project scoping and tries to specify the functional and non-functional requirements for it.\n",
    "\n",
    "<b>Domain: Cyber Security and Web Mining</b>\n",
    "\n",
    "<b>Questions to be answered with analysis :</b>\n",
    "\n",
    "Write the code for a binary classification model (phishing website or not) using Python Scikit-Learn that trains on the data and calculates the accuracy score on the test data.\n",
    "Use one or more of the classification algorithms to train a model on the phishing website dataset.\n",
    "Analysis Tasks to be performed:\n",
    "\n",
    "<b>Initiation :</b>\n",
    "Begin by creating a new ipynb file and load the dataset in it.\n",
    "\n",
    "\n",
    "<b>Exercise 1 :</b>\n",
    "Build a phishing website classifier using Logistic Regression with “C” parameter = 100. \n",
    "Use 70% of data as training data and the remaining 30% as test data.                                                                                                                                                                          [ Hint: Use Scikit-Learn library LogisticRegression ]                                                                                                                                                                                                    [ Hint: Refer to the logistic regression tutorial taught earlier in the course ]\n",
    "Print count of misclassified samples in the test data prediction as well as the accuracy score of the model. \n",
    " \n",
    "\n",
    "<b>Exercise 2 :</b>\n",
    "Train with only two input parameters - parameter Prefix_Suffix and 13 URL_of_Anchor.\n",
    "Check accuracy using the test data and compare the accuracy with the previous value.\n",
    "Plot the test samples along with the decision boundary when trained with index 5 and index 13 parameters."
   ]
  },
  {
   "cell_type": "code",
   "execution_count": 1,
   "metadata": {},
   "outputs": [],
   "source": [
    "#Ensure the right versions and environment are being used\n",
    "import sys\n",
    "assert sys.version_info >= (3,5)\n",
    "\n",
    "import sklearn\n",
    "assert sklearn.__version__ >= '0.20'"
   ]
  },
  {
   "cell_type": "code",
   "execution_count": 2,
   "metadata": {},
   "outputs": [],
   "source": [
    "#commmon imports\n",
    "import pandas as pd\n",
    "import numpy as np\n",
    "\n",
    "#visualizations\n",
    "import matplotlib.pyplot as plt\n",
    "import seaborn as sns\n",
    "%matplotlib inline\n",
    "\n",
    "#consistent sized plots\n",
    "from pylab import rcParams\n",
    "rcParams['figure.figsize']=12,5\n",
    "rcParams['axes.labelsize']= 12\n",
    "rcParams['xtick.labelsize']=12\n",
    "rcParams['ytick.labelsize']=12\n",
    "\n",
    "#handle unwanted warnings\n",
    "import warnings\n",
    "warnings.filterwarnings(action='ignore',category=DeprecationWarning)\n",
    "warnings.filterwarnings(action='ignore',category=FutureWarning)"
   ]
  },
  {
   "cell_type": "code",
   "execution_count": 3,
   "metadata": {},
   "outputs": [
    {
     "name": "stdout",
     "output_type": "stream",
     "text": [
      "['-1,1,1,1,-1,-1,-1,-1,-1,1,1,-1,1,-1,1,-1,-1,-1,0,1,1,1,1,-1,-1,-1,-1,1,1,-1,-1\\n', '1,1,1,1,1,-1,0,1,-1,1,1,-1,1,0,-1,-1,1,1,0,1,1,1,1,-1,-1,0,-1,1,1,1,-1\\n', '1,0,1,1,1,-1,-1,-1,-1,1,1,-1,1,0,-1,-1,-1,-1,0,1,1,1,1,1,-1,1,-1,1,0,-1,-1\\n', '1,0,1,1,1,-1,-1,-1,1,1,1,-1,-1,0,0,-1,1,1,0,1,1,1,1,-1,-1,1,-1,1,-1,1,-1\\n', '1,0,-1,1,1,-1,1,1,-1,1,1,1,1,0,0,-1,1,1,0,-1,1,-1,1,-1,-1,0,-1,1,1,1,1\\n']\n"
     ]
    }
   ],
   "source": [
    "#read the input files \n",
    "with open('phishing.txt') as file:\n",
    "    text = file.readlines()\n",
    "    print(text[:5])\n"
   ]
  },
  {
   "cell_type": "markdown",
   "metadata": {},
   "source": [
    "_So the file does not contain any headers but only the features. As per the problem definition, the header list is given as a separate list_"
   ]
  },
  {
   "cell_type": "code",
   "execution_count": 4,
   "metadata": {},
   "outputs": [],
   "source": [
    "#create a list of columns\n",
    "columns = [ 'UsingIP', 'LongURL', 'ShortURL', 'Symbol@', 'Redirecting//',\n",
    "           'PrefixSuffix-', 'SubDomains', 'HTTPS', 'DomainRegLen', 'Favicon',\n",
    "           'NonStdPort', 'HTTPSDomainURL', 'RequestURL', 'AnchorURL',\n",
    "           'LinksInScriptTags', 'ServerFormHandler', 'InfoEmail', 'AbnormalURL',\n",
    "           'WebsiteForwarding', 'StatusBarCust', 'DisableRightClick',\n",
    "           'UsingPopupWindow', 'IframeRedirection', 'AgeofDomain',\n",
    "           'DNSRecording', 'WebsiteTraffic', 'PageRank', 'GoogleIndex',\n",
    "           'LinksPointingToPage', 'StatsReport', 'class' ]"
   ]
  },
  {
   "cell_type": "code",
   "execution_count": 5,
   "metadata": {},
   "outputs": [],
   "source": [
    "#read the file contents and convert to a dataframe\n",
    "site = pd.read_csv('phishing.txt',names=columns,delimiter=',',engine='python')"
   ]
  },
  {
   "cell_type": "code",
   "execution_count": 6,
   "metadata": {},
   "outputs": [
    {
     "data": {
      "text/html": [
       "<div>\n",
       "<style scoped>\n",
       "    .dataframe tbody tr th:only-of-type {\n",
       "        vertical-align: middle;\n",
       "    }\n",
       "\n",
       "    .dataframe tbody tr th {\n",
       "        vertical-align: top;\n",
       "    }\n",
       "\n",
       "    .dataframe thead th {\n",
       "        text-align: right;\n",
       "    }\n",
       "</style>\n",
       "<table border=\"1\" class=\"dataframe\">\n",
       "  <thead>\n",
       "    <tr style=\"text-align: right;\">\n",
       "      <th></th>\n",
       "      <th>UsingIP</th>\n",
       "      <th>LongURL</th>\n",
       "      <th>ShortURL</th>\n",
       "      <th>Symbol@</th>\n",
       "      <th>Redirecting//</th>\n",
       "      <th>PrefixSuffix-</th>\n",
       "      <th>SubDomains</th>\n",
       "      <th>HTTPS</th>\n",
       "      <th>DomainRegLen</th>\n",
       "      <th>Favicon</th>\n",
       "      <th>...</th>\n",
       "      <th>UsingPopupWindow</th>\n",
       "      <th>IframeRedirection</th>\n",
       "      <th>AgeofDomain</th>\n",
       "      <th>DNSRecording</th>\n",
       "      <th>WebsiteTraffic</th>\n",
       "      <th>PageRank</th>\n",
       "      <th>GoogleIndex</th>\n",
       "      <th>LinksPointingToPage</th>\n",
       "      <th>StatsReport</th>\n",
       "      <th>class</th>\n",
       "    </tr>\n",
       "  </thead>\n",
       "  <tbody>\n",
       "    <tr>\n",
       "      <th>0</th>\n",
       "      <td>-1</td>\n",
       "      <td>1</td>\n",
       "      <td>1</td>\n",
       "      <td>1</td>\n",
       "      <td>-1</td>\n",
       "      <td>-1</td>\n",
       "      <td>-1</td>\n",
       "      <td>-1</td>\n",
       "      <td>-1</td>\n",
       "      <td>1</td>\n",
       "      <td>...</td>\n",
       "      <td>1</td>\n",
       "      <td>1</td>\n",
       "      <td>-1</td>\n",
       "      <td>-1</td>\n",
       "      <td>-1</td>\n",
       "      <td>-1</td>\n",
       "      <td>1</td>\n",
       "      <td>1</td>\n",
       "      <td>-1</td>\n",
       "      <td>-1</td>\n",
       "    </tr>\n",
       "    <tr>\n",
       "      <th>1</th>\n",
       "      <td>1</td>\n",
       "      <td>1</td>\n",
       "      <td>1</td>\n",
       "      <td>1</td>\n",
       "      <td>1</td>\n",
       "      <td>-1</td>\n",
       "      <td>0</td>\n",
       "      <td>1</td>\n",
       "      <td>-1</td>\n",
       "      <td>1</td>\n",
       "      <td>...</td>\n",
       "      <td>1</td>\n",
       "      <td>1</td>\n",
       "      <td>-1</td>\n",
       "      <td>-1</td>\n",
       "      <td>0</td>\n",
       "      <td>-1</td>\n",
       "      <td>1</td>\n",
       "      <td>1</td>\n",
       "      <td>1</td>\n",
       "      <td>-1</td>\n",
       "    </tr>\n",
       "  </tbody>\n",
       "</table>\n",
       "<p>2 rows × 31 columns</p>\n",
       "</div>"
      ],
      "text/plain": [
       "   UsingIP  LongURL  ShortURL  Symbol@  Redirecting//  PrefixSuffix-  \\\n",
       "0       -1        1         1        1             -1             -1   \n",
       "1        1        1         1        1              1             -1   \n",
       "\n",
       "   SubDomains  HTTPS  DomainRegLen  Favicon  ...  UsingPopupWindow  \\\n",
       "0          -1     -1            -1        1  ...                 1   \n",
       "1           0      1            -1        1  ...                 1   \n",
       "\n",
       "   IframeRedirection  AgeofDomain  DNSRecording  WebsiteTraffic  PageRank  \\\n",
       "0                  1           -1            -1              -1        -1   \n",
       "1                  1           -1            -1               0        -1   \n",
       "\n",
       "   GoogleIndex  LinksPointingToPage  StatsReport  class  \n",
       "0            1                    1           -1     -1  \n",
       "1            1                    1            1     -1  \n",
       "\n",
       "[2 rows x 31 columns]"
      ]
     },
     "execution_count": 6,
     "metadata": {},
     "output_type": "execute_result"
    }
   ],
   "source": [
    "site.head(2)"
   ]
  },
  {
   "cell_type": "code",
   "execution_count": 7,
   "metadata": {},
   "outputs": [
    {
     "name": "stdout",
     "output_type": "stream",
     "text": [
      "<class 'pandas.core.frame.DataFrame'>\n",
      "RangeIndex: 11055 entries, 0 to 11054\n",
      "Data columns (total 31 columns):\n",
      " #   Column               Non-Null Count  Dtype\n",
      "---  ------               --------------  -----\n",
      " 0   UsingIP              11055 non-null  int64\n",
      " 1   LongURL              11055 non-null  int64\n",
      " 2   ShortURL             11055 non-null  int64\n",
      " 3   Symbol@              11055 non-null  int64\n",
      " 4   Redirecting//        11055 non-null  int64\n",
      " 5   PrefixSuffix-        11055 non-null  int64\n",
      " 6   SubDomains           11055 non-null  int64\n",
      " 7   HTTPS                11055 non-null  int64\n",
      " 8   DomainRegLen         11055 non-null  int64\n",
      " 9   Favicon              11055 non-null  int64\n",
      " 10  NonStdPort           11055 non-null  int64\n",
      " 11  HTTPSDomainURL       11055 non-null  int64\n",
      " 12  RequestURL           11055 non-null  int64\n",
      " 13  AnchorURL            11055 non-null  int64\n",
      " 14  LinksInScriptTags    11055 non-null  int64\n",
      " 15  ServerFormHandler    11055 non-null  int64\n",
      " 16  InfoEmail            11055 non-null  int64\n",
      " 17  AbnormalURL          11055 non-null  int64\n",
      " 18  WebsiteForwarding    11055 non-null  int64\n",
      " 19  StatusBarCust        11055 non-null  int64\n",
      " 20  DisableRightClick    11055 non-null  int64\n",
      " 21  UsingPopupWindow     11055 non-null  int64\n",
      " 22  IframeRedirection    11055 non-null  int64\n",
      " 23  AgeofDomain          11055 non-null  int64\n",
      " 24  DNSRecording         11055 non-null  int64\n",
      " 25  WebsiteTraffic       11055 non-null  int64\n",
      " 26  PageRank             11055 non-null  int64\n",
      " 27  GoogleIndex          11055 non-null  int64\n",
      " 28  LinksPointingToPage  11055 non-null  int64\n",
      " 29  StatsReport          11055 non-null  int64\n",
      " 30  class                11055 non-null  int64\n",
      "dtypes: int64(31)\n",
      "memory usage: 2.6 MB\n"
     ]
    }
   ],
   "source": [
    "#check info .. \n",
    "site.info()"
   ]
  },
  {
   "cell_type": "markdown",
   "metadata": {},
   "source": [
    "_All the features are of integer data type and there are no null values in the dataset. It can be confirmed explicitly as well_"
   ]
  },
  {
   "cell_type": "code",
   "execution_count": 8,
   "metadata": {},
   "outputs": [
    {
     "data": {
      "text/plain": [
       "UsingIP                0\n",
       "LongURL                0\n",
       "ShortURL               0\n",
       "Symbol@                0\n",
       "Redirecting//          0\n",
       "PrefixSuffix-          0\n",
       "SubDomains             0\n",
       "HTTPS                  0\n",
       "DomainRegLen           0\n",
       "Favicon                0\n",
       "NonStdPort             0\n",
       "HTTPSDomainURL         0\n",
       "RequestURL             0\n",
       "AnchorURL              0\n",
       "LinksInScriptTags      0\n",
       "ServerFormHandler      0\n",
       "InfoEmail              0\n",
       "AbnormalURL            0\n",
       "WebsiteForwarding      0\n",
       "StatusBarCust          0\n",
       "DisableRightClick      0\n",
       "UsingPopupWindow       0\n",
       "IframeRedirection      0\n",
       "AgeofDomain            0\n",
       "DNSRecording           0\n",
       "WebsiteTraffic         0\n",
       "PageRank               0\n",
       "GoogleIndex            0\n",
       "LinksPointingToPage    0\n",
       "StatsReport            0\n",
       "class                  0\n",
       "dtype: int64"
      ]
     },
     "execution_count": 8,
     "metadata": {},
     "output_type": "execute_result"
    }
   ],
   "source": [
    "#check for null values\n",
    "site.isna().sum()"
   ]
  },
  {
   "cell_type": "code",
   "execution_count": 9,
   "metadata": {},
   "outputs": [
    {
     "data": {
      "image/png": "[encoded data removed]",
      "text/plain": [
       "<Figure size 864x360 with 1 Axes>"
      ]
     },
     "metadata": {
      "needs_background": "light"
     },
     "output_type": "display_data"
    }
   ],
   "source": [
    "#check for class \n",
    "sns.countplot(site['class'])\n",
    "plt.title('Plot of Count of Phishing Class')\n",
    "plt.show()"
   ]
  },
  {
   "cell_type": "markdown",
   "metadata": {},
   "source": [
    "_The dataset is evenly balanced with respect to whether the website is a phishing website or a non fishing website. Still splitting the data to have a similar representative in train and test set would be a better approach for modeling_"
   ]
  },
  {
   "cell_type": "code",
   "execution_count": 10,
   "metadata": {},
   "outputs": [
    {
     "name": "stdout",
     "output_type": "stream",
     "text": [
      "UsingIP, VAR:0.9\n",
      "LongURL, VAR:0.59\n",
      "ShortURL, VAR:0.45\n",
      "Symbol@, VAR:0.51\n",
      "Redirecting//, VAR:0.45\n",
      "PrefixSuffix-, VAR:0.46\n",
      "SubDomains, VAR:0.67\n",
      "HTTPS, VAR:0.83\n",
      "DomainRegLen, VAR:0.89\n",
      "Favicon, VAR:0.6\n",
      "NonStdPort, VAR:0.47\n",
      "HTTPSDomainURL, VAR:0.54\n",
      "RequestURL, VAR:0.97\n",
      "AnchorURL, VAR:0.51\n",
      "LinksInScriptTags, VAR:0.58\n",
      "ServerFormHandler, VAR:0.58\n",
      "InfoEmail, VAR:0.6\n",
      "AbnormalURL, VAR:0.5\n",
      "WebsiteForwarding, VAR:0.1\n",
      "StatusBarCust, VAR:0.42\n",
      "DisableRightClick, VAR:0.16\n",
      "UsingPopupWindow, VAR:0.62\n",
      "IframeRedirection, VAR:0.33\n",
      "AgeofDomain, VAR:1.0\n",
      "DNSRecording, VAR:0.86\n",
      "WebsiteTraffic, VAR:0.69\n",
      "PageRank, VAR:0.77\n",
      "GoogleIndex, VAR:0.48\n",
      "LinksPointingToPage, VAR:0.32\n",
      "StatsReport, VAR:0.48\n",
      "class, VAR:0.99\n",
      "Columns to be removed are []\n"
     ]
    }
   ],
   "source": [
    "#check the variance of all the features .. \n",
    "import statistics\n",
    "rem_col = []\n",
    "for col in site.columns:\n",
    "    var = statistics.variance(site[col])\n",
    "    if var == 0:\n",
    "        print(f'{col} has 0 variance and should be removed.')\n",
    "        rem_col.append(col)\n",
    "    else:\n",
    "        print(f'{col}, VAR:{round(var,2)}')\n",
    "        continue\n",
    "print(f'Columns to be removed are {rem_col}')"
   ]
  },
  {
   "cell_type": "markdown",
   "metadata": {},
   "source": [
    "_There are no features which have zero variance and at first glance there is no need to directly drop any of the features. The variance of all the features are quite signinficant except for website forwarding and disable right click features_"
   ]
  },
  {
   "cell_type": "code",
   "execution_count": 11,
   "metadata": {},
   "outputs": [
    {
     "data": {
      "text/plain": [
       "class                  1.000000\n",
       "HTTPS                  0.735814\n",
       "AnchorURL              0.701207\n",
       "WebsiteTraffic         0.365118\n",
       "PrefixSuffix-          0.348606\n",
       "SubDomains             0.304692\n",
       "RequestURL             0.253372\n",
       "LinksInScriptTags      0.250711\n",
       "ServerFormHandler      0.219190\n",
       "GoogleIndex            0.128950\n",
       "AgeofDomain            0.121496\n",
       "PageRank               0.104645\n",
       "UsingIP                0.094160\n",
       "StatsReport            0.079857\n",
       "DNSRecording           0.075718\n",
       "LongURL                0.053332\n",
       "Symbol@                0.052948\n",
       "StatusBarCust          0.041838\n",
       "LinksPointingToPage    0.041085\n",
       "NonStdPort             0.036419\n",
       "InfoEmail              0.018249\n",
       "DisableRightClick      0.012653\n",
       "UsingPopupWindow       0.000086\n",
       "Favicon               -0.000280\n",
       "IframeRedirection     -0.003394\n",
       "WebsiteForwarding     -0.020113\n",
       "Redirecting//         -0.038608\n",
       "HTTPSDomainURL        -0.039854\n",
       "AbnormalURL           -0.060488\n",
       "ShortURL              -0.067966\n",
       "DomainRegLen          -0.225789\n",
       "Name: class, dtype: float64"
      ]
     },
     "execution_count": 11,
     "metadata": {},
     "output_type": "execute_result"
    }
   ],
   "source": [
    "#check for correlation\n",
    "site.corr(method='spearman')['class'].sort_values(ascending=False)"
   ]
  },
  {
   "cell_type": "markdown",
   "metadata": {},
   "source": [
    "_using popup window has the least correlation (near zero) with the class of the website. At the same time there are many features which have less than 10% correlation with the target variable class_"
   ]
  },
  {
   "cell_type": "code",
   "execution_count": 12,
   "metadata": {},
   "outputs": [
    {
     "data": {
      "image/png": "[encoded data removed]",
      "text/plain": [
       "<Figure size 1080x360 with 2 Axes>"
      ]
     },
     "metadata": {
      "needs_background": "light"
     },
     "output_type": "display_data"
    }
   ],
   "source": [
    "#correlation heatmap\n",
    "plt.figure(figsize=(15,5))\n",
    "sns.heatmap(site.corr(),cmap=plt.get_cmap('jet'))\n",
    "plt.title('Plot of Correlation Heatmap')\n",
    "plt.show()"
   ]
  },
  {
   "cell_type": "markdown",
   "metadata": {},
   "source": [
    "_There does not appear to be too high multicollinearity between the features. These can be handled by dimensionality reduction techniques like PCA, Kernel PCA or Incremental PCA. for example redirection and domain seems to have high correlation_"
   ]
  },
  {
   "cell_type": "code",
   "execution_count": 13,
   "metadata": {},
   "outputs": [
    {
     "data": {
      "image/png": "[encoded data removed]",
      "text/plain": [
       "<Figure size 864x360 with 1 Axes>"
      ]
     },
     "metadata": {
      "needs_background": "light"
     },
     "output_type": "display_data"
    }
   ],
   "source": [
    "#check for class \n",
    "sns.countplot(site['class'],hue=site['AnchorURL'])\n",
    "plt.title('Plot of Count of Phishing Class')\n",
    "plt.show()"
   ]
  },
  {
   "cell_type": "markdown",
   "metadata": {},
   "source": [
    "_when the anchor url is -1, there is a very high likelihood that the site class is -1. Similarly, when the anchor url is 0 then there is higher probability that the site class is 1_"
   ]
  },
  {
   "cell_type": "code",
   "execution_count": 14,
   "metadata": {},
   "outputs": [
    {
     "name": "stdout",
     "output_type": "stream",
     "text": [
      "Features with less than 20% correlation:\n",
      " ['UsingIP', 'LongURL', 'ShortURL', 'Symbol@', 'Redirecting//', 'Favicon', 'NonStdPort', 'HTTPSDomainURL', 'InfoEmail', 'AbnormalURL', 'WebsiteForwarding', 'StatusBarCust', 'DisableRightClick', 'UsingPopupWindow', 'IframeRedirection', 'AgeofDomain', 'DNSRecording', 'PageRank', 'GoogleIndex', 'LinksPointingToPage', 'StatsReport']\n"
     ]
    }
   ],
   "source": [
    "#list the features where the correlation with class is less than 20% \n",
    "drop_features = []\n",
    "for col in site.columns:\n",
    "    corr = abs(site[col].corr(site['class']))\n",
    "    if corr < 0.20:\n",
    "        drop_features.append(col)\n",
    "    else:\n",
    "        continue\n",
    "print('Features with less than 20% correlation:\\n {}'.format(drop_features))        "
   ]
  },
  {
   "cell_type": "code",
   "execution_count": 15,
   "metadata": {},
   "outputs": [],
   "source": [
    "#drop the less correlated features from the dataset\n",
    "site.drop(drop_features,axis=1,inplace=True)"
   ]
  },
  {
   "cell_type": "code",
   "execution_count": 16,
   "metadata": {},
   "outputs": [
    {
     "data": {
      "text/html": [
       "<div>\n",
       "<style scoped>\n",
       "    .dataframe tbody tr th:only-of-type {\n",
       "        vertical-align: middle;\n",
       "    }\n",
       "\n",
       "    .dataframe tbody tr th {\n",
       "        vertical-align: top;\n",
       "    }\n",
       "\n",
       "    .dataframe thead th {\n",
       "        text-align: right;\n",
       "    }\n",
       "</style>\n",
       "<table border=\"1\" class=\"dataframe\">\n",
       "  <thead>\n",
       "    <tr style=\"text-align: right;\">\n",
       "      <th></th>\n",
       "      <th>PrefixSuffix-</th>\n",
       "      <th>SubDomains</th>\n",
       "      <th>HTTPS</th>\n",
       "      <th>DomainRegLen</th>\n",
       "      <th>RequestURL</th>\n",
       "      <th>AnchorURL</th>\n",
       "      <th>LinksInScriptTags</th>\n",
       "      <th>ServerFormHandler</th>\n",
       "      <th>WebsiteTraffic</th>\n",
       "      <th>class</th>\n",
       "    </tr>\n",
       "  </thead>\n",
       "  <tbody>\n",
       "    <tr>\n",
       "      <th>0</th>\n",
       "      <td>-1</td>\n",
       "      <td>-1</td>\n",
       "      <td>-1</td>\n",
       "      <td>-1</td>\n",
       "      <td>1</td>\n",
       "      <td>-1</td>\n",
       "      <td>1</td>\n",
       "      <td>-1</td>\n",
       "      <td>-1</td>\n",
       "      <td>-1</td>\n",
       "    </tr>\n",
       "    <tr>\n",
       "      <th>1</th>\n",
       "      <td>-1</td>\n",
       "      <td>0</td>\n",
       "      <td>1</td>\n",
       "      <td>-1</td>\n",
       "      <td>1</td>\n",
       "      <td>0</td>\n",
       "      <td>-1</td>\n",
       "      <td>-1</td>\n",
       "      <td>0</td>\n",
       "      <td>-1</td>\n",
       "    </tr>\n",
       "  </tbody>\n",
       "</table>\n",
       "</div>"
      ],
      "text/plain": [
       "   PrefixSuffix-  SubDomains  HTTPS  DomainRegLen  RequestURL  AnchorURL  \\\n",
       "0             -1          -1     -1            -1           1         -1   \n",
       "1             -1           0      1            -1           1          0   \n",
       "\n",
       "   LinksInScriptTags  ServerFormHandler  WebsiteTraffic  class  \n",
       "0                  1                 -1              -1     -1  \n",
       "1                 -1                 -1               0     -1  "
      ]
     },
     "execution_count": 16,
     "metadata": {},
     "output_type": "execute_result"
    }
   ],
   "source": [
    "site.head(2)"
   ]
  },
  {
   "cell_type": "code",
   "execution_count": 17,
   "metadata": {},
   "outputs": [
    {
     "data": {
      "text/plain": [
       "PrefixSuffix-        0.348606\n",
       "SubDomains           0.298323\n",
       "HTTPS                0.714741\n",
       "DomainRegLen        -0.225789\n",
       "RequestURL           0.253372\n",
       "AnchorURL            0.692935\n",
       "LinksInScriptTags    0.248229\n",
       "ServerFormHandler    0.221419\n",
       "WebsiteTraffic       0.346103\n",
       "class                1.000000\n",
       "Name: class, dtype: float64"
      ]
     },
     "execution_count": 17,
     "metadata": {},
     "output_type": "execute_result"
    }
   ],
   "source": [
    "site.corr()['class']"
   ]
  },
  {
   "cell_type": "code",
   "execution_count": 18,
   "metadata": {},
   "outputs": [
    {
     "name": "stdout",
     "output_type": "stream",
     "text": [
      "<class 'pandas.core.frame.DataFrame'>\n",
      "RangeIndex: 11055 entries, 0 to 11054\n",
      "Data columns (total 10 columns):\n",
      " #   Column             Non-Null Count  Dtype\n",
      "---  ------             --------------  -----\n",
      " 0   PrefixSuffix-      11055 non-null  int64\n",
      " 1   SubDomains         11055 non-null  int64\n",
      " 2   HTTPS              11055 non-null  int64\n",
      " 3   DomainRegLen       11055 non-null  int64\n",
      " 4   RequestURL         11055 non-null  int64\n",
      " 5   AnchorURL          11055 non-null  int64\n",
      " 6   LinksInScriptTags  11055 non-null  int64\n",
      " 7   ServerFormHandler  11055 non-null  int64\n",
      " 8   WebsiteTraffic     11055 non-null  int64\n",
      " 9   class              11055 non-null  int64\n",
      "dtypes: int64(10)\n",
      "memory usage: 863.8 KB\n"
     ]
    }
   ],
   "source": [
    "site.info()"
   ]
  },
  {
   "cell_type": "markdown",
   "metadata": {},
   "source": [
    "_The number of features has rediced drastically from 30 feature columns to only 9 features_"
   ]
  },
  {
   "cell_type": "markdown",
   "metadata": {},
   "source": [
    "## _Split the dataset_"
   ]
  },
  {
   "cell_type": "code",
   "execution_count": 19,
   "metadata": {},
   "outputs": [],
   "source": [
    "#import libraries\n",
    "from sklearn.model_selection import train_test_split\n",
    "seed = 42\n",
    "size = 0.30\n",
    "train_set,test_set = train_test_split(site,random_state=seed,test_size=size,stratify=site['class'])"
   ]
  },
  {
   "cell_type": "code",
   "execution_count": 20,
   "metadata": {},
   "outputs": [
    {
     "data": {
      "text/plain": [
       "((7738, 10), (3317, 10))"
      ]
     },
     "execution_count": 20,
     "metadata": {},
     "output_type": "execute_result"
    }
   ],
   "source": [
    "train_set.shape, test_set.shape"
   ]
  },
  {
   "cell_type": "code",
   "execution_count": 21,
   "metadata": {},
   "outputs": [],
   "source": [
    "#create the X_train and X_test \n",
    "X_train = train_set.drop('class',axis=1)\n",
    "y_train = train_set['class']\n",
    "\n",
    "X_test = test_set.drop('class',axis=1)\n",
    "y_test = test_set['class']"
   ]
  },
  {
   "cell_type": "markdown",
   "metadata": {},
   "source": [
    "## _Data Preparation for Modeling_"
   ]
  },
  {
   "cell_type": "code",
   "execution_count": 22,
   "metadata": {},
   "outputs": [],
   "source": [
    "#Power transformation of the input features\n",
    "from sklearn.preprocessing import PowerTransformer\n",
    "pt = PowerTransformer()\n",
    "X_train = pt.fit_transform(X_train)\n",
    "X_test = pt.transform(X_test)"
   ]
  },
  {
   "cell_type": "code",
   "execution_count": 23,
   "metadata": {},
   "outputs": [],
   "source": [
    "#scale the input features \n",
    "from sklearn.preprocessing import StandardScaler\n",
    "scaler = StandardScaler()\n",
    "X_train = scaler.fit_transform(X_train)\n",
    "X_test = scaler.transform(X_test)"
   ]
  },
  {
   "cell_type": "markdown",
   "metadata": {},
   "source": [
    "_As a number of features have been dropped already, first build the model using all the features. Depending on the performance metric, dimensionality reduction can also be applied which may or may not improve the model score_"
   ]
  },
  {
   "cell_type": "markdown",
   "metadata": {},
   "source": [
    "## _Modeling_"
   ]
  },
  {
   "cell_type": "code",
   "execution_count": 24,
   "metadata": {},
   "outputs": [],
   "source": [
    "#import the libraries\n",
    "from sklearn.linear_model import LogisticRegression\n",
    "from sklearn.naive_bayes import MultinomialNB\n",
    "from sklearn.tree import DecisionTreeClassifier\n",
    "from sklearn.svm import SVC\n",
    "from sklearn.ensemble import RandomForestClassifier\n",
    "from sklearn.ensemble import GradientBoostingClassifier\n",
    "from xgboost import XGBRFClassifier\n",
    "\n",
    "from sklearn.model_selection import RepeatedStratifiedKFold\n",
    "from sklearn.model_selection import cross_val_score\n",
    "from sklearn.model_selection import cross_val_predict"
   ]
  },
  {
   "cell_type": "code",
   "execution_count": 25,
   "metadata": {},
   "outputs": [],
   "source": [
    "#define a function to run cross validation across models \n",
    "def cross_validate(X = X_train,y = y_train):\n",
    "    '''This function will run cross validation on multiple models and will print the mean RMSE\n",
    "       score and the standard deviation.'''\n",
    "    \n",
    "    seed = 42\n",
    "    warnings.filterwarnings(action='ignore',message='')\n",
    "\n",
    "    models = []\n",
    "    models.append(('Logistic Regression',LogisticRegression(C=100.0)))\n",
    "    models.append(('Naive Bayes',MultinomialNB()))\n",
    "    models.append(('Decision Tree Classifier',DecisionTreeClassifier()))\n",
    "    models.append(('SVM Classifier',SVC()))\n",
    "    models.append(('Random Forest',RandomForestClassifier()))\n",
    "    models.append(('Gradient Boost',GradientBoostingClassifier()))\n",
    "    models.append(('XGBoost Classifier',XGBRFClassifier()))\n",
    "        \n",
    "    results = []\n",
    "    names = []\n",
    "    scoring ='accuracy'\n",
    "\n",
    "    for name,model in models:        \n",
    "        kfold = RepeatedStratifiedKFold(n_splits=10,random_state=seed,n_repeats=10)\n",
    "        cv_results = cross_val_score(model,X,y,cv=kfold,scoring=scoring)\n",
    "        print (f' Model: {name} ,Accuracy:{(np.mean(cv_results))}') "
   ]
  },
  {
   "cell_type": "code",
   "execution_count": null,
   "metadata": {},
   "outputs": [
    {
     "name": "stdout",
     "output_type": "stream",
     "text": [
      " Model: Logistic Regression ,Accuracy:0.9217109753936975\n",
      " Model: Naive Bayes ,Accuracy:nan\n",
      " Model: Decision Tree Classifier ,Accuracy:0.938886298223974\n",
      " Model: SVM Classifier ,Accuracy:0.9327341208954675\n",
      " Model: Random Forest ,Accuracy:0.9403078044198413\n",
      " Model: Gradient Boost ,Accuracy:0.9380586559964699\n"
     ]
    }
   ],
   "source": [
    "#check the accuracy across the different models using cross validation\n",
    "cross_validate(X_train,y_train)"
   ]
  },
  {
   "cell_type": "markdown",
   "metadata": {},
   "source": [
    "_Based on cross validation score on accuracy, Random Forest Model has the highest accuracy. The simple linear model Logistic Regression also has a decent accuracy of over 92%. As part of the excercise description, further training and model tuning is to be done with Logistic Regression._"
   ]
  },
  {
   "cell_type": "code",
   "execution_count": null,
   "metadata": {},
   "outputs": [],
   "source": [
    "#selected models -- > Logistic Regression as per the assignment instruction \n",
    "model_1 = LogisticRegression(C=100.0,random_state=seed)"
   ]
  },
  {
   "cell_type": "code",
   "execution_count": null,
   "metadata": {},
   "outputs": [],
   "source": [
    "#train and predict with logistic regression\n",
    "model_1.fit(X_train,y_train)\n",
    "train_predict = model_1.predict(X_train)\n",
    "test_predict = model_1.predict(X_test)"
   ]
  },
  {
   "cell_type": "code",
   "execution_count": null,
   "metadata": {},
   "outputs": [],
   "source": [
    "#performance metrics\n",
    "from sklearn.metrics import accuracy_score\n",
    "from sklearn.metrics import classification_report\n",
    "from sklearn.metrics import plot_confusion_matrix\n",
    "from sklearn.metrics import recall_score\n",
    "from sklearn.metrics import precision_score\n",
    "from sklearn.metrics import confusion_matrix"
   ]
  },
  {
   "cell_type": "code",
   "execution_count": null,
   "metadata": {},
   "outputs": [],
   "source": [
    "print('Logistic Regression - Train Data Performance Metric')\n",
    "print('\\n')\n",
    "print(classification_report(y_train,train_predict))\n",
    "plot_confusion_matrix(model_1,X_train,y_train)\n",
    "plt.show()"
   ]
  },
  {
   "cell_type": "code",
   "execution_count": null,
   "metadata": {},
   "outputs": [],
   "source": [
    "print('Logistic Regression - Test Data Performance Metric')\n",
    "print('\\n')\n",
    "print(classification_report(y_test,test_predict))\n",
    "plot_confusion_matrix(model_1,X_test,y_test)\n",
    "plt.show()"
   ]
  },
  {
   "cell_type": "markdown",
   "metadata": {},
   "source": [
    "<font color = blue> <b> _Considering that class label of 1 means that the website is a Phishing website, then the model should have a very high recall value to identify all the phishing websites. It would mean that the precision of identifying the 1's will be less. But this would be desirable, as we won't like to missing out on a phising website and classify it as a non phishing website. On the other hand, it is still acceptable that a few of the geneuine websites get classified as phishing website. This can be improved further by collecting the user data on those websites and retraining the model post deployment_ </b> </font>"
   ]
  },
  {
   "cell_type": "code",
   "execution_count": null,
   "metadata": {},
   "outputs": [],
   "source": [
    "#get the predicted values based on cross validation on the training data .. \n",
    "y_train_scores = cross_val_predict(model_1,X_train,y_train,cv=5,method='decision_function')"
   ]
  },
  {
   "cell_type": "code",
   "execution_count": null,
   "metadata": {},
   "outputs": [],
   "source": [
    "#retrieve the precisions,recalls and the thresholds\n",
    "from sklearn.metrics import precision_recall_curve\n",
    "precisions,recalls,thresholds = precision_recall_curve(y_train,y_train_scores)"
   ]
  },
  {
   "cell_type": "code",
   "execution_count": null,
   "metadata": {},
   "outputs": [],
   "source": [
    "#plot the precision recall curve\n",
    "def plot_precision_recall_curve(precisions,recalls,thresholds):\n",
    "    plt.figure(figsize=(12,5))\n",
    "    plt.plot(thresholds,precisions[:-1],'b--',label='Precision')\n",
    "    plt.plot(thresholds,recalls[:-1],'g-',label='Recall')\n",
    "    plt.axis([-6,25,0,1.2])\n",
    "    plt.title('Plot of Precision vs Recall - Logistic Regression')\n",
    "    plt.legend()\n",
    "    plt.grid()\n",
    "    plt.xlabel('Thresholds')\n",
    "    "
   ]
  },
  {
   "cell_type": "code",
   "execution_count": null,
   "metadata": {},
   "outputs": [],
   "source": [
    "#plot the precision vs the recall curve with threshold \n",
    "plot_precision_recall_curve(precisions,recalls,thresholds)\n",
    "plt.show()"
   ]
  },
  {
   "cell_type": "markdown",
   "metadata": {},
   "source": [
    "_Between the thresholds of -5 and -1, the recall is easily close to 100% or atleast much higher than 94%. The precision around these recalls is lesser than slightly or near to 80% which would be lower than the 92% precision value that we got earlier and reported in the classiffication report._"
   ]
  },
  {
   "cell_type": "markdown",
   "metadata": {},
   "source": [
    "<b>_To improve or increase the recall, the threshold has to be decreased_</b>"
   ]
  },
  {
   "cell_type": "code",
   "execution_count": null,
   "metadata": {},
   "outputs": [],
   "source": [
    "#Precision vs recall \n",
    "plt.plot(precisions,recalls)\n",
    "plt.ylabel('Precision')\n",
    "plt.xlabel('Recall')\n",
    "plt.title('Precision vs Recall')\n",
    "plt.grid()\n",
    "plt.show()"
   ]
  },
  {
   "cell_type": "code",
   "execution_count": null,
   "metadata": {},
   "outputs": [],
   "source": [
    "#select the threshold value which will give higher recall of 99%\n",
    "threshold_100_recall = thresholds[np.argmin(recalls>=0.999)]\n",
    "print('Threshold value to use to improve the recall to minimum 99%')\n",
    "print(f'Recommended Threshold Value:{threshold_100_recall}')"
   ]
  },
  {
   "cell_type": "code",
   "execution_count": null,
   "metadata": {},
   "outputs": [],
   "source": [
    "#replot the precision recall curve with the threshold value clearly shown\n",
    "plot_precision_recall_curve(precisions,recalls,thresholds)\n",
    "plt.vlines(x=threshold_100_recall,ymin=0,ymax=1.01)\n",
    "plt.show()"
   ]
  },
  {
   "cell_type": "code",
   "execution_count": null,
   "metadata": {},
   "outputs": [],
   "source": [
    "y_train_scores"
   ]
  },
  {
   "cell_type": "code",
   "execution_count": null,
   "metadata": {},
   "outputs": [],
   "source": [
    "#adjusting the predictions based on the threshold to increase the recall score \n",
    "for i in range(len(X_train)):\n",
    "    if y_train_scores[i] <= threshold_100_recall:\n",
    "        train_predict[i] = -1\n",
    "    else:\n",
    "        train_predict[i] = 1"
   ]
  },
  {
   "cell_type": "code",
   "execution_count": null,
   "metadata": {},
   "outputs": [],
   "source": [
    "recall_score(y_train,train_predict)"
   ]
  },
  {
   "cell_type": "code",
   "execution_count": null,
   "metadata": {},
   "outputs": [],
   "source": [
    "precision_score(y_train,train_predict)"
   ]
  },
  {
   "cell_type": "code",
   "execution_count": null,
   "metadata": {},
   "outputs": [],
   "source": [
    "print('Classification Report - Train Data [Adjusting for higher recall]')\n",
    "print('Note - Recall has increased to near 100% for class label 1')\n",
    "print('\\n')\n",
    "\n",
    "print(classification_report(y_train,train_predict))\n",
    "print(confusion_matrix(y_train,train_predict))"
   ]
  },
  {
   "cell_type": "code",
   "execution_count": null,
   "metadata": {},
   "outputs": [],
   "source": [
    "#predict the label for the test dataset -- > retrieve the decision score using the model\n",
    "y_test_scores = model_1.decision_function(X_test)"
   ]
  },
  {
   "cell_type": "code",
   "execution_count": null,
   "metadata": {},
   "outputs": [],
   "source": [
    "#check the decision scores of the X_test\n",
    "y_test_scores"
   ]
  },
  {
   "cell_type": "code",
   "execution_count": null,
   "metadata": {},
   "outputs": [],
   "source": [
    "#adjusting the predictions based on the threshold decided during training with training data \n",
    "for i in range(len(X_test)):\n",
    "    if y_test_scores[i] <= threshold_100_recall:\n",
    "        test_predict[i] = -1\n",
    "    else:\n",
    "        test_predict[i] = 1"
   ]
  },
  {
   "cell_type": "code",
   "execution_count": null,
   "metadata": {},
   "outputs": [],
   "source": [
    "print('Classification Report - Test Data')\n",
    "print('Note - Recall has increased to near 100% for class label 1')\n",
    "print('\\n')\n",
    "\n",
    "print(classification_report(y_test,test_predict))\n",
    "print(confusion_matrix(y_test,test_predict))"
   ]
  },
  {
   "cell_type": "markdown",
   "metadata": {},
   "source": [
    "<font color = blue> <b> _There is only one website which is 1 but gets predicted as -1_ </b> </font>"
   ]
  },
  {
   "cell_type": "markdown",
   "metadata": {},
   "source": [
    "## _Logistic Regresion with only 2 features_\n",
    "- parameter Prefix_Suffix \n",
    "- URL_of_Anchor\n"
   ]
  },
  {
   "cell_type": "code",
   "execution_count": null,
   "metadata": {},
   "outputs": [],
   "source": [
    "data = site[['PrefixSuffix-','AnchorURL','class']]"
   ]
  },
  {
   "cell_type": "code",
   "execution_count": null,
   "metadata": {},
   "outputs": [],
   "source": [
    "data.head(2)"
   ]
  },
  {
   "cell_type": "code",
   "execution_count": null,
   "metadata": {},
   "outputs": [],
   "source": [
    "X = data.drop('class',axis=1)\n",
    "y = data['class']\n",
    "X_train,X_test,y_train,y_test = train_test_split(X,y,random_state=seed,test_size=size)\n",
    "X_train.shape, X_test.shape"
   ]
  },
  {
   "cell_type": "code",
   "execution_count": null,
   "metadata": {},
   "outputs": [],
   "source": [
    "model_1.fit(X_train,y_train)\n",
    "train_predict = model_1.predict(X_train)\n",
    "test_predict = model_1.predict(X_test)\n",
    "print('Classification Report- Train Data')\n",
    "print(classification_report(y_train,train_predict))\n",
    "print('Classification Report- Test Data')\n",
    "print(classification_report(y_test,test_predict))"
   ]
  },
  {
   "cell_type": "code",
   "execution_count": null,
   "metadata": {},
   "outputs": [],
   "source": [
    "plot_confusion_matrix(model_1,X_test,y_test)\n",
    "plt.title('Logistic Regression with only PrefixSuffix & AnchorURL')\n",
    "plt.show()"
   ]
  },
  {
   "cell_type": "markdown",
   "metadata": {},
   "source": [
    "<b> Short Summary </b>_Training with just two features PrefixSuffix- and AnchorURL provides a recall score of 100% both on the train and test dataset. This also proves the importance of feature selection and feature engineering. Perhaps dimensionality reduction would have been able to spot these two features. However, steps to fine tune the simple logistic regression to achieve 100% recall using the decision scores is an awesome learning experience._"
   ]
  },
  {
   "cell_type": "code",
   "execution_count": null,
   "metadata": {},
   "outputs": [],
   "source": []
  }
 ],
 "metadata": {
  "kernelspec": {
   "display_name": "Python 3",
   "language": "python",
   "name": "python3"
  },
  "language_info": {
   "codemirror_mode": {
    "name": "ipython",
    "version": 3
   },
   "file_extension": ".py",
   "mimetype": "text/x-python",
   "name": "python",
   "nbconvert_exporter": "python",
   "pygments_lexer": "ipython3",
   "version": "3.7.6"
  }
 },
 "nbformat": 4,
 "nbformat_minor": 4
}
