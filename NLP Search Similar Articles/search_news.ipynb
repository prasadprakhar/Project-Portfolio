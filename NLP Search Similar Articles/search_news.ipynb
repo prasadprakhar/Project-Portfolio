{
 "cells": [
  {
   "cell_type": "markdown",
   "metadata": {},
   "source": [
    "## _Build Your Own News Search Engine_\n",
    "***\n",
    "DESCRIPTION\n",
    "\n",
    "Use text feature engineering (TF-IDF) and some rules to make our first search engine for news articles. For any input query, we’ll present the five  most relevant news articles. \n",
    "\n",
    "Problem Statement: \n",
    "\n",
    "Reuters Ltd. is an international news agency headquartered in London and is a division of Thomson Reuters. The data was originally collected and labeled by Carnegie Group Inc. and Reuters Ltd. in the course of developing the construe text categorization system. \n",
    "\n",
    "An important step before assessing similarity between documents, or between documents and a search query, is the right representation i.e., correct feature engineering. We’ll make a process that provides the most similar news articles to a given text string (search query).\n",
    "\n",
    "Domain: News\n",
    "\n",
    "Analysis to be done: Document similarity assessment to a search query using Tf-Idf\n",
    "\n",
    "Content: \n",
    "\n",
    "Dataset: ‘r8-all-terms.txt’\n",
    "\n",
    "Dataset has no header. For each row, it has a  label and the article text.\n"
   ]
  },
  {
   "cell_type": "code",
   "execution_count": 1,
   "metadata": {},
   "outputs": [],
   "source": [
    "#import the libraries\n",
    "import os \n",
    "import sys\n",
    "assert sys.version_info >= (3,5)\n",
    "#data manipulation\n",
    "import pandas as pd\n",
    "import numpy as np\n",
    "#visualization\n",
    "import matplotlib.pyplot as plt\n",
    "import seaborn as sns\n",
    "%matplotlib inline\n",
    "#consistent sized plot\n",
    "from pylab import rcParams\n",
    "rcParams['figure.figsize'] = 12,5\n",
    "rcParams['xtick.labelsize'] = 12\n",
    "rcParams['ytick.labelsize'] = 12\n",
    "rcParams['axes.labelsize'] = 12\n",
    "#display options for dataframe\n",
    "pd.options.display.max_columns = None\n",
    "#text processing\n",
    "import nltk\n",
    "from nltk.tokenize import word_tokenize\n",
    "from nltk.tokenize import sent_tokenize\n",
    "from nltk.stem import SnowballStemmer\n",
    "from nltk.stem import PorterStemmer\n",
    "from nltk.corpus import stopwords\n",
    "#text feature engineering\n",
    "from sklearn.feature_extraction.text import TfidfVectorizer\n",
    "#regular expressions\n",
    "import re\n",
    "#string operations\n",
    "import string\n",
    "#ignore warnings\n",
    "import warnings\n",
    "warnings.filterwarnings(action='ignore',message='')\n",
    "#compute articles similarity\n",
    "from sklearn.metrics.pairwise import cosine_similarity"
   ]
  },
  {
   "cell_type": "code",
   "execution_count": 2,
   "metadata": {},
   "outputs": [
    {
     "data": {
      "text/html": [
       "<div>\n",
       "<style scoped>\n",
       "    .dataframe tbody tr th:only-of-type {\n",
       "        vertical-align: middle;\n",
       "    }\n",
       "\n",
       "    .dataframe tbody tr th {\n",
       "        vertical-align: top;\n",
       "    }\n",
       "\n",
       "    .dataframe thead th {\n",
       "        text-align: right;\n",
       "    }\n",
       "</style>\n",
       "<table border=\"1\" class=\"dataframe\">\n",
       "  <thead>\n",
       "    <tr style=\"text-align: right;\">\n",
       "      <th></th>\n",
       "      <th>label</th>\n",
       "      <th>text</th>\n",
       "    </tr>\n",
       "  </thead>\n",
       "  <tbody>\n",
       "    <tr>\n",
       "      <th>0</th>\n",
       "      <td>earn</td>\n",
       "      <td>champion products ch approves stock split cham...</td>\n",
       "    </tr>\n",
       "    <tr>\n",
       "      <th>1</th>\n",
       "      <td>acq</td>\n",
       "      <td>computer terminal systems cpml completes sale ...</td>\n",
       "    </tr>\n",
       "    <tr>\n",
       "      <th>2</th>\n",
       "      <td>earn</td>\n",
       "      <td>cobanco inc cbco year net shr cts vs dlrs net ...</td>\n",
       "    </tr>\n",
       "    <tr>\n",
       "      <th>3</th>\n",
       "      <td>earn</td>\n",
       "      <td>am international inc am nd qtr jan oper shr lo...</td>\n",
       "    </tr>\n",
       "    <tr>\n",
       "      <th>4</th>\n",
       "      <td>earn</td>\n",
       "      <td>brown forman inc bfd th qtr net shr one dlr vs...</td>\n",
       "    </tr>\n",
       "  </tbody>\n",
       "</table>\n",
       "</div>"
      ],
      "text/plain": [
       "  label                                               text\n",
       "0  earn  champion products ch approves stock split cham...\n",
       "1   acq  computer terminal systems cpml completes sale ...\n",
       "2  earn  cobanco inc cbco year net shr cts vs dlrs net ...\n",
       "3  earn  am international inc am nd qtr jan oper shr lo...\n",
       "4  earn  brown forman inc bfd th qtr net shr one dlr vs..."
      ]
     },
     "execution_count": 2,
     "metadata": {},
     "output_type": "execute_result"
    }
   ],
   "source": [
    "#load the data\n",
    "news = pd.read_csv('r8-all-terms.txt',delimiter='\\t',engine='python',names=['label','text'])\n",
    "news.head()"
   ]
  },
  {
   "cell_type": "code",
   "execution_count": 3,
   "metadata": {},
   "outputs": [
    {
     "data": {
      "text/plain": [
       "earn        2840\n",
       "acq         1596\n",
       "crude        253\n",
       "trade        251\n",
       "money-fx     206\n",
       "interest     190\n",
       "ship         108\n",
       "grain         41\n",
       "Name: label, dtype: int64"
      ]
     },
     "execution_count": 3,
     "metadata": {},
     "output_type": "execute_result"
    }
   ],
   "source": [
    "'''\n",
    "Check the different news labels\n",
    "'''\n",
    "news['label'].value_counts()"
   ]
  },
  {
   "cell_type": "code",
   "execution_count": 4,
   "metadata": {},
   "outputs": [
    {
     "name": "stdout",
     "output_type": "stream",
     "text": [
      "<class 'pandas.core.frame.DataFrame'>\n",
      "RangeIndex: 5485 entries, 0 to 5484\n",
      "Data columns (total 2 columns):\n",
      " #   Column  Non-Null Count  Dtype \n",
      "---  ------  --------------  ----- \n",
      " 0   label   5485 non-null   object\n",
      " 1   text    5485 non-null   object\n",
      "dtypes: object(2)\n",
      "memory usage: 85.8+ KB\n"
     ]
    }
   ],
   "source": [
    "news.info()"
   ]
  },
  {
   "cell_type": "markdown",
   "metadata": {},
   "source": [
    "\n",
    "- _There are no null values in the dataset. Assuming there are also no empty strings with only blank spaces, though a separate check can be done_\n"
   ]
  },
  {
   "cell_type": "code",
   "execution_count": 5,
   "metadata": {},
   "outputs": [
    {
     "data": {
      "image/png": "[encoded data removed]",
      "text/plain": [
       "<Figure size 864x360 with 1 Axes>"
      ]
     },
     "metadata": {
      "needs_background": "light"
     },
     "output_type": "display_data"
    }
   ],
   "source": [
    "#countplot of news categories\n",
    "sns.countplot(news['label'])\n",
    "plt.title('Various News Categories Count')\n",
    "plt.grid()\n",
    "plt.show()"
   ]
  },
  {
   "cell_type": "markdown",
   "metadata": {},
   "source": [
    "## _Text Cleaning & Normalization_"
   ]
  },
  {
   "cell_type": "code",
   "execution_count": 6,
   "metadata": {},
   "outputs": [],
   "source": [
    "'''\n",
    "Get the article text into a list, for easy text cleanup and manipulation.\n",
    "'''\n",
    "articles = news['text'].values"
   ]
  },
  {
   "cell_type": "code",
   "execution_count": 7,
   "metadata": {},
   "outputs": [
    {
     "data": {
      "text/plain": [
       "numpy.ndarray"
      ]
     },
     "execution_count": 7,
     "metadata": {},
     "output_type": "execute_result"
    }
   ],
   "source": [
    "''' check the data type of articles '''\n",
    "type(articles)"
   ]
  },
  {
   "cell_type": "code",
   "execution_count": 8,
   "metadata": {},
   "outputs": [
    {
     "data": {
      "text/plain": [
       "array(['champion products ch approves stock split champion products inc said its board of directors approved a two for one stock split of its common shares for shareholders of record as of april the company also said its board voted to recommend to shareholders at the annual meeting april an increase in the authorized capital stock from five mln to mln shares reuter ',\n",
       "       'computer terminal systems cpml completes sale computer terminal systems inc said it has completed the sale of shares of its common stock and warrants to acquire an additional one mln shares to sedio n v of lugano switzerland for dlrs the company said the warrants are exercisable for five years at a purchase price of dlrs per share computer terminal said sedio also has the right to buy additional shares and increase its total holdings up to pct of the computer terminal s outstanding common stock under certain circumstances involving change of control at the company the company said if the conditions occur the warrants would be exercisable at a price equal to pct of its common stock s market price at the time not to exceed dlrs per share computer terminal also said it sold the technolgy rights to its dot matrix impact technology including any future improvements to woodco inc of houston tex for dlrs but it said it would continue to be the exclusive worldwide licensee of the technology for woodco the company said the moves were part of its reorganization plan and would help pay current operation costs and ensure product delivery computer terminal makes computer generated labels forms tags and ticket printers and terminals reuter ',\n",
       "       'cobanco inc cbco year net shr cts vs dlrs net vs assets mln vs mln deposits mln vs mln loans mln vs mln note th qtr not available year includes extraordinary gain from tax carry forward of dlrs or five cts per shr reuter '],\n",
       "      dtype=object)"
      ]
     },
     "execution_count": 8,
     "metadata": {},
     "output_type": "execute_result"
    }
   ],
   "source": [
    "''' view the first 3 articles '''\n",
    "articles[:3]"
   ]
  },
  {
   "cell_type": "code",
   "execution_count": 9,
   "metadata": {},
   "outputs": [],
   "source": [
    "'''convert  to lower case'''\n",
    "articles = [art.lower() for art in articles]"
   ]
  },
  {
   "cell_type": "code",
   "execution_count": 10,
   "metadata": {},
   "outputs": [
    {
     "data": {
      "text/plain": [
       "['champion products ch approves stock split champion products inc said its board of directors approved a two for one stock split of its common shares for shareholders of record as of april the company also said its board voted to recommend to shareholders at the annual meeting april an increase in the authorized capital stock from five mln to mln shares reuter ',\n",
       " 'computer terminal systems cpml completes sale computer terminal systems inc said it has completed the sale of shares of its common stock and warrants to acquire an additional one mln shares to sedio n v of lugano switzerland for dlrs the company said the warrants are exercisable for five years at a purchase price of dlrs per share computer terminal said sedio also has the right to buy additional shares and increase its total holdings up to pct of the computer terminal s outstanding common stock under certain circumstances involving change of control at the company the company said if the conditions occur the warrants would be exercisable at a price equal to pct of its common stock s market price at the time not to exceed dlrs per share computer terminal also said it sold the technolgy rights to its dot matrix impact technology including any future improvements to woodco inc of houston tex for dlrs but it said it would continue to be the exclusive worldwide licensee of the technology for woodco the company said the moves were part of its reorganization plan and would help pay current operation costs and ensure product delivery computer terminal makes computer generated labels forms tags and ticket printers and terminals reuter ',\n",
       " 'cobanco inc cbco year net shr cts vs dlrs net vs assets mln vs mln deposits mln vs mln loans mln vs mln note th qtr not available year includes extraordinary gain from tax carry forward of dlrs or five cts per shr reuter ',\n",
       " 'am international inc am nd qtr jan oper shr loss two cts vs profit seven cts oper shr profit vs profit revs mln vs mln avg shrs mln vs mln six mths oper shr profit nil vs profit cts oper net profit vs profit revs mln vs mln avg shrs mln vs mln note per shr calculated after payment of preferred dividends results exclude credits of or four cts and or nine cts for qtr and six mths vs or six cts and or cts for prior periods from operating loss carryforwards reuter ',\n",
       " 'brown forman inc bfd th qtr net shr one dlr vs cts net mln vs mln revs mln vs mln nine mths shr dlrs vs dlrs net mln vs mln revs billion vs mln reuter ']"
      ]
     },
     "execution_count": 10,
     "metadata": {},
     "output_type": "execute_result"
    }
   ],
   "source": [
    "'''check the articles in lower case'''\n",
    "articles[:5]"
   ]
  },
  {
   "cell_type": "code",
   "execution_count": 11,
   "metadata": {},
   "outputs": [],
   "source": [
    "'''tokenize the articles '''\n",
    "articles_tokens = [word_tokenize(art) for art in articles]"
   ]
  },
  {
   "cell_type": "code",
   "execution_count": 12,
   "metadata": {},
   "outputs": [
    {
     "data": {
      "text/plain": [
       "['champion',\n",
       " 'products',\n",
       " 'ch',\n",
       " 'approves',\n",
       " 'stock',\n",
       " 'split',\n",
       " 'champion',\n",
       " 'products',\n",
       " 'inc',\n",
       " 'said',\n",
       " 'its',\n",
       " 'board',\n",
       " 'of',\n",
       " 'directors',\n",
       " 'approved',\n",
       " 'a',\n",
       " 'two',\n",
       " 'for',\n",
       " 'one',\n",
       " 'stock',\n",
       " 'split',\n",
       " 'of',\n",
       " 'its',\n",
       " 'common',\n",
       " 'shares',\n",
       " 'for',\n",
       " 'shareholders',\n",
       " 'of',\n",
       " 'record',\n",
       " 'as',\n",
       " 'of',\n",
       " 'april',\n",
       " 'the',\n",
       " 'company',\n",
       " 'also',\n",
       " 'said',\n",
       " 'its',\n",
       " 'board',\n",
       " 'voted',\n",
       " 'to',\n",
       " 'recommend',\n",
       " 'to',\n",
       " 'shareholders',\n",
       " 'at',\n",
       " 'the',\n",
       " 'annual',\n",
       " 'meeting',\n",
       " 'april',\n",
       " 'an',\n",
       " 'increase',\n",
       " 'in',\n",
       " 'the',\n",
       " 'authorized',\n",
       " 'capital',\n",
       " 'stock',\n",
       " 'from',\n",
       " 'five',\n",
       " 'mln',\n",
       " 'to',\n",
       " 'mln',\n",
       " 'shares',\n",
       " 'reuter']"
      ]
     },
     "execution_count": 12,
     "metadata": {},
     "output_type": "execute_result"
    }
   ],
   "source": [
    "articles_tokens[0]"
   ]
  },
  {
   "cell_type": "code",
   "execution_count": 13,
   "metadata": {},
   "outputs": [],
   "source": [
    "''' remove the stop words from the data '''\n",
    "stop_words = stopwords.words('english')\n",
    "\n",
    "def remove_stopwords(tokens):\n",
    "    result = [token for token in tokens if token not in stop_words]\n",
    "    return result\n",
    "\n",
    "articles_nostop = [remove_stopwords(art) for art in articles_tokens]"
   ]
  },
  {
   "cell_type": "code",
   "execution_count": 14,
   "metadata": {},
   "outputs": [
    {
     "data": {
      "text/plain": [
       "['champion',\n",
       " 'products',\n",
       " 'ch',\n",
       " 'approves',\n",
       " 'stock',\n",
       " 'split',\n",
       " 'champion',\n",
       " 'products',\n",
       " 'inc',\n",
       " 'said',\n",
       " 'board',\n",
       " 'directors',\n",
       " 'approved',\n",
       " 'two',\n",
       " 'one',\n",
       " 'stock',\n",
       " 'split',\n",
       " 'common',\n",
       " 'shares',\n",
       " 'shareholders',\n",
       " 'record',\n",
       " 'april',\n",
       " 'company',\n",
       " 'also',\n",
       " 'said',\n",
       " 'board',\n",
       " 'voted',\n",
       " 'recommend',\n",
       " 'shareholders',\n",
       " 'annual',\n",
       " 'meeting',\n",
       " 'april',\n",
       " 'increase',\n",
       " 'authorized',\n",
       " 'capital',\n",
       " 'stock',\n",
       " 'five',\n",
       " 'mln',\n",
       " 'mln',\n",
       " 'shares',\n",
       " 'reuter']"
      ]
     },
     "execution_count": 14,
     "metadata": {},
     "output_type": "execute_result"
    }
   ],
   "source": [
    "articles_nostop[0]"
   ]
  },
  {
   "cell_type": "markdown",
   "metadata": {},
   "source": [
    "## _Feature Engineering_"
   ]
  },
  {
   "cell_type": "code",
   "execution_count": 15,
   "metadata": {},
   "outputs": [],
   "source": [
    "''' Instantiate the vectorizer  '''\n",
    "vectorizer = TfidfVectorizer(max_features=3000)"
   ]
  },
  {
   "cell_type": "code",
   "execution_count": 16,
   "metadata": {},
   "outputs": [],
   "source": [
    "''' The vectorizer needs the strings, not vectors. Join the tokens into the string for each article.'''\n",
    "articles_string = [' '.join(art) for art in articles_tokens]"
   ]
  },
  {
   "cell_type": "code",
   "execution_count": 17,
   "metadata": {},
   "outputs": [
    {
     "data": {
      "text/plain": [
       "'champion products ch approves stock split champion products inc said its board of directors approved a two for one stock split of its common shares for shareholders of record as of april the company also said its board voted to recommend to shareholders at the annual meeting april an increase in the authorized capital stock from five mln to mln shares reuter'"
      ]
     },
     "execution_count": 17,
     "metadata": {},
     "output_type": "execute_result"
    }
   ],
   "source": [
    "articles_string[0]"
   ]
  },
  {
   "cell_type": "code",
   "execution_count": 18,
   "metadata": {},
   "outputs": [
    {
     "data": {
      "text/plain": [
       "(5485, 3000)"
      ]
     },
     "execution_count": 18,
     "metadata": {},
     "output_type": "execute_result"
    }
   ],
   "source": [
    "articles_tfidf = vectorizer.fit_transform(articles_string)\n",
    "articles_tfidf.shape"
   ]
  },
  {
   "cell_type": "code",
   "execution_count": 19,
   "metadata": {},
   "outputs": [
    {
     "data": {
      "text/plain": [
       "numpy.matrix"
      ]
     },
     "execution_count": 19,
     "metadata": {},
     "output_type": "execute_result"
    }
   ],
   "source": [
    "''' Convert it to dense matrix:  The output is currently a sparse matrix, convert it to a dense matrix for ease of access '''\n",
    "tfidf_dense = articles_tfidf.todense()\n",
    "type(tfidf_dense)"
   ]
  },
  {
   "cell_type": "code",
   "execution_count": 20,
   "metadata": {},
   "outputs": [
    {
     "data": {
      "text/plain": [
       "(5485, 3000)"
      ]
     },
     "execution_count": 20,
     "metadata": {},
     "output_type": "execute_result"
    }
   ],
   "source": [
    "tfidf_dense.shape"
   ]
  },
  {
   "cell_type": "code",
   "execution_count": 21,
   "metadata": {},
   "outputs": [
    {
     "data": {
      "text/plain": [
       "array([[0.48572372]])"
      ]
     },
     "execution_count": 21,
     "metadata": {},
     "output_type": "execute_result"
    }
   ],
   "source": [
    "''' In this representation, we can now compute the similarity between any two articles which are now vectors. '''\n",
    "\n",
    "#check the cosine similarity between row 3 and row 4\n",
    "cosine_similarity(tfidf_dense[3,:],tfidf_dense[4,:])"
   ]
  },
  {
   "cell_type": "code",
   "execution_count": 22,
   "metadata": {},
   "outputs": [
    {
     "data": {
      "text/plain": [
       "['am international inc am nd qtr jan oper shr loss two cts vs profit seven cts oper shr profit vs profit revs mln vs mln avg shrs mln vs mln six mths oper shr profit nil vs profit cts oper net profit vs profit revs mln vs mln avg shrs mln vs mln note per shr calculated after payment of preferred dividends results exclude credits of or four cts and or nine cts for qtr and six mths vs or six cts and or cts for prior periods from operating loss carryforwards reuter',\n",
       " 'brown forman inc bfd th qtr net shr one dlr vs cts net mln vs mln revs mln vs mln nine mths shr dlrs vs dlrs net mln vs mln revs billion vs mln reuter']"
      ]
     },
     "execution_count": 22,
     "metadata": {},
     "output_type": "execute_result"
    }
   ],
   "source": [
    "#print the corresponding articles \n",
    "articles_string[3:5]"
   ]
  },
  {
   "cell_type": "code",
   "execution_count": 23,
   "metadata": {},
   "outputs": [],
   "source": [
    "''' Search engine: Find the five most relevant articles for any given query, fetch the text against them. \n",
    "    Define a function that does the following: '''\n",
    "\n",
    "def get_top5_articles(query):\n",
    "    '''function to retrieve the top 5 similar articles based on a query '''\n",
    "    target_vector = vectorizer.transform([query])\n",
    "    \n",
    "    #define the list to store the similarity scores\n",
    "    similarity_scores = []\n",
    "    \n",
    "    for index,vector in enumerate(tfidf_dense):\n",
    "        similarity = cosine_similarity(target_vector,tfidf_dense[index,:])[0][0] #[0][0] to retrieve only the values from the returned array\n",
    "        similarity_scores.append(similarity)\n",
    "        \n",
    "    similarities = pd.Series(similarity_scores)\n",
    "    top5_scores = similarities.sort_values(ascending=False).head(5)\n",
    "\n",
    "    top5_index = top5_scores.index.values\n",
    "    \n",
    "    print(\"Search query: \" + query + \"\\n\")    \n",
    "\n",
    "    for index in top5_index:\n",
    "\n",
    "        print(\"Similarity score:\" + str(round(top5_scores[index],2)) + \"\\n\" + \"Article text: \" + articles_string[index] + \"\\n\")\n",
    "    "
   ]
  },
  {
   "cell_type": "code",
   "execution_count": 24,
   "metadata": {},
   "outputs": [
    {
     "name": "stdout",
     "output_type": "stream",
     "text": [
      "Search query: shipping\n",
      "\n",
      "Similarity score:0.36\n",
      "Article text: correction two brazil shipping firms settle in today s sao paulo story headlined two brazilian shipping firms settle with strikers please read in second para offer from the companies global and flumar instead of offer from the companies globo and flumar corrects name of first company reuter\n",
      "\n",
      "Similarity score:0.35\n",
      "Article text: kenya signs pact to establish own shipping line kenya has signed an agreement with british and german interests to establish a shipping line that will handle pct of the country s external trade sources close to the deal said the state owned kenya ports authority kpa signed an agreement with the hamburg based shipping line unimar seetransport to establish the kenya national shipping line with an initial capital of mln shillings sources said kpa will hold pct of the shares in the new company the line will initially charter vessels to operate services between mombasa and the main ports of industrial europe but may eventually build or buy its own ships the sources said it would aim to carry a large part of kenya s coffee and tea exports and oil and fertiliser imports reuter\n",
      "\n",
      "Similarity score:0.31\n",
      "Article text: bermuda star bsl leases vessel bermuda star line inc said it has leased a ton passenger vessel from orley shipping co inc of liberia for a term with options extending for years the vessel ss liberte will be renamed the canadian star and will be used for cruises to montreal from new york beginning in june orley shipping is partially owned by common brothers plc a u k maritime firm which owns pct of bermuda star s shares and arranged debt financing for the ship s purchase orley acquired the vessel from banstead shipping ltd terms were not disclosed reuter\n",
      "\n",
      "Similarity score:0.3\n",
      "Article text: europe shipping exports to s africa off pct the volume of european exports to south africa carried by container line vessels has declined pct in the last two years british shipping executive antony butterwick said butterwick told reporters that despite the drop and low freight rates the shipping conference he heads will increase the frequency of sailings to south africa as a very strong act of faith and confidence in the country s future he is chairman of the europe south and south east african conference lines and joint managing director of p and o containers ltd a statement issued by the conference here said frequency of southern africa europe container service sailings is being increased from nine to seven days this is the most positive development on the shipping front between south africa and its main trading partners in europe for more than four years when the service last operated weekly it said reuter\n",
      "\n",
      "Similarity score:0.28\n",
      "Article text: some shipping restrictions remain on rhine limited shipping restrictions due to high water remain in force on parts of the west german stretch of the rhine river between the dutch border and the city of mainz but most are expected to be lifted this weekend water authority officials said the restrictions caused by high water levels include speed limits and directives to keep to the middle of the river to prevent damage to the river banks the high water was expected to recede within two days to below levels at which the restrictions come into force traffic was halted briefly late tuesday night wednesday and parts of thursday on stretches of the rhine between bonn and koblenz but the shipping bans were lifted the officials said shipping is now permitted on all parts of the west german section of the rhine with restrictions in some areas reuter\n",
      "\n"
     ]
    }
   ],
   "source": [
    "get_top5_articles(\"shipping\")"
   ]
  },
  {
   "cell_type": "code",
   "execution_count": null,
   "metadata": {},
   "outputs": [],
   "source": []
  }
 ],
 "metadata": {
  "kernelspec": {
   "display_name": "Python 3",
   "language": "python",
   "name": "python3"
  },
  "language_info": {
   "codemirror_mode": {
    "name": "ipython",
    "version": 3
   },
   "file_extension": ".py",
   "mimetype": "text/x-python",
   "name": "python",
   "nbconvert_exporter": "python",
   "pygments_lexer": "ipython3",
   "version": "3.7.6"
  }
 },
 "nbformat": 4,
 "nbformat_minor": 4
}
