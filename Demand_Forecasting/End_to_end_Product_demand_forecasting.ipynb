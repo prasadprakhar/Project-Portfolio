{
 "cells": [
  {
   "cell_type": "markdown",
   "metadata": {},
   "source": [
    "# E2E (32/32): Product Demand Forecasting"
   ]
  },
  {
   "cell_type": "code",
   "execution_count": 2,
   "metadata": {},
   "outputs": [],
   "source": [
    "# usual imports #\n",
    "import pandas as pd\n",
    "import numpy as np\n",
    "\n",
    "import matplotlib.pyplot as plt\n",
    "import seaborn as sns\n",
    "%matplotlib inline"
   ]
  },
  {
   "cell_type": "code",
   "execution_count": 3,
   "metadata": {},
   "outputs": [],
   "source": [
    "# handle unwanted warnings #\n",
    "import warnings\n",
    "warnings.filterwarnings(action='ignore')"
   ]
  },
  {
   "cell_type": "code",
   "execution_count": 4,
   "metadata": {},
   "outputs": [],
   "source": [
    "# consistent plot size #\n",
    "from pylab import rcParams\n",
    "rcParams['figure.figsize'] = 12,5"
   ]
  },
  {
   "cell_type": "code",
   "execution_count": 5,
   "metadata": {},
   "outputs": [],
   "source": [
    "# load the dataset #\n",
    "df = pd.read_csv('/cxldata/datasets/project/demand_sales_orders_2014_15.csv')"
   ]
  },
  {
   "cell_type": "markdown",
   "metadata": {},
   "source": [
    "### Data Exploration and Feature Engineering\n",
    "- Explore the dataset \n",
    "- Clean the dataset (duplicates, data types, check for null values etc)\n",
    "- Feature engineering (adding additional features that can help in the predictions)"
   ]
  },
  {
   "cell_type": "code",
   "execution_count": 6,
   "metadata": {},
   "outputs": [
    {
     "name": "stdout",
     "output_type": "stream",
     "text": [
      "<class 'pandas.core.frame.DataFrame'>\n",
      "RangeIndex: 270817 entries, 0 to 270816\n",
      "Data columns (total 7 columns):\n",
      "CustomerId          270817 non-null int64\n",
      "OrderDate           270817 non-null object\n",
      "SalesOrderNumber    270817 non-null object\n",
      "TerritoryID         270817 non-null int64\n",
      "ProductID           270817 non-null int64\n",
      "UnitPrice           270817 non-null float64\n",
      "OrderQty            270817 non-null int64\n",
      "dtypes: float64(1), int64(4), object(2)\n",
      "memory usage: 14.5+ MB\n"
     ]
    }
   ],
   "source": [
    "df.info()"
   ]
  },
  {
   "cell_type": "code",
   "execution_count": 7,
   "metadata": {},
   "outputs": [
    {
     "data": {
      "text/html": [
       "<div>\n",
       "<style scoped>\n",
       "    .dataframe tbody tr th:only-of-type {\n",
       "        vertical-align: middle;\n",
       "    }\n",
       "\n",
       "    .dataframe tbody tr th {\n",
       "        vertical-align: top;\n",
       "    }\n",
       "\n",
       "    .dataframe thead th {\n",
       "        text-align: right;\n",
       "    }\n",
       "</style>\n",
       "<table border=\"1\" class=\"dataframe\">\n",
       "  <thead>\n",
       "    <tr style=\"text-align: right;\">\n",
       "      <th></th>\n",
       "      <th>CustomerId</th>\n",
       "      <th>OrderDate</th>\n",
       "      <th>SalesOrderNumber</th>\n",
       "      <th>TerritoryID</th>\n",
       "      <th>ProductID</th>\n",
       "      <th>UnitPrice</th>\n",
       "      <th>OrderQty</th>\n",
       "    </tr>\n",
       "  </thead>\n",
       "  <tbody>\n",
       "    <tr>\n",
       "      <td>0</td>\n",
       "      <td>11217</td>\n",
       "      <td>2014/01/03 00:00</td>\n",
       "      <td>SO76869</td>\n",
       "      <td>1</td>\n",
       "      <td>771</td>\n",
       "      <td>2039.994</td>\n",
       "      <td>1</td>\n",
       "    </tr>\n",
       "    <tr>\n",
       "      <td>1</td>\n",
       "      <td>11217</td>\n",
       "      <td>2014/01/03 00:00</td>\n",
       "      <td>SO297124</td>\n",
       "      <td>1</td>\n",
       "      <td>996</td>\n",
       "      <td>72.894</td>\n",
       "      <td>3</td>\n",
       "    </tr>\n",
       "    <tr>\n",
       "      <td>2</td>\n",
       "      <td>11217</td>\n",
       "      <td>2014/01/03 00:00</td>\n",
       "      <td>SO485914</td>\n",
       "      <td>1</td>\n",
       "      <td>957</td>\n",
       "      <td>1430.442</td>\n",
       "      <td>4</td>\n",
       "    </tr>\n",
       "    <tr>\n",
       "      <td>3</td>\n",
       "      <td>11217</td>\n",
       "      <td>2014/01/03 00:00</td>\n",
       "      <td>SO76869</td>\n",
       "      <td>1</td>\n",
       "      <td>771</td>\n",
       "      <td>2039.994</td>\n",
       "      <td>1</td>\n",
       "    </tr>\n",
       "    <tr>\n",
       "      <td>4</td>\n",
       "      <td>11217</td>\n",
       "      <td>2014/01/03 00:00</td>\n",
       "      <td>SO485914</td>\n",
       "      <td>1</td>\n",
       "      <td>885</td>\n",
       "      <td>602.346</td>\n",
       "      <td>2</td>\n",
       "    </tr>\n",
       "  </tbody>\n",
       "</table>\n",
       "</div>"
      ],
      "text/plain": [
       "   CustomerId         OrderDate SalesOrderNumber  TerritoryID  ProductID  \\\n",
       "0       11217  2014/01/03 00:00          SO76869            1        771   \n",
       "1       11217  2014/01/03 00:00         SO297124            1        996   \n",
       "2       11217  2014/01/03 00:00         SO485914            1        957   \n",
       "3       11217  2014/01/03 00:00          SO76869            1        771   \n",
       "4       11217  2014/01/03 00:00         SO485914            1        885   \n",
       "\n",
       "   UnitPrice  OrderQty  \n",
       "0   2039.994         1  \n",
       "1     72.894         3  \n",
       "2   1430.442         4  \n",
       "3   2039.994         1  \n",
       "4    602.346         2  "
      ]
     },
     "execution_count": 7,
     "metadata": {},
     "output_type": "execute_result"
    }
   ],
   "source": [
    "df.head()"
   ]
  },
  {
   "cell_type": "code",
   "execution_count": 8,
   "metadata": {},
   "outputs": [
    {
     "data": {
      "text/html": [
       "<div>\n",
       "<style scoped>\n",
       "    .dataframe tbody tr th:only-of-type {\n",
       "        vertical-align: middle;\n",
       "    }\n",
       "\n",
       "    .dataframe tbody tr th {\n",
       "        vertical-align: top;\n",
       "    }\n",
       "\n",
       "    .dataframe thead th {\n",
       "        text-align: right;\n",
       "    }\n",
       "</style>\n",
       "<table border=\"1\" class=\"dataframe\">\n",
       "  <thead>\n",
       "    <tr style=\"text-align: right;\">\n",
       "      <th></th>\n",
       "      <th>count</th>\n",
       "      <th>mean</th>\n",
       "      <th>std</th>\n",
       "      <th>min</th>\n",
       "      <th>25%</th>\n",
       "      <th>50%</th>\n",
       "      <th>75%</th>\n",
       "      <th>max</th>\n",
       "    </tr>\n",
       "  </thead>\n",
       "  <tbody>\n",
       "    <tr>\n",
       "      <td>CustomerId</td>\n",
       "      <td>270817.0</td>\n",
       "      <td>22423.674275</td>\n",
       "      <td>6964.187624</td>\n",
       "      <td>11012.0000</td>\n",
       "      <td>15158.00</td>\n",
       "      <td>24352.00</td>\n",
       "      <td>29626.000</td>\n",
       "      <td>30118.00</td>\n",
       "    </tr>\n",
       "    <tr>\n",
       "      <td>TerritoryID</td>\n",
       "      <td>270817.0</td>\n",
       "      <td>2.863066</td>\n",
       "      <td>1.468177</td>\n",
       "      <td>1.0000</td>\n",
       "      <td>1.00</td>\n",
       "      <td>4.00</td>\n",
       "      <td>4.000</td>\n",
       "      <td>5.00</td>\n",
       "    </tr>\n",
       "    <tr>\n",
       "      <td>ProductID</td>\n",
       "      <td>270817.0</td>\n",
       "      <td>838.389920</td>\n",
       "      <td>85.490961</td>\n",
       "      <td>707.0000</td>\n",
       "      <td>767.00</td>\n",
       "      <td>855.00</td>\n",
       "      <td>917.000</td>\n",
       "      <td>999.00</td>\n",
       "    </tr>\n",
       "    <tr>\n",
       "      <td>UnitPrice</td>\n",
       "      <td>270817.0</td>\n",
       "      <td>475.801971</td>\n",
       "      <td>744.496061</td>\n",
       "      <td>1.3282</td>\n",
       "      <td>21.98</td>\n",
       "      <td>54.99</td>\n",
       "      <td>647.994</td>\n",
       "      <td>3578.27</td>\n",
       "    </tr>\n",
       "    <tr>\n",
       "      <td>OrderQty</td>\n",
       "      <td>270817.0</td>\n",
       "      <td>2.434674</td>\n",
       "      <td>2.626952</td>\n",
       "      <td>1.0000</td>\n",
       "      <td>1.00</td>\n",
       "      <td>1.00</td>\n",
       "      <td>3.000</td>\n",
       "      <td>44.00</td>\n",
       "    </tr>\n",
       "  </tbody>\n",
       "</table>\n",
       "</div>"
      ],
      "text/plain": [
       "                count          mean          std         min       25%  \\\n",
       "CustomerId   270817.0  22423.674275  6964.187624  11012.0000  15158.00   \n",
       "TerritoryID  270817.0      2.863066     1.468177      1.0000      1.00   \n",
       "ProductID    270817.0    838.389920    85.490961    707.0000    767.00   \n",
       "UnitPrice    270817.0    475.801971   744.496061      1.3282     21.98   \n",
       "OrderQty     270817.0      2.434674     2.626952      1.0000      1.00   \n",
       "\n",
       "                  50%        75%       max  \n",
       "CustomerId   24352.00  29626.000  30118.00  \n",
       "TerritoryID      4.00      4.000      5.00  \n",
       "ProductID      855.00    917.000    999.00  \n",
       "UnitPrice       54.99    647.994   3578.27  \n",
       "OrderQty         1.00      3.000     44.00  "
      ]
     },
     "execution_count": 8,
     "metadata": {},
     "output_type": "execute_result"
    }
   ],
   "source": [
    "df.describe().transpose()"
   ]
  },
  {
   "cell_type": "code",
   "execution_count": 9,
   "metadata": {},
   "outputs": [
    {
     "data": {
      "image/png": "[encoded data removed]",
      "text/plain": [
       "<Figure size 864x360 with 1 Axes>"
      ]
     },
     "metadata": {
      "needs_background": "light"
     },
     "output_type": "display_data"
    }
   ],
   "source": [
    "sns.distplot(df['OrderQty'],kde=False);"
   ]
  },
  {
   "cell_type": "code",
   "execution_count": 10,
   "metadata": {},
   "outputs": [
    {
     "data": {
      "text/plain": [
       "4    133347\n",
       "1     94711\n",
       "5     15939\n",
       "3     13933\n",
       "2     12887\n",
       "Name: TerritoryID, dtype: int64"
      ]
     },
     "execution_count": 10,
     "metadata": {},
     "output_type": "execute_result"
    }
   ],
   "source": [
    "df['TerritoryID'].value_counts().sort_values(ascending=False)"
   ]
  },
  {
   "cell_type": "code",
   "execution_count": 11,
   "metadata": {},
   "outputs": [
    {
     "data": {
      "text/plain": [
       "870    9210\n",
       "712    6980\n",
       "873    6568\n",
       "711    6412\n",
       "707    6301\n",
       "       ... \n",
       "898      24\n",
       "943      21\n",
       "911      20\n",
       "942      15\n",
       "897       2\n",
       "Name: ProductID, Length: 266, dtype: int64"
      ]
     },
     "execution_count": 11,
     "metadata": {},
     "output_type": "execute_result"
    }
   ],
   "source": [
    "df['ProductID'].value_counts().sort_values(ascending=False)"
   ]
  },
  {
   "cell_type": "code",
   "execution_count": 12,
   "metadata": {},
   "outputs": [
    {
     "data": {
      "text/plain": [
       "270817"
      ]
     },
     "execution_count": 12,
     "metadata": {},
     "output_type": "execute_result"
    }
   ],
   "source": [
    "len(df)"
   ]
  },
  {
   "cell_type": "code",
   "execution_count": 13,
   "metadata": {},
   "outputs": [
    {
     "data": {
      "text/html": [
       "<div>\n",
       "<style scoped>\n",
       "    .dataframe tbody tr th:only-of-type {\n",
       "        vertical-align: middle;\n",
       "    }\n",
       "\n",
       "    .dataframe tbody tr th {\n",
       "        vertical-align: top;\n",
       "    }\n",
       "\n",
       "    .dataframe thead th {\n",
       "        text-align: right;\n",
       "    }\n",
       "</style>\n",
       "<table border=\"1\" class=\"dataframe\">\n",
       "  <thead>\n",
       "    <tr style=\"text-align: right;\">\n",
       "      <th></th>\n",
       "      <th>CustomerId</th>\n",
       "      <th>OrderDate</th>\n",
       "      <th>SalesOrderNumber</th>\n",
       "      <th>TerritoryID</th>\n",
       "      <th>ProductID</th>\n",
       "      <th>UnitPrice</th>\n",
       "      <th>OrderQty</th>\n",
       "    </tr>\n",
       "  </thead>\n",
       "  <tbody>\n",
       "    <tr>\n",
       "      <td>3</td>\n",
       "      <td>11217</td>\n",
       "      <td>2014/01/03 00:00</td>\n",
       "      <td>SO76869</td>\n",
       "      <td>1</td>\n",
       "      <td>771</td>\n",
       "      <td>2039.994</td>\n",
       "      <td>1</td>\n",
       "    </tr>\n",
       "    <tr>\n",
       "      <td>15</td>\n",
       "      <td>11217</td>\n",
       "      <td>2014/01/03 00:00</td>\n",
       "      <td>SO76869</td>\n",
       "      <td>1</td>\n",
       "      <td>771</td>\n",
       "      <td>2039.994</td>\n",
       "      <td>1</td>\n",
       "    </tr>\n",
       "    <tr>\n",
       "      <td>16</td>\n",
       "      <td>11217</td>\n",
       "      <td>2014/01/03 00:00</td>\n",
       "      <td>SO76869</td>\n",
       "      <td>1</td>\n",
       "      <td>775</td>\n",
       "      <td>2024.994</td>\n",
       "      <td>2</td>\n",
       "    </tr>\n",
       "    <tr>\n",
       "      <td>23</td>\n",
       "      <td>11217</td>\n",
       "      <td>2014/01/03 00:00</td>\n",
       "      <td>SO76869</td>\n",
       "      <td>1</td>\n",
       "      <td>774</td>\n",
       "      <td>2039.994</td>\n",
       "      <td>1</td>\n",
       "    </tr>\n",
       "    <tr>\n",
       "      <td>25</td>\n",
       "      <td>11217</td>\n",
       "      <td>2014/01/03 00:00</td>\n",
       "      <td>SO76869</td>\n",
       "      <td>1</td>\n",
       "      <td>777</td>\n",
       "      <td>2024.994</td>\n",
       "      <td>1</td>\n",
       "    </tr>\n",
       "  </tbody>\n",
       "</table>\n",
       "</div>"
      ],
      "text/plain": [
       "    CustomerId         OrderDate SalesOrderNumber  TerritoryID  ProductID  \\\n",
       "3        11217  2014/01/03 00:00          SO76869            1        771   \n",
       "15       11217  2014/01/03 00:00          SO76869            1        771   \n",
       "16       11217  2014/01/03 00:00          SO76869            1        775   \n",
       "23       11217  2014/01/03 00:00          SO76869            1        774   \n",
       "25       11217  2014/01/03 00:00          SO76869            1        777   \n",
       "\n",
       "    UnitPrice  OrderQty  \n",
       "3    2039.994         1  \n",
       "15   2039.994         1  \n",
       "16   2024.994         2  \n",
       "23   2039.994         1  \n",
       "25   2024.994         1  "
      ]
     },
     "execution_count": 13,
     "metadata": {},
     "output_type": "execute_result"
    }
   ],
   "source": [
    "# check for the duplicate rows in the overall dataset #\n",
    "df[df.duplicated()==True].head()"
   ]
  },
  {
   "cell_type": "code",
   "execution_count": 14,
   "metadata": {},
   "outputs": [
    {
     "data": {
      "text/plain": [
       "32004"
      ]
     },
     "execution_count": 14,
     "metadata": {},
     "output_type": "execute_result"
    }
   ],
   "source": [
    "# total duplicate rows #\n",
    "len(df[df.duplicated()==True])"
   ]
  },
  {
   "cell_type": "code",
   "execution_count": 15,
   "metadata": {},
   "outputs": [
    {
     "name": "stdout",
     "output_type": "stream",
     "text": [
      "Total exact duplicate rows in the dataset = 11.8%\n"
     ]
    }
   ],
   "source": [
    "# calculate the %duplicate rows #\n",
    "percent_duplicate = (len(df[df.duplicated()==True]) / len(df)) * 100\n",
    "print (f'Total exact duplicate rows in the dataset = {percent_duplicate:1.3}%')"
   ]
  },
  {
   "cell_type": "code",
   "execution_count": 16,
   "metadata": {},
   "outputs": [],
   "source": [
    "# create a copy of the original dataset #\n",
    "sales = df.copy()"
   ]
  },
  {
   "cell_type": "code",
   "execution_count": 17,
   "metadata": {},
   "outputs": [],
   "source": [
    "# Remove the duplicate rows from the dataset #\n",
    "sales.drop_duplicates(inplace=True,keep='first')"
   ]
  },
  {
   "cell_type": "code",
   "execution_count": 18,
   "metadata": {},
   "outputs": [
    {
     "name": "stdout",
     "output_type": "stream",
     "text": [
      "<class 'pandas.core.frame.DataFrame'>\n",
      "Int64Index: 238813 entries, 0 to 270816\n",
      "Data columns (total 7 columns):\n",
      "CustomerId          238813 non-null int64\n",
      "OrderDate           238813 non-null object\n",
      "SalesOrderNumber    238813 non-null object\n",
      "TerritoryID         238813 non-null int64\n",
      "ProductID           238813 non-null int64\n",
      "UnitPrice           238813 non-null float64\n",
      "OrderQty            238813 non-null int64\n",
      "dtypes: float64(1), int64(4), object(2)\n",
      "memory usage: 14.6+ MB\n"
     ]
    }
   ],
   "source": [
    "sales.info()"
   ]
  },
  {
   "cell_type": "markdown",
   "metadata": {},
   "source": [
    "- All the features are non null "
   ]
  },
  {
   "cell_type": "code",
   "execution_count": 19,
   "metadata": {},
   "outputs": [
    {
     "data": {
      "text/html": [
       "<div>\n",
       "<style scoped>\n",
       "    .dataframe tbody tr th:only-of-type {\n",
       "        vertical-align: middle;\n",
       "    }\n",
       "\n",
       "    .dataframe tbody tr th {\n",
       "        vertical-align: top;\n",
       "    }\n",
       "\n",
       "    .dataframe thead th {\n",
       "        text-align: right;\n",
       "    }\n",
       "</style>\n",
       "<table border=\"1\" class=\"dataframe\">\n",
       "  <thead>\n",
       "    <tr style=\"text-align: right;\">\n",
       "      <th></th>\n",
       "      <th>CustomerId</th>\n",
       "      <th>OrderDate</th>\n",
       "      <th>SalesOrderNumber</th>\n",
       "      <th>TerritoryID</th>\n",
       "      <th>ProductID</th>\n",
       "      <th>UnitPrice</th>\n",
       "      <th>OrderQty</th>\n",
       "    </tr>\n",
       "  </thead>\n",
       "  <tbody>\n",
       "    <tr>\n",
       "      <td>0</td>\n",
       "      <td>11217</td>\n",
       "      <td>2014/01/03 00:00</td>\n",
       "      <td>SO76869</td>\n",
       "      <td>1</td>\n",
       "      <td>771</td>\n",
       "      <td>2039.994</td>\n",
       "      <td>1</td>\n",
       "    </tr>\n",
       "    <tr>\n",
       "      <td>1</td>\n",
       "      <td>11217</td>\n",
       "      <td>2014/01/03 00:00</td>\n",
       "      <td>SO297124</td>\n",
       "      <td>1</td>\n",
       "      <td>996</td>\n",
       "      <td>72.894</td>\n",
       "      <td>3</td>\n",
       "    </tr>\n",
       "    <tr>\n",
       "      <td>2</td>\n",
       "      <td>11217</td>\n",
       "      <td>2014/01/03 00:00</td>\n",
       "      <td>SO485914</td>\n",
       "      <td>1</td>\n",
       "      <td>957</td>\n",
       "      <td>1430.442</td>\n",
       "      <td>4</td>\n",
       "    </tr>\n",
       "    <tr>\n",
       "      <td>4</td>\n",
       "      <td>11217</td>\n",
       "      <td>2014/01/03 00:00</td>\n",
       "      <td>SO485914</td>\n",
       "      <td>1</td>\n",
       "      <td>885</td>\n",
       "      <td>602.346</td>\n",
       "      <td>2</td>\n",
       "    </tr>\n",
       "    <tr>\n",
       "      <td>5</td>\n",
       "      <td>11217</td>\n",
       "      <td>2014/01/03 00:00</td>\n",
       "      <td>SO202729</td>\n",
       "      <td>1</td>\n",
       "      <td>761</td>\n",
       "      <td>469.794</td>\n",
       "      <td>5</td>\n",
       "    </tr>\n",
       "  </tbody>\n",
       "</table>\n",
       "</div>"
      ],
      "text/plain": [
       "   CustomerId         OrderDate SalesOrderNumber  TerritoryID  ProductID  \\\n",
       "0       11217  2014/01/03 00:00          SO76869            1        771   \n",
       "1       11217  2014/01/03 00:00         SO297124            1        996   \n",
       "2       11217  2014/01/03 00:00         SO485914            1        957   \n",
       "4       11217  2014/01/03 00:00         SO485914            1        885   \n",
       "5       11217  2014/01/03 00:00         SO202729            1        761   \n",
       "\n",
       "   UnitPrice  OrderQty  \n",
       "0   2039.994         1  \n",
       "1     72.894         3  \n",
       "2   1430.442         4  \n",
       "4    602.346         2  \n",
       "5    469.794         5  "
      ]
     },
     "execution_count": 19,
     "metadata": {},
     "output_type": "execute_result"
    }
   ],
   "source": [
    "sales.head()"
   ]
  },
  {
   "cell_type": "code",
   "execution_count": 20,
   "metadata": {},
   "outputs": [
    {
     "data": {
      "text/html": [
       "<div>\n",
       "<style scoped>\n",
       "    .dataframe tbody tr th:only-of-type {\n",
       "        vertical-align: middle;\n",
       "    }\n",
       "\n",
       "    .dataframe tbody tr th {\n",
       "        vertical-align: top;\n",
       "    }\n",
       "\n",
       "    .dataframe thead th {\n",
       "        text-align: right;\n",
       "    }\n",
       "</style>\n",
       "<table border=\"1\" class=\"dataframe\">\n",
       "  <thead>\n",
       "    <tr style=\"text-align: right;\">\n",
       "      <th></th>\n",
       "      <th>CustomerId</th>\n",
       "      <th>OrderDate</th>\n",
       "      <th>SalesOrderNumber</th>\n",
       "      <th>TerritoryID</th>\n",
       "      <th>ProductID</th>\n",
       "      <th>UnitPrice</th>\n",
       "      <th>OrderQty</th>\n",
       "    </tr>\n",
       "  </thead>\n",
       "  <tbody>\n",
       "    <tr>\n",
       "      <td>270812</td>\n",
       "      <td>29597</td>\n",
       "      <td>2015/12/25 00:00</td>\n",
       "      <td>SO409300</td>\n",
       "      <td>5</td>\n",
       "      <td>990</td>\n",
       "      <td>323.994</td>\n",
       "      <td>3</td>\n",
       "    </tr>\n",
       "    <tr>\n",
       "      <td>270813</td>\n",
       "      <td>29880</td>\n",
       "      <td>2015/12/25 00:00</td>\n",
       "      <td>SO472280</td>\n",
       "      <td>5</td>\n",
       "      <td>711</td>\n",
       "      <td>34.990</td>\n",
       "      <td>1</td>\n",
       "    </tr>\n",
       "    <tr>\n",
       "      <td>270814</td>\n",
       "      <td>30085</td>\n",
       "      <td>2015/12/25 00:00</td>\n",
       "      <td>SO472235</td>\n",
       "      <td>5</td>\n",
       "      <td>711</td>\n",
       "      <td>34.990</td>\n",
       "      <td>1</td>\n",
       "    </tr>\n",
       "    <tr>\n",
       "      <td>270815</td>\n",
       "      <td>29561</td>\n",
       "      <td>2015/12/25 00:00</td>\n",
       "      <td>SO377943</td>\n",
       "      <td>5</td>\n",
       "      <td>759</td>\n",
       "      <td>469.794</td>\n",
       "      <td>8</td>\n",
       "    </tr>\n",
       "    <tr>\n",
       "      <td>270816</td>\n",
       "      <td>29896</td>\n",
       "      <td>2015/12/25 00:00</td>\n",
       "      <td>SO472326</td>\n",
       "      <td>5</td>\n",
       "      <td>930</td>\n",
       "      <td>35.000</td>\n",
       "      <td>1</td>\n",
       "    </tr>\n",
       "  </tbody>\n",
       "</table>\n",
       "</div>"
      ],
      "text/plain": [
       "        CustomerId         OrderDate SalesOrderNumber  TerritoryID  ProductID  \\\n",
       "270812       29597  2015/12/25 00:00         SO409300            5        990   \n",
       "270813       29880  2015/12/25 00:00         SO472280            5        711   \n",
       "270814       30085  2015/12/25 00:00         SO472235            5        711   \n",
       "270815       29561  2015/12/25 00:00         SO377943            5        759   \n",
       "270816       29896  2015/12/25 00:00         SO472326            5        930   \n",
       "\n",
       "        UnitPrice  OrderQty  \n",
       "270812    323.994         3  \n",
       "270813     34.990         1  \n",
       "270814     34.990         1  \n",
       "270815    469.794         8  \n",
       "270816     35.000         1  "
      ]
     },
     "execution_count": 20,
     "metadata": {},
     "output_type": "execute_result"
    }
   ],
   "source": [
    "sales.tail()"
   ]
  },
  {
   "cell_type": "markdown",
   "metadata": {},
   "source": [
    "### Feature Engineering "
   ]
  },
  {
   "cell_type": "markdown",
   "metadata": {},
   "source": [
    "#### Add the US holidays"
   ]
  },
  {
   "cell_type": "code",
   "execution_count": 21,
   "metadata": {},
   "outputs": [],
   "source": [
    "from datetime import date\n",
    "import holidays"
   ]
  },
  {
   "cell_type": "code",
   "execution_count": 22,
   "metadata": {},
   "outputs": [],
   "source": [
    "# Fetch US holidays for the years of interest and store in a list #\n",
    "holiday = [] \n",
    "\n",
    "for hol in holidays.UnitedStates(years = [2014,2015,2016]).keys():\n",
    "    holiday.append(hol)"
   ]
  },
  {
   "cell_type": "code",
   "execution_count": 23,
   "metadata": {},
   "outputs": [
    {
     "name": "stdout",
     "output_type": "stream",
     "text": [
      "(datetime.date(2016, 1, 1), \"New Year's Day\")\n",
      "(datetime.date(2016, 1, 18), 'Martin Luther King, Jr. Day')\n",
      "(datetime.date(2016, 2, 15), \"Washington's Birthday\")\n",
      "(datetime.date(2016, 5, 30), 'Memorial Day')\n",
      "(datetime.date(2016, 7, 4), 'Independence Day')\n",
      "(datetime.date(2016, 9, 5), 'Labor Day')\n",
      "(datetime.date(2016, 10, 10), 'Columbus Day')\n",
      "(datetime.date(2016, 11, 11), 'Veterans Day')\n",
      "(datetime.date(2016, 11, 24), 'Thanksgiving')\n",
      "(datetime.date(2016, 12, 25), 'Christmas Day')\n",
      "(datetime.date(2016, 12, 26), 'Christmas Day (Observed)')\n",
      "(datetime.date(2014, 1, 1), \"New Year's Day\")\n",
      "(datetime.date(2014, 1, 20), 'Martin Luther King, Jr. Day')\n",
      "(datetime.date(2014, 2, 17), \"Washington's Birthday\")\n",
      "(datetime.date(2014, 5, 26), 'Memorial Day')\n",
      "(datetime.date(2014, 7, 4), 'Independence Day')\n",
      "(datetime.date(2014, 9, 1), 'Labor Day')\n",
      "(datetime.date(2014, 10, 13), 'Columbus Day')\n",
      "(datetime.date(2014, 11, 11), 'Veterans Day')\n",
      "(datetime.date(2014, 11, 27), 'Thanksgiving')\n",
      "(datetime.date(2014, 12, 25), 'Christmas Day')\n",
      "(datetime.date(2015, 1, 1), \"New Year's Day\")\n",
      "(datetime.date(2015, 1, 19), 'Martin Luther King, Jr. Day')\n",
      "(datetime.date(2015, 2, 16), \"Washington's Birthday\")\n",
      "(datetime.date(2015, 5, 25), 'Memorial Day')\n",
      "(datetime.date(2015, 7, 4), 'Independence Day')\n",
      "(datetime.date(2015, 7, 3), 'Independence Day (Observed)')\n",
      "(datetime.date(2015, 9, 7), 'Labor Day')\n",
      "(datetime.date(2015, 10, 12), 'Columbus Day')\n",
      "(datetime.date(2015, 11, 11), 'Veterans Day')\n",
      "(datetime.date(2015, 11, 26), 'Thanksgiving')\n",
      "(datetime.date(2015, 12, 25), 'Christmas Day')\n"
     ]
    }
   ],
   "source": [
    "# print the US holidays in 2014 to 2016 #\n",
    "for hol in holidays.UnitedStates(years = [2014,2015,2016]).items():\n",
    "    print (hol)"
   ]
  },
  {
   "cell_type": "code",
   "execution_count": 24,
   "metadata": {},
   "outputs": [
    {
     "data": {
      "text/plain": [
       "Int64Index([     0,      1,      2,      4,      5,      6,      7,      8,\n",
       "                 9,     10,\n",
       "            ...\n",
       "            270807, 270808, 270809, 270810, 270811, 270812, 270813, 270814,\n",
       "            270815, 270816],\n",
       "           dtype='int64', length=238813)"
      ]
     },
     "execution_count": 24,
     "metadata": {},
     "output_type": "execute_result"
    }
   ],
   "source": [
    "sales.index"
   ]
  },
  {
   "cell_type": "markdown",
   "metadata": {},
   "source": [
    "- The indices are not sequential due to the removal of the duplicate rows\n",
    "- Example, there is no index 3"
   ]
  },
  {
   "cell_type": "code",
   "execution_count": 25,
   "metadata": {},
   "outputs": [
    {
     "data": {
      "text/plain": [
       "Index(['CustomerId', 'OrderDate', 'SalesOrderNumber', 'TerritoryID',\n",
       "       'ProductID', 'UnitPrice', 'OrderQty'],\n",
       "      dtype='object')"
      ]
     },
     "execution_count": 25,
     "metadata": {},
     "output_type": "execute_result"
    }
   ],
   "source": [
    "sales.columns"
   ]
  },
  {
   "cell_type": "code",
   "execution_count": 26,
   "metadata": {},
   "outputs": [],
   "source": [
    "# reset the index #\n",
    "sales.reset_index(inplace=True)"
   ]
  },
  {
   "cell_type": "code",
   "execution_count": 27,
   "metadata": {},
   "outputs": [
    {
     "data": {
      "text/plain": [
       "Index(['index', 'CustomerId', 'OrderDate', 'SalesOrderNumber', 'TerritoryID',\n",
       "       'ProductID', 'UnitPrice', 'OrderQty'],\n",
       "      dtype='object')"
      ]
     },
     "execution_count": 27,
     "metadata": {},
     "output_type": "execute_result"
    }
   ],
   "source": [
    "sales.columns"
   ]
  },
  {
   "cell_type": "code",
   "execution_count": 28,
   "metadata": {},
   "outputs": [
    {
     "data": {
      "text/html": [
       "<div>\n",
       "<style scoped>\n",
       "    .dataframe tbody tr th:only-of-type {\n",
       "        vertical-align: middle;\n",
       "    }\n",
       "\n",
       "    .dataframe tbody tr th {\n",
       "        vertical-align: top;\n",
       "    }\n",
       "\n",
       "    .dataframe thead th {\n",
       "        text-align: right;\n",
       "    }\n",
       "</style>\n",
       "<table border=\"1\" class=\"dataframe\">\n",
       "  <thead>\n",
       "    <tr style=\"text-align: right;\">\n",
       "      <th></th>\n",
       "      <th>index</th>\n",
       "      <th>CustomerId</th>\n",
       "      <th>OrderDate</th>\n",
       "      <th>SalesOrderNumber</th>\n",
       "      <th>TerritoryID</th>\n",
       "      <th>ProductID</th>\n",
       "      <th>UnitPrice</th>\n",
       "      <th>OrderQty</th>\n",
       "    </tr>\n",
       "  </thead>\n",
       "  <tbody>\n",
       "    <tr>\n",
       "      <td>0</td>\n",
       "      <td>0</td>\n",
       "      <td>11217</td>\n",
       "      <td>2014/01/03 00:00</td>\n",
       "      <td>SO76869</td>\n",
       "      <td>1</td>\n",
       "      <td>771</td>\n",
       "      <td>2039.994</td>\n",
       "      <td>1</td>\n",
       "    </tr>\n",
       "    <tr>\n",
       "      <td>1</td>\n",
       "      <td>1</td>\n",
       "      <td>11217</td>\n",
       "      <td>2014/01/03 00:00</td>\n",
       "      <td>SO297124</td>\n",
       "      <td>1</td>\n",
       "      <td>996</td>\n",
       "      <td>72.894</td>\n",
       "      <td>3</td>\n",
       "    </tr>\n",
       "    <tr>\n",
       "      <td>2</td>\n",
       "      <td>2</td>\n",
       "      <td>11217</td>\n",
       "      <td>2014/01/03 00:00</td>\n",
       "      <td>SO485914</td>\n",
       "      <td>1</td>\n",
       "      <td>957</td>\n",
       "      <td>1430.442</td>\n",
       "      <td>4</td>\n",
       "    </tr>\n",
       "    <tr>\n",
       "      <td>3</td>\n",
       "      <td>4</td>\n",
       "      <td>11217</td>\n",
       "      <td>2014/01/03 00:00</td>\n",
       "      <td>SO485914</td>\n",
       "      <td>1</td>\n",
       "      <td>885</td>\n",
       "      <td>602.346</td>\n",
       "      <td>2</td>\n",
       "    </tr>\n",
       "    <tr>\n",
       "      <td>4</td>\n",
       "      <td>5</td>\n",
       "      <td>11217</td>\n",
       "      <td>2014/01/03 00:00</td>\n",
       "      <td>SO202729</td>\n",
       "      <td>1</td>\n",
       "      <td>761</td>\n",
       "      <td>469.794</td>\n",
       "      <td>5</td>\n",
       "    </tr>\n",
       "  </tbody>\n",
       "</table>\n",
       "</div>"
      ],
      "text/plain": [
       "   index  CustomerId         OrderDate SalesOrderNumber  TerritoryID  \\\n",
       "0      0       11217  2014/01/03 00:00          SO76869            1   \n",
       "1      1       11217  2014/01/03 00:00         SO297124            1   \n",
       "2      2       11217  2014/01/03 00:00         SO485914            1   \n",
       "3      4       11217  2014/01/03 00:00         SO485914            1   \n",
       "4      5       11217  2014/01/03 00:00         SO202729            1   \n",
       "\n",
       "   ProductID  UnitPrice  OrderQty  \n",
       "0        771   2039.994         1  \n",
       "1        996     72.894         3  \n",
       "2        957   1430.442         4  \n",
       "3        885    602.346         2  \n",
       "4        761    469.794         5  "
      ]
     },
     "execution_count": 28,
     "metadata": {},
     "output_type": "execute_result"
    }
   ],
   "source": [
    "sales.head()"
   ]
  },
  {
   "cell_type": "code",
   "execution_count": 29,
   "metadata": {},
   "outputs": [],
   "source": [
    "# remove the unwanted index converted to columns, due to reset_index #\n",
    "sales.drop(['index'],inplace=True,axis=1)"
   ]
  },
  {
   "cell_type": "code",
   "execution_count": 30,
   "metadata": {},
   "outputs": [
    {
     "data": {
      "text/html": [
       "<div>\n",
       "<style scoped>\n",
       "    .dataframe tbody tr th:only-of-type {\n",
       "        vertical-align: middle;\n",
       "    }\n",
       "\n",
       "    .dataframe tbody tr th {\n",
       "        vertical-align: top;\n",
       "    }\n",
       "\n",
       "    .dataframe thead th {\n",
       "        text-align: right;\n",
       "    }\n",
       "</style>\n",
       "<table border=\"1\" class=\"dataframe\">\n",
       "  <thead>\n",
       "    <tr style=\"text-align: right;\">\n",
       "      <th></th>\n",
       "      <th>CustomerId</th>\n",
       "      <th>OrderDate</th>\n",
       "      <th>SalesOrderNumber</th>\n",
       "      <th>TerritoryID</th>\n",
       "      <th>ProductID</th>\n",
       "      <th>UnitPrice</th>\n",
       "      <th>OrderQty</th>\n",
       "    </tr>\n",
       "  </thead>\n",
       "  <tbody>\n",
       "    <tr>\n",
       "      <td>0</td>\n",
       "      <td>11217</td>\n",
       "      <td>2014/01/03 00:00</td>\n",
       "      <td>SO76869</td>\n",
       "      <td>1</td>\n",
       "      <td>771</td>\n",
       "      <td>2039.994</td>\n",
       "      <td>1</td>\n",
       "    </tr>\n",
       "    <tr>\n",
       "      <td>1</td>\n",
       "      <td>11217</td>\n",
       "      <td>2014/01/03 00:00</td>\n",
       "      <td>SO297124</td>\n",
       "      <td>1</td>\n",
       "      <td>996</td>\n",
       "      <td>72.894</td>\n",
       "      <td>3</td>\n",
       "    </tr>\n",
       "    <tr>\n",
       "      <td>2</td>\n",
       "      <td>11217</td>\n",
       "      <td>2014/01/03 00:00</td>\n",
       "      <td>SO485914</td>\n",
       "      <td>1</td>\n",
       "      <td>957</td>\n",
       "      <td>1430.442</td>\n",
       "      <td>4</td>\n",
       "    </tr>\n",
       "    <tr>\n",
       "      <td>3</td>\n",
       "      <td>11217</td>\n",
       "      <td>2014/01/03 00:00</td>\n",
       "      <td>SO485914</td>\n",
       "      <td>1</td>\n",
       "      <td>885</td>\n",
       "      <td>602.346</td>\n",
       "      <td>2</td>\n",
       "    </tr>\n",
       "    <tr>\n",
       "      <td>4</td>\n",
       "      <td>11217</td>\n",
       "      <td>2014/01/03 00:00</td>\n",
       "      <td>SO202729</td>\n",
       "      <td>1</td>\n",
       "      <td>761</td>\n",
       "      <td>469.794</td>\n",
       "      <td>5</td>\n",
       "    </tr>\n",
       "  </tbody>\n",
       "</table>\n",
       "</div>"
      ],
      "text/plain": [
       "   CustomerId         OrderDate SalesOrderNumber  TerritoryID  ProductID  \\\n",
       "0       11217  2014/01/03 00:00          SO76869            1        771   \n",
       "1       11217  2014/01/03 00:00         SO297124            1        996   \n",
       "2       11217  2014/01/03 00:00         SO485914            1        957   \n",
       "3       11217  2014/01/03 00:00         SO485914            1        885   \n",
       "4       11217  2014/01/03 00:00         SO202729            1        761   \n",
       "\n",
       "   UnitPrice  OrderQty  \n",
       "0   2039.994         1  \n",
       "1     72.894         3  \n",
       "2   1430.442         4  \n",
       "3    602.346         2  \n",
       "4    469.794         5  "
      ]
     },
     "execution_count": 30,
     "metadata": {},
     "output_type": "execute_result"
    }
   ],
   "source": [
    "sales.head()"
   ]
  },
  {
   "cell_type": "code",
   "execution_count": 31,
   "metadata": {},
   "outputs": [
    {
     "data": {
      "text/plain": [
       "RangeIndex(start=0, stop=238813, step=1)"
      ]
     },
     "execution_count": 31,
     "metadata": {},
     "output_type": "execute_result"
    }
   ],
   "source": [
    "sales.index"
   ]
  },
  {
   "cell_type": "code",
   "execution_count": 32,
   "metadata": {},
   "outputs": [],
   "source": [
    "# change the datatype of date column to datetime column #\n",
    "sales['OrderDate'] = pd.to_datetime(sales['OrderDate'])"
   ]
  },
  {
   "cell_type": "code",
   "execution_count": 33,
   "metadata": {},
   "outputs": [
    {
     "name": "stdout",
     "output_type": "stream",
     "text": [
      "<class 'pandas.core.frame.DataFrame'>\n",
      "RangeIndex: 238813 entries, 0 to 238812\n",
      "Data columns (total 7 columns):\n",
      "CustomerId          238813 non-null int64\n",
      "OrderDate           238813 non-null datetime64[ns]\n",
      "SalesOrderNumber    238813 non-null object\n",
      "TerritoryID         238813 non-null int64\n",
      "ProductID           238813 non-null int64\n",
      "UnitPrice           238813 non-null float64\n",
      "OrderQty            238813 non-null int64\n",
      "dtypes: datetime64[ns](1), float64(1), int64(4), object(1)\n",
      "memory usage: 12.8+ MB\n"
     ]
    }
   ],
   "source": [
    "sales.info()"
   ]
  },
  {
   "cell_type": "markdown",
   "metadata": {},
   "source": [
    "- The datatype of OrderDate is changed to datetime64"
   ]
  },
  {
   "cell_type": "code",
   "execution_count": 34,
   "metadata": {},
   "outputs": [],
   "source": [
    "# Drop the CustomerId and SalesOrderNumber as they are invoice fields #\n",
    "sales.drop(['CustomerId','SalesOrderNumber'],inplace=True,axis=1)"
   ]
  },
  {
   "cell_type": "code",
   "execution_count": 35,
   "metadata": {},
   "outputs": [
    {
     "data": {
      "text/plain": [
       "Index(['OrderDate', 'TerritoryID', 'ProductID', 'UnitPrice', 'OrderQty'], dtype='object')"
      ]
     },
     "execution_count": 35,
     "metadata": {},
     "output_type": "execute_result"
    }
   ],
   "source": [
    "sales.columns"
   ]
  },
  {
   "cell_type": "code",
   "execution_count": 36,
   "metadata": {},
   "outputs": [
    {
     "data": {
      "text/html": [
       "<div>\n",
       "<style scoped>\n",
       "    .dataframe tbody tr th:only-of-type {\n",
       "        vertical-align: middle;\n",
       "    }\n",
       "\n",
       "    .dataframe tbody tr th {\n",
       "        vertical-align: top;\n",
       "    }\n",
       "\n",
       "    .dataframe thead th {\n",
       "        text-align: right;\n",
       "    }\n",
       "</style>\n",
       "<table border=\"1\" class=\"dataframe\">\n",
       "  <thead>\n",
       "    <tr style=\"text-align: right;\">\n",
       "      <th></th>\n",
       "      <th>OrderDate</th>\n",
       "      <th>TerritoryID</th>\n",
       "      <th>ProductID</th>\n",
       "      <th>UnitPrice</th>\n",
       "      <th>OrderQty</th>\n",
       "    </tr>\n",
       "  </thead>\n",
       "  <tbody>\n",
       "    <tr>\n",
       "      <td>0</td>\n",
       "      <td>2014-01-03</td>\n",
       "      <td>1</td>\n",
       "      <td>771</td>\n",
       "      <td>2039.994</td>\n",
       "      <td>1</td>\n",
       "    </tr>\n",
       "    <tr>\n",
       "      <td>1</td>\n",
       "      <td>2014-01-03</td>\n",
       "      <td>1</td>\n",
       "      <td>996</td>\n",
       "      <td>72.894</td>\n",
       "      <td>3</td>\n",
       "    </tr>\n",
       "    <tr>\n",
       "      <td>2</td>\n",
       "      <td>2014-01-03</td>\n",
       "      <td>1</td>\n",
       "      <td>957</td>\n",
       "      <td>1430.442</td>\n",
       "      <td>4</td>\n",
       "    </tr>\n",
       "    <tr>\n",
       "      <td>3</td>\n",
       "      <td>2014-01-03</td>\n",
       "      <td>1</td>\n",
       "      <td>885</td>\n",
       "      <td>602.346</td>\n",
       "      <td>2</td>\n",
       "    </tr>\n",
       "    <tr>\n",
       "      <td>4</td>\n",
       "      <td>2014-01-03</td>\n",
       "      <td>1</td>\n",
       "      <td>761</td>\n",
       "      <td>469.794</td>\n",
       "      <td>5</td>\n",
       "    </tr>\n",
       "  </tbody>\n",
       "</table>\n",
       "</div>"
      ],
      "text/plain": [
       "   OrderDate  TerritoryID  ProductID  UnitPrice  OrderQty\n",
       "0 2014-01-03            1        771   2039.994         1\n",
       "1 2014-01-03            1        996     72.894         3\n",
       "2 2014-01-03            1        957   1430.442         4\n",
       "3 2014-01-03            1        885    602.346         2\n",
       "4 2014-01-03            1        761    469.794         5"
      ]
     },
     "execution_count": 36,
     "metadata": {},
     "output_type": "execute_result"
    }
   ],
   "source": [
    "sales.head()"
   ]
  },
  {
   "cell_type": "markdown",
   "metadata": {},
   "source": [
    "### Add Holidays\n",
    "- 1 if the date is a holiday \n",
    "- 0 if the date is Not a holiday"
   ]
  },
  {
   "cell_type": "code",
   "execution_count": 37,
   "metadata": {},
   "outputs": [],
   "source": [
    "# check each row date if it is in the holiday list of 2014 to 2016 #\n",
    "h = []\n",
    "\n",
    "for i in range(len(sales)):\n",
    "    if (sales['OrderDate'][i] in holiday):\n",
    "        h.append(1)\n",
    "    else:\n",
    "        h.append(0)"
   ]
  },
  {
   "cell_type": "code",
   "execution_count": 38,
   "metadata": {},
   "outputs": [],
   "source": [
    "sales['holiday'] = h"
   ]
  },
  {
   "cell_type": "code",
   "execution_count": 39,
   "metadata": {},
   "outputs": [
    {
     "data": {
      "text/html": [
       "<div>\n",
       "<style scoped>\n",
       "    .dataframe tbody tr th:only-of-type {\n",
       "        vertical-align: middle;\n",
       "    }\n",
       "\n",
       "    .dataframe tbody tr th {\n",
       "        vertical-align: top;\n",
       "    }\n",
       "\n",
       "    .dataframe thead th {\n",
       "        text-align: right;\n",
       "    }\n",
       "</style>\n",
       "<table border=\"1\" class=\"dataframe\">\n",
       "  <thead>\n",
       "    <tr style=\"text-align: right;\">\n",
       "      <th></th>\n",
       "      <th>OrderDate</th>\n",
       "      <th>TerritoryID</th>\n",
       "      <th>ProductID</th>\n",
       "      <th>UnitPrice</th>\n",
       "      <th>OrderQty</th>\n",
       "      <th>holiday</th>\n",
       "    </tr>\n",
       "  </thead>\n",
       "  <tbody>\n",
       "    <tr>\n",
       "      <td>0</td>\n",
       "      <td>2014-01-03</td>\n",
       "      <td>1</td>\n",
       "      <td>771</td>\n",
       "      <td>2039.994</td>\n",
       "      <td>1</td>\n",
       "      <td>0</td>\n",
       "    </tr>\n",
       "    <tr>\n",
       "      <td>1</td>\n",
       "      <td>2014-01-03</td>\n",
       "      <td>1</td>\n",
       "      <td>996</td>\n",
       "      <td>72.894</td>\n",
       "      <td>3</td>\n",
       "      <td>0</td>\n",
       "    </tr>\n",
       "    <tr>\n",
       "      <td>2</td>\n",
       "      <td>2014-01-03</td>\n",
       "      <td>1</td>\n",
       "      <td>957</td>\n",
       "      <td>1430.442</td>\n",
       "      <td>4</td>\n",
       "      <td>0</td>\n",
       "    </tr>\n",
       "    <tr>\n",
       "      <td>3</td>\n",
       "      <td>2014-01-03</td>\n",
       "      <td>1</td>\n",
       "      <td>885</td>\n",
       "      <td>602.346</td>\n",
       "      <td>2</td>\n",
       "      <td>0</td>\n",
       "    </tr>\n",
       "    <tr>\n",
       "      <td>4</td>\n",
       "      <td>2014-01-03</td>\n",
       "      <td>1</td>\n",
       "      <td>761</td>\n",
       "      <td>469.794</td>\n",
       "      <td>5</td>\n",
       "      <td>0</td>\n",
       "    </tr>\n",
       "  </tbody>\n",
       "</table>\n",
       "</div>"
      ],
      "text/plain": [
       "   OrderDate  TerritoryID  ProductID  UnitPrice  OrderQty  holiday\n",
       "0 2014-01-03            1        771   2039.994         1        0\n",
       "1 2014-01-03            1        996     72.894         3        0\n",
       "2 2014-01-03            1        957   1430.442         4        0\n",
       "3 2014-01-03            1        885    602.346         2        0\n",
       "4 2014-01-03            1        761    469.794         5        0"
      ]
     },
     "execution_count": 39,
     "metadata": {},
     "output_type": "execute_result"
    }
   ],
   "source": [
    "sales.head()"
   ]
  },
  {
   "cell_type": "code",
   "execution_count": 40,
   "metadata": {},
   "outputs": [
    {
     "data": {
      "text/html": [
       "<div>\n",
       "<style scoped>\n",
       "    .dataframe tbody tr th:only-of-type {\n",
       "        vertical-align: middle;\n",
       "    }\n",
       "\n",
       "    .dataframe tbody tr th {\n",
       "        vertical-align: top;\n",
       "    }\n",
       "\n",
       "    .dataframe thead th {\n",
       "        text-align: right;\n",
       "    }\n",
       "</style>\n",
       "<table border=\"1\" class=\"dataframe\">\n",
       "  <thead>\n",
       "    <tr style=\"text-align: right;\">\n",
       "      <th></th>\n",
       "      <th>OrderDate</th>\n",
       "      <th>TerritoryID</th>\n",
       "      <th>ProductID</th>\n",
       "      <th>UnitPrice</th>\n",
       "      <th>OrderQty</th>\n",
       "      <th>holiday</th>\n",
       "    </tr>\n",
       "  </thead>\n",
       "  <tbody>\n",
       "    <tr>\n",
       "      <td>1157</td>\n",
       "      <td>2014-02-17</td>\n",
       "      <td>1</td>\n",
       "      <td>707</td>\n",
       "      <td>34.99</td>\n",
       "      <td>1</td>\n",
       "      <td>1</td>\n",
       "    </tr>\n",
       "    <tr>\n",
       "      <td>1158</td>\n",
       "      <td>2014-02-17</td>\n",
       "      <td>1</td>\n",
       "      <td>753</td>\n",
       "      <td>3578.27</td>\n",
       "      <td>1</td>\n",
       "      <td>1</td>\n",
       "    </tr>\n",
       "    <tr>\n",
       "      <td>1159</td>\n",
       "      <td>2014-02-17</td>\n",
       "      <td>1</td>\n",
       "      <td>870</td>\n",
       "      <td>4.99</td>\n",
       "      <td>1</td>\n",
       "      <td>1</td>\n",
       "    </tr>\n",
       "    <tr>\n",
       "      <td>1160</td>\n",
       "      <td>2014-02-17</td>\n",
       "      <td>1</td>\n",
       "      <td>883</td>\n",
       "      <td>53.99</td>\n",
       "      <td>1</td>\n",
       "      <td>1</td>\n",
       "    </tr>\n",
       "    <tr>\n",
       "      <td>1161</td>\n",
       "      <td>2014-02-17</td>\n",
       "      <td>1</td>\n",
       "      <td>922</td>\n",
       "      <td>3.99</td>\n",
       "      <td>1</td>\n",
       "      <td>1</td>\n",
       "    </tr>\n",
       "  </tbody>\n",
       "</table>\n",
       "</div>"
      ],
      "text/plain": [
       "      OrderDate  TerritoryID  ProductID  UnitPrice  OrderQty  holiday\n",
       "1157 2014-02-17            1        707      34.99         1        1\n",
       "1158 2014-02-17            1        753    3578.27         1        1\n",
       "1159 2014-02-17            1        870       4.99         1        1\n",
       "1160 2014-02-17            1        883      53.99         1        1\n",
       "1161 2014-02-17            1        922       3.99         1        1"
      ]
     },
     "execution_count": 40,
     "metadata": {},
     "output_type": "execute_result"
    }
   ],
   "source": [
    "sales[sales['holiday']==1].head()"
   ]
  },
  {
   "cell_type": "code",
   "execution_count": 41,
   "metadata": {},
   "outputs": [
    {
     "data": {
      "text/plain": [
       "13811"
      ]
     },
     "execution_count": 41,
     "metadata": {},
     "output_type": "execute_result"
    }
   ],
   "source": [
    "len(sales[sales['holiday']==1])"
   ]
  },
  {
   "cell_type": "markdown",
   "metadata": {},
   "source": [
    "- There are 13811 Order Dates which fall on a holiday "
   ]
  },
  {
   "cell_type": "markdown",
   "metadata": {},
   "source": [
    "### Add the following based on the OrderDate\n",
    "- Year of sales \n",
    "- Weeknumber \n",
    "- Month of sales"
   ]
  },
  {
   "cell_type": "code",
   "execution_count": 42,
   "metadata": {},
   "outputs": [],
   "source": [
    "# weekday #\n",
    "wkday = []\n",
    "for i in range(len(sales)):\n",
    "    wkday.append(sales['OrderDate'][i].weekday())   \n",
    "    \n",
    "# year #\n",
    "yr = []\n",
    "for i in range(len(sales)):\n",
    "    yr.append(sales['OrderDate'][i].year)   \n",
    "    \n",
    "# month #\n",
    "mon = []\n",
    "for i in range(len(sales)):\n",
    "    mon.append(sales['OrderDate'][i].month)      \n",
    "    "
   ]
  },
  {
   "cell_type": "code",
   "execution_count": 43,
   "metadata": {},
   "outputs": [],
   "source": [
    "sales['day'] = wkday\n",
    "sales['year'] = yr\n",
    "sales['month'] = mon"
   ]
  },
  {
   "cell_type": "code",
   "execution_count": 44,
   "metadata": {},
   "outputs": [
    {
     "data": {
      "text/html": [
       "<div>\n",
       "<style scoped>\n",
       "    .dataframe tbody tr th:only-of-type {\n",
       "        vertical-align: middle;\n",
       "    }\n",
       "\n",
       "    .dataframe tbody tr th {\n",
       "        vertical-align: top;\n",
       "    }\n",
       "\n",
       "    .dataframe thead th {\n",
       "        text-align: right;\n",
       "    }\n",
       "</style>\n",
       "<table border=\"1\" class=\"dataframe\">\n",
       "  <thead>\n",
       "    <tr style=\"text-align: right;\">\n",
       "      <th></th>\n",
       "      <th>OrderDate</th>\n",
       "      <th>TerritoryID</th>\n",
       "      <th>ProductID</th>\n",
       "      <th>UnitPrice</th>\n",
       "      <th>OrderQty</th>\n",
       "      <th>holiday</th>\n",
       "      <th>day</th>\n",
       "      <th>year</th>\n",
       "      <th>month</th>\n",
       "    </tr>\n",
       "  </thead>\n",
       "  <tbody>\n",
       "    <tr>\n",
       "      <td>0</td>\n",
       "      <td>2014-01-03</td>\n",
       "      <td>1</td>\n",
       "      <td>771</td>\n",
       "      <td>2039.994</td>\n",
       "      <td>1</td>\n",
       "      <td>0</td>\n",
       "      <td>4</td>\n",
       "      <td>2014</td>\n",
       "      <td>1</td>\n",
       "    </tr>\n",
       "    <tr>\n",
       "      <td>1</td>\n",
       "      <td>2014-01-03</td>\n",
       "      <td>1</td>\n",
       "      <td>996</td>\n",
       "      <td>72.894</td>\n",
       "      <td>3</td>\n",
       "      <td>0</td>\n",
       "      <td>4</td>\n",
       "      <td>2014</td>\n",
       "      <td>1</td>\n",
       "    </tr>\n",
       "    <tr>\n",
       "      <td>2</td>\n",
       "      <td>2014-01-03</td>\n",
       "      <td>1</td>\n",
       "      <td>957</td>\n",
       "      <td>1430.442</td>\n",
       "      <td>4</td>\n",
       "      <td>0</td>\n",
       "      <td>4</td>\n",
       "      <td>2014</td>\n",
       "      <td>1</td>\n",
       "    </tr>\n",
       "    <tr>\n",
       "      <td>3</td>\n",
       "      <td>2014-01-03</td>\n",
       "      <td>1</td>\n",
       "      <td>885</td>\n",
       "      <td>602.346</td>\n",
       "      <td>2</td>\n",
       "      <td>0</td>\n",
       "      <td>4</td>\n",
       "      <td>2014</td>\n",
       "      <td>1</td>\n",
       "    </tr>\n",
       "    <tr>\n",
       "      <td>4</td>\n",
       "      <td>2014-01-03</td>\n",
       "      <td>1</td>\n",
       "      <td>761</td>\n",
       "      <td>469.794</td>\n",
       "      <td>5</td>\n",
       "      <td>0</td>\n",
       "      <td>4</td>\n",
       "      <td>2014</td>\n",
       "      <td>1</td>\n",
       "    </tr>\n",
       "  </tbody>\n",
       "</table>\n",
       "</div>"
      ],
      "text/plain": [
       "   OrderDate  TerritoryID  ProductID  UnitPrice  OrderQty  holiday  day  year  \\\n",
       "0 2014-01-03            1        771   2039.994         1        0    4  2014   \n",
       "1 2014-01-03            1        996     72.894         3        0    4  2014   \n",
       "2 2014-01-03            1        957   1430.442         4        0    4  2014   \n",
       "3 2014-01-03            1        885    602.346         2        0    4  2014   \n",
       "4 2014-01-03            1        761    469.794         5        0    4  2014   \n",
       "\n",
       "   month  \n",
       "0      1  \n",
       "1      1  \n",
       "2      1  \n",
       "3      1  \n",
       "4      1  "
      ]
     },
     "execution_count": 44,
     "metadata": {},
     "output_type": "execute_result"
    }
   ],
   "source": [
    "sales.head()"
   ]
  },
  {
   "cell_type": "code",
   "execution_count": 45,
   "metadata": {},
   "outputs": [
    {
     "name": "stdout",
     "output_type": "stream",
     "text": [
      "<class 'pandas.core.frame.DataFrame'>\n",
      "RangeIndex: 238813 entries, 0 to 238812\n",
      "Data columns (total 9 columns):\n",
      "OrderDate      238813 non-null datetime64[ns]\n",
      "TerritoryID    238813 non-null int64\n",
      "ProductID      238813 non-null int64\n",
      "UnitPrice      238813 non-null float64\n",
      "OrderQty       238813 non-null int64\n",
      "holiday        238813 non-null int64\n",
      "day            238813 non-null int64\n",
      "year           238813 non-null int64\n",
      "month          238813 non-null int64\n",
      "dtypes: datetime64[ns](1), float64(1), int64(7)\n",
      "memory usage: 16.4 MB\n"
     ]
    }
   ],
   "source": [
    "sales.info()"
   ]
  },
  {
   "cell_type": "code",
   "execution_count": 46,
   "metadata": {},
   "outputs": [],
   "source": [
    "# add the weekend column, day value of 5 is Saturday and 6 is for Sunday #\n",
    "def weekend(day):\n",
    "    if day == 5 or day == 6:\n",
    "        return 1\n",
    "    else:\n",
    "        return 0"
   ]
  },
  {
   "cell_type": "code",
   "execution_count": 47,
   "metadata": {},
   "outputs": [],
   "source": [
    "sales['weekend'] = sales['day'].apply(weekend)"
   ]
  },
  {
   "cell_type": "code",
   "execution_count": 48,
   "metadata": {},
   "outputs": [
    {
     "data": {
      "text/html": [
       "<div>\n",
       "<style scoped>\n",
       "    .dataframe tbody tr th:only-of-type {\n",
       "        vertical-align: middle;\n",
       "    }\n",
       "\n",
       "    .dataframe tbody tr th {\n",
       "        vertical-align: top;\n",
       "    }\n",
       "\n",
       "    .dataframe thead th {\n",
       "        text-align: right;\n",
       "    }\n",
       "</style>\n",
       "<table border=\"1\" class=\"dataframe\">\n",
       "  <thead>\n",
       "    <tr style=\"text-align: right;\">\n",
       "      <th></th>\n",
       "      <th>OrderDate</th>\n",
       "      <th>TerritoryID</th>\n",
       "      <th>ProductID</th>\n",
       "      <th>UnitPrice</th>\n",
       "      <th>OrderQty</th>\n",
       "      <th>holiday</th>\n",
       "      <th>day</th>\n",
       "      <th>year</th>\n",
       "      <th>month</th>\n",
       "      <th>weekend</th>\n",
       "    </tr>\n",
       "  </thead>\n",
       "  <tbody>\n",
       "    <tr>\n",
       "      <td>0</td>\n",
       "      <td>2014-01-03</td>\n",
       "      <td>1</td>\n",
       "      <td>771</td>\n",
       "      <td>2039.994</td>\n",
       "      <td>1</td>\n",
       "      <td>0</td>\n",
       "      <td>4</td>\n",
       "      <td>2014</td>\n",
       "      <td>1</td>\n",
       "      <td>0</td>\n",
       "    </tr>\n",
       "    <tr>\n",
       "      <td>1</td>\n",
       "      <td>2014-01-03</td>\n",
       "      <td>1</td>\n",
       "      <td>996</td>\n",
       "      <td>72.894</td>\n",
       "      <td>3</td>\n",
       "      <td>0</td>\n",
       "      <td>4</td>\n",
       "      <td>2014</td>\n",
       "      <td>1</td>\n",
       "      <td>0</td>\n",
       "    </tr>\n",
       "    <tr>\n",
       "      <td>2</td>\n",
       "      <td>2014-01-03</td>\n",
       "      <td>1</td>\n",
       "      <td>957</td>\n",
       "      <td>1430.442</td>\n",
       "      <td>4</td>\n",
       "      <td>0</td>\n",
       "      <td>4</td>\n",
       "      <td>2014</td>\n",
       "      <td>1</td>\n",
       "      <td>0</td>\n",
       "    </tr>\n",
       "    <tr>\n",
       "      <td>3</td>\n",
       "      <td>2014-01-03</td>\n",
       "      <td>1</td>\n",
       "      <td>885</td>\n",
       "      <td>602.346</td>\n",
       "      <td>2</td>\n",
       "      <td>0</td>\n",
       "      <td>4</td>\n",
       "      <td>2014</td>\n",
       "      <td>1</td>\n",
       "      <td>0</td>\n",
       "    </tr>\n",
       "    <tr>\n",
       "      <td>4</td>\n",
       "      <td>2014-01-03</td>\n",
       "      <td>1</td>\n",
       "      <td>761</td>\n",
       "      <td>469.794</td>\n",
       "      <td>5</td>\n",
       "      <td>0</td>\n",
       "      <td>4</td>\n",
       "      <td>2014</td>\n",
       "      <td>1</td>\n",
       "      <td>0</td>\n",
       "    </tr>\n",
       "  </tbody>\n",
       "</table>\n",
       "</div>"
      ],
      "text/plain": [
       "   OrderDate  TerritoryID  ProductID  UnitPrice  OrderQty  holiday  day  year  \\\n",
       "0 2014-01-03            1        771   2039.994         1        0    4  2014   \n",
       "1 2014-01-03            1        996     72.894         3        0    4  2014   \n",
       "2 2014-01-03            1        957   1430.442         4        0    4  2014   \n",
       "3 2014-01-03            1        885    602.346         2        0    4  2014   \n",
       "4 2014-01-03            1        761    469.794         5        0    4  2014   \n",
       "\n",
       "   month  weekend  \n",
       "0      1        0  \n",
       "1      1        0  \n",
       "2      1        0  \n",
       "3      1        0  \n",
       "4      1        0  "
      ]
     },
     "execution_count": 48,
     "metadata": {},
     "output_type": "execute_result"
    }
   ],
   "source": [
    "sales.head()"
   ]
  },
  {
   "cell_type": "code",
   "execution_count": 49,
   "metadata": {},
   "outputs": [
    {
     "data": {
      "text/html": [
       "<div>\n",
       "<style scoped>\n",
       "    .dataframe tbody tr th:only-of-type {\n",
       "        vertical-align: middle;\n",
       "    }\n",
       "\n",
       "    .dataframe tbody tr th {\n",
       "        vertical-align: top;\n",
       "    }\n",
       "\n",
       "    .dataframe thead th {\n",
       "        text-align: right;\n",
       "    }\n",
       "</style>\n",
       "<table border=\"1\" class=\"dataframe\">\n",
       "  <thead>\n",
       "    <tr style=\"text-align: right;\">\n",
       "      <th></th>\n",
       "      <th>OrderDate</th>\n",
       "      <th>TerritoryID</th>\n",
       "      <th>ProductID</th>\n",
       "      <th>UnitPrice</th>\n",
       "      <th>OrderQty</th>\n",
       "      <th>holiday</th>\n",
       "      <th>day</th>\n",
       "      <th>year</th>\n",
       "      <th>month</th>\n",
       "      <th>weekend</th>\n",
       "    </tr>\n",
       "  </thead>\n",
       "  <tbody>\n",
       "    <tr>\n",
       "      <td>239</td>\n",
       "      <td>2014-01-19</td>\n",
       "      <td>1</td>\n",
       "      <td>779</td>\n",
       "      <td>1391.9940</td>\n",
       "      <td>6</td>\n",
       "      <td>0</td>\n",
       "      <td>6</td>\n",
       "      <td>2014</td>\n",
       "      <td>1</td>\n",
       "      <td>1</td>\n",
       "    </tr>\n",
       "    <tr>\n",
       "      <td>240</td>\n",
       "      <td>2014-01-19</td>\n",
       "      <td>1</td>\n",
       "      <td>743</td>\n",
       "      <td>714.7043</td>\n",
       "      <td>2</td>\n",
       "      <td>0</td>\n",
       "      <td>6</td>\n",
       "      <td>2014</td>\n",
       "      <td>1</td>\n",
       "      <td>1</td>\n",
       "    </tr>\n",
       "    <tr>\n",
       "      <td>241</td>\n",
       "      <td>2014-01-19</td>\n",
       "      <td>1</td>\n",
       "      <td>892</td>\n",
       "      <td>602.3460</td>\n",
       "      <td>1</td>\n",
       "      <td>0</td>\n",
       "      <td>6</td>\n",
       "      <td>2014</td>\n",
       "      <td>1</td>\n",
       "      <td>1</td>\n",
       "    </tr>\n",
       "    <tr>\n",
       "      <td>242</td>\n",
       "      <td>2014-01-19</td>\n",
       "      <td>1</td>\n",
       "      <td>801</td>\n",
       "      <td>672.2940</td>\n",
       "      <td>3</td>\n",
       "      <td>0</td>\n",
       "      <td>6</td>\n",
       "      <td>2014</td>\n",
       "      <td>1</td>\n",
       "      <td>1</td>\n",
       "    </tr>\n",
       "    <tr>\n",
       "      <td>243</td>\n",
       "      <td>2014-01-19</td>\n",
       "      <td>1</td>\n",
       "      <td>855</td>\n",
       "      <td>53.9940</td>\n",
       "      <td>1</td>\n",
       "      <td>0</td>\n",
       "      <td>6</td>\n",
       "      <td>2014</td>\n",
       "      <td>1</td>\n",
       "      <td>1</td>\n",
       "    </tr>\n",
       "  </tbody>\n",
       "</table>\n",
       "</div>"
      ],
      "text/plain": [
       "     OrderDate  TerritoryID  ProductID  UnitPrice  OrderQty  holiday  day  \\\n",
       "239 2014-01-19            1        779  1391.9940         6        0    6   \n",
       "240 2014-01-19            1        743   714.7043         2        0    6   \n",
       "241 2014-01-19            1        892   602.3460         1        0    6   \n",
       "242 2014-01-19            1        801   672.2940         3        0    6   \n",
       "243 2014-01-19            1        855    53.9940         1        0    6   \n",
       "\n",
       "     year  month  weekend  \n",
       "239  2014      1        1  \n",
       "240  2014      1        1  \n",
       "241  2014      1        1  \n",
       "242  2014      1        1  \n",
       "243  2014      1        1  "
      ]
     },
     "execution_count": 49,
     "metadata": {},
     "output_type": "execute_result"
    }
   ],
   "source": [
    "sales[sales['weekend']==1].head()"
   ]
  },
  {
   "cell_type": "code",
   "execution_count": 50,
   "metadata": {},
   "outputs": [
    {
     "data": {
      "text/plain": [
       "2015    177577\n",
       "2014     60378\n",
       "2016       858\n",
       "Name: year, dtype: int64"
      ]
     },
     "execution_count": 50,
     "metadata": {},
     "output_type": "execute_result"
    }
   ],
   "source": [
    "sales['year'].value_counts()"
   ]
  },
  {
   "cell_type": "markdown",
   "metadata": {},
   "source": [
    "### Season features\n",
    "- The order dates are not evenly spaced\n",
    "- The index.freq cannot be set to one of the standard freq strings to use the timeseries models\n",
    "- Before adding any season feature we will group the data based on OrderDate and ProductID"
   ]
  },
  {
   "cell_type": "markdown",
   "metadata": {},
   "source": [
    "#### Select a particular Territory and continue the analysis "
   ]
  },
  {
   "cell_type": "code",
   "execution_count": 51,
   "metadata": {},
   "outputs": [
    {
     "data": {
      "text/plain": [
       "4    117721\n",
       "1     83682\n",
       "5     13824\n",
       "3     12209\n",
       "2     11377\n",
       "Name: TerritoryID, dtype: int64"
      ]
     },
     "execution_count": 51,
     "metadata": {},
     "output_type": "execute_result"
    }
   ],
   "source": [
    "sales['TerritoryID'].value_counts().sort_values(ascending=False)"
   ]
  },
  {
   "cell_type": "code",
   "execution_count": 108,
   "metadata": {},
   "outputs": [],
   "source": [
    "# Retrieve the sales of the selected territory #\n",
    "sales4 = sales[sales['TerritoryID']==4]"
   ]
  },
  {
   "cell_type": "code",
   "execution_count": 109,
   "metadata": {},
   "outputs": [
    {
     "data": {
      "text/html": [
       "<div>\n",
       "<style scoped>\n",
       "    .dataframe tbody tr th:only-of-type {\n",
       "        vertical-align: middle;\n",
       "    }\n",
       "\n",
       "    .dataframe tbody tr th {\n",
       "        vertical-align: top;\n",
       "    }\n",
       "\n",
       "    .dataframe thead th {\n",
       "        text-align: right;\n",
       "    }\n",
       "</style>\n",
       "<table border=\"1\" class=\"dataframe\">\n",
       "  <thead>\n",
       "    <tr style=\"text-align: right;\">\n",
       "      <th></th>\n",
       "      <th>OrderDate</th>\n",
       "      <th>TerritoryID</th>\n",
       "      <th>ProductID</th>\n",
       "      <th>UnitPrice</th>\n",
       "      <th>OrderQty</th>\n",
       "      <th>holiday</th>\n",
       "      <th>day</th>\n",
       "      <th>year</th>\n",
       "      <th>month</th>\n",
       "      <th>weekend</th>\n",
       "    </tr>\n",
       "  </thead>\n",
       "  <tbody>\n",
       "    <tr>\n",
       "      <td>107268</td>\n",
       "      <td>2014-01-01</td>\n",
       "      <td>4</td>\n",
       "      <td>836</td>\n",
       "      <td>324.4527</td>\n",
       "      <td>1</td>\n",
       "      <td>1</td>\n",
       "      <td>2</td>\n",
       "      <td>2014</td>\n",
       "      <td>1</td>\n",
       "      <td>0</td>\n",
       "    </tr>\n",
       "    <tr>\n",
       "      <td>107269</td>\n",
       "      <td>2014-01-01</td>\n",
       "      <td>4</td>\n",
       "      <td>751</td>\n",
       "      <td>3578.2700</td>\n",
       "      <td>1</td>\n",
       "      <td>1</td>\n",
       "      <td>2</td>\n",
       "      <td>2014</td>\n",
       "      <td>1</td>\n",
       "      <td>0</td>\n",
       "    </tr>\n",
       "    <tr>\n",
       "      <td>107270</td>\n",
       "      <td>2014-01-01</td>\n",
       "      <td>4</td>\n",
       "      <td>775</td>\n",
       "      <td>3374.9900</td>\n",
       "      <td>1</td>\n",
       "      <td>1</td>\n",
       "      <td>2</td>\n",
       "      <td>2014</td>\n",
       "      <td>1</td>\n",
       "      <td>0</td>\n",
       "    </tr>\n",
       "    <tr>\n",
       "      <td>107271</td>\n",
       "      <td>2014-01-01</td>\n",
       "      <td>4</td>\n",
       "      <td>951</td>\n",
       "      <td>242.9940</td>\n",
       "      <td>5</td>\n",
       "      <td>1</td>\n",
       "      <td>2</td>\n",
       "      <td>2014</td>\n",
       "      <td>1</td>\n",
       "      <td>0</td>\n",
       "    </tr>\n",
       "    <tr>\n",
       "      <td>107272</td>\n",
       "      <td>2014-01-01</td>\n",
       "      <td>4</td>\n",
       "      <td>994</td>\n",
       "      <td>32.3940</td>\n",
       "      <td>5</td>\n",
       "      <td>1</td>\n",
       "      <td>2</td>\n",
       "      <td>2014</td>\n",
       "      <td>1</td>\n",
       "      <td>0</td>\n",
       "    </tr>\n",
       "  </tbody>\n",
       "</table>\n",
       "</div>"
      ],
      "text/plain": [
       "        OrderDate  TerritoryID  ProductID  UnitPrice  OrderQty  holiday  day  \\\n",
       "107268 2014-01-01            4        836   324.4527         1        1    2   \n",
       "107269 2014-01-01            4        751  3578.2700         1        1    2   \n",
       "107270 2014-01-01            4        775  3374.9900         1        1    2   \n",
       "107271 2014-01-01            4        951   242.9940         5        1    2   \n",
       "107272 2014-01-01            4        994    32.3940         5        1    2   \n",
       "\n",
       "        year  month  weekend  \n",
       "107268  2014      1        0  \n",
       "107269  2014      1        0  \n",
       "107270  2014      1        0  \n",
       "107271  2014      1        0  \n",
       "107272  2014      1        0  "
      ]
     },
     "execution_count": 109,
     "metadata": {},
     "output_type": "execute_result"
    }
   ],
   "source": [
    "sales4.head()"
   ]
  },
  {
   "cell_type": "code",
   "execution_count": 110,
   "metadata": {},
   "outputs": [],
   "source": [
    "tsales = pd.DataFrame(sales4.groupby(['OrderDate','ProductID'],observed=True)['OrderQty'].sum())"
   ]
  },
  {
   "cell_type": "code",
   "execution_count": 111,
   "metadata": {},
   "outputs": [
    {
     "data": {
      "text/html": [
       "<div>\n",
       "<style scoped>\n",
       "    .dataframe tbody tr th:only-of-type {\n",
       "        vertical-align: middle;\n",
       "    }\n",
       "\n",
       "    .dataframe tbody tr th {\n",
       "        vertical-align: top;\n",
       "    }\n",
       "\n",
       "    .dataframe thead th {\n",
       "        text-align: right;\n",
       "    }\n",
       "</style>\n",
       "<table border=\"1\" class=\"dataframe\">\n",
       "  <thead>\n",
       "    <tr style=\"text-align: right;\">\n",
       "      <th></th>\n",
       "      <th></th>\n",
       "      <th>OrderQty</th>\n",
       "    </tr>\n",
       "    <tr>\n",
       "      <th>OrderDate</th>\n",
       "      <th>ProductID</th>\n",
       "      <th></th>\n",
       "    </tr>\n",
       "  </thead>\n",
       "  <tbody>\n",
       "    <tr>\n",
       "      <td rowspan=\"5\" valign=\"top\">2014-01-01</td>\n",
       "      <td>707</td>\n",
       "      <td>2</td>\n",
       "    </tr>\n",
       "    <tr>\n",
       "      <td>708</td>\n",
       "      <td>1</td>\n",
       "    </tr>\n",
       "    <tr>\n",
       "      <td>711</td>\n",
       "      <td>1</td>\n",
       "    </tr>\n",
       "    <tr>\n",
       "      <td>713</td>\n",
       "      <td>1</td>\n",
       "    </tr>\n",
       "    <tr>\n",
       "      <td>725</td>\n",
       "      <td>6</td>\n",
       "    </tr>\n",
       "  </tbody>\n",
       "</table>\n",
       "</div>"
      ],
      "text/plain": [
       "                      OrderQty\n",
       "OrderDate  ProductID          \n",
       "2014-01-01 707               2\n",
       "           708               1\n",
       "           711               1\n",
       "           713               1\n",
       "           725               6"
      ]
     },
     "execution_count": 111,
     "metadata": {},
     "output_type": "execute_result"
    }
   ],
   "source": [
    "tsales.head()"
   ]
  },
  {
   "cell_type": "code",
   "execution_count": 112,
   "metadata": {},
   "outputs": [],
   "source": [
    "tsales.reset_index(inplace=True)"
   ]
  },
  {
   "cell_type": "code",
   "execution_count": 113,
   "metadata": {},
   "outputs": [
    {
     "data": {
      "text/html": [
       "<div>\n",
       "<style scoped>\n",
       "    .dataframe tbody tr th:only-of-type {\n",
       "        vertical-align: middle;\n",
       "    }\n",
       "\n",
       "    .dataframe tbody tr th {\n",
       "        vertical-align: top;\n",
       "    }\n",
       "\n",
       "    .dataframe thead th {\n",
       "        text-align: right;\n",
       "    }\n",
       "</style>\n",
       "<table border=\"1\" class=\"dataframe\">\n",
       "  <thead>\n",
       "    <tr style=\"text-align: right;\">\n",
       "      <th></th>\n",
       "      <th>OrderDate</th>\n",
       "      <th>ProductID</th>\n",
       "      <th>OrderQty</th>\n",
       "    </tr>\n",
       "  </thead>\n",
       "  <tbody>\n",
       "    <tr>\n",
       "      <td>0</td>\n",
       "      <td>2014-01-01</td>\n",
       "      <td>707</td>\n",
       "      <td>2</td>\n",
       "    </tr>\n",
       "    <tr>\n",
       "      <td>1</td>\n",
       "      <td>2014-01-01</td>\n",
       "      <td>708</td>\n",
       "      <td>1</td>\n",
       "    </tr>\n",
       "    <tr>\n",
       "      <td>2</td>\n",
       "      <td>2014-01-01</td>\n",
       "      <td>711</td>\n",
       "      <td>1</td>\n",
       "    </tr>\n",
       "    <tr>\n",
       "      <td>3</td>\n",
       "      <td>2014-01-01</td>\n",
       "      <td>713</td>\n",
       "      <td>1</td>\n",
       "    </tr>\n",
       "    <tr>\n",
       "      <td>4</td>\n",
       "      <td>2014-01-01</td>\n",
       "      <td>725</td>\n",
       "      <td>6</td>\n",
       "    </tr>\n",
       "  </tbody>\n",
       "</table>\n",
       "</div>"
      ],
      "text/plain": [
       "   OrderDate  ProductID  OrderQty\n",
       "0 2014-01-01        707         2\n",
       "1 2014-01-01        708         1\n",
       "2 2014-01-01        711         1\n",
       "3 2014-01-01        713         1\n",
       "4 2014-01-01        725         6"
      ]
     },
     "execution_count": 113,
     "metadata": {},
     "output_type": "execute_result"
    }
   ],
   "source": [
    "tsales.head()"
   ]
  },
  {
   "cell_type": "code",
   "execution_count": 114,
   "metadata": {},
   "outputs": [
    {
     "data": {
      "text/plain": [
       "117721"
      ]
     },
     "execution_count": 114,
     "metadata": {},
     "output_type": "execute_result"
    }
   ],
   "source": [
    "len(sales4)"
   ]
  },
  {
   "cell_type": "markdown",
   "metadata": {},
   "source": [
    "#### add the columns which were dropped due to grouping\n",
    "- Improvement --> define a function as below steps are repeated."
   ]
  },
  {
   "cell_type": "code",
   "execution_count": 115,
   "metadata": {},
   "outputs": [],
   "source": [
    "# weekday #\n",
    "wkday = []\n",
    "for i in range(len(tsales)):\n",
    "    wkday.append(tsales['OrderDate'][i].weekday())   \n",
    "    \n",
    "# year #\n",
    "yr = []\n",
    "for i in range(len(tsales)):\n",
    "    yr.append(tsales['OrderDate'][i].year)   \n",
    "    \n",
    "# month #\n",
    "mon = []\n",
    "for i in range(len(tsales)):\n",
    "    mon.append(tsales['OrderDate'][i].month)   "
   ]
  },
  {
   "cell_type": "code",
   "execution_count": 116,
   "metadata": {},
   "outputs": [],
   "source": [
    "tsales['day'] = wkday\n",
    "tsales['year'] = yr\n",
    "tsales['month'] = mon"
   ]
  },
  {
   "cell_type": "code",
   "execution_count": 117,
   "metadata": {},
   "outputs": [
    {
     "data": {
      "text/html": [
       "<div>\n",
       "<style scoped>\n",
       "    .dataframe tbody tr th:only-of-type {\n",
       "        vertical-align: middle;\n",
       "    }\n",
       "\n",
       "    .dataframe tbody tr th {\n",
       "        vertical-align: top;\n",
       "    }\n",
       "\n",
       "    .dataframe thead th {\n",
       "        text-align: right;\n",
       "    }\n",
       "</style>\n",
       "<table border=\"1\" class=\"dataframe\">\n",
       "  <thead>\n",
       "    <tr style=\"text-align: right;\">\n",
       "      <th></th>\n",
       "      <th>OrderDate</th>\n",
       "      <th>ProductID</th>\n",
       "      <th>OrderQty</th>\n",
       "      <th>day</th>\n",
       "      <th>year</th>\n",
       "      <th>month</th>\n",
       "    </tr>\n",
       "  </thead>\n",
       "  <tbody>\n",
       "    <tr>\n",
       "      <td>0</td>\n",
       "      <td>2014-01-01</td>\n",
       "      <td>707</td>\n",
       "      <td>2</td>\n",
       "      <td>2</td>\n",
       "      <td>2014</td>\n",
       "      <td>1</td>\n",
       "    </tr>\n",
       "    <tr>\n",
       "      <td>1</td>\n",
       "      <td>2014-01-01</td>\n",
       "      <td>708</td>\n",
       "      <td>1</td>\n",
       "      <td>2</td>\n",
       "      <td>2014</td>\n",
       "      <td>1</td>\n",
       "    </tr>\n",
       "    <tr>\n",
       "      <td>2</td>\n",
       "      <td>2014-01-01</td>\n",
       "      <td>711</td>\n",
       "      <td>1</td>\n",
       "      <td>2</td>\n",
       "      <td>2014</td>\n",
       "      <td>1</td>\n",
       "    </tr>\n",
       "    <tr>\n",
       "      <td>3</td>\n",
       "      <td>2014-01-01</td>\n",
       "      <td>713</td>\n",
       "      <td>1</td>\n",
       "      <td>2</td>\n",
       "      <td>2014</td>\n",
       "      <td>1</td>\n",
       "    </tr>\n",
       "    <tr>\n",
       "      <td>4</td>\n",
       "      <td>2014-01-01</td>\n",
       "      <td>725</td>\n",
       "      <td>6</td>\n",
       "      <td>2</td>\n",
       "      <td>2014</td>\n",
       "      <td>1</td>\n",
       "    </tr>\n",
       "  </tbody>\n",
       "</table>\n",
       "</div>"
      ],
      "text/plain": [
       "   OrderDate  ProductID  OrderQty  day  year  month\n",
       "0 2014-01-01        707         2    2  2014      1\n",
       "1 2014-01-01        708         1    2  2014      1\n",
       "2 2014-01-01        711         1    2  2014      1\n",
       "3 2014-01-01        713         1    2  2014      1\n",
       "4 2014-01-01        725         6    2  2014      1"
      ]
     },
     "execution_count": 117,
     "metadata": {},
     "output_type": "execute_result"
    }
   ],
   "source": [
    "tsales.head()"
   ]
  },
  {
   "cell_type": "code",
   "execution_count": 118,
   "metadata": {},
   "outputs": [],
   "source": [
    "tsales['weekend'] = tsales['day'].apply(weekend)"
   ]
  },
  {
   "cell_type": "code",
   "execution_count": 119,
   "metadata": {},
   "outputs": [
    {
     "name": "stdout",
     "output_type": "stream",
     "text": [
      "<class 'pandas.core.frame.DataFrame'>\n",
      "RangeIndex: 48004 entries, 0 to 48003\n",
      "Data columns (total 7 columns):\n",
      "OrderDate    48004 non-null datetime64[ns]\n",
      "ProductID    48004 non-null int64\n",
      "OrderQty     48004 non-null int64\n",
      "day          48004 non-null int64\n",
      "year         48004 non-null int64\n",
      "month        48004 non-null int64\n",
      "weekend      48004 non-null int64\n",
      "dtypes: datetime64[ns](1), int64(6)\n",
      "memory usage: 2.6 MB\n"
     ]
    }
   ],
   "source": [
    "tsales.info()"
   ]
  },
  {
   "cell_type": "code",
   "execution_count": 120,
   "metadata": {},
   "outputs": [],
   "source": [
    "# check each row date if it is in the holiday list of 2014 to 2016 #\n",
    "h_t = []\n",
    "\n",
    "for i in range(len(tsales)):\n",
    "    if (tsales['OrderDate'][i] in holiday):\n",
    "        h_t.append(1)\n",
    "    else:\n",
    "        h_t.append(0)"
   ]
  },
  {
   "cell_type": "code",
   "execution_count": 121,
   "metadata": {},
   "outputs": [],
   "source": [
    "tsales['holiday'] =  h_t"
   ]
  },
  {
   "cell_type": "code",
   "execution_count": 122,
   "metadata": {},
   "outputs": [
    {
     "data": {
      "text/html": [
       "<div>\n",
       "<style scoped>\n",
       "    .dataframe tbody tr th:only-of-type {\n",
       "        vertical-align: middle;\n",
       "    }\n",
       "\n",
       "    .dataframe tbody tr th {\n",
       "        vertical-align: top;\n",
       "    }\n",
       "\n",
       "    .dataframe thead th {\n",
       "        text-align: right;\n",
       "    }\n",
       "</style>\n",
       "<table border=\"1\" class=\"dataframe\">\n",
       "  <thead>\n",
       "    <tr style=\"text-align: right;\">\n",
       "      <th></th>\n",
       "      <th>OrderDate</th>\n",
       "      <th>ProductID</th>\n",
       "      <th>OrderQty</th>\n",
       "      <th>day</th>\n",
       "      <th>year</th>\n",
       "      <th>month</th>\n",
       "      <th>weekend</th>\n",
       "      <th>holiday</th>\n",
       "    </tr>\n",
       "  </thead>\n",
       "  <tbody>\n",
       "    <tr>\n",
       "      <td>0</td>\n",
       "      <td>2014-01-01</td>\n",
       "      <td>707</td>\n",
       "      <td>2</td>\n",
       "      <td>2</td>\n",
       "      <td>2014</td>\n",
       "      <td>1</td>\n",
       "      <td>0</td>\n",
       "      <td>1</td>\n",
       "    </tr>\n",
       "    <tr>\n",
       "      <td>1</td>\n",
       "      <td>2014-01-01</td>\n",
       "      <td>708</td>\n",
       "      <td>1</td>\n",
       "      <td>2</td>\n",
       "      <td>2014</td>\n",
       "      <td>1</td>\n",
       "      <td>0</td>\n",
       "      <td>1</td>\n",
       "    </tr>\n",
       "    <tr>\n",
       "      <td>2</td>\n",
       "      <td>2014-01-01</td>\n",
       "      <td>711</td>\n",
       "      <td>1</td>\n",
       "      <td>2</td>\n",
       "      <td>2014</td>\n",
       "      <td>1</td>\n",
       "      <td>0</td>\n",
       "      <td>1</td>\n",
       "    </tr>\n",
       "    <tr>\n",
       "      <td>3</td>\n",
       "      <td>2014-01-01</td>\n",
       "      <td>713</td>\n",
       "      <td>1</td>\n",
       "      <td>2</td>\n",
       "      <td>2014</td>\n",
       "      <td>1</td>\n",
       "      <td>0</td>\n",
       "      <td>1</td>\n",
       "    </tr>\n",
       "    <tr>\n",
       "      <td>4</td>\n",
       "      <td>2014-01-01</td>\n",
       "      <td>725</td>\n",
       "      <td>6</td>\n",
       "      <td>2</td>\n",
       "      <td>2014</td>\n",
       "      <td>1</td>\n",
       "      <td>0</td>\n",
       "      <td>1</td>\n",
       "    </tr>\n",
       "  </tbody>\n",
       "</table>\n",
       "</div>"
      ],
      "text/plain": [
       "   OrderDate  ProductID  OrderQty  day  year  month  weekend  holiday\n",
       "0 2014-01-01        707         2    2  2014      1        0        1\n",
       "1 2014-01-01        708         1    2  2014      1        0        1\n",
       "2 2014-01-01        711         1    2  2014      1        0        1\n",
       "3 2014-01-01        713         1    2  2014      1        0        1\n",
       "4 2014-01-01        725         6    2  2014      1        0        1"
      ]
     },
     "execution_count": 122,
     "metadata": {},
     "output_type": "execute_result"
    }
   ],
   "source": [
    "tsales.head()"
   ]
  },
  {
   "cell_type": "markdown",
   "metadata": {},
   "source": [
    "### Summary so far ... \n",
    "- The data is cleaned (duplicate rows, null values, dtypes of date column, columns removed)\n",
    "- Holiday, weekend, year, month, weekday information is added as features\n",
    "- Next is to add the seasonal features \n"
   ]
  },
  {
   "cell_type": "markdown",
   "metadata": {},
   "source": [
    "\n",
    "Considerations to add the new features for season\n",
    "- In time series analysis, the lagged values are important. \n",
    "- The forecasting models like AR, ARMA, ARIMA, VAR, VARMAX are auto regressed.\n",
    "- One important feature is the differencing order, like difference in sales from previous time period\n",
    "- Also, the previous time period sales can be an important feature in the predictive model"
   ]
  },
  {
   "cell_type": "code",
   "execution_count": 123,
   "metadata": {},
   "outputs": [],
   "source": [
    "# first order difference of the OrderQty #\n",
    "tsales['OrderQty_Diff1'] = tsales['OrderQty'].diff()"
   ]
  },
  {
   "cell_type": "code",
   "execution_count": 124,
   "metadata": {},
   "outputs": [],
   "source": [
    "# second order difference of the OrderQty #\n",
    "tsales['OrderQty_Diff2'] = tsales['OrderQty_Diff1'].diff()"
   ]
  },
  {
   "cell_type": "code",
   "execution_count": 125,
   "metadata": {},
   "outputs": [],
   "source": [
    "# add the previous day sale figure of each individual product of the territory #\n",
    "tsales['OrderQty_Prev1'] = tsales.groupby(['ProductID'])['OrderQty'].shift()"
   ]
  },
  {
   "cell_type": "code",
   "execution_count": 126,
   "metadata": {},
   "outputs": [],
   "source": [
    "# add the previous day sale figure of each individual product of the territory #\n",
    "tsales['OrderQty_Prev2'] = tsales.groupby(['ProductID'])['OrderQty'].shift(periods=2)"
   ]
  },
  {
   "cell_type": "code",
   "execution_count": 127,
   "metadata": {},
   "outputs": [
    {
     "data": {
      "text/html": [
       "<div>\n",
       "<style scoped>\n",
       "    .dataframe tbody tr th:only-of-type {\n",
       "        vertical-align: middle;\n",
       "    }\n",
       "\n",
       "    .dataframe tbody tr th {\n",
       "        vertical-align: top;\n",
       "    }\n",
       "\n",
       "    .dataframe thead th {\n",
       "        text-align: right;\n",
       "    }\n",
       "</style>\n",
       "<table border=\"1\" class=\"dataframe\">\n",
       "  <thead>\n",
       "    <tr style=\"text-align: right;\">\n",
       "      <th></th>\n",
       "      <th>OrderDate</th>\n",
       "      <th>ProductID</th>\n",
       "      <th>OrderQty</th>\n",
       "      <th>day</th>\n",
       "      <th>year</th>\n",
       "      <th>month</th>\n",
       "      <th>weekend</th>\n",
       "      <th>holiday</th>\n",
       "      <th>OrderQty_Diff1</th>\n",
       "      <th>OrderQty_Diff2</th>\n",
       "      <th>OrderQty_Prev1</th>\n",
       "      <th>OrderQty_Prev2</th>\n",
       "    </tr>\n",
       "  </thead>\n",
       "  <tbody>\n",
       "    <tr>\n",
       "      <td>0</td>\n",
       "      <td>2014-01-01</td>\n",
       "      <td>707</td>\n",
       "      <td>2</td>\n",
       "      <td>2</td>\n",
       "      <td>2014</td>\n",
       "      <td>1</td>\n",
       "      <td>0</td>\n",
       "      <td>1</td>\n",
       "      <td>NaN</td>\n",
       "      <td>NaN</td>\n",
       "      <td>NaN</td>\n",
       "      <td>NaN</td>\n",
       "    </tr>\n",
       "    <tr>\n",
       "      <td>1</td>\n",
       "      <td>2014-01-01</td>\n",
       "      <td>708</td>\n",
       "      <td>1</td>\n",
       "      <td>2</td>\n",
       "      <td>2014</td>\n",
       "      <td>1</td>\n",
       "      <td>0</td>\n",
       "      <td>1</td>\n",
       "      <td>-1.0</td>\n",
       "      <td>NaN</td>\n",
       "      <td>NaN</td>\n",
       "      <td>NaN</td>\n",
       "    </tr>\n",
       "    <tr>\n",
       "      <td>2</td>\n",
       "      <td>2014-01-01</td>\n",
       "      <td>711</td>\n",
       "      <td>1</td>\n",
       "      <td>2</td>\n",
       "      <td>2014</td>\n",
       "      <td>1</td>\n",
       "      <td>0</td>\n",
       "      <td>1</td>\n",
       "      <td>0.0</td>\n",
       "      <td>1.0</td>\n",
       "      <td>NaN</td>\n",
       "      <td>NaN</td>\n",
       "    </tr>\n",
       "    <tr>\n",
       "      <td>3</td>\n",
       "      <td>2014-01-01</td>\n",
       "      <td>713</td>\n",
       "      <td>1</td>\n",
       "      <td>2</td>\n",
       "      <td>2014</td>\n",
       "      <td>1</td>\n",
       "      <td>0</td>\n",
       "      <td>1</td>\n",
       "      <td>0.0</td>\n",
       "      <td>0.0</td>\n",
       "      <td>NaN</td>\n",
       "      <td>NaN</td>\n",
       "    </tr>\n",
       "    <tr>\n",
       "      <td>4</td>\n",
       "      <td>2014-01-01</td>\n",
       "      <td>725</td>\n",
       "      <td>6</td>\n",
       "      <td>2</td>\n",
       "      <td>2014</td>\n",
       "      <td>1</td>\n",
       "      <td>0</td>\n",
       "      <td>1</td>\n",
       "      <td>5.0</td>\n",
       "      <td>5.0</td>\n",
       "      <td>NaN</td>\n",
       "      <td>NaN</td>\n",
       "    </tr>\n",
       "  </tbody>\n",
       "</table>\n",
       "</div>"
      ],
      "text/plain": [
       "   OrderDate  ProductID  OrderQty  day  year  month  weekend  holiday  \\\n",
       "0 2014-01-01        707         2    2  2014      1        0        1   \n",
       "1 2014-01-01        708         1    2  2014      1        0        1   \n",
       "2 2014-01-01        711         1    2  2014      1        0        1   \n",
       "3 2014-01-01        713         1    2  2014      1        0        1   \n",
       "4 2014-01-01        725         6    2  2014      1        0        1   \n",
       "\n",
       "   OrderQty_Diff1  OrderQty_Diff2  OrderQty_Prev1  OrderQty_Prev2  \n",
       "0             NaN             NaN             NaN             NaN  \n",
       "1            -1.0             NaN             NaN             NaN  \n",
       "2             0.0             1.0             NaN             NaN  \n",
       "3             0.0             0.0             NaN             NaN  \n",
       "4             5.0             5.0             NaN             NaN  "
      ]
     },
     "execution_count": 127,
     "metadata": {},
     "output_type": "execute_result"
    }
   ],
   "source": [
    "tsales.head()"
   ]
  },
  {
   "cell_type": "markdown",
   "metadata": {},
   "source": [
    "- NaNs are introduced due to differencing and shift"
   ]
  },
  {
   "cell_type": "code",
   "execution_count": 128,
   "metadata": {},
   "outputs": [],
   "source": [
    "tsales.dropna(inplace=True)"
   ]
  },
  {
   "cell_type": "code",
   "execution_count": 129,
   "metadata": {},
   "outputs": [
    {
     "data": {
      "text/html": [
       "<div>\n",
       "<style scoped>\n",
       "    .dataframe tbody tr th:only-of-type {\n",
       "        vertical-align: middle;\n",
       "    }\n",
       "\n",
       "    .dataframe tbody tr th {\n",
       "        vertical-align: top;\n",
       "    }\n",
       "\n",
       "    .dataframe thead th {\n",
       "        text-align: right;\n",
       "    }\n",
       "</style>\n",
       "<table border=\"1\" class=\"dataframe\">\n",
       "  <thead>\n",
       "    <tr style=\"text-align: right;\">\n",
       "      <th></th>\n",
       "      <th>OrderDate</th>\n",
       "      <th>ProductID</th>\n",
       "      <th>OrderQty</th>\n",
       "      <th>day</th>\n",
       "      <th>year</th>\n",
       "      <th>month</th>\n",
       "      <th>weekend</th>\n",
       "      <th>holiday</th>\n",
       "      <th>OrderQty_Diff1</th>\n",
       "      <th>OrderQty_Diff2</th>\n",
       "      <th>OrderQty_Prev1</th>\n",
       "      <th>OrderQty_Prev2</th>\n",
       "    </tr>\n",
       "  </thead>\n",
       "  <tbody>\n",
       "    <tr>\n",
       "      <td>96</td>\n",
       "      <td>2014-01-04</td>\n",
       "      <td>707</td>\n",
       "      <td>1</td>\n",
       "      <td>5</td>\n",
       "      <td>2014</td>\n",
       "      <td>1</td>\n",
       "      <td>1</td>\n",
       "      <td>0</td>\n",
       "      <td>-2.0</td>\n",
       "      <td>-4.0</td>\n",
       "      <td>6.0</td>\n",
       "      <td>2.0</td>\n",
       "    </tr>\n",
       "    <tr>\n",
       "      <td>98</td>\n",
       "      <td>2014-01-04</td>\n",
       "      <td>711</td>\n",
       "      <td>1</td>\n",
       "      <td>5</td>\n",
       "      <td>2014</td>\n",
       "      <td>1</td>\n",
       "      <td>1</td>\n",
       "      <td>0</td>\n",
       "      <td>-1.0</td>\n",
       "      <td>-2.0</td>\n",
       "      <td>1.0</td>\n",
       "      <td>1.0</td>\n",
       "    </tr>\n",
       "    <tr>\n",
       "      <td>103</td>\n",
       "      <td>2014-01-04</td>\n",
       "      <td>751</td>\n",
       "      <td>2</td>\n",
       "      <td>5</td>\n",
       "      <td>2014</td>\n",
       "      <td>1</td>\n",
       "      <td>1</td>\n",
       "      <td>0</td>\n",
       "      <td>1.0</td>\n",
       "      <td>2.0</td>\n",
       "      <td>1.0</td>\n",
       "      <td>1.0</td>\n",
       "    </tr>\n",
       "    <tr>\n",
       "      <td>105</td>\n",
       "      <td>2014-01-04</td>\n",
       "      <td>778</td>\n",
       "      <td>2</td>\n",
       "      <td>5</td>\n",
       "      <td>2014</td>\n",
       "      <td>1</td>\n",
       "      <td>1</td>\n",
       "      <td>0</td>\n",
       "      <td>0.0</td>\n",
       "      <td>0.0</td>\n",
       "      <td>1.0</td>\n",
       "      <td>1.0</td>\n",
       "    </tr>\n",
       "    <tr>\n",
       "      <td>122</td>\n",
       "      <td>2014-01-07</td>\n",
       "      <td>707</td>\n",
       "      <td>1</td>\n",
       "      <td>1</td>\n",
       "      <td>2014</td>\n",
       "      <td>1</td>\n",
       "      <td>0</td>\n",
       "      <td>0</td>\n",
       "      <td>-2.0</td>\n",
       "      <td>-4.0</td>\n",
       "      <td>1.0</td>\n",
       "      <td>6.0</td>\n",
       "    </tr>\n",
       "    <tr>\n",
       "      <td>123</td>\n",
       "      <td>2014-01-07</td>\n",
       "      <td>708</td>\n",
       "      <td>1</td>\n",
       "      <td>1</td>\n",
       "      <td>2014</td>\n",
       "      <td>1</td>\n",
       "      <td>0</td>\n",
       "      <td>0</td>\n",
       "      <td>0.0</td>\n",
       "      <td>2.0</td>\n",
       "      <td>12.0</td>\n",
       "      <td>1.0</td>\n",
       "    </tr>\n",
       "    <tr>\n",
       "      <td>124</td>\n",
       "      <td>2014-01-07</td>\n",
       "      <td>712</td>\n",
       "      <td>1</td>\n",
       "      <td>1</td>\n",
       "      <td>2014</td>\n",
       "      <td>1</td>\n",
       "      <td>0</td>\n",
       "      <td>0</td>\n",
       "      <td>0.0</td>\n",
       "      <td>0.0</td>\n",
       "      <td>2.0</td>\n",
       "      <td>2.0</td>\n",
       "    </tr>\n",
       "    <tr>\n",
       "      <td>126</td>\n",
       "      <td>2014-01-07</td>\n",
       "      <td>715</td>\n",
       "      <td>4</td>\n",
       "      <td>1</td>\n",
       "      <td>2014</td>\n",
       "      <td>1</td>\n",
       "      <td>0</td>\n",
       "      <td>0</td>\n",
       "      <td>3.0</td>\n",
       "      <td>3.0</td>\n",
       "      <td>1.0</td>\n",
       "      <td>10.0</td>\n",
       "    </tr>\n",
       "    <tr>\n",
       "      <td>132</td>\n",
       "      <td>2014-01-07</td>\n",
       "      <td>750</td>\n",
       "      <td>2</td>\n",
       "      <td>1</td>\n",
       "      <td>2014</td>\n",
       "      <td>1</td>\n",
       "      <td>0</td>\n",
       "      <td>0</td>\n",
       "      <td>-1.0</td>\n",
       "      <td>-3.0</td>\n",
       "      <td>1.0</td>\n",
       "      <td>1.0</td>\n",
       "    </tr>\n",
       "    <tr>\n",
       "      <td>136</td>\n",
       "      <td>2014-01-07</td>\n",
       "      <td>782</td>\n",
       "      <td>4</td>\n",
       "      <td>1</td>\n",
       "      <td>2014</td>\n",
       "      <td>1</td>\n",
       "      <td>0</td>\n",
       "      <td>0</td>\n",
       "      <td>3.0</td>\n",
       "      <td>3.0</td>\n",
       "      <td>1.0</td>\n",
       "      <td>2.0</td>\n",
       "    </tr>\n",
       "  </tbody>\n",
       "</table>\n",
       "</div>"
      ],
      "text/plain": [
       "     OrderDate  ProductID  OrderQty  day  year  month  weekend  holiday  \\\n",
       "96  2014-01-04        707         1    5  2014      1        1        0   \n",
       "98  2014-01-04        711         1    5  2014      1        1        0   \n",
       "103 2014-01-04        751         2    5  2014      1        1        0   \n",
       "105 2014-01-04        778         2    5  2014      1        1        0   \n",
       "122 2014-01-07        707         1    1  2014      1        0        0   \n",
       "123 2014-01-07        708         1    1  2014      1        0        0   \n",
       "124 2014-01-07        712         1    1  2014      1        0        0   \n",
       "126 2014-01-07        715         4    1  2014      1        0        0   \n",
       "132 2014-01-07        750         2    1  2014      1        0        0   \n",
       "136 2014-01-07        782         4    1  2014      1        0        0   \n",
       "\n",
       "     OrderQty_Diff1  OrderQty_Diff2  OrderQty_Prev1  OrderQty_Prev2  \n",
       "96             -2.0            -4.0             6.0             2.0  \n",
       "98             -1.0            -2.0             1.0             1.0  \n",
       "103             1.0             2.0             1.0             1.0  \n",
       "105             0.0             0.0             1.0             1.0  \n",
       "122            -2.0            -4.0             1.0             6.0  \n",
       "123             0.0             2.0            12.0             1.0  \n",
       "124             0.0             0.0             2.0             2.0  \n",
       "126             3.0             3.0             1.0            10.0  \n",
       "132            -1.0            -3.0             1.0             1.0  \n",
       "136             3.0             3.0             1.0             2.0  "
      ]
     },
     "execution_count": 129,
     "metadata": {},
     "output_type": "execute_result"
    }
   ],
   "source": [
    "tsales.head(10)"
   ]
  },
  {
   "cell_type": "markdown",
   "metadata": {},
   "source": [
    "- ProductID is an integer column\n",
    "- This should be changed to categorical, else the model will pick this to be a continuous predictor"
   ]
  },
  {
   "cell_type": "code",
   "execution_count": 130,
   "metadata": {},
   "outputs": [],
   "source": [
    "# change the datatype of ProductID to string #\n",
    "tsales['ProductID'] =  tsales['ProductID'].astype('str')"
   ]
  },
  {
   "cell_type": "code",
   "execution_count": 131,
   "metadata": {},
   "outputs": [
    {
     "name": "stdout",
     "output_type": "stream",
     "text": [
      "<class 'pandas.core.frame.DataFrame'>\n",
      "Int64Index: 47473 entries, 96 to 48003\n",
      "Data columns (total 12 columns):\n",
      "OrderDate         47473 non-null datetime64[ns]\n",
      "ProductID         47473 non-null object\n",
      "OrderQty          47473 non-null int64\n",
      "day               47473 non-null int64\n",
      "year              47473 non-null int64\n",
      "month             47473 non-null int64\n",
      "weekend           47473 non-null int64\n",
      "holiday           47473 non-null int64\n",
      "OrderQty_Diff1    47473 non-null float64\n",
      "OrderQty_Diff2    47473 non-null float64\n",
      "OrderQty_Prev1    47473 non-null float64\n",
      "OrderQty_Prev2    47473 non-null float64\n",
      "dtypes: datetime64[ns](1), float64(4), int64(6), object(1)\n",
      "memory usage: 4.7+ MB\n"
     ]
    }
   ],
   "source": [
    "tsales.info()"
   ]
  },
  {
   "cell_type": "markdown",
   "metadata": {},
   "source": [
    "#### Encode the ProductID feature"
   ]
  },
  {
   "cell_type": "code",
   "execution_count": 132,
   "metadata": {},
   "outputs": [],
   "source": [
    "ProductID_dummies = pd.get_dummies(tsales['ProductID'],drop_first=True)"
   ]
  },
  {
   "cell_type": "code",
   "execution_count": 133,
   "metadata": {},
   "outputs": [],
   "source": [
    "# remove the original ProductID column from the dataset #\n",
    "tsales.drop('ProductID',axis=1,inplace=True)"
   ]
  },
  {
   "cell_type": "code",
   "execution_count": 134,
   "metadata": {},
   "outputs": [],
   "source": [
    "# concat the encoded ProductID #\n",
    "tsales_encoded = pd.concat([tsales,ProductID_dummies],axis=1)"
   ]
  },
  {
   "cell_type": "code",
   "execution_count": 135,
   "metadata": {},
   "outputs": [
    {
     "data": {
      "text/plain": [
       "Index(['OrderDate', 'OrderQty', 'day', 'year', 'month', 'weekend', 'holiday',\n",
       "       'OrderQty_Diff1', 'OrderQty_Diff2', 'OrderQty_Prev1',\n",
       "       ...\n",
       "       '989', '990', '991', '992', '993', '994', '996', '997', '998', '999'],\n",
       "      dtype='object', length=275)"
      ]
     },
     "execution_count": 135,
     "metadata": {},
     "output_type": "execute_result"
    }
   ],
   "source": [
    "tsales_encoded.columns"
   ]
  },
  {
   "cell_type": "code",
   "execution_count": 136,
   "metadata": {},
   "outputs": [
    {
     "data": {
      "text/html": [
       "<div>\n",
       "<style scoped>\n",
       "    .dataframe tbody tr th:only-of-type {\n",
       "        vertical-align: middle;\n",
       "    }\n",
       "\n",
       "    .dataframe tbody tr th {\n",
       "        vertical-align: top;\n",
       "    }\n",
       "\n",
       "    .dataframe thead th {\n",
       "        text-align: right;\n",
       "    }\n",
       "</style>\n",
       "<table border=\"1\" class=\"dataframe\">\n",
       "  <thead>\n",
       "    <tr style=\"text-align: right;\">\n",
       "      <th></th>\n",
       "      <th>OrderDate</th>\n",
       "      <th>OrderQty</th>\n",
       "      <th>day</th>\n",
       "      <th>year</th>\n",
       "      <th>month</th>\n",
       "      <th>weekend</th>\n",
       "      <th>holiday</th>\n",
       "      <th>OrderQty_Diff1</th>\n",
       "      <th>OrderQty_Diff2</th>\n",
       "      <th>OrderQty_Prev1</th>\n",
       "      <th>...</th>\n",
       "      <th>989</th>\n",
       "      <th>990</th>\n",
       "      <th>991</th>\n",
       "      <th>992</th>\n",
       "      <th>993</th>\n",
       "      <th>994</th>\n",
       "      <th>996</th>\n",
       "      <th>997</th>\n",
       "      <th>998</th>\n",
       "      <th>999</th>\n",
       "    </tr>\n",
       "  </thead>\n",
       "  <tbody>\n",
       "    <tr>\n",
       "      <td>96</td>\n",
       "      <td>2014-01-04</td>\n",
       "      <td>1</td>\n",
       "      <td>5</td>\n",
       "      <td>2014</td>\n",
       "      <td>1</td>\n",
       "      <td>1</td>\n",
       "      <td>0</td>\n",
       "      <td>-2.0</td>\n",
       "      <td>-4.0</td>\n",
       "      <td>6.0</td>\n",
       "      <td>...</td>\n",
       "      <td>0</td>\n",
       "      <td>0</td>\n",
       "      <td>0</td>\n",
       "      <td>0</td>\n",
       "      <td>0</td>\n",
       "      <td>0</td>\n",
       "      <td>0</td>\n",
       "      <td>0</td>\n",
       "      <td>0</td>\n",
       "      <td>0</td>\n",
       "    </tr>\n",
       "    <tr>\n",
       "      <td>98</td>\n",
       "      <td>2014-01-04</td>\n",
       "      <td>1</td>\n",
       "      <td>5</td>\n",
       "      <td>2014</td>\n",
       "      <td>1</td>\n",
       "      <td>1</td>\n",
       "      <td>0</td>\n",
       "      <td>-1.0</td>\n",
       "      <td>-2.0</td>\n",
       "      <td>1.0</td>\n",
       "      <td>...</td>\n",
       "      <td>0</td>\n",
       "      <td>0</td>\n",
       "      <td>0</td>\n",
       "      <td>0</td>\n",
       "      <td>0</td>\n",
       "      <td>0</td>\n",
       "      <td>0</td>\n",
       "      <td>0</td>\n",
       "      <td>0</td>\n",
       "      <td>0</td>\n",
       "    </tr>\n",
       "    <tr>\n",
       "      <td>103</td>\n",
       "      <td>2014-01-04</td>\n",
       "      <td>2</td>\n",
       "      <td>5</td>\n",
       "      <td>2014</td>\n",
       "      <td>1</td>\n",
       "      <td>1</td>\n",
       "      <td>0</td>\n",
       "      <td>1.0</td>\n",
       "      <td>2.0</td>\n",
       "      <td>1.0</td>\n",
       "      <td>...</td>\n",
       "      <td>0</td>\n",
       "      <td>0</td>\n",
       "      <td>0</td>\n",
       "      <td>0</td>\n",
       "      <td>0</td>\n",
       "      <td>0</td>\n",
       "      <td>0</td>\n",
       "      <td>0</td>\n",
       "      <td>0</td>\n",
       "      <td>0</td>\n",
       "    </tr>\n",
       "    <tr>\n",
       "      <td>105</td>\n",
       "      <td>2014-01-04</td>\n",
       "      <td>2</td>\n",
       "      <td>5</td>\n",
       "      <td>2014</td>\n",
       "      <td>1</td>\n",
       "      <td>1</td>\n",
       "      <td>0</td>\n",
       "      <td>0.0</td>\n",
       "      <td>0.0</td>\n",
       "      <td>1.0</td>\n",
       "      <td>...</td>\n",
       "      <td>0</td>\n",
       "      <td>0</td>\n",
       "      <td>0</td>\n",
       "      <td>0</td>\n",
       "      <td>0</td>\n",
       "      <td>0</td>\n",
       "      <td>0</td>\n",
       "      <td>0</td>\n",
       "      <td>0</td>\n",
       "      <td>0</td>\n",
       "    </tr>\n",
       "    <tr>\n",
       "      <td>122</td>\n",
       "      <td>2014-01-07</td>\n",
       "      <td>1</td>\n",
       "      <td>1</td>\n",
       "      <td>2014</td>\n",
       "      <td>1</td>\n",
       "      <td>0</td>\n",
       "      <td>0</td>\n",
       "      <td>-2.0</td>\n",
       "      <td>-4.0</td>\n",
       "      <td>1.0</td>\n",
       "      <td>...</td>\n",
       "      <td>0</td>\n",
       "      <td>0</td>\n",
       "      <td>0</td>\n",
       "      <td>0</td>\n",
       "      <td>0</td>\n",
       "      <td>0</td>\n",
       "      <td>0</td>\n",
       "      <td>0</td>\n",
       "      <td>0</td>\n",
       "      <td>0</td>\n",
       "    </tr>\n",
       "  </tbody>\n",
       "</table>\n",
       "<p>5 rows × 275 columns</p>\n",
       "</div>"
      ],
      "text/plain": [
       "     OrderDate  OrderQty  day  year  month  weekend  holiday  OrderQty_Diff1  \\\n",
       "96  2014-01-04         1    5  2014      1        1        0            -2.0   \n",
       "98  2014-01-04         1    5  2014      1        1        0            -1.0   \n",
       "103 2014-01-04         2    5  2014      1        1        0             1.0   \n",
       "105 2014-01-04         2    5  2014      1        1        0             0.0   \n",
       "122 2014-01-07         1    1  2014      1        0        0            -2.0   \n",
       "\n",
       "     OrderQty_Diff2  OrderQty_Prev1  ...  989  990  991  992  993  994  996  \\\n",
       "96             -4.0             6.0  ...    0    0    0    0    0    0    0   \n",
       "98             -2.0             1.0  ...    0    0    0    0    0    0    0   \n",
       "103             2.0             1.0  ...    0    0    0    0    0    0    0   \n",
       "105             0.0             1.0  ...    0    0    0    0    0    0    0   \n",
       "122            -4.0             1.0  ...    0    0    0    0    0    0    0   \n",
       "\n",
       "     997  998  999  \n",
       "96     0    0    0  \n",
       "98     0    0    0  \n",
       "103    0    0    0  \n",
       "105    0    0    0  \n",
       "122    0    0    0  \n",
       "\n",
       "[5 rows x 275 columns]"
      ]
     },
     "execution_count": 136,
     "metadata": {},
     "output_type": "execute_result"
    }
   ],
   "source": [
    "tsales_encoded.head()"
   ]
  },
  {
   "cell_type": "markdown",
   "metadata": {},
   "source": [
    "### Training and Testing Data Split\n",
    "- As this is a forecast problem and had features of previous period sales, difference values, the data split would not be shuffled"
   ]
  },
  {
   "cell_type": "code",
   "execution_count": 137,
   "metadata": {},
   "outputs": [
    {
     "data": {
      "text/plain": [
       "47473"
      ]
     },
     "execution_count": 137,
     "metadata": {},
     "output_type": "execute_result"
    }
   ],
   "source": [
    "len(tsales_encoded)"
   ]
  },
  {
   "cell_type": "code",
   "execution_count": 138,
   "metadata": {},
   "outputs": [
    {
     "data": {
      "text/plain": [
       "37978"
      ]
     },
     "execution_count": 138,
     "metadata": {},
     "output_type": "execute_result"
    }
   ],
   "source": [
    "# figure out the 80% value for training and 20% for testing #\n",
    "per_80 = int(round(0.8*len(tsales_encoded),0))\n",
    "per_80"
   ]
  },
  {
   "cell_type": "code",
   "execution_count": 139,
   "metadata": {},
   "outputs": [],
   "source": [
    "# create sets for training and testing data #\n",
    "for_training = tsales_encoded[:per_80]\n",
    "for_testing = tsales_encoded[per_80:]"
   ]
  },
  {
   "cell_type": "code",
   "execution_count": 140,
   "metadata": {},
   "outputs": [],
   "source": [
    "# create X_train,y_train, X_test and y_test dataset #\n",
    "X_train = for_training.drop(['OrderQty','OrderDate'],axis=1)\n",
    "y_train = for_training['OrderQty']\n",
    "\n",
    "X_test = for_testing.drop(['OrderQty','OrderDate'],axis=1)\n",
    "y_test = for_testing['OrderQty']"
   ]
  },
  {
   "cell_type": "markdown",
   "metadata": {},
   "source": [
    "### Model Selection \n",
    "Ensemble models to try:\n",
    "- Random Forest Regressor\n",
    "- Gradient Boosting Regressor\n"
   ]
  },
  {
   "cell_type": "code",
   "execution_count": 141,
   "metadata": {},
   "outputs": [],
   "source": [
    "# import the ensemble regressor models #\n",
    "from sklearn.ensemble import RandomForestRegressor,GradientBoostingRegressor\n",
    "\n",
    "# for model evaluation #\n",
    "from statsmodels.tools.eval_measures import mse,rmse\n",
    "from sklearn.metrics import mean_squared_error"
   ]
  },
  {
   "cell_type": "code",
   "execution_count": 142,
   "metadata": {},
   "outputs": [],
   "source": [
    "rfmodel = RandomForestRegressor(n_estimators=100)"
   ]
  },
  {
   "cell_type": "code",
   "execution_count": 143,
   "metadata": {},
   "outputs": [
    {
     "data": {
      "text/plain": [
       "RandomForestRegressor(bootstrap=True, ccp_alpha=0.0, criterion='mse',\n",
       "                      max_depth=None, max_features='auto', max_leaf_nodes=None,\n",
       "                      max_samples=None, min_impurity_decrease=0.0,\n",
       "                      min_impurity_split=None, min_samples_leaf=1,\n",
       "                      min_samples_split=2, min_weight_fraction_leaf=0.0,\n",
       "                      n_estimators=100, n_jobs=None, oob_score=False,\n",
       "                      random_state=None, verbose=0, warm_start=False)"
      ]
     },
     "execution_count": 143,
     "metadata": {},
     "output_type": "execute_result"
    }
   ],
   "source": [
    "rfmodel.fit(X_train,y_train)"
   ]
  },
  {
   "cell_type": "code",
   "execution_count": 144,
   "metadata": {},
   "outputs": [],
   "source": [
    "rf_predictions = rfmodel.predict(X_test)"
   ]
  },
  {
   "cell_type": "code",
   "execution_count": 145,
   "metadata": {},
   "outputs": [],
   "source": [
    "rf_rmse = rmse(y_test,rf_predictions)"
   ]
  },
  {
   "cell_type": "code",
   "execution_count": 146,
   "metadata": {},
   "outputs": [],
   "source": [
    "gbmodel = GradientBoostingRegressor(n_estimators=100)"
   ]
  },
  {
   "cell_type": "code",
   "execution_count": 147,
   "metadata": {},
   "outputs": [
    {
     "data": {
      "text/plain": [
       "GradientBoostingRegressor(alpha=0.9, ccp_alpha=0.0, criterion='friedman_mse',\n",
       "                          init=None, learning_rate=0.1, loss='ls', max_depth=3,\n",
       "                          max_features=None, max_leaf_nodes=None,\n",
       "                          min_impurity_decrease=0.0, min_impurity_split=None,\n",
       "                          min_samples_leaf=1, min_samples_split=2,\n",
       "                          min_weight_fraction_leaf=0.0, n_estimators=100,\n",
       "                          n_iter_no_change=None, presort='deprecated',\n",
       "                          random_state=None, subsample=1.0, tol=0.0001,\n",
       "                          validation_fraction=0.1, verbose=0, warm_start=False)"
      ]
     },
     "execution_count": 147,
     "metadata": {},
     "output_type": "execute_result"
    }
   ],
   "source": [
    "gbmodel.fit(X_train,y_train)"
   ]
  },
  {
   "cell_type": "code",
   "execution_count": 148,
   "metadata": {},
   "outputs": [],
   "source": [
    "gb_predictions = gbmodel.predict(X_test)"
   ]
  },
  {
   "cell_type": "code",
   "execution_count": 149,
   "metadata": {},
   "outputs": [],
   "source": [
    "gb_rmse = rmse(y_test,gb_predictions)"
   ]
  },
  {
   "cell_type": "code",
   "execution_count": 150,
   "metadata": {},
   "outputs": [
    {
     "name": "stdout",
     "output_type": "stream",
     "text": [
      "RMSE using Random Forest Regressor = 3.2605\n",
      "RMSE using Gradient Boosting Regressor = 3.2318\n"
     ]
    }
   ],
   "source": [
    "print (f'RMSE using Random Forest Regressor = {rf_rmse:2.5}')\n",
    "print (f'RMSE using Gradient Boosting Regressor = {gb_rmse:1.5}')       "
   ]
  },
  {
   "cell_type": "code",
   "execution_count": 151,
   "metadata": {},
   "outputs": [
    {
     "data": {
      "text/plain": [
       "count    9495.000000\n",
       "mean        6.177567\n",
       "std         7.707721\n",
       "min         1.000000\n",
       "25%         2.000000\n",
       "50%         4.000000\n",
       "75%         7.000000\n",
       "max       122.000000\n",
       "Name: OrderQty, dtype: float64"
      ]
     },
     "execution_count": 151,
     "metadata": {},
     "output_type": "execute_result"
    }
   ],
   "source": [
    "y_test.describe()"
   ]
  },
  {
   "cell_type": "markdown",
   "metadata": {},
   "source": [
    "Reflection on Model Summary \n",
    "- Gradient Boosting performs faster and has a better rmse score compared to Random Forest Regressor\n",
    "- The obtained RMSE is less than the mean, median and well under the standard deviation of the y_test \n",
    "- This indicates that the model has performed well in predictions"
   ]
  },
  {
   "cell_type": "code",
   "execution_count": 158,
   "metadata": {},
   "outputs": [],
   "source": [
    "# create dataframe of the y_test and its predictions using the GradientBoost model #\n",
    "frame = { 'True Y': y_test, 'GB Predictions': gb_predictions,'RF Predictions':rf_predictions} "
   ]
  },
  {
   "cell_type": "code",
   "execution_count": 159,
   "metadata": {},
   "outputs": [],
   "source": [
    "compare_results = pd.DataFrame(frame)"
   ]
  },
  {
   "cell_type": "code",
   "execution_count": 160,
   "metadata": {},
   "outputs": [
    {
     "data": {
      "text/html": [
       "<div>\n",
       "<style scoped>\n",
       "    .dataframe tbody tr th:only-of-type {\n",
       "        vertical-align: middle;\n",
       "    }\n",
       "\n",
       "    .dataframe tbody tr th {\n",
       "        vertical-align: top;\n",
       "    }\n",
       "\n",
       "    .dataframe thead th {\n",
       "        text-align: right;\n",
       "    }\n",
       "</style>\n",
       "<table border=\"1\" class=\"dataframe\">\n",
       "  <thead>\n",
       "    <tr style=\"text-align: right;\">\n",
       "      <th></th>\n",
       "      <th>True Y</th>\n",
       "      <th>GB Predictions</th>\n",
       "      <th>RF Predictions</th>\n",
       "    </tr>\n",
       "  </thead>\n",
       "  <tbody>\n",
       "    <tr>\n",
       "      <td>38509</td>\n",
       "      <td>7</td>\n",
       "      <td>4.066312</td>\n",
       "      <td>5.62</td>\n",
       "    </tr>\n",
       "    <tr>\n",
       "      <td>38510</td>\n",
       "      <td>8</td>\n",
       "      <td>2.896698</td>\n",
       "      <td>2.17</td>\n",
       "    </tr>\n",
       "    <tr>\n",
       "      <td>38511</td>\n",
       "      <td>4</td>\n",
       "      <td>2.815044</td>\n",
       "      <td>1.67</td>\n",
       "    </tr>\n",
       "    <tr>\n",
       "      <td>38512</td>\n",
       "      <td>19</td>\n",
       "      <td>19.877301</td>\n",
       "      <td>16.96</td>\n",
       "    </tr>\n",
       "    <tr>\n",
       "      <td>38513</td>\n",
       "      <td>4</td>\n",
       "      <td>6.015990</td>\n",
       "      <td>1.90</td>\n",
       "    </tr>\n",
       "    <tr>\n",
       "      <td>...</td>\n",
       "      <td>...</td>\n",
       "      <td>...</td>\n",
       "      <td>...</td>\n",
       "    </tr>\n",
       "    <tr>\n",
       "      <td>47999</td>\n",
       "      <td>6</td>\n",
       "      <td>6.364559</td>\n",
       "      <td>5.04</td>\n",
       "    </tr>\n",
       "    <tr>\n",
       "      <td>48000</td>\n",
       "      <td>2</td>\n",
       "      <td>2.602509</td>\n",
       "      <td>1.14</td>\n",
       "    </tr>\n",
       "    <tr>\n",
       "      <td>48001</td>\n",
       "      <td>3</td>\n",
       "      <td>2.917361</td>\n",
       "      <td>2.14</td>\n",
       "    </tr>\n",
       "    <tr>\n",
       "      <td>48002</td>\n",
       "      <td>3</td>\n",
       "      <td>2.432081</td>\n",
       "      <td>2.05</td>\n",
       "    </tr>\n",
       "    <tr>\n",
       "      <td>48003</td>\n",
       "      <td>2</td>\n",
       "      <td>2.063509</td>\n",
       "      <td>1.13</td>\n",
       "    </tr>\n",
       "  </tbody>\n",
       "</table>\n",
       "<p>9495 rows × 3 columns</p>\n",
       "</div>"
      ],
      "text/plain": [
       "       True Y  GB Predictions  RF Predictions\n",
       "38509       7        4.066312            5.62\n",
       "38510       8        2.896698            2.17\n",
       "38511       4        2.815044            1.67\n",
       "38512      19       19.877301           16.96\n",
       "38513       4        6.015990            1.90\n",
       "...       ...             ...             ...\n",
       "47999       6        6.364559            5.04\n",
       "48000       2        2.602509            1.14\n",
       "48001       3        2.917361            2.14\n",
       "48002       3        2.432081            2.05\n",
       "48003       2        2.063509            1.13\n",
       "\n",
       "[9495 rows x 3 columns]"
      ]
     },
     "execution_count": 160,
     "metadata": {},
     "output_type": "execute_result"
    }
   ],
   "source": [
    "compare_results"
   ]
  },
  {
   "cell_type": "markdown",
   "metadata": {},
   "source": [
    "## Conclusion\n",
    "\n",
    "\n",
    "- Both Random Forest and Gradient Boosting returned equivalent RMSE values\n",
    "- The steps were repeated with different TerritoryID \n",
    "- For territories 2,3 and 5, Random Forest performed better. These territories had relatively lesser\n",
    "  number of observations compared to TerritoryID 1 and 4. \n",
    "- For TerritoryID 1 and 4, GB model returned RMSE better than RF model. \n",
    "\n",
    "Further Improvements\n",
    "- The dataset can be group by TerritoryID, ProductID and OrderDate and the entire steps can be repeated\n",
    "- Cross Validation using the TimerSeriesSplit can be performed. \n",
    "- The OrderQty is skewed. The model can be retrained after scaling the OrderQty value. \n",
    "\n",
    "\n"
   ]
  },
  {
   "cell_type": "markdown",
   "metadata": {},
   "source": [
    "Thank You"
   ]
  },
  {
   "cell_type": "code",
   "execution_count": null,
   "metadata": {},
   "outputs": [],
   "source": []
  }
 ],
 "metadata": {
  "kernelspec": {
   "display_name": "Python 3",
   "language": "python",
   "name": "python3"
  },
  "language_info": {
   "codemirror_mode": {
    "name": "ipython",
    "version": 3
   },
   "file_extension": ".py",
   "mimetype": "text/x-python",
   "name": "python",
   "nbconvert_exporter": "python",
   "pygments_lexer": "ipython3",
   "version": "3.6.8"
  },
  "toc": {
   "base_numbering": 1,
   "nav_menu": {},
   "number_sections": true,
   "sideBar": true,
   "skip_h1_title": false,
   "title_cell": "Table of Contents",
   "title_sidebar": "Contents",
   "toc_cell": false,
   "toc_position": {},
   "toc_section_display": true,
   "toc_window_display": false
  }
 },
 "nbformat": 4,
 "nbformat_minor": 2
}
