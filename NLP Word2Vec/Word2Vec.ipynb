{
 "cells": [
  {
   "cell_type": "markdown",
   "metadata": {},
   "source": [
    "# _Practice Project - Word2Vec Model Creation for Text Data_\n",
    "***\n",
    "_The meaning of the word can be inferred by the company it belongs to._\n"
   ]
  },
  {
   "cell_type": "markdown",
   "metadata": {},
   "source": [
    "## _Import Libraries and Load the Data_"
   ]
  },
  {
   "cell_type": "code",
   "execution_count": 15,
   "metadata": {},
   "outputs": [],
   "source": [
    "#data manipulation\n",
    "import numpy as np\n",
    "import pandas as pd\n",
    "import os\n",
    "import sys\n",
    "assert sys.version_info >= (3,5)\n",
    "#visualization import\n",
    "import matplotlib.pyplot as plt\n",
    "import seaborn as sns\n",
    "%matplotlib inline\n",
    "#handle unwanted warnings\n",
    "import warnings\n",
    "warnings.filterwarnings(action='ignore',category=DeprecationWarning)\n",
    "warnings.filterwarnings(action='ignore',category=FutureWarning)\n",
    "#text pre-processing\n",
    "import nltk\n",
    "from nltk.tokenize import sent_tokenize\n",
    "from nltk.tokenize import word_tokenize\n",
    "from nltk.corpus import stopwords\n",
    "from nltk.stem import SnowballStemmer\n",
    "from nltk.stem import WordNetLemmatizer\n",
    "#regular expressions\n",
    "import re\n",
    "import string\n",
    "#unzip using python\n",
    "from zipfile import ZipFile\n",
    "\n",
    "#import gensim library\n",
    "import gensim"
   ]
  },
  {
   "cell_type": "code",
   "execution_count": 3,
   "metadata": {},
   "outputs": [
    {
     "name": "stdout",
     "output_type": "stream",
     "text": [
      "File Name                                             Modified             Size\n",
      "reviews_data.txt                               2019-02-16 01:13:24    240342787\n"
     ]
    }
   ],
   "source": [
    "#load the data\n",
    "filename = 'reviews_data.zip'\n",
    "\n",
    "with ZipFile(filename,'r') as zip:\n",
    "    #get the contents of the file\n",
    "    zip.printdir()\n",
    "    #extract all the files\n",
    "    zip.extractall()"
   ]
  },
  {
   "cell_type": "code",
   "execution_count": 22,
   "metadata": {},
   "outputs": [],
   "source": [
    "file = 'reviews_data.txt'\n",
    "\n",
    "with open(file,'rb') as f:\n",
    "    text = f.readlines()"
   ]
  },
  {
   "cell_type": "code",
   "execution_count": 23,
   "metadata": {},
   "outputs": [
    {
     "data": {
      "text/plain": [
       "255404"
      ]
     },
     "execution_count": 23,
     "metadata": {},
     "output_type": "execute_result"
    }
   ],
   "source": [
    "len(text)"
   ]
  },
  {
   "cell_type": "code",
   "execution_count": 24,
   "metadata": {},
   "outputs": [
    {
     "data": {
      "text/plain": [
       "b'Sep 25 2009 \\tGreat Budget Hotel!\\tStayed two nights at Aloft on the most recent trip to China. The hotel was very modern and clean. The room was spotless and a comfortable king sized bed (as far as soft beds go in China). The staff was very punctual and went out of the way to help my every need, including going to a store across the street to purchase a China Mobile SIM card for me. The buffet breakfast was okay, nothing to write home about. The 42\\x94 LCD screen had movies on demand for 20RMB and had a good selection of western channels including HBO, CNN, BBC, Star World etc\\x85 The gym was small, had a selection of basic weights and one cable machine, there was however 6 new TechnoGym cardio machines with built in LCD TVs which were very good. The location is a bit out of the way to the central areas of Beijing, but it is better suited for my needs as I need to be in the Haidian district. Being SPG Platinum there were no upgrades to a better room, because Aloft has a policy of not doing any upgrades. The Sheraton next door is a much nicer hotel in my opinion (where I am writing this from now, with an upgraded room) but as far as bang for the buck, Aloft is a great place!\\t\\r\\n'"
      ]
     },
     "execution_count": 24,
     "metadata": {},
     "output_type": "execute_result"
    }
   ],
   "source": [
    "text[1]"
   ]
  },
  {
   "cell_type": "code",
   "execution_count": 25,
   "metadata": {},
   "outputs": [
    {
     "name": "stdout",
     "output_type": "stream",
     "text": [
      "Line 0 text is b\"Oct 12 2009 \\tNice trendy hotel location not too bad.\\tI stayed in this hotel for one night. As this is a fairly new place some of the taxi drivers did not know where it was and/or did not want to drive there. Once I have eventually arrived at the hotel, I was very pleasantly surprised with the decor of the lobby/ground floor area. It was very stylish and modern. I found the reception's staff geeting me with 'Aloha' a bit out of place, but I guess they are briefed to say that to keep up the coroporate image.As I have a Starwood Preferred Guest member, I was given a small gift upon-check in. It was only a couple of fridge magnets in a gift box, but nevertheless a nice gesture.My room was nice and roomy, there are tea and coffee facilities in each room and you get two complimentary bottles of water plus some toiletries by 'bliss'.The location is not great. It is at the last metro stop and you then need to take a taxi, but if you are not planning on going to see the historic sites in Beijing, then you will be ok.I chose to have some breakfast in the hotel, which was really tasty and there was a good selection of dishes. There are a couple of computers to use in the communal area, as well as a pool table. There is also a small swimming pool and a gym area.I would definitely stay in this hotel again, but only if I did not plan to travel to central Beijing, as it can take a long time. The location is ok if you plan to do a lot of shopping, as there is a big shopping centre just few minutes away from the hotel and there are plenty of eating options around, including restaurants that serve a dog meat!\\t\\r\\n\"\n",
      "Line 1 text is b'Sep 25 2009 \\tGreat Budget Hotel!\\tStayed two nights at Aloft on the most recent trip to China. The hotel was very modern and clean. The room was spotless and a comfortable king sized bed (as far as soft beds go in China). The staff was very punctual and went out of the way to help my every need, including going to a store across the street to purchase a China Mobile SIM card for me. The buffet breakfast was okay, nothing to write home about. The 42\\x94 LCD screen had movies on demand for 20RMB and had a good selection of western channels including HBO, CNN, BBC, Star World etc\\x85 The gym was small, had a selection of basic weights and one cable machine, there was however 6 new TechnoGym cardio machines with built in LCD TVs which were very good. The location is a bit out of the way to the central areas of Beijing, but it is better suited for my needs as I need to be in the Haidian district. Being SPG Platinum there were no upgrades to a better room, because Aloft has a policy of not doing any upgrades. The Sheraton next door is a much nicer hotel in my opinion (where I am writing this from now, with an upgraded room) but as far as bang for the buck, Aloft is a great place!\\t\\r\\n'\n"
     ]
    }
   ],
   "source": [
    "for i, line in enumerate(text):\n",
    "    if i < 2:\n",
    "        print(f'Line {i} text is {line}')\n",
    "        \n",
    "    else:\n",
    "        break"
   ]
  },
  {
   "cell_type": "code",
   "execution_count": 29,
   "metadata": {},
   "outputs": [],
   "source": [
    "documents = []\n",
    "for i,line in enumerate(text):\n",
    "    documents.append(gensim.utils.simple_preprocess(line))\n",
    "    "
   ]
  },
  {
   "cell_type": "code",
   "execution_count": 34,
   "metadata": {},
   "outputs": [
    {
     "data": {
      "text/plain": [
       "['aug', 'excellent', 'value', 'location', 'not']"
      ]
     },
     "execution_count": 34,
     "metadata": {},
     "output_type": "execute_result"
    }
   ],
   "source": [
    "documents[2][:5]"
   ]
  },
  {
   "cell_type": "code",
   "execution_count": 38,
   "metadata": {},
   "outputs": [],
   "source": [
    "#training word2vec model\n",
    "from gensim.models import Word2Vec\n",
    "#train the model\n",
    "model = Word2Vec(documents,min_count=1)"
   ]
  },
  {
   "cell_type": "code",
   "execution_count": 39,
   "metadata": {},
   "outputs": [
    {
     "name": "stdout",
     "output_type": "stream",
     "text": [
      "Word2Vec(vocab=150059, size=100, alpha=0.025)\n"
     ]
    }
   ],
   "source": [
    "#summarize the trained model\n",
    "print(model)"
   ]
  },
  {
   "cell_type": "code",
   "execution_count": 41,
   "metadata": {},
   "outputs": [
    {
     "name": "stdout",
     "output_type": "stream",
     "text": [
      "['oct', 'nice', 'trendy', 'hotel', 'location', 'not', 'too', 'bad', 'stayed', 'in']\n"
     ]
    }
   ],
   "source": [
    "#summarize the vocabulary\n",
    "words = list(model.wv.vocab)\n",
    "print(words[:10])"
   ]
  },
  {
   "cell_type": "code",
   "execution_count": 42,
   "metadata": {},
   "outputs": [
    {
     "name": "stdout",
     "output_type": "stream",
     "text": [
      "[ 0.14901423 -1.7512064  -1.121937   -0.8137081  -3.2777586   0.3872739\n",
      "  0.62606287 -2.1407642  -3.0497634  -2.013671    0.41758108 -0.4762054\n",
      " -3.8974872  -4.1876006  -3.0922625   2.107958   -0.29541084  1.3170369\n",
      " -1.4061233   0.34048057 -0.31713316  3.1194968   0.07426205  3.7516215\n",
      "  0.68503714 -2.232105    1.7703934   1.7308425  -2.2828295  -2.1673117\n",
      " -0.7317405   0.39877585  2.952547   -0.7672046  -1.0284679   4.152369\n",
      " -3.6084955  -0.47560102  0.55415845 -0.7084167  -0.37781385 -1.0723218\n",
      "  1.0506369   0.8700196  -0.8030182   0.6738116   1.2882427   0.5892732\n",
      "  0.19673459  3.340832   -0.85394603 -2.3220007   1.5470397  -3.9314516\n",
      "  1.1457063   0.8710716  -0.87436104 -2.140911    0.26735255 -1.3005157\n",
      "  2.4954903  -0.61551195 -1.8254633  -0.5203502   1.8170469  -0.713162\n",
      " -3.6717227   1.0981166   1.9974068  -3.5702205  -0.06482992 -0.7826211\n",
      "  0.8667963   1.3024031   3.265877    0.9902576   3.0346484   0.743197\n",
      "  0.01959011 -2.6919003  -0.31016755  3.5573955   0.6438287  -1.9091991\n",
      "  0.8788869  -0.27672088  1.338718    0.14670399 -4.79878     0.5597215\n",
      "  2.630984    2.1078258   0.23722701  1.3303038   0.92604923  1.0331601\n",
      " -0.23609163  0.23124652 -1.6548557   1.9504002 ]\n"
     ]
    }
   ],
   "source": [
    "#acces a vector for one of the words\n",
    "print(model['nice'])"
   ]
  },
  {
   "cell_type": "code",
   "execution_count": 43,
   "metadata": {},
   "outputs": [
    {
     "name": "stdout",
     "output_type": "stream",
     "text": [
      "[-0.14610225 -0.43602616  0.6979314   2.0773368  -1.2628345  -0.24177982\n",
      "  0.593253   -0.78505814  0.3949093  -1.814445   -1.5204215   1.6803021\n",
      " -0.81844175 -3.043637   -0.363252   -1.1253523  -1.1124251   1.2499716\n",
      " -1.8235354  -0.36981133 -1.9372826   0.2573762  -0.6359617   2.0587568\n",
      " -1.8213345  -0.70086116  0.10602593  0.74291253  2.195751   -2.268869\n",
      " -1.9405046   0.9048939   2.352095    1.6577314  -1.2566677   3.6979244\n",
      " -0.9246681   1.3801439   3.3256998   0.4605271  -1.140972   -2.5812707\n",
      "  1.9799682   0.7611882   0.19489534 -2.8636615  -2.6182141  -0.24993128\n",
      "  0.40325385  0.9463937  -2.1133382  -0.4730558  -0.13074866 -3.9722035\n",
      "  1.0631346   1.0221469   1.250692   -0.13217042 -0.10303911 -1.5192246\n",
      "  3.4587572   0.3449336  -0.8219983   0.5549843   2.4422438   0.5181697\n",
      " -0.46307725  1.539461    1.4379178  -1.472322   -1.2654153   0.76117086\n",
      "  0.7569897  -1.0101581   0.6734058  -1.211317    0.53180754  1.7498472\n",
      "  0.5060066  -2.3239696  -0.7375885   0.4274293  -1.5428138  -1.4107107\n",
      " -0.13849837  0.7325026  -0.29320833  2.2323163   0.40998057 -0.70102113\n",
      "  1.7899668   0.54802287 -2.1138687   0.44758153 -1.8596913  -1.0566506\n",
      "  2.4010339   2.6499703  -2.4965289   0.419394  ]\n"
     ]
    }
   ],
   "source": [
    "print(model['trendy'])"
   ]
  },
  {
   "cell_type": "code",
   "execution_count": 46,
   "metadata": {},
   "outputs": [
    {
     "data": {
      "text/plain": [
       "(100,)"
      ]
     },
     "execution_count": 46,
     "metadata": {},
     "output_type": "execute_result"
    }
   ],
   "source": [
    "#check the dimension --> size of the vector embeddings\n",
    "model['trendy'].shape"
   ]
  },
  {
   "cell_type": "code",
   "execution_count": 47,
   "metadata": {},
   "outputs": [],
   "source": [
    "#save the model\n",
    "model.save('model.bin')"
   ]
  },
  {
   "cell_type": "code",
   "execution_count": 48,
   "metadata": {},
   "outputs": [],
   "source": [
    "#load the model as a new model\n",
    "new_model = Word2Vec.load('model.bin')"
   ]
  },
  {
   "cell_type": "code",
   "execution_count": 49,
   "metadata": {},
   "outputs": [
    {
     "name": "stdout",
     "output_type": "stream",
     "text": [
      "Word2Vec(vocab=150059, size=100, alpha=0.025)\n"
     ]
    }
   ],
   "source": [
    "print(new_model)"
   ]
  },
  {
   "cell_type": "code",
   "execution_count": 50,
   "metadata": {},
   "outputs": [
    {
     "data": {
      "text/plain": [
       "array([-0.14610225, -0.43602616,  0.6979314 ,  2.0773368 , -1.2628345 ,\n",
       "       -0.24177982,  0.593253  , -0.78505814,  0.3949093 , -1.814445  ,\n",
       "       -1.5204215 ,  1.6803021 , -0.81844175, -3.043637  , -0.363252  ,\n",
       "       -1.1253523 , -1.1124251 ,  1.2499716 , -1.8235354 , -0.36981133,\n",
       "       -1.9372826 ,  0.2573762 , -0.6359617 ,  2.0587568 , -1.8213345 ,\n",
       "       -0.70086116,  0.10602593,  0.74291253,  2.195751  , -2.268869  ,\n",
       "       -1.9405046 ,  0.9048939 ,  2.352095  ,  1.6577314 , -1.2566677 ,\n",
       "        3.6979244 , -0.9246681 ,  1.3801439 ,  3.3256998 ,  0.4605271 ,\n",
       "       -1.140972  , -2.5812707 ,  1.9799682 ,  0.7611882 ,  0.19489534,\n",
       "       -2.8636615 , -2.6182141 , -0.24993128,  0.40325385,  0.9463937 ,\n",
       "       -2.1133382 , -0.4730558 , -0.13074866, -3.9722035 ,  1.0631346 ,\n",
       "        1.0221469 ,  1.250692  , -0.13217042, -0.10303911, -1.5192246 ,\n",
       "        3.4587572 ,  0.3449336 , -0.8219983 ,  0.5549843 ,  2.4422438 ,\n",
       "        0.5181697 , -0.46307725,  1.539461  ,  1.4379178 , -1.472322  ,\n",
       "       -1.2654153 ,  0.76117086,  0.7569897 , -1.0101581 ,  0.6734058 ,\n",
       "       -1.211317  ,  0.53180754,  1.7498472 ,  0.5060066 , -2.3239696 ,\n",
       "       -0.7375885 ,  0.4274293 , -1.5428138 , -1.4107107 , -0.13849837,\n",
       "        0.7325026 , -0.29320833,  2.2323163 ,  0.40998057, -0.70102113,\n",
       "        1.7899668 ,  0.54802287, -2.1138687 ,  0.44758153, -1.8596913 ,\n",
       "       -1.0566506 ,  2.4010339 ,  2.6499703 , -2.4965289 ,  0.419394  ],\n",
       "      dtype=float32)"
      ]
     },
     "execution_count": 50,
     "metadata": {},
     "output_type": "execute_result"
    }
   ],
   "source": [
    "new_model['trendy']"
   ]
  },
  {
   "cell_type": "code",
   "execution_count": 55,
   "metadata": {},
   "outputs": [
    {
     "name": "stdout",
     "output_type": "stream",
     "text": [
      "[('bargain', 0.6336358189582825), ('location', 0.6113249659538269), ('loaction', 0.6072180867195129), ('prosposition', 0.598526120185852), ('deal', 0.5955886244773865), ('valuefor', 0.5490619540214539), ('price', 0.5376212000846863), ('refelection', 0.5352514982223511), ('position', 0.5312513113021851), ('values', 0.5288784503936768)]\n"
     ]
    }
   ],
   "source": [
    "#printing the similar words\n",
    "w1 = 'value'\n",
    "print(new_model.wv.most_similar(positive=w1)) #positive = list of words that contribute positively to the given word"
   ]
  },
  {
   "cell_type": "code",
   "execution_count": null,
   "metadata": {},
   "outputs": [],
   "source": [
    "#printing the similar words\n",
    "w1 = 'value'\n",
    "print(new_model.wv.most_similar(negativ=w1))"
   ]
  }
 ],
 "metadata": {
  "kernelspec": {
   "display_name": "Python 3",
   "language": "python",
   "name": "python3"
  },
  "language_info": {
   "codemirror_mode": {
    "name": "ipython",
    "version": 3
   },
   "file_extension": ".py",
   "mimetype": "text/x-python",
   "name": "python",
   "nbconvert_exporter": "python",
   "pygments_lexer": "ipython3",
   "version": "3.7.6"
  }
 },
 "nbformat": 4,
 "nbformat_minor": 4
}
