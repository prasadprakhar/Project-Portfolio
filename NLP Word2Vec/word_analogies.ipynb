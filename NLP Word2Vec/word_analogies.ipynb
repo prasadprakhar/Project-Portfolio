{
 "cells": [
  {
   "cell_type": "markdown",
   "metadata": {},
   "source": [
    "# _Practice Project - Word Analogies_"
   ]
  },
  {
   "cell_type": "code",
   "execution_count": 1,
   "metadata": {},
   "outputs": [],
   "source": [
    "#data manipulation\n",
    "import numpy as np\n",
    "import pandas as pd\n",
    "import os\n",
    "import sys\n",
    "assert sys.version_info >= (3,5)\n",
    "#visualization import\n",
    "import matplotlib.pyplot as plt\n",
    "import seaborn as sns\n",
    "%matplotlib inline\n",
    "#handle unwanted warnings\n",
    "import warnings\n",
    "warnings.filterwarnings(action='ignore',category=DeprecationWarning)\n",
    "warnings.filterwarnings(action='ignore',category=FutureWarning)\n",
    "#text pre-processing\n",
    "import nltk\n",
    "from nltk.tokenize import sent_tokenize\n",
    "from nltk.tokenize import word_tokenize\n",
    "from nltk.corpus import stopwords\n",
    "from nltk.stem import SnowballStemmer\n",
    "from nltk.stem import WordNetLemmatizer\n",
    "#regular expressions\n",
    "import re\n",
    "import string\n",
    "#unzip using python\n",
    "from zipfile import ZipFile\n",
    "\n",
    "#import gensim library\n",
    "import gensim\n",
    "from gensim.models import Word2Vec"
   ]
  },
  {
   "cell_type": "code",
   "execution_count": 2,
   "metadata": {},
   "outputs": [
    {
     "name": "stdout",
     "output_type": "stream",
     "text": [
      "File Name                                             Modified             Size\n",
      "Word analogies demo_Lesson_2.ipynb             2019-09-16 02:34:12         3754\n",
      "word_analogy.txt                               2019-09-16 02:34:12       167552\n"
     ]
    }
   ],
   "source": [
    "#load the data\n",
    "filename = '1574330558_drivedownload20191121t095944z001.zip'\n",
    "\n",
    "with ZipFile(filename,'r') as zip:\n",
    "    #get the contents of the file\n",
    "    zip.printdir()\n",
    "    #extract all the files\n",
    "    zip.extractall()"
   ]
  },
  {
   "cell_type": "code",
   "execution_count": 25,
   "metadata": {},
   "outputs": [],
   "source": [
    "file = open('word_analogy.txt','rb')"
   ]
  },
  {
   "cell_type": "code",
   "execution_count": 26,
   "metadata": {},
   "outputs": [],
   "source": [
    "text = file.read()"
   ]
  },
  {
   "cell_type": "code",
   "execution_count": 34,
   "metadata": {},
   "outputs": [],
   "source": [
    "text = text.decode('ISO-8859-1')"
   ]
  },
  {
   "cell_type": "code",
   "execution_count": 35,
   "metadata": {},
   "outputs": [],
   "source": [
    "text = text.replace(\"\\n\",\" \")"
   ]
  },
  {
   "cell_type": "code",
   "execution_count": 36,
   "metadata": {},
   "outputs": [],
   "source": [
    "#iterate through each sentence in the file \n",
    "data = []\n",
    "for i in sent_tokenize(text):\n",
    "    temp = []\n",
    "    #tokenize the sentence into words\n",
    "    for j in word_tokenize(i):\n",
    "        temp.append(j.lower())\n",
    "    data.append(temp)     \n",
    "    "
   ]
  },
  {
   "cell_type": "code",
   "execution_count": 38,
   "metadata": {},
   "outputs": [
    {
     "data": {
      "text/plain": [
       "['she',\n",
       " 'took',\n",
       " 'down',\n",
       " 'a',\n",
       " 'jar',\n",
       " 'from',\n",
       " 'one',\n",
       " 'of',\n",
       " 'the',\n",
       " 'shelves',\n",
       " 'as',\n",
       " 'she',\n",
       " 'passed',\n",
       " ';',\n",
       " 'it',\n",
       " 'was',\n",
       " 'labelled',\n",
       " '\\x91orange',\n",
       " 'marmalade\\x92',\n",
       " ',',\n",
       " 'but',\n",
       " 'to',\n",
       " 'her',\n",
       " 'great',\n",
       " 'disappointment',\n",
       " 'it',\n",
       " 'was',\n",
       " 'empty',\n",
       " ':',\n",
       " 'she',\n",
       " 'did',\n",
       " 'not',\n",
       " 'like',\n",
       " 'to',\n",
       " 'drop',\n",
       " 'the',\n",
       " 'jar',\n",
       " 'for',\n",
       " 'fear',\n",
       " 'of',\n",
       " 'killing',\n",
       " 'somebody',\n",
       " ',',\n",
       " 'so',\n",
       " 'managed',\n",
       " 'to',\n",
       " 'put',\n",
       " 'it',\n",
       " 'into',\n",
       " 'one',\n",
       " 'of',\n",
       " 'the',\n",
       " 'cupboards',\n",
       " 'as',\n",
       " 'she',\n",
       " 'fell',\n",
       " 'past',\n",
       " 'it',\n",
       " '.']"
      ]
     },
     "execution_count": 38,
     "metadata": {},
     "output_type": "execute_result"
    }
   ],
   "source": [
    "data[10]"
   ]
  },
  {
   "cell_type": "code",
   "execution_count": 39,
   "metadata": {},
   "outputs": [],
   "source": [
    "#CBOW method\n",
    "model = Word2Vec(sentences=data,min_count=2,size=100,window=5)"
   ]
  },
  {
   "cell_type": "code",
   "execution_count": 41,
   "metadata": {},
   "outputs": [
    {
     "name": "stdout",
     "output_type": "stream",
     "text": [
      "Cosine similarity between 'alice' and 'wonderland' - CBOW :  0.9996032\n"
     ]
    }
   ],
   "source": [
    "#print the results\n",
    "print(\"Cosine similarity between 'alice' \" + \"and 'wonderland' - CBOW : \", model.similarity('alice', 'wonderland')) \n",
    "      "
   ]
  },
  {
   "cell_type": "code",
   "execution_count": 42,
   "metadata": {},
   "outputs": [
    {
     "data": {
      "text/plain": [
       "0.999801"
      ]
     },
     "execution_count": 42,
     "metadata": {},
     "output_type": "execute_result"
    }
   ],
   "source": [
    "model.similarity('king','queen')"
   ]
  },
  {
   "cell_type": "code",
   "execution_count": 48,
   "metadata": {},
   "outputs": [
    {
     "data": {
      "text/plain": [
       "0.99941194"
      ]
     },
     "execution_count": 48,
     "metadata": {},
     "output_type": "execute_result"
    }
   ],
   "source": [
    "model.similarity('alice','wonder')"
   ]
  },
  {
   "cell_type": "code",
   "execution_count": 49,
   "metadata": {},
   "outputs": [],
   "source": [
    "#Skip Gram Model\n",
    "model = Word2Vec(sentences=data,min_count=2,size=100,window=5,sg=1)"
   ]
  },
  {
   "cell_type": "code",
   "execution_count": 51,
   "metadata": {},
   "outputs": [
    {
     "name": "stdout",
     "output_type": "stream",
     "text": [
      "Cosine similarity between 'alice' and 'wonderland' - Skip Gram :  0.8305371\n"
     ]
    }
   ],
   "source": [
    "#print the results\n",
    "print(\"Cosine similarity between 'alice' \" + \"and 'wonderland' - Skip Gram : \", model.similarity('alice', 'wonderland')) "
   ]
  },
  {
   "cell_type": "code",
   "execution_count": null,
   "metadata": {},
   "outputs": [],
   "source": []
  }
 ],
 "metadata": {
  "kernelspec": {
   "display_name": "Python 3",
   "language": "python",
   "name": "python3"
  },
  "language_info": {
   "codemirror_mode": {
    "name": "ipython",
    "version": 3
   },
   "file_extension": ".py",
   "mimetype": "text/x-python",
   "name": "python",
   "nbconvert_exporter": "python",
   "pygments_lexer": "ipython3",
   "version": "3.7.6"
  }
 },
 "nbformat": 4,
 "nbformat_minor": 4
}
