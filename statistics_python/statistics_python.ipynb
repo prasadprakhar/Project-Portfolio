{
 "cells": [
  {
   "cell_type": "markdown",
   "metadata": {},
   "source": [
    "# _Statistics Tutorial in Python_\n",
    "***"
   ]
  },
  {
   "cell_type": "code",
   "execution_count": 6,
   "metadata": {},
   "outputs": [],
   "source": [
    "#usual imports\n",
    "import numpy as np\n",
    "import math\n",
    "#visualization \n",
    "import matplotlib.pyplot as plt\n",
    "import seaborn as sns\n",
    "import warnings\n",
    "warnings.filterwarnings(action='ignore')"
   ]
  },
  {
   "cell_type": "markdown",
   "metadata": {},
   "source": [
    "## _1. Normality Test_ \n",
    "Check whether the data has a Gaussian Distribution\n",
    "***\n",
    "- Shapiro Wilk Test\n",
    "- D Augustiono K^2 Test\n",
    "- Anderson Darling Test\n"
   ]
  },
  {
   "cell_type": "markdown",
   "metadata": {},
   "source": [
    "### _Shapiro Wilk Test_\n",
    "- H0: the sample has a Gaussian distribution.\n",
    "- H1: the sample does not have a Gaussian distribution.\n",
    "\n",
    "Assumptions:\n",
    "- Observations in each sample are independent and identically distributed. "
   ]
  },
  {
   "cell_type": "code",
   "execution_count": 7,
   "metadata": {},
   "outputs": [],
   "source": [
    "#example of the shapiro wilk test for normality\n",
    "from scipy.stats import shapiro\n",
    "data = [0.873, 2.817, 0.121, -0.945, -0.055, -1.436, 0.360, -1.478, -1.637, -1.869]\n",
    "stat, p = shapiro(data)"
   ]
  },
  {
   "cell_type": "code",
   "execution_count": 8,
   "metadata": {},
   "outputs": [
    {
     "name": "stdout",
     "output_type": "stream",
     "text": [
      "stat:0.895 p:0.193\n",
      "Probably data is Gaussian\n"
     ]
    }
   ],
   "source": [
    "print('stat:%.3f p:%.3f'%(stat,p))\n",
    "if p > 0.05:\n",
    "    print('Probably data is Gaussian')\n",
    "else:\n",
    "    print('Probably data is not Gaussian')"
   ]
  },
  {
   "cell_type": "markdown",
   "metadata": {},
   "source": [
    "### _D Agostino K^2 Test_\n",
    "- H0: the sample has a Gaussian distribution.\n",
    "- H1: the sample does not have a Gaussian distribution.\n",
    "\n",
    "Assumptions:\n",
    "- Observations in each sample are independent and identically distributed. "
   ]
  },
  {
   "cell_type": "code",
   "execution_count": 9,
   "metadata": {},
   "outputs": [
    {
     "name": "stdout",
     "output_type": "stream",
     "text": [
      "stat:3.392 p:0.183\n",
      "Probably data is Gaussian\n"
     ]
    }
   ],
   "source": [
    "#example of the D'Agostino K^2 test\n",
    "from scipy.stats import normaltest\n",
    "data = [0.873, 2.817, 0.121, -0.945, -0.055, -1.436, 0.360, -1.478, -1.637, -1.869]\n",
    "stat,p = normaltest(data)\n",
    "print('stat:%.3f p:%.3f'%(stat,p))\n",
    "if p > 0.05:\n",
    "    print('Probably data is Gaussian')\n",
    "else:\n",
    "    print('Probably data is not Gaussian')"
   ]
  },
  {
   "cell_type": "markdown",
   "metadata": {},
   "source": [
    "### _Anderson Darling Test_\n",
    "- H0: the sample has a Gaussian distribution.\n",
    "- H1: the sample does not have a Gaussian distribution.\n",
    "\n",
    "Assumptions:\n",
    "- Observations in each sample are independent and identically distributed. "
   ]
  },
  {
   "cell_type": "code",
   "execution_count": 12,
   "metadata": {},
   "outputs": [],
   "source": [
    "#example of the anderson darling test for normality\n",
    "from scipy.stats import anderson\n",
    "data = [0.873, 2.817, 0.121, -0.945, -0.055, -1.436, 0.360, -1.478, -1.637, -1.869]\n",
    "result = anderson(data)"
   ]
  },
  {
   "cell_type": "code",
   "execution_count": 13,
   "metadata": {},
   "outputs": [
    {
     "name": "stdout",
     "output_type": "stream",
     "text": [
      "AndersonResult(statistic=0.4239737141854807, critical_values=array([0.501, 0.57 , 0.684, 0.798, 0.95 ]), significance_level=array([15. , 10. ,  5. ,  2.5,  1. ]))\n"
     ]
    }
   ],
   "source": [
    "#print the result of the anderson test \n",
    "print (result)"
   ]
  },
  {
   "cell_type": "code",
   "execution_count": 16,
   "metadata": {},
   "outputs": [
    {
     "name": "stdout",
     "output_type": "stream",
     "text": [
      "stat 0.4239737141854807\n"
     ]
    }
   ],
   "source": [
    "#print the stat\n",
    "print(f'stat {result.statistic}')"
   ]
  },
  {
   "cell_type": "code",
   "execution_count": 17,
   "metadata": {},
   "outputs": [
    {
     "name": "stdout",
     "output_type": "stream",
     "text": [
      "critical values [0.501 0.57  0.684 0.798 0.95 ]\n"
     ]
    }
   ],
   "source": [
    "#print the critical values\n",
    "print(f'critical values {result.critical_values}')"
   ]
  },
  {
   "cell_type": "code",
   "execution_count": 19,
   "metadata": {},
   "outputs": [
    {
     "name": "stdout",
     "output_type": "stream",
     "text": [
      "significance levels [15.  10.   5.   2.5  1. ]\n"
     ]
    }
   ],
   "source": [
    "#print the significance levels\n",
    "print(f'significance levels {result.significance_level}')"
   ]
  },
  {
   "cell_type": "code",
   "execution_count": 21,
   "metadata": {},
   "outputs": [
    {
     "name": "stdout",
     "output_type": "stream",
     "text": [
      "the data looks normal (fail to reject H0)\n",
      "the data looks normal (fail to reject H0)\n",
      "the data looks normal (fail to reject H0)\n",
      "the data looks normal (fail to reject H0)\n",
      "the data looks normal (fail to reject H0)\n"
     ]
    }
   ],
   "source": [
    "for i in range(len(result.critical_values)):\n",
    "    sl,cv = result.significance_level[i], result.critical_values[i]\n",
    "    if result.statistic < result.critical_values[i]:\n",
    "        print('the data looks normal (fail to reject H0)')\n",
    "    else:\n",
    "        print('the data does not look normal (reject H0)')"
   ]
  },
  {
   "cell_type": "markdown",
   "metadata": {},
   "source": [
    "## _2. Correlation Test_\n"
   ]
  },
  {
   "cell_type": "markdown",
   "metadata": {},
   "source": [
    "### _Pearson Correlation Coefficient_\n",
    "- H0: the two samples are independent\n",
    "- H1: there is a dependency between the samples\n",
    "\n",
    "Assumptions:\n",
    "- Observations in each sample are independent and identically distributed. \n",
    "- Obseravations in each sample are normally distributed\n",
    "- Observations in each sample have the same variance"
   ]
  },
  {
   "cell_type": "code",
   "execution_count": 22,
   "metadata": {},
   "outputs": [
    {
     "name": "stdout",
     "output_type": "stream",
     "text": [
      "Reject the Null Hypothesis\n",
      "The two samples are dependent\n"
     ]
    }
   ],
   "source": [
    "#example of the pearson correlation coefficient\n",
    "from scipy.stats import pearsonr\n",
    "data1 = [0.873, 2.817, 0.121, -0.945, -0.055, -1.436, 0.360, -1.478, -1.637, -1.869]\n",
    "data2 = [0.353, 3.517, 0.125, -7.545, -0.555, -1.536, 3.350, -1.578, -3.537, -1.579]\n",
    "\n",
    "stat,p = pearsonr(data1,data2)\n",
    "if p > 0.05:\n",
    "    print('Fail to reject the Null Hypothesis ')\n",
    "    print('The two samples are independent')\n",
    "    \n",
    "else:\n",
    "    print('Reject the Null Hypothesis')\n",
    "    print('The two samples are dependent')\n",
    "    "
   ]
  },
  {
   "cell_type": "markdown",
   "metadata": {},
   "source": [
    "### _Spearman's Rank Correlation_\n",
    "- H0: the two samples are independent\n",
    "- H1: there is a dependency between the samples\n",
    "\n",
    "Assumptions:\n",
    "- Observations in each sample are independent and identically distributed. \n",
    "- Obseravations in each sample can be ranked\n",
    "\n"
   ]
  },
  {
   "cell_type": "code",
   "execution_count": 23,
   "metadata": {},
   "outputs": [
    {
     "name": "stdout",
     "output_type": "stream",
     "text": [
      "Reject the Null Hypothesis\n",
      "The two samples are dependent\n"
     ]
    }
   ],
   "source": [
    "#example of the spearman correlation\n",
    "from scipy.stats import spearmanr\n",
    "data1 = [0.873, 2.817, 0.121, -0.945, -0.055, -1.436, 0.360, -1.478, -1.637, -1.869]\n",
    "data2 = [0.353, 3.517, 0.125, -7.545, -0.555, -1.536, 3.350, -1.578, -3.537, -1.579]\n",
    "\n",
    "stat,p = spearmanr(data1,data2)\n",
    "\n",
    "if p > 0.05:\n",
    "    print('Fail to reject the Null Hypothesis ')\n",
    "    print('The two samples are independent')\n",
    "    \n",
    "else:\n",
    "    print('Reject the Null Hypothesis')\n",
    "    print('The two samples are dependent')"
   ]
  },
  {
   "cell_type": "markdown",
   "metadata": {},
   "source": [
    "### _Kendall's Rank Correlation_\n",
    "- H0: the two samples are independent\n",
    "- H1: there is a dependency between the samples\n",
    "\n",
    "Assumptions:\n",
    "- Observations in each sample are independent and identically distributed. \n",
    "- Obseravations in each sample can be ranked\n"
   ]
  },
  {
   "cell_type": "code",
   "execution_count": 24,
   "metadata": {},
   "outputs": [
    {
     "name": "stdout",
     "output_type": "stream",
     "text": [
      "Reject the Null Hypothesis\n",
      "The two samples are dependent\n"
     ]
    }
   ],
   "source": [
    "#example of the kendal rank correlation\n",
    "from scipy.stats import kendalltau\n",
    "data1 = [0.873, 2.817, 0.121, -0.945, -0.055, -1.436, 0.360, -1.478, -1.637, -1.869]\n",
    "data2 = [0.353, 3.517, 0.125, -7.545, -0.555, -1.536, 3.350, -1.578, -3.537, -1.579]\n",
    "stat,p = kendalltau(data1,data2)\n",
    "\n",
    "if p > 0.05:\n",
    "    print('Fail to reject the Null Hypothesis ')\n",
    "    print('The two samples are independent')\n",
    "    \n",
    "else:\n",
    "    print('Reject the Null Hypothesis')\n",
    "    print('The two samples are dependent')"
   ]
  },
  {
   "cell_type": "markdown",
   "metadata": {},
   "source": [
    "### _Chi-Squared Test_\n",
    "Test whether the two categorical variable are related or independent\n",
    "- H0: the two samples are independent\n",
    "- H1: there is a dependency between the samples\n",
    "\n",
    "Assumptions:\n",
    "- Observations used in the calculation of the contingency table are independent\n",
    "- 25 or more examples in each cell of the contingency table "
   ]
  },
  {
   "cell_type": "code",
   "execution_count": 28,
   "metadata": {},
   "outputs": [
    {
     "name": "stdout",
     "output_type": "stream",
     "text": [
      "Fail to reject the Null Hypothesis \n",
      "The two samples are independent\n"
     ]
    }
   ],
   "source": [
    "#example of the chi-squared test\n",
    "from scipy.stats import chi2_contingency\n",
    "table = [[10, 20, 30],[6,  9,  17]]\n",
    "\n",
    "stat,p,dof,expected = chi2_contingency(table)\n",
    "\n",
    "if p > 0.05:\n",
    "    print('Fail to reject the Null Hypothesis ')\n",
    "    print('The two samples are independent')\n",
    "    \n",
    "else:\n",
    "    print('Reject the Null Hypothesis')\n",
    "    print('The two samples are dependent')"
   ]
  },
  {
   "cell_type": "markdown",
   "metadata": {},
   "source": [
    "## _3. Stationary Tests_\n",
    "_Test whether the time series is stationary or not_"
   ]
  },
  {
   "cell_type": "markdown",
   "metadata": {},
   "source": [
    "## _Augmented Dickey Fuller Unit Root Test_\n",
    "_Tests whether the time series has a unit roor or more generally whether the time series has trend or is autoregressive_\n",
    "\n",
    "Assumptions:\n",
    "- Observations are temporally ordered\n",
    "\n",
    "Interpretation\n",
    "- H0: a unit root is present and the series is non stationary\n",
    "- H1: a unit root is not present and the series is stationary\n"
   ]
  },
  {
   "cell_type": "code",
   "execution_count": 29,
   "metadata": {},
   "outputs": [
    {
     "name": "stdout",
     "output_type": "stream",
     "text": [
      "Fail to reject the Null Hypothesis \n",
      "The time series has unit root and is non stationary\n"
     ]
    }
   ],
   "source": [
    "#example of the augmented dickey fuller test .. \n",
    "from statsmodels.tsa.stattools import adfuller\n",
    "data = [1,2,3,4,5,6,7,8,9]\n",
    "\n",
    "stat,p,lags,obs,crit,t = adfuller(data)\n",
    "if p > 0.05:\n",
    "    print('Fail to reject the Null Hypothesis ')\n",
    "    print('The time series has unit root and is non stationary')\n",
    "    \n",
    "else:\n",
    "    print('Reject the Null Hypothesis')\n",
    "    print('The times series has no unit root and is stationary')"
   ]
  },
  {
   "cell_type": "markdown",
   "metadata": {},
   "source": [
    "## _Kwiatowski Schmidt Shin Test_\n",
    "_Tests whether the time series is trend stationary or not_\n",
    "\n",
    "Assumptions:\n",
    "- Observations are temporally ordered\n",
    "\n",
    "Interpretation\n",
    "- H0: the time series is not trend stationary\n",
    "- H1: the time series is trend stationary\n"
   ]
  },
  {
   "cell_type": "code",
   "execution_count": 30,
   "metadata": {},
   "outputs": [
    {
     "name": "stdout",
     "output_type": "stream",
     "text": [
      "Fail to reject the Null Hypothesis \n",
      "The time series is non stationary\n"
     ]
    }
   ],
   "source": [
    "#example of the kpss test .. \n",
    "from statsmodels.tsa.stattools import kpss\n",
    "data = [0, 1, 2, 3, 4, 5, 6, 7, 8, 9]\n",
    "stat,p,lags,crit =  kpss(data)\n",
    "\n",
    "if p > 0.05:\n",
    "    print('Fail to reject the Null Hypothesis ')\n",
    "    print('The time series is non stationary')\n",
    "    \n",
    "else:\n",
    "    print('Reject the Null Hypothesis')\n",
    "    print('The times series is stationary')"
   ]
  },
  {
   "cell_type": "markdown",
   "metadata": {},
   "source": [
    "## _4. Parametric Statistical Hypothesis Tests_\n",
    "_The statistical tests that can be used to compare the data sample_"
   ]
  },
  {
   "cell_type": "markdown",
   "metadata": {},
   "source": [
    "## _Student t-test_\n",
    "_Test whether the means of two independent sample are significantly different_\n",
    "\n",
    "Assumptions:\n",
    "- Observations in each sample are independent and identically distributed\n",
    "- Observations in each sample are normally distributed\n",
    "- Observations in each sample have the same variance\n",
    "\n",
    "\n",
    "Interpretation\n",
    "- H0: the means of the sample are equal\n",
    "- H1: the means of the sample are unequal"
   ]
  },
  {
   "cell_type": "code",
   "execution_count": 32,
   "metadata": {},
   "outputs": [
    {
     "name": "stdout",
     "output_type": "stream",
     "text": [
      "Fail to reject the Null Hypothesis \n",
      "The samples have same mean and probably they are from same distribution\n"
     ]
    }
   ],
   "source": [
    "#example of the student t test\n",
    "from scipy.stats import ttest_ind\n",
    "data1 = [0.873, 2.817, 0.121, -0.945, -0.055, -1.436, 0.360, -1.478, -1.637, -1.869]\n",
    "data2 = [1.142, -0.432, -0.938, -0.729, -0.846, -0.157, 0.500, 1.183, -1.075, -0.169]\n",
    "stat,p = ttest_ind(data1,data2)\n",
    "\n",
    "if p > 0.05:\n",
    "    print('Fail to reject the Null Hypothesis ')\n",
    "    print('The samples have same mean and probably they are from same distribution')\n",
    "    \n",
    "else:\n",
    "    print('Reject the Null Hypothesis')\n",
    "    print('The samples have unequal means and probably they are from different distributions')"
   ]
  },
  {
   "cell_type": "markdown",
   "metadata": {},
   "source": [
    "## _Paired Student t-test_\n",
    "_Test whether the means of two paired samples are significantly different_\n",
    "\n",
    "Assumptions:\n",
    "- Observations in each sample are independent and identically distributed\n",
    "- Observations in each sample are normally distributed\n",
    "- Observations in each sample have the same variance\n",
    "- Observations across each sample are paired\n",
    "\n",
    "\n",
    "Interpretation\n",
    "- H0: the means of the sample are equal\n",
    "- H1: the means of the sample are unequal"
   ]
  },
  {
   "cell_type": "code",
   "execution_count": 34,
   "metadata": {},
   "outputs": [
    {
     "name": "stdout",
     "output_type": "stream",
     "text": [
      "Fail to reject the Null Hypothesis \n",
      "The samples have same mean and probably they are from same distribution\n"
     ]
    }
   ],
   "source": [
    "#example of the paired t-test\n",
    "from scipy.stats import ttest_rel\n",
    "data1 = [0.873, 2.817, 0.121, -0.945, -0.055, -1.436, 0.360, -1.478, -1.637, -1.869]\n",
    "data2 = [1.142, -0.432, -0.938, -0.729, -0.846, -0.157, 0.500, 1.183, -1.075, -0.169]\n",
    "stat,p = ttest_rel(data1,data2)\n",
    "\n",
    "if p > 0.05:\n",
    "    print('Fail to reject the Null Hypothesis ')\n",
    "    print('The samples have same mean and probably they are from same distribution')\n",
    "    \n",
    "else:\n",
    "    print('Reject the Null Hypothesis')\n",
    "    print('The samples have unequal means and probably they are from different distributions')"
   ]
  },
  {
   "cell_type": "markdown",
   "metadata": {},
   "source": [
    "## _ANOVA or Analysis of Variance_\n",
    "_tests whether the means of two or more independent samples are equal or different_\n",
    "\n",
    "Assumptions:\n",
    "- Observations in each sample are independent and identically distributed\n",
    "- Observations in each sample are normally distributed\n",
    "- Observations in each sample have same variance\n",
    "\n",
    "Interpretation\n",
    "- H0: the means of the sample are equal\n",
    "- H1: the means of the sample are unequal"
   ]
  },
  {
   "cell_type": "code",
   "execution_count": 35,
   "metadata": {},
   "outputs": [
    {
     "name": "stdout",
     "output_type": "stream",
     "text": [
      "Fail to reject the Null Hypothesis \n",
      "The samples have same mean and probably they are from same distribution\n"
     ]
    }
   ],
   "source": [
    "#example of the one way ANOVA\n",
    "from scipy.stats import f_oneway\n",
    "data1 = [0.873, 2.817, 0.121, -0.945, -0.055, -1.436, 0.360, -1.478, -1.637, -1.869]\n",
    "data2 = [1.142, -0.432, -0.938, -0.729, -0.846, -0.157, 0.500, 1.183, -1.075, -0.169]\n",
    "data3 = [-0.208, 0.696, 0.928, -1.148, -0.213, 0.229, 0.137, 0.269, -0.870, -1.204]\n",
    "\n",
    "stat,p = f_oneway(data1,data2,data3)\n",
    "if p > 0.05:\n",
    "    print('Fail to reject the Null Hypothesis ')\n",
    "    print('The samples have same mean and probably they are from same distribution')\n",
    "    \n",
    "else:\n",
    "    print('Reject the Null Hypothesis')\n",
    "    print('The samples have unequal means and probably they are from different distributions')"
   ]
  },
  {
   "cell_type": "markdown",
   "metadata": {},
   "source": [
    "## _Repeated Measures ANOVA Test_\n",
    "_Test whether the means of two or more paired samples are significantly different_\n",
    "\n",
    "Assumptions:\n",
    "- Observations in each sample are independent and identically distributed\n",
    "- Observations in each sample are normally distributed\n",
    "- Observations in each sample have the same variance\n",
    "- Observations across each sample are paired\n",
    "\n",
    "\n",
    "Interpretation\n",
    "- H0: the means of the sample are equal\n",
    "- H1: the means of the sample are unequal\n",
    "\n",
    "Python Code\n",
    "- Currently this test is not supported in Python"
   ]
  },
  {
   "cell_type": "markdown",
   "metadata": {},
   "source": [
    "## _5. Non Parametric Statistical Hypothesis Tests_\n"
   ]
  },
  {
   "cell_type": "markdown",
   "metadata": {},
   "source": [
    "## _Mann Whitney U Test_\n",
    "_Test whether the distributions of two independent samples are equal or not_\n",
    "\n",
    "Assumptions:\n",
    "- Observations in each sample are independent and identically distributed\n",
    "- Observations in each sample can be ranked\n",
    "\n",
    "Interpretation\n",
    "- H0: the distributions of both the samples are equal\n",
    "- H1: the distributions of both the samples are not equal"
   ]
  },
  {
   "cell_type": "code",
   "execution_count": 37,
   "metadata": {},
   "outputs": [
    {
     "name": "stdout",
     "output_type": "stream",
     "text": [
      "stat=40.000, p=0.236\n",
      "Probably the same distribution\n"
     ]
    }
   ],
   "source": [
    "#example of the implementation of the Mann Whitney U Test\n",
    "from scipy.stats import mannwhitneyu\n",
    "data1 = [0.873, 2.817, 0.121, -0.945, -0.055, -1.436, 0.360, -1.478, -1.637, -1.869]\n",
    "data2 = [1.142, -0.432, -0.938, -0.729, -0.846, -0.157, 0.500, 1.183, -1.075, -0.169]\n",
    "stat, p = mannwhitneyu(data1, data2)\n",
    "print('stat=%.3f, p=%.3f' % (stat, p))\n",
    "if p > 0.05:\n",
    "    print('Probably the same distribution')\n",
    "else:\n",
    "    print('Probably different distributions')"
   ]
  },
  {
   "cell_type": "markdown",
   "metadata": {},
   "source": [
    "## _Wilcoxon Signed-Rank Test_\n",
    "_Test whether the distributions of two paired samples are equal or not_\n",
    "\n",
    "Assumptions:\n",
    "- Observations in each sample are independent and identically distributed\n",
    "- Observations in each sample can be ranked\n",
    "- Observations across each sample are paired\n",
    "\n",
    "Interpretation\n",
    "- H0: the distributions of both the samples are equal\n",
    "- H1: the distributions of both the samples are not equal\n"
   ]
  },
  {
   "cell_type": "code",
   "execution_count": 38,
   "metadata": {},
   "outputs": [
    {
     "name": "stdout",
     "output_type": "stream",
     "text": [
      "stat=21.000, p=0.508\n",
      "Probably the same distribution\n"
     ]
    }
   ],
   "source": [
    "#example of the wilcoxon test\n",
    "from scipy.stats import wilcoxon\n",
    "data1 = [0.873, 2.817, 0.121, -0.945, -0.055, -1.436, 0.360, -1.478, -1.637, -1.869]\n",
    "data2 = [1.142, -0.432, -0.938, -0.729, -0.846, -0.157, 0.500, 1.183, -1.075, -0.169]\n",
    "stat, p = wilcoxon(data1, data2)\n",
    "print('stat=%.3f, p=%.3f' % (stat, p))\n",
    "if p > 0.05:\n",
    "    print('Probably the same distribution')\n",
    "else:\n",
    "    print('Probably different distributions')"
   ]
  },
  {
   "cell_type": "markdown",
   "metadata": {},
   "source": [
    "## _Krushkal Wallis H Test_\n",
    "_Test whether the distributions of two or more independent samples are equal or not_\n",
    "\n",
    "Assumptions:\n",
    "- Observations in each sample are independent and identically distributed\n",
    "- Observations in each sample can be ranked\n",
    "\n",
    "Interpretation\n",
    "- H0: the distributions of both the samples are equal\n",
    "- H1: the distributions of both the samples are not equal"
   ]
  },
  {
   "cell_type": "code",
   "execution_count": 40,
   "metadata": {},
   "outputs": [
    {
     "name": "stdout",
     "output_type": "stream",
     "text": [
      "stat=0.571, p=0.450\n",
      "Probably the same distribution\n"
     ]
    }
   ],
   "source": [
    "#python example of the kruskal test\n",
    "from scipy.stats import kruskal\n",
    "data1 = [0.873, 2.817, 0.121, -0.945, -0.055, -1.436, 0.360, -1.478, -1.637, -1.869]\n",
    "data2 = [1.142, -0.432, -0.938, -0.729, -0.846, -0.157, 0.500, 1.183, -1.075, -0.169]\n",
    "stat, p = kruskal(data1, data2)\n",
    "print('stat=%.3f, p=%.3f' % (stat, p))\n",
    "if p > 0.05:\n",
    "    print('Probably the same distribution')\n",
    "else:\n",
    "    print('Probably different distributions')"
   ]
  },
  {
   "cell_type": "markdown",
   "metadata": {},
   "source": [
    "## _Friedman Test_\n",
    "_Test whether the distributions of two or more paired samples are equal or not_\n",
    "\n",
    "Assumptions:\n",
    "- Observations in each sample are independent and identically distributed\n",
    "- Observations in each sample can be ranked\n",
    "- Observations in each sample are paired\n",
    "\n",
    "Interpretation\n",
    "- H0: the distributions of all the samples are equal\n",
    "- H1: the distributions of one or more of samples are not equal"
   ]
  },
  {
   "cell_type": "code",
   "execution_count": 41,
   "metadata": {},
   "outputs": [
    {
     "name": "stdout",
     "output_type": "stream",
     "text": [
      "stat=0.800, p=0.670\n",
      "Probably the same distribution\n"
     ]
    }
   ],
   "source": [
    "#example of the friedman test\n",
    "from scipy.stats import friedmanchisquare\n",
    "data1 = [0.873, 2.817, 0.121, -0.945, -0.055, -1.436, 0.360, -1.478, -1.637, -1.869]\n",
    "data2 = [1.142, -0.432, -0.938, -0.729, -0.846, -0.157, 0.500, 1.183, -1.075, -0.169]\n",
    "data3 = [-0.208, 0.696, 0.928, -1.148, -0.213, 0.229, 0.137, 0.269, -0.870, -1.204]\n",
    "stat, p = friedmanchisquare(data1, data2, data3)\n",
    "print('stat=%.3f, p=%.3f' % (stat, p))\n",
    "if p > 0.05:\n",
    "    print('Probably the same distribution')\n",
    "else:\n",
    "    print('Probably different distributions')"
   ]
  },
  {
   "cell_type": "code",
   "execution_count": null,
   "metadata": {},
   "outputs": [],
   "source": []
  }
 ],
 "metadata": {
  "kernelspec": {
   "display_name": "Python 3",
   "language": "python",
   "name": "python3"
  },
  "language_info": {
   "codemirror_mode": {
    "name": "ipython",
    "version": 3
   },
   "file_extension": ".py",
   "mimetype": "text/x-python",
   "name": "python",
   "nbconvert_exporter": "python",
   "pygments_lexer": "ipython3",
   "version": "3.7.4"
  }
 },
 "nbformat": 4,
 "nbformat_minor": 2
}
