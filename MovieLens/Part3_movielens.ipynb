{
 "cells": [
  {
   "cell_type": "markdown",
   "metadata": {},
   "source": [
    "## *Part 3: Modeling on the Movielens*\n",
    "***"
   ]
  },
  {
   "cell_type": "code",
   "execution_count": 101,
   "metadata": {},
   "outputs": [],
   "source": [
    "#system specific\n",
    "import os\n",
    "import sys\n",
    "assert sys.version_info >= (3,5)\n",
    "#import the libraries\n",
    "import pandas as pd\n",
    "import numpy as np\n",
    "import random\n",
    "#visualizations \n",
    "import matplotlib.pyplot as plt\n",
    "import seaborn as sns\n",
    "%matplotlib inline\n",
    "#consistent size plots\n",
    "from pylab import rcParams\n",
    "rcParams['figure.figsize'] = (12,5)\n",
    "rcParams['xtick.labelsize'] = 12\n",
    "rcParams['ytick.labelsize'] = 12\n",
    "rcParams['axes.labelsize'] = 12\n",
    "#handle unwanted warnings\n",
    "import warnings\n",
    "warnings.filterwarnings(action='ignore',category=DeprecationWarning)\n",
    "warnings.filterwarnings(action='ignore',category=FutureWarning)"
   ]
  },
  {
   "cell_type": "code",
   "execution_count": 102,
   "metadata": {},
   "outputs": [],
   "source": [
    "#load the data\n",
    "movies = pd.read_csv('movies.csv',engine='python',delimiter=',')"
   ]
  },
  {
   "cell_type": "code",
   "execution_count": 103,
   "metadata": {},
   "outputs": [
    {
     "data": {
      "text/html": [
       "<div>\n",
       "<style scoped>\n",
       "    .dataframe tbody tr th:only-of-type {\n",
       "        vertical-align: middle;\n",
       "    }\n",
       "\n",
       "    .dataframe tbody tr th {\n",
       "        vertical-align: top;\n",
       "    }\n",
       "\n",
       "    .dataframe thead th {\n",
       "        text-align: right;\n",
       "    }\n",
       "</style>\n",
       "<table border=\"1\" class=\"dataframe\">\n",
       "  <thead>\n",
       "    <tr style=\"text-align: right;\">\n",
       "      <th></th>\n",
       "      <th>MovieID</th>\n",
       "      <th>UserID</th>\n",
       "      <th>Rating</th>\n",
       "      <th>Age</th>\n",
       "      <th>Occupation</th>\n",
       "      <th>Count</th>\n",
       "      <th>Genre_enc_1</th>\n",
       "      <th>Genre_enc_2</th>\n",
       "      <th>Gender_enc</th>\n",
       "      <th>zipcode_sum</th>\n",
       "      <th>weekday_enc</th>\n",
       "    </tr>\n",
       "  </thead>\n",
       "  <tbody>\n",
       "    <tr>\n",
       "      <th>0</th>\n",
       "      <td>1</td>\n",
       "      <td>1</td>\n",
       "      <td>5</td>\n",
       "      <td>1</td>\n",
       "      <td>10</td>\n",
       "      <td>1</td>\n",
       "      <td>2</td>\n",
       "      <td>3</td>\n",
       "      <td>0</td>\n",
       "      <td>12</td>\n",
       "      <td>2</td>\n",
       "    </tr>\n",
       "    <tr>\n",
       "      <th>1</th>\n",
       "      <td>48</td>\n",
       "      <td>1</td>\n",
       "      <td>5</td>\n",
       "      <td>1</td>\n",
       "      <td>10</td>\n",
       "      <td>1</td>\n",
       "      <td>2</td>\n",
       "      <td>3</td>\n",
       "      <td>0</td>\n",
       "      <td>12</td>\n",
       "      <td>2</td>\n",
       "    </tr>\n",
       "    <tr>\n",
       "      <th>2</th>\n",
       "      <td>150</td>\n",
       "      <td>1</td>\n",
       "      <td>5</td>\n",
       "      <td>1</td>\n",
       "      <td>10</td>\n",
       "      <td>1</td>\n",
       "      <td>7</td>\n",
       "      <td>7</td>\n",
       "      <td>0</td>\n",
       "      <td>12</td>\n",
       "      <td>3</td>\n",
       "    </tr>\n",
       "    <tr>\n",
       "      <th>3</th>\n",
       "      <td>260</td>\n",
       "      <td>1</td>\n",
       "      <td>4</td>\n",
       "      <td>1</td>\n",
       "      <td>10</td>\n",
       "      <td>1</td>\n",
       "      <td>0</td>\n",
       "      <td>1</td>\n",
       "      <td>0</td>\n",
       "      <td>12</td>\n",
       "      <td>3</td>\n",
       "    </tr>\n",
       "    <tr>\n",
       "      <th>4</th>\n",
       "      <td>527</td>\n",
       "      <td>1</td>\n",
       "      <td>5</td>\n",
       "      <td>1</td>\n",
       "      <td>10</td>\n",
       "      <td>1</td>\n",
       "      <td>7</td>\n",
       "      <td>16</td>\n",
       "      <td>0</td>\n",
       "      <td>12</td>\n",
       "      <td>2</td>\n",
       "    </tr>\n",
       "  </tbody>\n",
       "</table>\n",
       "</div>"
      ],
      "text/plain": [
       "   MovieID  UserID  Rating  Age  Occupation  Count  Genre_enc_1  Genre_enc_2  \\\n",
       "0        1       1       5    1          10      1            2            3   \n",
       "1       48       1       5    1          10      1            2            3   \n",
       "2      150       1       5    1          10      1            7            7   \n",
       "3      260       1       4    1          10      1            0            1   \n",
       "4      527       1       5    1          10      1            7           16   \n",
       "\n",
       "   Gender_enc  zipcode_sum  weekday_enc  \n",
       "0           0           12            2  \n",
       "1           0           12            2  \n",
       "2           0           12            3  \n",
       "3           0           12            3  \n",
       "4           0           12            2  "
      ]
     },
     "execution_count": 103,
     "metadata": {},
     "output_type": "execute_result"
    }
   ],
   "source": [
    "movies.head()"
   ]
  },
  {
   "cell_type": "code",
   "execution_count": 104,
   "metadata": {},
   "outputs": [],
   "source": [
    "#pick one of the movies for modeling\n",
    "sample = movies.copy()"
   ]
  },
  {
   "cell_type": "code",
   "execution_count": 105,
   "metadata": {},
   "outputs": [
    {
     "name": "stdout",
     "output_type": "stream",
     "text": [
      "<class 'pandas.core.frame.DataFrame'>\n",
      "RangeIndex: 923889 entries, 0 to 923888\n",
      "Data columns (total 11 columns):\n",
      " #   Column       Non-Null Count   Dtype\n",
      "---  ------       --------------   -----\n",
      " 0   MovieID      923889 non-null  int64\n",
      " 1   UserID       923889 non-null  int64\n",
      " 2   Rating       923889 non-null  int64\n",
      " 3   Age          923889 non-null  int64\n",
      " 4   Occupation   923889 non-null  int64\n",
      " 5   Count        923889 non-null  int64\n",
      " 6   Genre_enc_1  923889 non-null  int64\n",
      " 7   Genre_enc_2  923889 non-null  int64\n",
      " 8   Gender_enc   923889 non-null  int64\n",
      " 9   zipcode_sum  923889 non-null  int64\n",
      " 10  weekday_enc  923889 non-null  int64\n",
      "dtypes: int64(11)\n",
      "memory usage: 77.5 MB\n"
     ]
    }
   ],
   "source": [
    "sample.info()"
   ]
  },
  {
   "cell_type": "code",
   "execution_count": 106,
   "metadata": {},
   "outputs": [
    {
     "data": {
      "text/plain": [
       "923889"
      ]
     },
     "execution_count": 106,
     "metadata": {},
     "output_type": "execute_result"
    }
   ],
   "source": [
    "len(sample)"
   ]
  },
  {
   "cell_type": "code",
   "execution_count": 107,
   "metadata": {},
   "outputs": [
    {
     "data": {
      "text/html": [
       "<div>\n",
       "<style scoped>\n",
       "    .dataframe tbody tr th:only-of-type {\n",
       "        vertical-align: middle;\n",
       "    }\n",
       "\n",
       "    .dataframe tbody tr th {\n",
       "        vertical-align: top;\n",
       "    }\n",
       "\n",
       "    .dataframe thead th {\n",
       "        text-align: right;\n",
       "    }\n",
       "</style>\n",
       "<table border=\"1\" class=\"dataframe\">\n",
       "  <thead>\n",
       "    <tr style=\"text-align: right;\">\n",
       "      <th></th>\n",
       "      <th>MovieID</th>\n",
       "      <th>UserID</th>\n",
       "      <th>Rating</th>\n",
       "      <th>Age</th>\n",
       "      <th>Occupation</th>\n",
       "      <th>Count</th>\n",
       "      <th>Genre_enc_1</th>\n",
       "      <th>Genre_enc_2</th>\n",
       "      <th>Gender_enc</th>\n",
       "      <th>zipcode_sum</th>\n",
       "      <th>weekday_enc</th>\n",
       "    </tr>\n",
       "  </thead>\n",
       "  <tbody>\n",
       "    <tr>\n",
       "      <th>0</th>\n",
       "      <td>1</td>\n",
       "      <td>1</td>\n",
       "      <td>5</td>\n",
       "      <td>1</td>\n",
       "      <td>10</td>\n",
       "      <td>1</td>\n",
       "      <td>2</td>\n",
       "      <td>3</td>\n",
       "      <td>0</td>\n",
       "      <td>12</td>\n",
       "      <td>2</td>\n",
       "    </tr>\n",
       "    <tr>\n",
       "      <th>1</th>\n",
       "      <td>48</td>\n",
       "      <td>1</td>\n",
       "      <td>5</td>\n",
       "      <td>1</td>\n",
       "      <td>10</td>\n",
       "      <td>1</td>\n",
       "      <td>2</td>\n",
       "      <td>3</td>\n",
       "      <td>0</td>\n",
       "      <td>12</td>\n",
       "      <td>2</td>\n",
       "    </tr>\n",
       "    <tr>\n",
       "      <th>2</th>\n",
       "      <td>150</td>\n",
       "      <td>1</td>\n",
       "      <td>5</td>\n",
       "      <td>1</td>\n",
       "      <td>10</td>\n",
       "      <td>1</td>\n",
       "      <td>7</td>\n",
       "      <td>7</td>\n",
       "      <td>0</td>\n",
       "      <td>12</td>\n",
       "      <td>3</td>\n",
       "    </tr>\n",
       "    <tr>\n",
       "      <th>3</th>\n",
       "      <td>260</td>\n",
       "      <td>1</td>\n",
       "      <td>4</td>\n",
       "      <td>1</td>\n",
       "      <td>10</td>\n",
       "      <td>1</td>\n",
       "      <td>0</td>\n",
       "      <td>1</td>\n",
       "      <td>0</td>\n",
       "      <td>12</td>\n",
       "      <td>3</td>\n",
       "    </tr>\n",
       "    <tr>\n",
       "      <th>4</th>\n",
       "      <td>527</td>\n",
       "      <td>1</td>\n",
       "      <td>5</td>\n",
       "      <td>1</td>\n",
       "      <td>10</td>\n",
       "      <td>1</td>\n",
       "      <td>7</td>\n",
       "      <td>16</td>\n",
       "      <td>0</td>\n",
       "      <td>12</td>\n",
       "      <td>2</td>\n",
       "    </tr>\n",
       "  </tbody>\n",
       "</table>\n",
       "</div>"
      ],
      "text/plain": [
       "   MovieID  UserID  Rating  Age  Occupation  Count  Genre_enc_1  Genre_enc_2  \\\n",
       "0        1       1       5    1          10      1            2            3   \n",
       "1       48       1       5    1          10      1            2            3   \n",
       "2      150       1       5    1          10      1            7            7   \n",
       "3      260       1       4    1          10      1            0            1   \n",
       "4      527       1       5    1          10      1            7           16   \n",
       "\n",
       "   Gender_enc  zipcode_sum  weekday_enc  \n",
       "0           0           12            2  \n",
       "1           0           12            2  \n",
       "2           0           12            3  \n",
       "3           0           12            3  \n",
       "4           0           12            2  "
      ]
     },
     "execution_count": 107,
     "metadata": {},
     "output_type": "execute_result"
    }
   ],
   "source": [
    "sample.head()"
   ]
  },
  {
   "cell_type": "code",
   "execution_count": 108,
   "metadata": {},
   "outputs": [],
   "source": [
    "warnings.filterwarnings(action='ignore',message='')\n",
    "sample.drop('Count',axis=1,inplace=True)"
   ]
  },
  {
   "cell_type": "code",
   "execution_count": 109,
   "metadata": {},
   "outputs": [],
   "source": [
    "sample['Rating'] = sample['Rating'].astype(float)"
   ]
  },
  {
   "cell_type": "code",
   "execution_count": 110,
   "metadata": {},
   "outputs": [],
   "source": [
    "#split the data into input X and output y\n",
    "X = sample.drop(['MovieID','Rating'],axis=1).values\n",
    "y = sample['Rating'].values"
   ]
  },
  {
   "cell_type": "code",
   "execution_count": 111,
   "metadata": {},
   "outputs": [],
   "source": [
    "#split into the train and test dataset\n",
    "from sklearn.model_selection import train_test_split"
   ]
  },
  {
   "cell_type": "code",
   "execution_count": 112,
   "metadata": {},
   "outputs": [],
   "source": [
    "#split into training and test dataset\n",
    "X_train,X_test,y_train,y_test = train_test_split(X,y,test_size=0.25,random_state=42)"
   ]
  },
  {
   "cell_type": "code",
   "execution_count": 113,
   "metadata": {},
   "outputs": [
    {
     "data": {
      "text/plain": [
       "((692916, 8), (230973, 8))"
      ]
     },
     "execution_count": 113,
     "metadata": {},
     "output_type": "execute_result"
    }
   ],
   "source": [
    "X_train.shape, X_test.shape"
   ]
  },
  {
   "cell_type": "code",
   "execution_count": 114,
   "metadata": {},
   "outputs": [],
   "source": [
    "#import linear model\n",
    "from sklearn.linear_model import LinearRegression"
   ]
  },
  {
   "cell_type": "code",
   "execution_count": 115,
   "metadata": {},
   "outputs": [],
   "source": [
    "lin_reg =  LinearRegression(n_jobs=-1)"
   ]
  },
  {
   "cell_type": "code",
   "execution_count": 116,
   "metadata": {},
   "outputs": [
    {
     "data": {
      "text/plain": [
       "LinearRegression(copy_X=True, fit_intercept=True, n_jobs=-1, normalize=False)"
      ]
     },
     "execution_count": 116,
     "metadata": {},
     "output_type": "execute_result"
    }
   ],
   "source": [
    "#fit the model\n",
    "lin_reg.fit(X_train,y_train)"
   ]
  },
  {
   "cell_type": "code",
   "execution_count": 117,
   "metadata": {},
   "outputs": [
    {
     "data": {
      "text/plain": [
       "3.441869822778767"
      ]
     },
     "execution_count": 117,
     "metadata": {},
     "output_type": "execute_result"
    }
   ],
   "source": [
    "lin_reg.intercept_"
   ]
  },
  {
   "cell_type": "code",
   "execution_count": 118,
   "metadata": {},
   "outputs": [
    {
     "data": {
      "text/plain": [
       "array([ 4.49369423e-06,  4.65236626e-03,  1.09577220e-03,  1.49006286e-02,\n",
       "        1.51196905e-03, -3.87363952e-02, -8.93586800e-04, -4.96554773e-03])"
      ]
     },
     "execution_count": 118,
     "metadata": {},
     "output_type": "execute_result"
    }
   ],
   "source": [
    "lin_reg.coef_"
   ]
  },
  {
   "cell_type": "code",
   "execution_count": 119,
   "metadata": {},
   "outputs": [
    {
     "data": {
      "text/plain": [
       "MovieID       -0.064032\n",
       "UserID         0.010418\n",
       "Rating         1.000000\n",
       "Age            0.053454\n",
       "Occupation     0.007550\n",
       "Genre_enc_1    0.057247\n",
       "Genre_enc_2    0.033631\n",
       "Gender_enc    -0.017553\n",
       "zipcode_sum   -0.003664\n",
       "weekday_enc   -0.010453\n",
       "Name: Rating, dtype: float64"
      ]
     },
     "execution_count": 119,
     "metadata": {},
     "output_type": "execute_result"
    }
   ],
   "source": [
    "sample.corr()['Rating']"
   ]
  },
  {
   "cell_type": "code",
   "execution_count": 120,
   "metadata": {},
   "outputs": [],
   "source": [
    "#predict the ratings of the movie on the test dataset\n",
    "predict_rating = np.round(lin_reg.predict(X_test),0)"
   ]
  },
  {
   "cell_type": "code",
   "execution_count": 121,
   "metadata": {},
   "outputs": [],
   "source": [
    "#evaluate the model\n",
    "from sklearn.metrics import mean_absolute_error\n",
    "from sklearn.metrics import mean_squared_error"
   ]
  },
  {
   "cell_type": "code",
   "execution_count": 122,
   "metadata": {},
   "outputs": [],
   "source": [
    "error = mean_squared_error(y_test,predict_rating)"
   ]
  },
  {
   "cell_type": "code",
   "execution_count": 123,
   "metadata": {},
   "outputs": [
    {
     "data": {
      "text/plain": [
       "1.3502444008607066"
      ]
     },
     "execution_count": 123,
     "metadata": {},
     "output_type": "execute_result"
    }
   ],
   "source": [
    "error"
   ]
  },
  {
   "cell_type": "code",
   "execution_count": 124,
   "metadata": {},
   "outputs": [
    {
     "name": "stdout",
     "output_type": "stream",
     "text": [
      "Baseline Linear Model RMSE: 1.162\n"
     ]
    }
   ],
   "source": [
    "print('Baseline Linear Model RMSE: %.3f' %(np.sqrt(error)))"
   ]
  },
  {
   "cell_type": "markdown",
   "metadata": {},
   "source": [
    "<b> This was a plain simple linear regression applied on the dataset. The sample could be biased as there could be more 4 and 5 ratings compared to lesser user ratings like 1, 2 and 3. A better approach is to use Stratified kfold sampling and get an average score using cross validation. This way we get a better generalization of the model performance. </b>"
   ]
  },
  {
   "cell_type": "markdown",
   "metadata": {},
   "source": [
    "## *Stratified Kfold split and cross validation*"
   ]
  },
  {
   "cell_type": "code",
   "execution_count": 125,
   "metadata": {},
   "outputs": [],
   "source": [
    "#import the library\n",
    "from sklearn.model_selection import StratifiedKFold\n",
    "from sklearn.model_selection import cross_val_score"
   ]
  },
  {
   "cell_type": "code",
   "execution_count": 129,
   "metadata": {},
   "outputs": [
    {
     "name": "stdout",
     "output_type": "stream",
     "text": [
      "Expected\n",
      "[3. 3. 5. 4. 3. 3. 4. 5. 4. 5.]\n",
      "Predicted\n",
      "[3. 3. 4. 4. 4. 4. 4. 4. 4. 4.]\n",
      "\n",
      "\n",
      "Expected\n",
      "[3. 4. 4. 3. 5. 4. 4. 4. 5. 5.]\n",
      "Predicted\n",
      "[3. 4. 3. 3. 3. 3. 4. 4. 4. 4.]\n",
      "\n",
      "\n",
      "Expected\n",
      "[5. 5. 5. 5. 3. 4. 5. 3. 5. 3.]\n",
      "Predicted\n",
      "[3. 4. 4. 3. 4. 4. 4. 4. 4. 4.]\n",
      "\n",
      "\n",
      "Expected\n",
      "[4. 4. 4. 4. 4. 3. 3. 5. 5. 4.]\n",
      "Predicted\n",
      "[4. 3. 4. 4. 4. 4. 4. 4. 4. 4.]\n",
      "\n",
      "\n",
      "Expected\n",
      "[4. 4. 4. 4. 5. 5. 4. 4. 4. 5.]\n",
      "Predicted\n",
      "[3. 3. 3. 4. 4. 4. 4. 4. 4. 4.]\n",
      "\n",
      "\n",
      "Expected\n",
      "[5. 4. 3. 3. 5. 4. 5. 5. 5. 4.]\n",
      "Predicted\n",
      "[4. 3. 4. 4. 4. 4. 4. 4. 4. 4.]\n",
      "\n",
      "\n",
      "Expected\n",
      "[5. 5. 3. 4. 4. 5. 5. 5. 5. 4.]\n",
      "Predicted\n",
      "[4. 4. 4. 4. 4. 4. 4. 4. 4. 4.]\n",
      "\n",
      "\n",
      "Expected\n",
      "[3. 3. 4. 5. 5. 4. 5. 3. 5. 5.]\n",
      "Predicted\n",
      "[3. 3. 4. 4. 4. 4. 4. 4. 4. 4.]\n",
      "\n",
      "\n",
      "Expected\n",
      "[1. 3. 3. 5. 3. 4. 5. 5. 5. 3.]\n",
      "Predicted\n",
      "[4. 4. 4. 4. 4. 4. 4. 4. 4. 4.]\n",
      "\n",
      "\n",
      "Expected\n",
      "[5. 4. 4. 4. 4. 4. 5. 3. 3. 5.]\n",
      "Predicted\n",
      "[3. 4. 4. 4. 4. 4. 4. 4. 4. 4.]\n",
      "\n",
      "\n",
      "Expected\n",
      "[5. 4. 4. 4. 4. 3. 5. 3. 5. 3.]\n",
      "Predicted\n",
      "[3. 3. 4. 4. 4. 4. 4. 4. 4. 4.]\n",
      "\n",
      "\n",
      "Expected\n",
      "[4. 5. 5. 3. 4. 5. 3. 4. 4. 3.]\n",
      "Predicted\n",
      "[3. 4. 4. 4. 4. 4. 4. 4. 4. 4.]\n",
      "\n",
      "\n",
      "Expected\n",
      "[3. 4. 4. 4. 4. 4. 4. 2. 3. 4.]\n",
      "Predicted\n",
      "[4. 4. 4. 4. 4. 4. 4. 4. 4. 4.]\n",
      "\n",
      "\n",
      "Expected\n",
      "[4. 5. 4. 5. 2. 4. 4. 3. 4. 4.]\n",
      "Predicted\n",
      "[3. 3. 4. 4. 4. 4. 4. 4. 4. 4.]\n",
      "\n",
      "\n",
      "Expected\n",
      "[5. 4. 4. 4. 3. 4. 3. 4. 5. 3.]\n",
      "Predicted\n",
      "[4. 4. 3. 4. 4. 4. 4. 4. 4. 4.]\n",
      "\n",
      "\n",
      "Expected\n",
      "[3. 5. 5. 4. 4. 5. 4. 3. 4. 3.]\n",
      "Predicted\n",
      "[4. 3. 3. 4. 4. 4. 4. 4. 4. 4.]\n",
      "\n",
      "\n",
      "Expected\n",
      "[4. 4. 4. 5. 4. 3. 4. 4. 3. 5.]\n",
      "Predicted\n",
      "[3. 3. 4. 4. 4. 4. 4. 4. 4. 4.]\n",
      "\n",
      "\n",
      "Expected\n",
      "[5. 4. 4. 4. 5. 3. 4. 3. 3. 4.]\n",
      "Predicted\n",
      "[3. 4. 3. 4. 4. 4. 4. 4. 4. 4.]\n",
      "\n",
      "\n",
      "Expected\n",
      "[4. 4. 4. 5. 3. 5. 5. 3. 4. 4.]\n",
      "Predicted\n",
      "[4. 4. 4. 4. 4. 4. 4. 4. 4. 4.]\n",
      "\n",
      "\n",
      "Expected\n",
      "[4. 5. 4. 4. 4. 5. 3. 2. 3. 5.]\n",
      "Predicted\n",
      "[3. 3. 4. 4. 4. 4. 4. 4. 4. 4.]\n",
      "\n",
      "\n"
     ]
    }
   ],
   "source": [
    "#Stratifiedkfold split --> model fit --> predictions -- > mean absolute score \n",
    "skf = StratifiedKFold(n_splits=20,shuffle=True)\n",
    "mse_score = []\n",
    "for train_index, test_index in skf.split(X, y):\n",
    "    #print(\"TRAIN:\", train_index[:10], \"TEST:\", test_index[:10])\n",
    "    X_train, X_test = X[train_index], X[test_index]\n",
    "    y_train, y_test = y[train_index], y[test_index]\n",
    "    #fit the model\n",
    "    lin_reg.fit(X_train,y_train)\n",
    "    #prediction\n",
    "    skf_rating_predict = np.round(lin_reg.predict(X_test))\n",
    "    print('Expected')\n",
    "    print(y_test[:10])\n",
    "    print('Predicted')\n",
    "    print(skf_rating_predict[:10])\n",
    "    print('\\n')\n",
    "    #calculate the mean absolute error\n",
    "    skf_score = mean_squared_error(y_test,skf_rating_predict)\n",
    "    \n",
    "    #append the mean absolute score per split\n",
    "    mse_score.append(skf_score)"
   ]
  },
  {
   "cell_type": "code",
   "execution_count": 130,
   "metadata": {},
   "outputs": [
    {
     "name": "stdout",
     "output_type": "stream",
     "text": [
      "Stratified K Fold RMSE: 1.163\n"
     ]
    }
   ],
   "source": [
    "print('Stratified K Fold RMSE: %.3f' % np.sqrt(np.mean(mse_score)))"
   ]
  },
  {
   "cell_type": "markdown",
   "metadata": {},
   "source": [
    "## *Summary and further improvement*\n",
    "Other sampling technique like RepeatedStratifiedKfold technique can be applied. \n",
    "Linear Model does not seem to give good result. The MAE is comparatively better if it is applied on a single movie. This can be verified by using a sample of the movied dataframe on a particular MovieID. \n",
    "The correlation betweeen the labels and the predictors are also very weak. The weak predictors can e dropped from modeling. \n",
    "\n",
    "### *Improvements*\n",
    "- Use different regressors like SVM\n",
    "- Use Repeated Stratified k-fold sampling technique\n",
    "- Better feature engineering\n",
    "- Rating can be used as a string instead of a numeric and Logistic Regression can be applied. \n"
   ]
  },
  {
   "cell_type": "code",
   "execution_count": null,
   "metadata": {},
   "outputs": [],
   "source": []
  }
 ],
 "metadata": {
  "kernelspec": {
   "display_name": "Python 3",
   "language": "python",
   "name": "python3"
  },
  "language_info": {
   "codemirror_mode": {
    "name": "ipython",
    "version": 3
   },
   "file_extension": ".py",
   "mimetype": "text/x-python",
   "name": "python",
   "nbconvert_exporter": "python",
   "pygments_lexer": "ipython3",
   "version": "3.7.6"
  }
 },
 "nbformat": 4,
 "nbformat_minor": 4
}
