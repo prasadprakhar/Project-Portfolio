{
 "cells": [
  {
   "cell_type": "markdown",
   "metadata": {},
   "source": [
    "# Investment Strategy for Teclov"
   ]
  },
  {
   "cell_type": "markdown",
   "metadata": {},
   "source": [
    "### *Problem 1:* Cleaning the Data\n",
    "***\n",
    "- Number of unique companies in rounds2 = $66,370$  \n",
    "- Number of unique companies in companies = $66,368$\n",
    "- In the companies data frame, $permalink$ column can be used as the unique key for each company.\n",
    "- There are 7 companies in rounds2 file which are not in companies file. These companies are \n",
    "magnet-tech,\n",
    "zengame,\n",
    "tipcat-interactive,\n",
    "weiche-tech,\n",
    "huizuche-com,\n",
    "e-cã,\n",
    "energystone-games\n",
    "- The master_frame has $114942$ rows\n",
    "\n",
    "\n",
    "\n"
   ]
  },
  {
   "cell_type": "markdown",
   "metadata": {},
   "source": [
    "## Code"
   ]
  },
  {
   "cell_type": "code",
   "execution_count": 1,
   "metadata": {},
   "outputs": [],
   "source": [
    "#system specific\n",
    "import os\n",
    "import sys\n",
    "assert sys.version_info >= (3,5)\n",
    "\n",
    "#import the needed libraries\n",
    "import numpy as np\n",
    "import pandas as pd\n",
    "\n",
    "#visualizations\n",
    "import matplotlib.pyplot as plt\n",
    "import seaborn as sns\n",
    "%matplotlib inline\n",
    "\n",
    "#handle unwanted warnings\n",
    "import warnings\n",
    "warnings.filterwarnings(action='ignore',category=DeprecationWarning)\n",
    "warnings.filterwarnings(action='ignore',category=FutureWarning)\n",
    "\n",
    "#consistent size plot\n",
    "from pylab import rcParams\n",
    "rcParams['figure.figsize']= 12,5\n",
    "rcParams['xtick.labelsize']= 12\n",
    "rcParams['ytick.labelsize']= 12\n",
    "rcParams['axes.labelsize']= 12\n",
    "\n",
    "#enable viewing of all the columns in a df\n",
    "pd.options.display.max_columns = None"
   ]
  },
  {
   "cell_type": "markdown",
   "metadata": {},
   "source": [
    "## Load the data\n",
    "Pandas encoding reference https://docs.python.org/3/library/codecs.html#standard-encodings"
   ]
  },
  {
   "cell_type": "code",
   "execution_count": 2,
   "metadata": {},
   "outputs": [],
   "source": [
    "df_companies = pd.read_csv('companies.txt',delimiter='\\t',encoding='ISO-8859-2')\n",
    "df_rounds = pd.read_csv('rounds2.csv',delimiter=',',encoding='ISO-8859-2')"
   ]
  },
  {
   "cell_type": "markdown",
   "metadata": {},
   "source": [
    "### Explore the companies dataframe"
   ]
  },
  {
   "cell_type": "code",
   "execution_count": 3,
   "metadata": {},
   "outputs": [
    {
     "data": {
      "text/html": [
       "<div>\n",
       "<style scoped>\n",
       "    .dataframe tbody tr th:only-of-type {\n",
       "        vertical-align: middle;\n",
       "    }\n",
       "\n",
       "    .dataframe tbody tr th {\n",
       "        vertical-align: top;\n",
       "    }\n",
       "\n",
       "    .dataframe thead th {\n",
       "        text-align: right;\n",
       "    }\n",
       "</style>\n",
       "<table border=\"1\" class=\"dataframe\">\n",
       "  <thead>\n",
       "    <tr style=\"text-align: right;\">\n",
       "      <th></th>\n",
       "      <th>permalink</th>\n",
       "      <th>name</th>\n",
       "      <th>homepage_url</th>\n",
       "      <th>category_list</th>\n",
       "      <th>status</th>\n",
       "      <th>country_code</th>\n",
       "      <th>state_code</th>\n",
       "      <th>region</th>\n",
       "      <th>city</th>\n",
       "      <th>founded_at</th>\n",
       "    </tr>\n",
       "  </thead>\n",
       "  <tbody>\n",
       "    <tr>\n",
       "      <th>0</th>\n",
       "      <td>/Organization/-Fame</td>\n",
       "      <td>#fame</td>\n",
       "      <td>http://livfame.com</td>\n",
       "      <td>Media</td>\n",
       "      <td>operating</td>\n",
       "      <td>IND</td>\n",
       "      <td>16</td>\n",
       "      <td>Mumbai</td>\n",
       "      <td>Mumbai</td>\n",
       "      <td>NaN</td>\n",
       "    </tr>\n",
       "    <tr>\n",
       "      <th>1</th>\n",
       "      <td>/Organization/-Qounter</td>\n",
       "      <td>:Qounter</td>\n",
       "      <td>http://www.qounter.com</td>\n",
       "      <td>Application Platforms|Real Time|Social Network...</td>\n",
       "      <td>operating</td>\n",
       "      <td>USA</td>\n",
       "      <td>DE</td>\n",
       "      <td>DE - Other</td>\n",
       "      <td>Delaware City</td>\n",
       "      <td>04-09-2014</td>\n",
       "    </tr>\n",
       "    <tr>\n",
       "      <th>2</th>\n",
       "      <td>/Organization/-The-One-Of-Them-Inc-</td>\n",
       "      <td>(THE) ONE of THEM,Inc.</td>\n",
       "      <td>http://oneofthem.jp</td>\n",
       "      <td>Apps|Games|Mobile</td>\n",
       "      <td>operating</td>\n",
       "      <td>NaN</td>\n",
       "      <td>NaN</td>\n",
       "      <td>NaN</td>\n",
       "      <td>NaN</td>\n",
       "      <td>NaN</td>\n",
       "    </tr>\n",
       "    <tr>\n",
       "      <th>3</th>\n",
       "      <td>/Organization/0-6-Com</td>\n",
       "      <td>0-6.com</td>\n",
       "      <td>http://www.0-6.com</td>\n",
       "      <td>Curated Web</td>\n",
       "      <td>operating</td>\n",
       "      <td>CHN</td>\n",
       "      <td>22</td>\n",
       "      <td>Beijing</td>\n",
       "      <td>Beijing</td>\n",
       "      <td>01-01-2007</td>\n",
       "    </tr>\n",
       "    <tr>\n",
       "      <th>4</th>\n",
       "      <td>/Organization/004-Technologies</td>\n",
       "      <td>004 Technologies</td>\n",
       "      <td>http://004gmbh.de/en/004-interact</td>\n",
       "      <td>Software</td>\n",
       "      <td>operating</td>\n",
       "      <td>USA</td>\n",
       "      <td>IL</td>\n",
       "      <td>Springfield, Illinois</td>\n",
       "      <td>Champaign</td>\n",
       "      <td>01-01-2010</td>\n",
       "    </tr>\n",
       "  </tbody>\n",
       "</table>\n",
       "</div>"
      ],
      "text/plain": [
       "                             permalink                    name  \\\n",
       "0                  /Organization/-Fame                   #fame   \n",
       "1               /Organization/-Qounter                :Qounter   \n",
       "2  /Organization/-The-One-Of-Them-Inc-  (THE) ONE of THEM,Inc.   \n",
       "3                /Organization/0-6-Com                 0-6.com   \n",
       "4       /Organization/004-Technologies        004 Technologies   \n",
       "\n",
       "                        homepage_url  \\\n",
       "0                 http://livfame.com   \n",
       "1             http://www.qounter.com   \n",
       "2                http://oneofthem.jp   \n",
       "3                 http://www.0-6.com   \n",
       "4  http://004gmbh.de/en/004-interact   \n",
       "\n",
       "                                       category_list     status country_code  \\\n",
       "0                                              Media  operating          IND   \n",
       "1  Application Platforms|Real Time|Social Network...  operating          USA   \n",
       "2                                  Apps|Games|Mobile  operating          NaN   \n",
       "3                                        Curated Web  operating          CHN   \n",
       "4                                           Software  operating          USA   \n",
       "\n",
       "  state_code                 region           city  founded_at  \n",
       "0         16                 Mumbai         Mumbai         NaN  \n",
       "1         DE             DE - Other  Delaware City  04-09-2014  \n",
       "2        NaN                    NaN            NaN         NaN  \n",
       "3         22                Beijing        Beijing  01-01-2007  \n",
       "4         IL  Springfield, Illinois      Champaign  01-01-2010  "
      ]
     },
     "execution_count": 3,
     "metadata": {},
     "output_type": "execute_result"
    }
   ],
   "source": [
    "#check the top and end rows\n",
    "df_companies.head()"
   ]
  },
  {
   "cell_type": "code",
   "execution_count": 4,
   "metadata": {},
   "outputs": [
    {
     "data": {
      "text/html": [
       "<div>\n",
       "<style scoped>\n",
       "    .dataframe tbody tr th:only-of-type {\n",
       "        vertical-align: middle;\n",
       "    }\n",
       "\n",
       "    .dataframe tbody tr th {\n",
       "        vertical-align: top;\n",
       "    }\n",
       "\n",
       "    .dataframe thead th {\n",
       "        text-align: right;\n",
       "    }\n",
       "</style>\n",
       "<table border=\"1\" class=\"dataframe\">\n",
       "  <thead>\n",
       "    <tr style=\"text-align: right;\">\n",
       "      <th></th>\n",
       "      <th>permalink</th>\n",
       "      <th>name</th>\n",
       "      <th>homepage_url</th>\n",
       "      <th>category_list</th>\n",
       "      <th>status</th>\n",
       "      <th>country_code</th>\n",
       "      <th>state_code</th>\n",
       "      <th>region</th>\n",
       "      <th>city</th>\n",
       "      <th>founded_at</th>\n",
       "    </tr>\n",
       "  </thead>\n",
       "  <tbody>\n",
       "    <tr>\n",
       "      <th>66363</th>\n",
       "      <td>/Organization/Zznode-Science-And-Technology-Co...</td>\n",
       "      <td>ZZNode Science and Technology</td>\n",
       "      <td>http://www.zznode.com</td>\n",
       "      <td>Enterprise Software</td>\n",
       "      <td>operating</td>\n",
       "      <td>CHN</td>\n",
       "      <td>22</td>\n",
       "      <td>Beijing</td>\n",
       "      <td>Beijing</td>\n",
       "      <td>NaN</td>\n",
       "    </tr>\n",
       "    <tr>\n",
       "      <th>66364</th>\n",
       "      <td>/Organization/Zzzzapp-Com</td>\n",
       "      <td>Zzzzapp Wireless ltd.</td>\n",
       "      <td>http://www.zzzzapp.com</td>\n",
       "      <td>Advertising|Mobile|Web Development|Wireless</td>\n",
       "      <td>operating</td>\n",
       "      <td>HRV</td>\n",
       "      <td>15</td>\n",
       "      <td>Split</td>\n",
       "      <td>Split</td>\n",
       "      <td>13-05-2012</td>\n",
       "    </tr>\n",
       "    <tr>\n",
       "      <th>66365</th>\n",
       "      <td>/Organization/ĂEron</td>\n",
       "      <td>ĂERON</td>\n",
       "      <td>http://www.aeron.hu/</td>\n",
       "      <td>NaN</td>\n",
       "      <td>operating</td>\n",
       "      <td>NaN</td>\n",
       "      <td>NaN</td>\n",
       "      <td>NaN</td>\n",
       "      <td>NaN</td>\n",
       "      <td>01-01-2011</td>\n",
       "    </tr>\n",
       "    <tr>\n",
       "      <th>66366</th>\n",
       "      <td>/Organization/ĂAsys-2</td>\n",
       "      <td>Ăasys</td>\n",
       "      <td>http://www.oasys.io/</td>\n",
       "      <td>Consumer Electronics|Internet of Things|Teleco...</td>\n",
       "      <td>operating</td>\n",
       "      <td>USA</td>\n",
       "      <td>CA</td>\n",
       "      <td>SF Bay Area</td>\n",
       "      <td>San Francisco</td>\n",
       "      <td>01-01-2014</td>\n",
       "    </tr>\n",
       "    <tr>\n",
       "      <th>66367</th>\n",
       "      <td>/Organization/Ä°Novatiff-Reklam-Ve-TanäąTäąM-H...</td>\n",
       "      <td>Ä°novatiff Reklam ve TanÄątÄąm Hizmetleri Tic</td>\n",
       "      <td>http://inovatiff.com</td>\n",
       "      <td>Consumer Goods|E-Commerce|Internet</td>\n",
       "      <td>operating</td>\n",
       "      <td>NaN</td>\n",
       "      <td>NaN</td>\n",
       "      <td>NaN</td>\n",
       "      <td>NaN</td>\n",
       "      <td>NaN</td>\n",
       "    </tr>\n",
       "  </tbody>\n",
       "</table>\n",
       "</div>"
      ],
      "text/plain": [
       "                                               permalink  \\\n",
       "66363  /Organization/Zznode-Science-And-Technology-Co...   \n",
       "66364                          /Organization/Zzzzapp-Com   \n",
       "66365                               /Organization/ĂEron   \n",
       "66366                             /Organization/ĂAsys-2   \n",
       "66367  /Organization/Ä°Novatiff-Reklam-Ve-TanäąTäąM-H...   \n",
       "\n",
       "                                                name            homepage_url  \\\n",
       "66363                  ZZNode Science and Technology   http://www.zznode.com   \n",
       "66364                          Zzzzapp Wireless ltd.  http://www.zzzzapp.com   \n",
       "66365                                         ĂERON    http://www.aeron.hu/   \n",
       "66366                                         Ăasys    http://www.oasys.io/   \n",
       "66367  Ä°novatiff Reklam ve TanÄątÄąm Hizmetleri Tic    http://inovatiff.com   \n",
       "\n",
       "                                           category_list     status  \\\n",
       "66363                                Enterprise Software  operating   \n",
       "66364        Advertising|Mobile|Web Development|Wireless  operating   \n",
       "66365                                                NaN  operating   \n",
       "66366  Consumer Electronics|Internet of Things|Teleco...  operating   \n",
       "66367                 Consumer Goods|E-Commerce|Internet  operating   \n",
       "\n",
       "      country_code state_code       region           city  founded_at  \n",
       "66363          CHN         22      Beijing        Beijing         NaN  \n",
       "66364          HRV         15        Split          Split  13-05-2012  \n",
       "66365          NaN        NaN          NaN            NaN  01-01-2011  \n",
       "66366          USA         CA  SF Bay Area  San Francisco  01-01-2014  \n",
       "66367          NaN        NaN          NaN            NaN         NaN  "
      ]
     },
     "execution_count": 4,
     "metadata": {},
     "output_type": "execute_result"
    }
   ],
   "source": [
    "df_companies.tail()"
   ]
  },
  {
   "cell_type": "code",
   "execution_count": 5,
   "metadata": {},
   "outputs": [
    {
     "data": {
      "text/plain": [
       "Index(['permalink', 'name', 'homepage_url', 'category_list', 'status',\n",
       "       'country_code', 'state_code', 'region', 'city', 'founded_at'],\n",
       "      dtype='object')"
      ]
     },
     "execution_count": 5,
     "metadata": {},
     "output_type": "execute_result"
    }
   ],
   "source": [
    "df_companies.columns"
   ]
  },
  {
   "cell_type": "code",
   "execution_count": 6,
   "metadata": {},
   "outputs": [
    {
     "name": "stdout",
     "output_type": "stream",
     "text": [
      "<class 'pandas.core.frame.DataFrame'>\n",
      "RangeIndex: 66368 entries, 0 to 66367\n",
      "Data columns (total 10 columns):\n",
      " #   Column         Non-Null Count  Dtype \n",
      "---  ------         --------------  ----- \n",
      " 0   permalink      66368 non-null  object\n",
      " 1   name           66367 non-null  object\n",
      " 2   homepage_url   61310 non-null  object\n",
      " 3   category_list  63220 non-null  object\n",
      " 4   status         66368 non-null  object\n",
      " 5   country_code   59410 non-null  object\n",
      " 6   state_code     57821 non-null  object\n",
      " 7   region         58338 non-null  object\n",
      " 8   city           58340 non-null  object\n",
      " 9   founded_at     51147 non-null  object\n",
      "dtypes: object(10)\n",
      "memory usage: 5.1+ MB\n"
     ]
    }
   ],
   "source": [
    "#check the info\n",
    "df_companies.info()"
   ]
  },
  {
   "cell_type": "markdown",
   "metadata": {},
   "source": [
    "The name column has just 1 null value. There are many null values in the other columns. permalink and status are the only columns with no null values. "
   ]
  },
  {
   "cell_type": "code",
   "execution_count": 7,
   "metadata": {},
   "outputs": [
    {
     "data": {
      "image/png": "[encoded data removed]",
      "text/plain": [
       "<Figure size 432x288 with 1 Axes>"
      ]
     },
     "metadata": {
      "needs_background": "light"
     },
     "output_type": "display_data"
    }
   ],
   "source": [
    "#visualize the null values in the dataset\n",
    "sns.heatmap(df_companies.isna(),yticklabels=False,cbar=False)\n",
    "plt.show()"
   ]
  },
  {
   "cell_type": "code",
   "execution_count": 8,
   "metadata": {},
   "outputs": [
    {
     "data": {
      "text/html": [
       "<div>\n",
       "<style scoped>\n",
       "    .dataframe tbody tr th:only-of-type {\n",
       "        vertical-align: middle;\n",
       "    }\n",
       "\n",
       "    .dataframe tbody tr th {\n",
       "        vertical-align: top;\n",
       "    }\n",
       "\n",
       "    .dataframe thead th {\n",
       "        text-align: right;\n",
       "    }\n",
       "</style>\n",
       "<table border=\"1\" class=\"dataframe\">\n",
       "  <thead>\n",
       "    <tr style=\"text-align: right;\">\n",
       "      <th></th>\n",
       "      <th>permalink</th>\n",
       "      <th>name</th>\n",
       "      <th>homepage_url</th>\n",
       "      <th>category_list</th>\n",
       "      <th>status</th>\n",
       "      <th>country_code</th>\n",
       "      <th>state_code</th>\n",
       "      <th>region</th>\n",
       "      <th>city</th>\n",
       "      <th>founded_at</th>\n",
       "    </tr>\n",
       "  </thead>\n",
       "  <tbody>\n",
       "    <tr>\n",
       "      <th>56916</th>\n",
       "      <td>/Organization/Tell-It-In</td>\n",
       "      <td>NaN</td>\n",
       "      <td>http://tellitin10.com</td>\n",
       "      <td>Startups</td>\n",
       "      <td>closed</td>\n",
       "      <td>USA</td>\n",
       "      <td>OR</td>\n",
       "      <td>Portland, Oregon</td>\n",
       "      <td>Portland</td>\n",
       "      <td>01-10-2011</td>\n",
       "    </tr>\n",
       "  </tbody>\n",
       "</table>\n",
       "</div>"
      ],
      "text/plain": [
       "                      permalink name           homepage_url category_list  \\\n",
       "56916  /Organization/Tell-It-In  NaN  http://tellitin10.com      Startups   \n",
       "\n",
       "       status country_code state_code            region      city  founded_at  \n",
       "56916  closed          USA         OR  Portland, Oregon  Portland  01-10-2011  "
      ]
     },
     "execution_count": 8,
     "metadata": {},
     "output_type": "execute_result"
    }
   ],
   "source": [
    "#extract the row where the name column is null\n",
    "df_companies[df_companies['name'].isna()]"
   ]
  },
  {
   "cell_type": "markdown",
   "metadata": {},
   "source": [
    "The name is missing and at the same time we see that the status column indicates \"closed\". One way to handle this null value is to simply impute the name as in the permalink column "
   ]
  },
  {
   "cell_type": "code",
   "execution_count": 9,
   "metadata": {},
   "outputs": [],
   "source": [
    "df_companies.iloc[56916]['name']= 'Tell It In'"
   ]
  },
  {
   "cell_type": "code",
   "execution_count": 10,
   "metadata": {},
   "outputs": [
    {
     "data": {
      "text/plain": [
       "permalink        /Organization/Tell-It-In\n",
       "name                           Tell It In\n",
       "homepage_url        http://tellitin10.com\n",
       "category_list                    Startups\n",
       "status                             closed\n",
       "country_code                          USA\n",
       "state_code                             OR\n",
       "region                   Portland, Oregon\n",
       "city                             Portland\n",
       "founded_at                     01-10-2011\n",
       "Name: 56916, dtype: object"
      ]
     },
     "execution_count": 10,
     "metadata": {},
     "output_type": "execute_result"
    }
   ],
   "source": [
    "df_companies.iloc[56916]"
   ]
  },
  {
   "cell_type": "code",
   "execution_count": 11,
   "metadata": {},
   "outputs": [
    {
     "name": "stdout",
     "output_type": "stream",
     "text": [
      "<class 'pandas.core.frame.DataFrame'>\n",
      "RangeIndex: 66368 entries, 0 to 66367\n",
      "Data columns (total 10 columns):\n",
      " #   Column         Non-Null Count  Dtype \n",
      "---  ------         --------------  ----- \n",
      " 0   permalink      66368 non-null  object\n",
      " 1   name           66368 non-null  object\n",
      " 2   homepage_url   61310 non-null  object\n",
      " 3   category_list  63220 non-null  object\n",
      " 4   status         66368 non-null  object\n",
      " 5   country_code   59410 non-null  object\n",
      " 6   state_code     57821 non-null  object\n",
      " 7   region         58338 non-null  object\n",
      " 8   city           58340 non-null  object\n",
      " 9   founded_at     51147 non-null  object\n",
      "dtypes: object(10)\n",
      "memory usage: 5.1+ MB\n"
     ]
    }
   ],
   "source": [
    "df_companies.info()"
   ]
  },
  {
   "cell_type": "markdown",
   "metadata": {},
   "source": [
    "### Finding the unique number of companies in the companies dataframe"
   ]
  },
  {
   "cell_type": "code",
   "execution_count": 12,
   "metadata": {},
   "outputs": [],
   "source": [
    "#create a copy of the original dataframe\n",
    "companies = df_companies.copy()"
   ]
  },
  {
   "cell_type": "code",
   "execution_count": 13,
   "metadata": {},
   "outputs": [
    {
     "data": {
      "text/plain": [
       "Blink                4\n",
       "Spire                4\n",
       "Peach                4\n",
       "Roost                4\n",
       "Karma                4\n",
       "                    ..\n",
       "Move Loot            1\n",
       "Intelligent Group    1\n",
       "Wireless Tech        1\n",
       "TransitionWorks      1\n",
       "Whitfield Solar      1\n",
       "Name: name, Length: 66103, dtype: int64"
      ]
     },
     "execution_count": 13,
     "metadata": {},
     "output_type": "execute_result"
    }
   ],
   "source": [
    "#check the number of times the companies occur in the dataset\n",
    "companies['name'].value_counts().sort_values(ascending=False)"
   ]
  },
  {
   "cell_type": "code",
   "execution_count": 14,
   "metadata": {},
   "outputs": [
    {
     "data": {
      "text/html": [
       "<div>\n",
       "<style scoped>\n",
       "    .dataframe tbody tr th:only-of-type {\n",
       "        vertical-align: middle;\n",
       "    }\n",
       "\n",
       "    .dataframe tbody tr th {\n",
       "        vertical-align: top;\n",
       "    }\n",
       "\n",
       "    .dataframe thead th {\n",
       "        text-align: right;\n",
       "    }\n",
       "</style>\n",
       "<table border=\"1\" class=\"dataframe\">\n",
       "  <thead>\n",
       "    <tr style=\"text-align: right;\">\n",
       "      <th></th>\n",
       "      <th>permalink</th>\n",
       "      <th>name</th>\n",
       "      <th>homepage_url</th>\n",
       "      <th>category_list</th>\n",
       "      <th>status</th>\n",
       "      <th>country_code</th>\n",
       "      <th>state_code</th>\n",
       "      <th>region</th>\n",
       "      <th>city</th>\n",
       "      <th>founded_at</th>\n",
       "    </tr>\n",
       "  </thead>\n",
       "  <tbody>\n",
       "    <tr>\n",
       "      <th>7449</th>\n",
       "      <td>/Organization/Blink</td>\n",
       "      <td>Blink</td>\n",
       "      <td>http://www.blink.la</td>\n",
       "      <td>Content|Journalism|Location Based Services|Med...</td>\n",
       "      <td>operating</td>\n",
       "      <td>USA</td>\n",
       "      <td>NY</td>\n",
       "      <td>New York City</td>\n",
       "      <td>New York</td>\n",
       "      <td>01-01-2013</td>\n",
       "    </tr>\n",
       "    <tr>\n",
       "      <th>7450</th>\n",
       "      <td>/Organization/Blink-4</td>\n",
       "      <td>Blink</td>\n",
       "      <td>http://www.blinnnk.com/</td>\n",
       "      <td>Software</td>\n",
       "      <td>operating</td>\n",
       "      <td>JPN</td>\n",
       "      <td>18</td>\n",
       "      <td>JPN - Other</td>\n",
       "      <td>China</td>\n",
       "      <td>01-01-2014</td>\n",
       "    </tr>\n",
       "    <tr>\n",
       "      <th>7451</th>\n",
       "      <td>/Organization/Blink-7</td>\n",
       "      <td>Blink</td>\n",
       "      <td>http://blinkforhome.com</td>\n",
       "      <td>Electronics</td>\n",
       "      <td>operating</td>\n",
       "      <td>USA</td>\n",
       "      <td>MA</td>\n",
       "      <td>Boston</td>\n",
       "      <td>Boston</td>\n",
       "      <td>NaN</td>\n",
       "    </tr>\n",
       "    <tr>\n",
       "      <th>7452</th>\n",
       "      <td>/Organization/Blink-9</td>\n",
       "      <td>Blink</td>\n",
       "      <td>http://www.flyblink.com/</td>\n",
       "      <td>Location Based Services|Service Providers</td>\n",
       "      <td>operating</td>\n",
       "      <td>GBR</td>\n",
       "      <td>N7</td>\n",
       "      <td>Camberley</td>\n",
       "      <td>Camberley</td>\n",
       "      <td>NaN</td>\n",
       "    </tr>\n",
       "  </tbody>\n",
       "</table>\n",
       "</div>"
      ],
      "text/plain": [
       "                  permalink   name              homepage_url  \\\n",
       "7449    /Organization/Blink  Blink       http://www.blink.la   \n",
       "7450  /Organization/Blink-4  Blink   http://www.blinnnk.com/   \n",
       "7451  /Organization/Blink-7  Blink   http://blinkforhome.com   \n",
       "7452  /Organization/Blink-9  Blink  http://www.flyblink.com/   \n",
       "\n",
       "                                          category_list     status  \\\n",
       "7449  Content|Journalism|Location Based Services|Med...  operating   \n",
       "7450                                           Software  operating   \n",
       "7451                                        Electronics  operating   \n",
       "7452          Location Based Services|Service Providers  operating   \n",
       "\n",
       "     country_code state_code         region       city  founded_at  \n",
       "7449          USA         NY  New York City   New York  01-01-2013  \n",
       "7450          JPN         18    JPN - Other      China  01-01-2014  \n",
       "7451          USA         MA         Boston     Boston         NaN  \n",
       "7452          GBR         N7      Camberley  Camberley         NaN  "
      ]
     },
     "execution_count": 14,
     "metadata": {},
     "output_type": "execute_result"
    }
   ],
   "source": [
    "companies[companies['name']=='Blink']"
   ]
  },
  {
   "cell_type": "markdown",
   "metadata": {},
   "source": [
    "The same company name 'Blink' has 4 occurrences and looking at the raw data these are all different companies. The url is different, the category list is different and the home page is also very different. The name column would not be a suitable feature to decide the unique number of companies"
   ]
  },
  {
   "cell_type": "code",
   "execution_count": 15,
   "metadata": {},
   "outputs": [
    {
     "data": {
      "text/html": [
       "<div>\n",
       "<style scoped>\n",
       "    .dataframe tbody tr th:only-of-type {\n",
       "        vertical-align: middle;\n",
       "    }\n",
       "\n",
       "    .dataframe tbody tr th {\n",
       "        vertical-align: top;\n",
       "    }\n",
       "\n",
       "    .dataframe thead th {\n",
       "        text-align: right;\n",
       "    }\n",
       "</style>\n",
       "<table border=\"1\" class=\"dataframe\">\n",
       "  <thead>\n",
       "    <tr style=\"text-align: right;\">\n",
       "      <th></th>\n",
       "      <th>permalink</th>\n",
       "      <th>name</th>\n",
       "      <th>homepage_url</th>\n",
       "      <th>category_list</th>\n",
       "      <th>status</th>\n",
       "      <th>country_code</th>\n",
       "      <th>state_code</th>\n",
       "      <th>region</th>\n",
       "      <th>city</th>\n",
       "      <th>founded_at</th>\n",
       "    </tr>\n",
       "  </thead>\n",
       "  <tbody>\n",
       "    <tr>\n",
       "      <th>30215</th>\n",
       "      <td>/Organization/Karma</td>\n",
       "      <td>Karma</td>\n",
       "      <td>http://getkarma.com</td>\n",
       "      <td>Mobile</td>\n",
       "      <td>acquired</td>\n",
       "      <td>USA</td>\n",
       "      <td>CA</td>\n",
       "      <td>SF Bay Area</td>\n",
       "      <td>San Francisco</td>\n",
       "      <td>01-01-2011</td>\n",
       "    </tr>\n",
       "    <tr>\n",
       "      <th>30216</th>\n",
       "      <td>/Organization/Karma-2</td>\n",
       "      <td>Karma</td>\n",
       "      <td>http://yourkarma.com</td>\n",
       "      <td>Internet Service Providers|Mobile|Telecommunic...</td>\n",
       "      <td>operating</td>\n",
       "      <td>USA</td>\n",
       "      <td>NY</td>\n",
       "      <td>New York City</td>\n",
       "      <td>New York</td>\n",
       "      <td>18-01-2012</td>\n",
       "    </tr>\n",
       "    <tr>\n",
       "      <th>30217</th>\n",
       "      <td>/Organization/Karma-5</td>\n",
       "      <td>Karma</td>\n",
       "      <td>https://karma.wiki/</td>\n",
       "      <td>Media|Social Network Media|Technology</td>\n",
       "      <td>operating</td>\n",
       "      <td>NaN</td>\n",
       "      <td>NaN</td>\n",
       "      <td>NaN</td>\n",
       "      <td>NaN</td>\n",
       "      <td>NaN</td>\n",
       "    </tr>\n",
       "    <tr>\n",
       "      <th>30219</th>\n",
       "      <td>/Organization/Karma-Labs</td>\n",
       "      <td>Karma</td>\n",
       "      <td>http://havekarma.com</td>\n",
       "      <td>Collaborative Consumption|Reputation</td>\n",
       "      <td>operating</td>\n",
       "      <td>USA</td>\n",
       "      <td>CA</td>\n",
       "      <td>Los Angeles</td>\n",
       "      <td>Los Angeles</td>\n",
       "      <td>01-04-2013</td>\n",
       "    </tr>\n",
       "  </tbody>\n",
       "</table>\n",
       "</div>"
      ],
      "text/plain": [
       "                      permalink   name          homepage_url  \\\n",
       "30215       /Organization/Karma  Karma   http://getkarma.com   \n",
       "30216     /Organization/Karma-2  Karma  http://yourkarma.com   \n",
       "30217     /Organization/Karma-5  Karma   https://karma.wiki/   \n",
       "30219  /Organization/Karma-Labs  Karma  http://havekarma.com   \n",
       "\n",
       "                                           category_list     status  \\\n",
       "30215                                             Mobile   acquired   \n",
       "30216  Internet Service Providers|Mobile|Telecommunic...  operating   \n",
       "30217              Media|Social Network Media|Technology  operating   \n",
       "30219               Collaborative Consumption|Reputation  operating   \n",
       "\n",
       "      country_code state_code         region           city  founded_at  \n",
       "30215          USA         CA    SF Bay Area  San Francisco  01-01-2011  \n",
       "30216          USA         NY  New York City       New York  18-01-2012  \n",
       "30217          NaN        NaN            NaN            NaN         NaN  \n",
       "30219          USA         CA    Los Angeles    Los Angeles  01-04-2013  "
      ]
     },
     "execution_count": 15,
     "metadata": {},
     "output_type": "execute_result"
    }
   ],
   "source": [
    "#lets check one more repeated name company called Karma\n",
    "companies[companies['name']=='Karma']"
   ]
  },
  {
   "cell_type": "markdown",
   "metadata": {},
   "source": [
    "The permalink has a different code for each of these companies with the same name. Hence it is better to clean up the permalink feature to retrieve the unique companies."
   ]
  },
  {
   "cell_type": "code",
   "execution_count": 16,
   "metadata": {},
   "outputs": [],
   "source": [
    "#first conver the string to lowercase\n",
    "companies['permalink'] = companies['permalink'].str.lower()"
   ]
  },
  {
   "cell_type": "code",
   "execution_count": 17,
   "metadata": {},
   "outputs": [],
   "source": [
    "#replace the prefix /organization/ and /organization/- from the strings\n",
    "companies['permalink'] = companies['permalink'].str.replace('/organization/-','')\n",
    "companies['permalink'] = companies['permalink'].str.replace('/organization/','')"
   ]
  },
  {
   "cell_type": "code",
   "execution_count": 18,
   "metadata": {},
   "outputs": [
    {
     "data": {
      "text/plain": [
       "0                     fame\n",
       "1                  qounter\n",
       "2     the-one-of-them-inc-\n",
       "3                  0-6-com\n",
       "4         004-technologies\n",
       "5       01games-technology\n",
       "6    0ndine-biomedical-inc\n",
       "Name: permalink, dtype: object"
      ]
     },
     "execution_count": 18,
     "metadata": {},
     "output_type": "execute_result"
    }
   ],
   "source": [
    "companies['permalink'][:7]"
   ]
  },
  {
   "cell_type": "code",
   "execution_count": 19,
   "metadata": {},
   "outputs": [
    {
     "data": {
      "text/plain": [
       "66361                                       zytoprotec\n",
       "66362                                            zzish\n",
       "66363             zznode-science-and-technology-co-ltd\n",
       "66364                                      zzzzapp-com\n",
       "66365                                           ăeron\n",
       "66366                                         ăasys-2\n",
       "66367    ä°novatiff-reklam-ve-tanäątäąm-hizmetleri-tic\n",
       "Name: permalink, dtype: object"
      ]
     },
     "execution_count": 19,
     "metadata": {},
     "output_type": "execute_result"
    }
   ],
   "source": [
    "#view the last 7 values of permalink\n",
    "companies['permalink'][-7:]"
   ]
  },
  {
   "cell_type": "code",
   "execution_count": 20,
   "metadata": {},
   "outputs": [],
   "source": [
    "#check for any duplicates\n",
    "duplicate = companies.duplicated(subset='permalink',keep='first').value_counts()"
   ]
  },
  {
   "cell_type": "code",
   "execution_count": 21,
   "metadata": {},
   "outputs": [
    {
     "data": {
      "text/plain": [
       "False    66368\n",
       "dtype: int64"
      ]
     },
     "execution_count": 21,
     "metadata": {},
     "output_type": "execute_result"
    }
   ],
   "source": [
    "#check the number of duplicates True values if any\n",
    "duplicate"
   ]
  },
  {
   "cell_type": "markdown",
   "metadata": {},
   "source": [
    "There are no duplicates in the permalink. The total number of unique companies in the companies file is 66,368 which is same as the number of rows in the companies dataset."
   ]
  },
  {
   "cell_type": "code",
   "execution_count": 22,
   "metadata": {},
   "outputs": [
    {
     "data": {
      "text/html": [
       "<div>\n",
       "<style scoped>\n",
       "    .dataframe tbody tr th:only-of-type {\n",
       "        vertical-align: middle;\n",
       "    }\n",
       "\n",
       "    .dataframe tbody tr th {\n",
       "        vertical-align: top;\n",
       "    }\n",
       "\n",
       "    .dataframe thead th {\n",
       "        text-align: right;\n",
       "    }\n",
       "</style>\n",
       "<table border=\"1\" class=\"dataframe\">\n",
       "  <thead>\n",
       "    <tr style=\"text-align: right;\">\n",
       "      <th></th>\n",
       "      <th>permalink</th>\n",
       "      <th>name</th>\n",
       "      <th>homepage_url</th>\n",
       "      <th>category_list</th>\n",
       "      <th>status</th>\n",
       "      <th>country_code</th>\n",
       "      <th>state_code</th>\n",
       "      <th>region</th>\n",
       "      <th>city</th>\n",
       "      <th>founded_at</th>\n",
       "    </tr>\n",
       "  </thead>\n",
       "  <tbody>\n",
       "    <tr>\n",
       "      <th>30215</th>\n",
       "      <td>karma</td>\n",
       "      <td>Karma</td>\n",
       "      <td>http://getkarma.com</td>\n",
       "      <td>Mobile</td>\n",
       "      <td>acquired</td>\n",
       "      <td>USA</td>\n",
       "      <td>CA</td>\n",
       "      <td>SF Bay Area</td>\n",
       "      <td>San Francisco</td>\n",
       "      <td>01-01-2011</td>\n",
       "    </tr>\n",
       "    <tr>\n",
       "      <th>30216</th>\n",
       "      <td>karma-2</td>\n",
       "      <td>Karma</td>\n",
       "      <td>http://yourkarma.com</td>\n",
       "      <td>Internet Service Providers|Mobile|Telecommunic...</td>\n",
       "      <td>operating</td>\n",
       "      <td>USA</td>\n",
       "      <td>NY</td>\n",
       "      <td>New York City</td>\n",
       "      <td>New York</td>\n",
       "      <td>18-01-2012</td>\n",
       "    </tr>\n",
       "    <tr>\n",
       "      <th>30217</th>\n",
       "      <td>karma-5</td>\n",
       "      <td>Karma</td>\n",
       "      <td>https://karma.wiki/</td>\n",
       "      <td>Media|Social Network Media|Technology</td>\n",
       "      <td>operating</td>\n",
       "      <td>NaN</td>\n",
       "      <td>NaN</td>\n",
       "      <td>NaN</td>\n",
       "      <td>NaN</td>\n",
       "      <td>NaN</td>\n",
       "    </tr>\n",
       "    <tr>\n",
       "      <th>30219</th>\n",
       "      <td>karma-labs</td>\n",
       "      <td>Karma</td>\n",
       "      <td>http://havekarma.com</td>\n",
       "      <td>Collaborative Consumption|Reputation</td>\n",
       "      <td>operating</td>\n",
       "      <td>USA</td>\n",
       "      <td>CA</td>\n",
       "      <td>Los Angeles</td>\n",
       "      <td>Los Angeles</td>\n",
       "      <td>01-04-2013</td>\n",
       "    </tr>\n",
       "  </tbody>\n",
       "</table>\n",
       "</div>"
      ],
      "text/plain": [
       "        permalink   name          homepage_url  \\\n",
       "30215       karma  Karma   http://getkarma.com   \n",
       "30216     karma-2  Karma  http://yourkarma.com   \n",
       "30217     karma-5  Karma   https://karma.wiki/   \n",
       "30219  karma-labs  Karma  http://havekarma.com   \n",
       "\n",
       "                                           category_list     status  \\\n",
       "30215                                             Mobile   acquired   \n",
       "30216  Internet Service Providers|Mobile|Telecommunic...  operating   \n",
       "30217              Media|Social Network Media|Technology  operating   \n",
       "30219               Collaborative Consumption|Reputation  operating   \n",
       "\n",
       "      country_code state_code         region           city  founded_at  \n",
       "30215          USA         CA    SF Bay Area  San Francisco  01-01-2011  \n",
       "30216          USA         NY  New York City       New York  18-01-2012  \n",
       "30217          NaN        NaN            NaN            NaN         NaN  \n",
       "30219          USA         CA    Los Angeles    Los Angeles  01-04-2013  "
      ]
     },
     "execution_count": 22,
     "metadata": {},
     "output_type": "execute_result"
    }
   ],
   "source": [
    "#for interest, lets now check the rows for one of the repeated company's name\n",
    "companies[companies['name']=='Karma']"
   ]
  },
  {
   "cell_type": "markdown",
   "metadata": {},
   "source": [
    "### Explore the rounds dataframe"
   ]
  },
  {
   "cell_type": "code",
   "execution_count": 23,
   "metadata": {},
   "outputs": [
    {
     "data": {
      "text/html": [
       "<div>\n",
       "<style scoped>\n",
       "    .dataframe tbody tr th:only-of-type {\n",
       "        vertical-align: middle;\n",
       "    }\n",
       "\n",
       "    .dataframe tbody tr th {\n",
       "        vertical-align: top;\n",
       "    }\n",
       "\n",
       "    .dataframe thead th {\n",
       "        text-align: right;\n",
       "    }\n",
       "</style>\n",
       "<table border=\"1\" class=\"dataframe\">\n",
       "  <thead>\n",
       "    <tr style=\"text-align: right;\">\n",
       "      <th></th>\n",
       "      <th>company_permalink</th>\n",
       "      <th>funding_round_permalink</th>\n",
       "      <th>funding_round_type</th>\n",
       "      <th>funding_round_code</th>\n",
       "      <th>funded_at</th>\n",
       "      <th>raised_amount_usd</th>\n",
       "    </tr>\n",
       "  </thead>\n",
       "  <tbody>\n",
       "    <tr>\n",
       "      <th>0</th>\n",
       "      <td>/organization/-fame</td>\n",
       "      <td>/funding-round/9a01d05418af9f794eebff7ace91f638</td>\n",
       "      <td>venture</td>\n",
       "      <td>B</td>\n",
       "      <td>05-01-2015</td>\n",
       "      <td>10000000.0</td>\n",
       "    </tr>\n",
       "    <tr>\n",
       "      <th>1</th>\n",
       "      <td>/ORGANIZATION/-QOUNTER</td>\n",
       "      <td>/funding-round/22dacff496eb7acb2b901dec1dfe5633</td>\n",
       "      <td>venture</td>\n",
       "      <td>A</td>\n",
       "      <td>14-10-2014</td>\n",
       "      <td>NaN</td>\n",
       "    </tr>\n",
       "    <tr>\n",
       "      <th>2</th>\n",
       "      <td>/organization/-qounter</td>\n",
       "      <td>/funding-round/b44fbb94153f6cdef13083530bb48030</td>\n",
       "      <td>seed</td>\n",
       "      <td>NaN</td>\n",
       "      <td>01-03-2014</td>\n",
       "      <td>700000.0</td>\n",
       "    </tr>\n",
       "    <tr>\n",
       "      <th>3</th>\n",
       "      <td>/ORGANIZATION/-THE-ONE-OF-THEM-INC-</td>\n",
       "      <td>/funding-round/650b8f704416801069bb178a1418776b</td>\n",
       "      <td>venture</td>\n",
       "      <td>B</td>\n",
       "      <td>30-01-2014</td>\n",
       "      <td>3406878.0</td>\n",
       "    </tr>\n",
       "    <tr>\n",
       "      <th>4</th>\n",
       "      <td>/organization/0-6-com</td>\n",
       "      <td>/funding-round/5727accaeaa57461bd22a9bdd945382d</td>\n",
       "      <td>venture</td>\n",
       "      <td>A</td>\n",
       "      <td>19-03-2008</td>\n",
       "      <td>2000000.0</td>\n",
       "    </tr>\n",
       "  </tbody>\n",
       "</table>\n",
       "</div>"
      ],
      "text/plain": [
       "                     company_permalink  \\\n",
       "0                  /organization/-fame   \n",
       "1               /ORGANIZATION/-QOUNTER   \n",
       "2               /organization/-qounter   \n",
       "3  /ORGANIZATION/-THE-ONE-OF-THEM-INC-   \n",
       "4                /organization/0-6-com   \n",
       "\n",
       "                           funding_round_permalink funding_round_type  \\\n",
       "0  /funding-round/9a01d05418af9f794eebff7ace91f638            venture   \n",
       "1  /funding-round/22dacff496eb7acb2b901dec1dfe5633            venture   \n",
       "2  /funding-round/b44fbb94153f6cdef13083530bb48030               seed   \n",
       "3  /funding-round/650b8f704416801069bb178a1418776b            venture   \n",
       "4  /funding-round/5727accaeaa57461bd22a9bdd945382d            venture   \n",
       "\n",
       "  funding_round_code   funded_at  raised_amount_usd  \n",
       "0                  B  05-01-2015         10000000.0  \n",
       "1                  A  14-10-2014                NaN  \n",
       "2                NaN  01-03-2014           700000.0  \n",
       "3                  B  30-01-2014          3406878.0  \n",
       "4                  A  19-03-2008          2000000.0  "
      ]
     },
     "execution_count": 23,
     "metadata": {},
     "output_type": "execute_result"
    }
   ],
   "source": [
    "#top few rows\n",
    "df_rounds.head()"
   ]
  },
  {
   "cell_type": "code",
   "execution_count": 24,
   "metadata": {},
   "outputs": [
    {
     "data": {
      "text/html": [
       "<div>\n",
       "<style scoped>\n",
       "    .dataframe tbody tr th:only-of-type {\n",
       "        vertical-align: middle;\n",
       "    }\n",
       "\n",
       "    .dataframe tbody tr th {\n",
       "        vertical-align: top;\n",
       "    }\n",
       "\n",
       "    .dataframe thead th {\n",
       "        text-align: right;\n",
       "    }\n",
       "</style>\n",
       "<table border=\"1\" class=\"dataframe\">\n",
       "  <thead>\n",
       "    <tr style=\"text-align: right;\">\n",
       "      <th></th>\n",
       "      <th>company_permalink</th>\n",
       "      <th>funding_round_permalink</th>\n",
       "      <th>funding_round_type</th>\n",
       "      <th>funding_round_code</th>\n",
       "      <th>funded_at</th>\n",
       "      <th>raised_amount_usd</th>\n",
       "    </tr>\n",
       "  </thead>\n",
       "  <tbody>\n",
       "    <tr>\n",
       "      <th>114944</th>\n",
       "      <td>/organization/zzzzapp-com</td>\n",
       "      <td>/funding-round/8f6d25b8ee4199e586484d817bceda05</td>\n",
       "      <td>convertible_note</td>\n",
       "      <td>NaN</td>\n",
       "      <td>01-03-2014</td>\n",
       "      <td>41313.0</td>\n",
       "    </tr>\n",
       "    <tr>\n",
       "      <th>114945</th>\n",
       "      <td>/ORGANIZATION/ZZZZAPP-COM</td>\n",
       "      <td>/funding-round/ff1aa06ed5da186c84f101549035d4ae</td>\n",
       "      <td>seed</td>\n",
       "      <td>NaN</td>\n",
       "      <td>01-05-2013</td>\n",
       "      <td>32842.0</td>\n",
       "    </tr>\n",
       "    <tr>\n",
       "      <th>114946</th>\n",
       "      <td>/organization/ăeron</td>\n",
       "      <td>/funding-round/59f4dce44723b794f21ded3daed6e4fe</td>\n",
       "      <td>venture</td>\n",
       "      <td>A</td>\n",
       "      <td>01-08-2014</td>\n",
       "      <td>NaN</td>\n",
       "    </tr>\n",
       "    <tr>\n",
       "      <th>114947</th>\n",
       "      <td>/ORGANIZATION/ĂASYS-2</td>\n",
       "      <td>/funding-round/35f09d0794651719b02bbfd859ba9ff5</td>\n",
       "      <td>seed</td>\n",
       "      <td>NaN</td>\n",
       "      <td>01-01-2015</td>\n",
       "      <td>18192.0</td>\n",
       "    </tr>\n",
       "    <tr>\n",
       "      <th>114948</th>\n",
       "      <td>/organization/ä°novatiff-reklam-ve-tanäątäąm-h...</td>\n",
       "      <td>/funding-round/af942869878d2cd788ef5189b435ebc4</td>\n",
       "      <td>grant</td>\n",
       "      <td>NaN</td>\n",
       "      <td>01-10-2013</td>\n",
       "      <td>14851.0</td>\n",
       "    </tr>\n",
       "  </tbody>\n",
       "</table>\n",
       "</div>"
      ],
      "text/plain": [
       "                                        company_permalink  \\\n",
       "114944                          /organization/zzzzapp-com   \n",
       "114945                          /ORGANIZATION/ZZZZAPP-COM   \n",
       "114946                               /organization/ăeron   \n",
       "114947                             /ORGANIZATION/ĂASYS-2   \n",
       "114948  /organization/ä°novatiff-reklam-ve-tanäątäąm-h...   \n",
       "\n",
       "                                funding_round_permalink funding_round_type  \\\n",
       "114944  /funding-round/8f6d25b8ee4199e586484d817bceda05   convertible_note   \n",
       "114945  /funding-round/ff1aa06ed5da186c84f101549035d4ae               seed   \n",
       "114946  /funding-round/59f4dce44723b794f21ded3daed6e4fe            venture   \n",
       "114947  /funding-round/35f09d0794651719b02bbfd859ba9ff5               seed   \n",
       "114948  /funding-round/af942869878d2cd788ef5189b435ebc4              grant   \n",
       "\n",
       "       funding_round_code   funded_at  raised_amount_usd  \n",
       "114944                NaN  01-03-2014            41313.0  \n",
       "114945                NaN  01-05-2013            32842.0  \n",
       "114946                  A  01-08-2014                NaN  \n",
       "114947                NaN  01-01-2015            18192.0  \n",
       "114948                NaN  01-10-2013            14851.0  "
      ]
     },
     "execution_count": 24,
     "metadata": {},
     "output_type": "execute_result"
    }
   ],
   "source": [
    "#last few rows\n",
    "df_rounds.tail()"
   ]
  },
  {
   "cell_type": "code",
   "execution_count": 25,
   "metadata": {},
   "outputs": [
    {
     "name": "stdout",
     "output_type": "stream",
     "text": [
      "<class 'pandas.core.frame.DataFrame'>\n",
      "RangeIndex: 114949 entries, 0 to 114948\n",
      "Data columns (total 6 columns):\n",
      " #   Column                   Non-Null Count   Dtype  \n",
      "---  ------                   --------------   -----  \n",
      " 0   company_permalink        114949 non-null  object \n",
      " 1   funding_round_permalink  114949 non-null  object \n",
      " 2   funding_round_type       114949 non-null  object \n",
      " 3   funding_round_code       31140 non-null   object \n",
      " 4   funded_at                114949 non-null  object \n",
      " 5   raised_amount_usd        94959 non-null   float64\n",
      "dtypes: float64(1), object(5)\n",
      "memory usage: 5.3+ MB\n"
     ]
    }
   ],
   "source": [
    "#check the info\n",
    "df_rounds.info()"
   ]
  },
  {
   "cell_type": "markdown",
   "metadata": {},
   "source": [
    "Except for funding_round_code and raised_amount_usd, rest of the features do not have null values. \n",
    "The raised_amount_usd is of type float64 while others are in the string format. \n",
    "- company_permalink is the only feature from where we can determine the unique company names."
   ]
  },
  {
   "cell_type": "code",
   "execution_count": 26,
   "metadata": {},
   "outputs": [
    {
     "data": {
      "text/html": [
       "<div>\n",
       "<style scoped>\n",
       "    .dataframe tbody tr th:only-of-type {\n",
       "        vertical-align: middle;\n",
       "    }\n",
       "\n",
       "    .dataframe tbody tr th {\n",
       "        vertical-align: top;\n",
       "    }\n",
       "\n",
       "    .dataframe thead th {\n",
       "        text-align: right;\n",
       "    }\n",
       "</style>\n",
       "<table border=\"1\" class=\"dataframe\">\n",
       "  <thead>\n",
       "    <tr style=\"text-align: right;\">\n",
       "      <th></th>\n",
       "      <th>count</th>\n",
       "      <th>mean</th>\n",
       "      <th>std</th>\n",
       "      <th>min</th>\n",
       "      <th>25%</th>\n",
       "      <th>50%</th>\n",
       "      <th>75%</th>\n",
       "      <th>max</th>\n",
       "    </tr>\n",
       "  </thead>\n",
       "  <tbody>\n",
       "    <tr>\n",
       "      <th>raised_amount_usd</th>\n",
       "      <td>94959.0</td>\n",
       "      <td>1.042687e+07</td>\n",
       "      <td>1.148212e+08</td>\n",
       "      <td>0.0</td>\n",
       "      <td>322500.0</td>\n",
       "      <td>1680511.0</td>\n",
       "      <td>7000000.0</td>\n",
       "      <td>2.127194e+10</td>\n",
       "    </tr>\n",
       "  </tbody>\n",
       "</table>\n",
       "</div>"
      ],
      "text/plain": [
       "                     count          mean           std  min       25%  \\\n",
       "raised_amount_usd  94959.0  1.042687e+07  1.148212e+08  0.0  322500.0   \n",
       "\n",
       "                         50%        75%           max  \n",
       "raised_amount_usd  1680511.0  7000000.0  2.127194e+10  "
      ]
     },
     "execution_count": 26,
     "metadata": {},
     "output_type": "execute_result"
    }
   ],
   "source": [
    "df_rounds.describe().transpose()"
   ]
  },
  {
   "cell_type": "markdown",
   "metadata": {},
   "source": [
    "### Finding the unique number of companies in the rounds dataframe"
   ]
  },
  {
   "cell_type": "code",
   "execution_count": 27,
   "metadata": {},
   "outputs": [],
   "source": [
    "#create a copy of the original dataframe\n",
    "rounds = df_rounds.copy()"
   ]
  },
  {
   "cell_type": "code",
   "execution_count": 28,
   "metadata": {},
   "outputs": [
    {
     "data": {
      "text/plain": [
       "90247"
      ]
     },
     "execution_count": 28,
     "metadata": {},
     "output_type": "execute_result"
    }
   ],
   "source": [
    "#check the number of unique values in company_permalink\n",
    "len(rounds['company_permalink'].unique())"
   ]
  },
  {
   "cell_type": "markdown",
   "metadata": {},
   "source": [
    "As this is less than the total number of rows and that there are no null values in this feature, it means there are duplicates in company_permalink"
   ]
  },
  {
   "cell_type": "code",
   "execution_count": 29,
   "metadata": {},
   "outputs": [
    {
     "data": {
      "text/plain": [
       "/ORGANIZATION/SOLARFLARE             10\n",
       "/ORGANIZATION/QUELLAN                 9\n",
       "/organization/semprius                9\n",
       "/organization/solarflare              9\n",
       "/organization/exagen-diagnostics      9\n",
       "                                     ..\n",
       "/ORGANIZATION/BARDAKOVKA              1\n",
       "/organization/credit-aid-software     1\n",
       "/ORGANIZATION/PLAYERPRO               1\n",
       "/ORGANIZATION/PHYFLEX-NETWORKS        1\n",
       "/ORGANIZATION/IPICO                   1\n",
       "Name: company_permalink, Length: 90247, dtype: int64"
      ]
     },
     "execution_count": 29,
     "metadata": {},
     "output_type": "execute_result"
    }
   ],
   "source": [
    "rounds['company_permalink'].value_counts().sort_values(ascending=False)"
   ]
  },
  {
   "cell_type": "markdown",
   "metadata": {},
   "source": [
    "So we see there are companies which are repeated in company_permalink"
   ]
  },
  {
   "cell_type": "code",
   "execution_count": 30,
   "metadata": {},
   "outputs": [],
   "source": [
    "#apply the cleaning steps as in companies dataframe and check for duplicates\n",
    "\n",
    "#first conver the string to lowercase\n",
    "rounds['company_permalink'] = rounds['company_permalink'].str.lower()\n",
    "\n",
    "#replace the prefix /organization/ and /organization/- from the strings\n",
    "rounds['company_permalink'] = rounds['company_permalink'].str.replace('/organization/-','')\n",
    "rounds['company_permalink'] = rounds['company_permalink'].str.replace('/organization/','')"
   ]
  },
  {
   "cell_type": "code",
   "execution_count": 31,
   "metadata": {},
   "outputs": [
    {
     "data": {
      "text/plain": [
       "0                    fame\n",
       "1                 qounter\n",
       "2                 qounter\n",
       "3    the-one-of-them-inc-\n",
       "4                 0-6-com\n",
       "5        004-technologies\n",
       "6      01games-technology\n",
       "Name: company_permalink, dtype: object"
      ]
     },
     "execution_count": 31,
     "metadata": {},
     "output_type": "execute_result"
    }
   ],
   "source": [
    "rounds['company_permalink'][:7]"
   ]
  },
  {
   "cell_type": "code",
   "execution_count": 32,
   "metadata": {},
   "outputs": [
    {
     "data": {
      "text/plain": [
       "114942                                      zzzzapp-com\n",
       "114943                                      zzzzapp-com\n",
       "114944                                      zzzzapp-com\n",
       "114945                                      zzzzapp-com\n",
       "114946                                           ăeron\n",
       "114947                                         ăasys-2\n",
       "114948    ä°novatiff-reklam-ve-tanäątäąm-hizmetleri-tic\n",
       "Name: company_permalink, dtype: object"
      ]
     },
     "execution_count": 32,
     "metadata": {},
     "output_type": "execute_result"
    }
   ],
   "source": [
    "rounds['company_permalink'][-7:]"
   ]
  },
  {
   "cell_type": "code",
   "execution_count": 33,
   "metadata": {},
   "outputs": [],
   "source": [
    "duplicate = rounds.duplicated(subset='company_permalink',keep='first').value_counts()"
   ]
  },
  {
   "cell_type": "code",
   "execution_count": 34,
   "metadata": {},
   "outputs": [
    {
     "data": {
      "text/plain": [
       "False    66370\n",
       "True     48579\n",
       "dtype: int64"
      ]
     },
     "execution_count": 34,
     "metadata": {},
     "output_type": "execute_result"
    }
   ],
   "source": [
    "duplicate"
   ]
  },
  {
   "cell_type": "code",
   "execution_count": 35,
   "metadata": {},
   "outputs": [],
   "source": [
    "#create a copy of the cleaned dataset before removing the duplicates\n",
    "rounds2 = rounds.copy()"
   ]
  },
  {
   "cell_type": "code",
   "execution_count": 36,
   "metadata": {},
   "outputs": [
    {
     "data": {
      "text/html": [
       "<div>\n",
       "<style scoped>\n",
       "    .dataframe tbody tr th:only-of-type {\n",
       "        vertical-align: middle;\n",
       "    }\n",
       "\n",
       "    .dataframe tbody tr th {\n",
       "        vertical-align: top;\n",
       "    }\n",
       "\n",
       "    .dataframe thead th {\n",
       "        text-align: right;\n",
       "    }\n",
       "</style>\n",
       "<table border=\"1\" class=\"dataframe\">\n",
       "  <thead>\n",
       "    <tr style=\"text-align: right;\">\n",
       "      <th></th>\n",
       "      <th>company_permalink</th>\n",
       "      <th>funding_round_permalink</th>\n",
       "      <th>funding_round_type</th>\n",
       "      <th>funding_round_code</th>\n",
       "      <th>funded_at</th>\n",
       "      <th>raised_amount_usd</th>\n",
       "    </tr>\n",
       "  </thead>\n",
       "  <tbody>\n",
       "    <tr>\n",
       "      <th>2</th>\n",
       "      <td>qounter</td>\n",
       "      <td>/funding-round/b44fbb94153f6cdef13083530bb48030</td>\n",
       "      <td>seed</td>\n",
       "      <td>NaN</td>\n",
       "      <td>01-03-2014</td>\n",
       "      <td>700000.0</td>\n",
       "    </tr>\n",
       "    <tr>\n",
       "      <th>8</th>\n",
       "      <td>0ndine-biomedical-inc</td>\n",
       "      <td>/funding-round/954b9499724b946ad8c396a57a5f3b72</td>\n",
       "      <td>venture</td>\n",
       "      <td>NaN</td>\n",
       "      <td>21-12-2009</td>\n",
       "      <td>719491.0</td>\n",
       "    </tr>\n",
       "    <tr>\n",
       "      <th>10</th>\n",
       "      <td>0xdata</td>\n",
       "      <td>/funding-round/3bb2ee4a2d89251a10aaa735b1180e44</td>\n",
       "      <td>venture</td>\n",
       "      <td>B</td>\n",
       "      <td>09-11-2015</td>\n",
       "      <td>20000000.0</td>\n",
       "    </tr>\n",
       "    <tr>\n",
       "      <th>11</th>\n",
       "      <td>0xdata</td>\n",
       "      <td>/funding-round/ae2a174c06517c2394aed45006322a7e</td>\n",
       "      <td>venture</td>\n",
       "      <td>NaN</td>\n",
       "      <td>03-01-2013</td>\n",
       "      <td>1700000.0</td>\n",
       "    </tr>\n",
       "    <tr>\n",
       "      <th>12</th>\n",
       "      <td>0xdata</td>\n",
       "      <td>/funding-round/e1cfcbe1bdf4c70277c5f29a3482f24e</td>\n",
       "      <td>venture</td>\n",
       "      <td>A</td>\n",
       "      <td>19-07-2014</td>\n",
       "      <td>8900000.0</td>\n",
       "    </tr>\n",
       "  </tbody>\n",
       "</table>\n",
       "</div>"
      ],
      "text/plain": [
       "        company_permalink                          funding_round_permalink  \\\n",
       "2                 qounter  /funding-round/b44fbb94153f6cdef13083530bb48030   \n",
       "8   0ndine-biomedical-inc  /funding-round/954b9499724b946ad8c396a57a5f3b72   \n",
       "10                 0xdata  /funding-round/3bb2ee4a2d89251a10aaa735b1180e44   \n",
       "11                 0xdata  /funding-round/ae2a174c06517c2394aed45006322a7e   \n",
       "12                 0xdata  /funding-round/e1cfcbe1bdf4c70277c5f29a3482f24e   \n",
       "\n",
       "   funding_round_type funding_round_code   funded_at  raised_amount_usd  \n",
       "2                seed                NaN  01-03-2014           700000.0  \n",
       "8             venture                NaN  21-12-2009           719491.0  \n",
       "10            venture                  B  09-11-2015         20000000.0  \n",
       "11            venture                NaN  03-01-2013          1700000.0  \n",
       "12            venture                  A  19-07-2014          8900000.0  "
      ]
     },
     "execution_count": 36,
     "metadata": {},
     "output_type": "execute_result"
    }
   ],
   "source": [
    "#list few rows based on duplicated values in company_permalink\n",
    "rounds[rounds.duplicated(subset='company_permalink',keep='first')][:5]"
   ]
  },
  {
   "cell_type": "code",
   "execution_count": 37,
   "metadata": {},
   "outputs": [],
   "source": [
    "#drop the rows where the company_permalink has duplicate values leaving out the first occurrence\n",
    "rounds.drop_duplicates(subset='company_permalink',inplace=True,keep='first')"
   ]
  },
  {
   "cell_type": "code",
   "execution_count": 38,
   "metadata": {},
   "outputs": [
    {
     "name": "stdout",
     "output_type": "stream",
     "text": [
      "<class 'pandas.core.frame.DataFrame'>\n",
      "Int64Index: 66370 entries, 0 to 114948\n",
      "Data columns (total 6 columns):\n",
      " #   Column                   Non-Null Count  Dtype  \n",
      "---  ------                   --------------  -----  \n",
      " 0   company_permalink        66370 non-null  object \n",
      " 1   funding_round_permalink  66370 non-null  object \n",
      " 2   funding_round_type       66370 non-null  object \n",
      " 3   funding_round_code       14139 non-null  object \n",
      " 4   funded_at                66370 non-null  object \n",
      " 5   raised_amount_usd        51820 non-null  float64\n",
      "dtypes: float64(1), object(5)\n",
      "memory usage: 3.5+ MB\n"
     ]
    }
   ],
   "source": [
    "#check the info .. \n",
    "rounds.info()"
   ]
  },
  {
   "cell_type": "code",
   "execution_count": 39,
   "metadata": {},
   "outputs": [
    {
     "data": {
      "text/plain": [
       "False    66370\n",
       "dtype: int64"
      ]
     },
     "execution_count": 39,
     "metadata": {},
     "output_type": "execute_result"
    }
   ],
   "source": [
    "#check if still duplicate values in company_permalink\n",
    "rounds.duplicated(subset='company_permalink',keep='first').value_counts()"
   ]
  },
  {
   "cell_type": "markdown",
   "metadata": {},
   "source": [
    "Now, there are no duplicate values in company_permalink in rounds2 dataframe. "
   ]
  },
  {
   "cell_type": "code",
   "execution_count": 40,
   "metadata": {},
   "outputs": [
    {
     "data": {
      "text/plain": [
       "66370"
      ]
     },
     "execution_count": 40,
     "metadata": {},
     "output_type": "execute_result"
    }
   ],
   "source": [
    "#number of unique companies\n",
    "len(rounds['company_permalink'].unique())"
   ]
  },
  {
   "cell_type": "code",
   "execution_count": 41,
   "metadata": {},
   "outputs": [
    {
     "data": {
      "text/html": [
       "<div>\n",
       "<style scoped>\n",
       "    .dataframe tbody tr th:only-of-type {\n",
       "        vertical-align: middle;\n",
       "    }\n",
       "\n",
       "    .dataframe tbody tr th {\n",
       "        vertical-align: top;\n",
       "    }\n",
       "\n",
       "    .dataframe thead th {\n",
       "        text-align: right;\n",
       "    }\n",
       "</style>\n",
       "<table border=\"1\" class=\"dataframe\">\n",
       "  <thead>\n",
       "    <tr style=\"text-align: right;\">\n",
       "      <th></th>\n",
       "      <th>company_permalink</th>\n",
       "      <th>funding_round_permalink</th>\n",
       "      <th>funding_round_type</th>\n",
       "      <th>funding_round_code</th>\n",
       "      <th>funded_at</th>\n",
       "      <th>raised_amount_usd</th>\n",
       "    </tr>\n",
       "  </thead>\n",
       "  <tbody>\n",
       "    <tr>\n",
       "      <th>9</th>\n",
       "      <td>0xdata</td>\n",
       "      <td>/funding-round/383a9bd2c04f7038bb543ccef5ba3eae</td>\n",
       "      <td>seed</td>\n",
       "      <td>NaN</td>\n",
       "      <td>22-05-2013</td>\n",
       "      <td>3000000.0</td>\n",
       "    </tr>\n",
       "  </tbody>\n",
       "</table>\n",
       "</div>"
      ],
      "text/plain": [
       "  company_permalink                          funding_round_permalink  \\\n",
       "9            0xdata  /funding-round/383a9bd2c04f7038bb543ccef5ba3eae   \n",
       "\n",
       "  funding_round_type funding_round_code   funded_at  raised_amount_usd  \n",
       "9               seed                NaN  22-05-2013          3000000.0  "
      ]
     },
     "execution_count": 41,
     "metadata": {},
     "output_type": "execute_result"
    }
   ],
   "source": [
    "#check one of the repeating company names -- > 0xdata\n",
    "rounds[rounds['company_permalink']=='0xdata']"
   ]
  },
  {
   "cell_type": "markdown",
   "metadata": {},
   "source": [
    "### Companies in rounds2 file but not in companies file"
   ]
  },
  {
   "cell_type": "code",
   "execution_count": 42,
   "metadata": {},
   "outputs": [],
   "source": [
    "set1 = set(companies['permalink'])\n",
    "set2 = set(rounds['company_permalink'])"
   ]
  },
  {
   "cell_type": "code",
   "execution_count": 43,
   "metadata": {},
   "outputs": [
    {
     "data": {
      "text/plain": [
       "66363"
      ]
     },
     "execution_count": 43,
     "metadata": {},
     "output_type": "execute_result"
    }
   ],
   "source": [
    "#check the length of intersection of the two sets\n",
    "len(set2.intersection(set1))"
   ]
  },
  {
   "cell_type": "code",
   "execution_count": 44,
   "metadata": {},
   "outputs": [
    {
     "data": {
      "text/plain": [
       "12"
      ]
     },
     "execution_count": 44,
     "metadata": {},
     "output_type": "execute_result"
    }
   ],
   "source": [
    "#test companies which are either in set1 or in set2 but not in both\n",
    "len(set2.symmetric_difference(set1))"
   ]
  },
  {
   "cell_type": "code",
   "execution_count": 45,
   "metadata": {},
   "outputs": [],
   "source": [
    "#companies which are in rounds2 but not in companies\n",
    "set_d = set2 - set1"
   ]
  },
  {
   "cell_type": "code",
   "execution_count": 46,
   "metadata": {},
   "outputs": [
    {
     "name": "stdout",
     "output_type": "stream",
     "text": [
      "energystone-games-çľçłć¸¸ć\n",
      "tipcat-interactive-ć˛č˙äżąćżç§ć\n",
      "e-căbica\n",
      "huizuche-com-ć ç§˙č˝ś\n",
      "weiche-tech-ĺč˝śç§ć\n",
      "magnet-tech-çłçłç§ć\n",
      "zengame-çś",
      "ć¸¸ç§ć\n"
     ]
    }
   ],
   "source": [
    "#print the companies which are in rounds2 but not in compannies\n",
    "for i in range(len(set_d)):\n",
    "    print(list(set_d)[i])"
   ]
  },
  {
   "cell_type": "markdown",
   "metadata": {},
   "source": [
    "### Merge the companies and the rounds2 dataframe and retain "
   ]
  },
  {
   "cell_type": "code",
   "execution_count": 47,
   "metadata": {},
   "outputs": [
    {
     "data": {
      "text/html": [
       "<div>\n",
       "<style scoped>\n",
       "    .dataframe tbody tr th:only-of-type {\n",
       "        vertical-align: middle;\n",
       "    }\n",
       "\n",
       "    .dataframe tbody tr th {\n",
       "        vertical-align: top;\n",
       "    }\n",
       "\n",
       "    .dataframe thead th {\n",
       "        text-align: right;\n",
       "    }\n",
       "</style>\n",
       "<table border=\"1\" class=\"dataframe\">\n",
       "  <thead>\n",
       "    <tr style=\"text-align: right;\">\n",
       "      <th></th>\n",
       "      <th>company_permalink</th>\n",
       "      <th>funding_round_permalink</th>\n",
       "      <th>funding_round_type</th>\n",
       "      <th>funding_round_code</th>\n",
       "      <th>funded_at</th>\n",
       "      <th>raised_amount_usd</th>\n",
       "    </tr>\n",
       "  </thead>\n",
       "  <tbody>\n",
       "    <tr>\n",
       "      <th>0</th>\n",
       "      <td>fame</td>\n",
       "      <td>/funding-round/9a01d05418af9f794eebff7ace91f638</td>\n",
       "      <td>venture</td>\n",
       "      <td>B</td>\n",
       "      <td>05-01-2015</td>\n",
       "      <td>10000000.0</td>\n",
       "    </tr>\n",
       "    <tr>\n",
       "      <th>1</th>\n",
       "      <td>qounter</td>\n",
       "      <td>/funding-round/22dacff496eb7acb2b901dec1dfe5633</td>\n",
       "      <td>venture</td>\n",
       "      <td>A</td>\n",
       "      <td>14-10-2014</td>\n",
       "      <td>NaN</td>\n",
       "    </tr>\n",
       "    <tr>\n",
       "      <th>2</th>\n",
       "      <td>qounter</td>\n",
       "      <td>/funding-round/b44fbb94153f6cdef13083530bb48030</td>\n",
       "      <td>seed</td>\n",
       "      <td>NaN</td>\n",
       "      <td>01-03-2014</td>\n",
       "      <td>700000.0</td>\n",
       "    </tr>\n",
       "    <tr>\n",
       "      <th>3</th>\n",
       "      <td>the-one-of-them-inc-</td>\n",
       "      <td>/funding-round/650b8f704416801069bb178a1418776b</td>\n",
       "      <td>venture</td>\n",
       "      <td>B</td>\n",
       "      <td>30-01-2014</td>\n",
       "      <td>3406878.0</td>\n",
       "    </tr>\n",
       "    <tr>\n",
       "      <th>4</th>\n",
       "      <td>0-6-com</td>\n",
       "      <td>/funding-round/5727accaeaa57461bd22a9bdd945382d</td>\n",
       "      <td>venture</td>\n",
       "      <td>A</td>\n",
       "      <td>19-03-2008</td>\n",
       "      <td>2000000.0</td>\n",
       "    </tr>\n",
       "  </tbody>\n",
       "</table>\n",
       "</div>"
      ],
      "text/plain": [
       "      company_permalink                          funding_round_permalink  \\\n",
       "0                  fame  /funding-round/9a01d05418af9f794eebff7ace91f638   \n",
       "1               qounter  /funding-round/22dacff496eb7acb2b901dec1dfe5633   \n",
       "2               qounter  /funding-round/b44fbb94153f6cdef13083530bb48030   \n",
       "3  the-one-of-them-inc-  /funding-round/650b8f704416801069bb178a1418776b   \n",
       "4               0-6-com  /funding-round/5727accaeaa57461bd22a9bdd945382d   \n",
       "\n",
       "  funding_round_type funding_round_code   funded_at  raised_amount_usd  \n",
       "0            venture                  B  05-01-2015         10000000.0  \n",
       "1            venture                  A  14-10-2014                NaN  \n",
       "2               seed                NaN  01-03-2014           700000.0  \n",
       "3            venture                  B  30-01-2014          3406878.0  \n",
       "4            venture                  A  19-03-2008          2000000.0  "
      ]
     },
     "execution_count": 47,
     "metadata": {},
     "output_type": "execute_result"
    }
   ],
   "source": [
    "#check the saved copy of the rounds file post cleaning & before duplicate removal\n",
    "rounds2.head()"
   ]
  },
  {
   "cell_type": "code",
   "execution_count": 48,
   "metadata": {},
   "outputs": [
    {
     "data": {
      "text/plain": [
       "(114949, 6)"
      ]
     },
     "execution_count": 48,
     "metadata": {},
     "output_type": "execute_result"
    }
   ],
   "source": [
    "rounds2.shape"
   ]
  },
  {
   "cell_type": "code",
   "execution_count": 49,
   "metadata": {},
   "outputs": [],
   "source": [
    "#merge the two dataframes so that all columns in companies are in rounds2\n",
    "master_frame = companies.merge(rounds2,left_on='permalink',right_on='company_permalink',\n",
    "                suffixes=('_companies','_rounds2'))"
   ]
  },
  {
   "cell_type": "code",
   "execution_count": 50,
   "metadata": {},
   "outputs": [
    {
     "data": {
      "text/plain": [
       "(114942, 16)"
      ]
     },
     "execution_count": 50,
     "metadata": {},
     "output_type": "execute_result"
    }
   ],
   "source": [
    "master_frame.shape"
   ]
  },
  {
   "cell_type": "code",
   "execution_count": 51,
   "metadata": {},
   "outputs": [
    {
     "data": {
      "text/html": [
       "<div>\n",
       "<style scoped>\n",
       "    .dataframe tbody tr th:only-of-type {\n",
       "        vertical-align: middle;\n",
       "    }\n",
       "\n",
       "    .dataframe tbody tr th {\n",
       "        vertical-align: top;\n",
       "    }\n",
       "\n",
       "    .dataframe thead th {\n",
       "        text-align: right;\n",
       "    }\n",
       "</style>\n",
       "<table border=\"1\" class=\"dataframe\">\n",
       "  <thead>\n",
       "    <tr style=\"text-align: right;\">\n",
       "      <th></th>\n",
       "      <th>permalink</th>\n",
       "      <th>name</th>\n",
       "      <th>homepage_url</th>\n",
       "      <th>category_list</th>\n",
       "      <th>status</th>\n",
       "      <th>country_code</th>\n",
       "      <th>state_code</th>\n",
       "      <th>region</th>\n",
       "      <th>city</th>\n",
       "      <th>founded_at</th>\n",
       "      <th>company_permalink</th>\n",
       "      <th>funding_round_permalink</th>\n",
       "      <th>funding_round_type</th>\n",
       "      <th>funding_round_code</th>\n",
       "      <th>funded_at</th>\n",
       "      <th>raised_amount_usd</th>\n",
       "    </tr>\n",
       "  </thead>\n",
       "  <tbody>\n",
       "    <tr>\n",
       "      <th>0</th>\n",
       "      <td>fame</td>\n",
       "      <td>#fame</td>\n",
       "      <td>http://livfame.com</td>\n",
       "      <td>Media</td>\n",
       "      <td>operating</td>\n",
       "      <td>IND</td>\n",
       "      <td>16</td>\n",
       "      <td>Mumbai</td>\n",
       "      <td>Mumbai</td>\n",
       "      <td>NaN</td>\n",
       "      <td>fame</td>\n",
       "      <td>/funding-round/9a01d05418af9f794eebff7ace91f638</td>\n",
       "      <td>venture</td>\n",
       "      <td>B</td>\n",
       "      <td>05-01-2015</td>\n",
       "      <td>10000000.0</td>\n",
       "    </tr>\n",
       "    <tr>\n",
       "      <th>1</th>\n",
       "      <td>qounter</td>\n",
       "      <td>:Qounter</td>\n",
       "      <td>http://www.qounter.com</td>\n",
       "      <td>Application Platforms|Real Time|Social Network...</td>\n",
       "      <td>operating</td>\n",
       "      <td>USA</td>\n",
       "      <td>DE</td>\n",
       "      <td>DE - Other</td>\n",
       "      <td>Delaware City</td>\n",
       "      <td>04-09-2014</td>\n",
       "      <td>qounter</td>\n",
       "      <td>/funding-round/22dacff496eb7acb2b901dec1dfe5633</td>\n",
       "      <td>venture</td>\n",
       "      <td>A</td>\n",
       "      <td>14-10-2014</td>\n",
       "      <td>NaN</td>\n",
       "    </tr>\n",
       "    <tr>\n",
       "      <th>2</th>\n",
       "      <td>qounter</td>\n",
       "      <td>:Qounter</td>\n",
       "      <td>http://www.qounter.com</td>\n",
       "      <td>Application Platforms|Real Time|Social Network...</td>\n",
       "      <td>operating</td>\n",
       "      <td>USA</td>\n",
       "      <td>DE</td>\n",
       "      <td>DE - Other</td>\n",
       "      <td>Delaware City</td>\n",
       "      <td>04-09-2014</td>\n",
       "      <td>qounter</td>\n",
       "      <td>/funding-round/b44fbb94153f6cdef13083530bb48030</td>\n",
       "      <td>seed</td>\n",
       "      <td>NaN</td>\n",
       "      <td>01-03-2014</td>\n",
       "      <td>700000.0</td>\n",
       "    </tr>\n",
       "  </tbody>\n",
       "</table>\n",
       "</div>"
      ],
      "text/plain": [
       "  permalink      name            homepage_url  \\\n",
       "0      fame     #fame      http://livfame.com   \n",
       "1   qounter  :Qounter  http://www.qounter.com   \n",
       "2   qounter  :Qounter  http://www.qounter.com   \n",
       "\n",
       "                                       category_list     status country_code  \\\n",
       "0                                              Media  operating          IND   \n",
       "1  Application Platforms|Real Time|Social Network...  operating          USA   \n",
       "2  Application Platforms|Real Time|Social Network...  operating          USA   \n",
       "\n",
       "  state_code      region           city  founded_at company_permalink  \\\n",
       "0         16      Mumbai         Mumbai         NaN              fame   \n",
       "1         DE  DE - Other  Delaware City  04-09-2014           qounter   \n",
       "2         DE  DE - Other  Delaware City  04-09-2014           qounter   \n",
       "\n",
       "                           funding_round_permalink funding_round_type  \\\n",
       "0  /funding-round/9a01d05418af9f794eebff7ace91f638            venture   \n",
       "1  /funding-round/22dacff496eb7acb2b901dec1dfe5633            venture   \n",
       "2  /funding-round/b44fbb94153f6cdef13083530bb48030               seed   \n",
       "\n",
       "  funding_round_code   funded_at  raised_amount_usd  \n",
       "0                  B  05-01-2015         10000000.0  \n",
       "1                  A  14-10-2014                NaN  \n",
       "2                NaN  01-03-2014           700000.0  "
      ]
     },
     "execution_count": 51,
     "metadata": {},
     "output_type": "execute_result"
    }
   ],
   "source": [
    "master_frame.head(3)"
   ]
  },
  {
   "cell_type": "code",
   "execution_count": 52,
   "metadata": {},
   "outputs": [
    {
     "data": {
      "text/plain": [
       "Index(['permalink', 'name', 'homepage_url', 'category_list', 'status',\n",
       "       'country_code', 'state_code', 'region', 'city', 'founded_at',\n",
       "       'company_permalink', 'funding_round_permalink', 'funding_round_type',\n",
       "       'funding_round_code', 'funded_at', 'raised_amount_usd'],\n",
       "      dtype='object')"
      ]
     },
     "execution_count": 52,
     "metadata": {},
     "output_type": "execute_result"
    }
   ],
   "source": [
    "master_frame.columns"
   ]
  },
  {
   "cell_type": "code",
   "execution_count": 53,
   "metadata": {},
   "outputs": [
    {
     "name": "stdout",
     "output_type": "stream",
     "text": [
      "<class 'pandas.core.frame.DataFrame'>\n",
      "Int64Index: 114942 entries, 0 to 114941\n",
      "Data columns (total 16 columns):\n",
      " #   Column                   Non-Null Count   Dtype  \n",
      "---  ------                   --------------   -----  \n",
      " 0   permalink                114942 non-null  object \n",
      " 1   name                     114942 non-null  object \n",
      " 2   homepage_url             108810 non-null  object \n",
      " 3   category_list            111535 non-null  object \n",
      " 4   status                   114942 non-null  object \n",
      " 5   country_code             106271 non-null  object \n",
      " 6   state_code               104003 non-null  object \n",
      " 7   region                   104782 non-null  object \n",
      " 8   city                     104785 non-null  object \n",
      " 9   founded_at               94422 non-null   object \n",
      " 10  company_permalink        114942 non-null  object \n",
      " 11  funding_round_permalink  114942 non-null  object \n",
      " 12  funding_round_type       114942 non-null  object \n",
      " 13  funding_round_code       31139 non-null   object \n",
      " 14  funded_at                114942 non-null  object \n",
      " 15  raised_amount_usd        94958 non-null   float64\n",
      "dtypes: float64(1), object(15)\n",
      "memory usage: 14.9+ MB\n"
     ]
    }
   ],
   "source": [
    "master_frame.info()"
   ]
  },
  {
   "cell_type": "code",
   "execution_count": 54,
   "metadata": {},
   "outputs": [],
   "source": [
    "master_frame.to_csv('merged.csv',index=False)"
   ]
  },
  {
   "cell_type": "code",
   "execution_count": null,
   "metadata": {},
   "outputs": [],
   "source": []
  }
 ],
 "metadata": {
  "kernelspec": {
   "display_name": "Python 3",
   "language": "python",
   "name": "python3"
  },
  "language_info": {
   "codemirror_mode": {
    "name": "ipython",
    "version": 3
   },
   "file_extension": ".py",
   "mimetype": "text/x-python",
   "name": "python",
   "nbconvert_exporter": "python",
   "pygments_lexer": "ipython3",
   "version": "3.7.4"
  }
 },
 "nbformat": 4,
 "nbformat_minor": 2
}
