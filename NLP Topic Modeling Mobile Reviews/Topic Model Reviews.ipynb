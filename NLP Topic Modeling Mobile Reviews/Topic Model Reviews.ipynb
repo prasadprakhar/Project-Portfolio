{
 "cells": [
  {
   "cell_type": "markdown",
   "metadata": {},
   "source": [
    "## _Assessment Project 1: Topic Modeling based on Reviews_\n",
    "***\n",
    "<b>DESCRIPTION</b>\n",
    "\n",
    "Help a leading mobile brand understand the voice of the customer by analyzing the reviews of their product on Amazon and the topics that customers are talking about. You will perform topic modeling on specific parts of speech. You’ll finally interpret the emerging topics.\n",
    "\n",
    "<b>Problem Statement: </b>\n",
    "\n",
    "A popular mobile phone brand, Lenovo has launched their budget smartphone in the Indian market. The client wants to understand the VOC (voice of the customer) on the product. This will be useful to not just evaluate the current product, but to also get some direction for developing the product pipeline. The client is particularly interested in the different aspects that customers care about. Product reviews by customers on a leading e-commerce site should provide a good view.\n",
    "\n",
    "<b>Domain: Amazon reviews for a leading phone brand</b>\n",
    "\n",
    "- Analysis to be done: POS tagging, topic modeling using LDA, and topic interpretation\n",
    "\n",
    "<b> Content: </b>\n",
    "\n",
    "- Dataset: ‘K8 Reviews v0.2.csv’\n",
    "\n",
    "<b>Columns:</b>\n",
    "- Sentiment: The sentiment against the review (4,5 star reviews are positive, 1,2 are negative)\n",
    "- Reviews: The main text of the review\n",
    "\n",
    "<b>Steps to perform:</b>\n",
    "\n",
    "Discover the topics in the reviews and present it to business in a consumable format. Employ techniques in syntactic processing and topic modeling.\n",
    "Perform specific cleanup, POS tagging, and restricting to relevant POS tags, then, perform topic modeling using LDA. Finally, give business-friendly names to the topics and make a table for business.\n",
    "\n",
    "<b>Tasks: </b>\n",
    "- Read the .csv file using Pandas. Take a look at the top few records.\n",
    "- Normalize casings for the review text and extract the text into a list for easier manipulation.\n",
    "- Tokenize the reviews using NLTKs word_tokenize function.\n",
    "- Perform parts-of-speech tagging on each sentence using the NLTK POS tagger.\n",
    "- For the topic model, we should  want to include only nouns.\n",
    "- Find out all the POS tags that correspond to nouns.\n",
    "- Limit the data to only terms with these tags.\n",
    "- Lemmatize. \n",
    "- Different forms of the terms need to be treated as one.\n",
    "- No need to provide POS tag to lemmatizer for now.\n",
    "- Remove stopwords and punctuation (if there are any). \n",
    "- Create a topic model using LDA on the cleaned up data with 12 topics.\n",
    "- Print out the top terms for each topic.\n",
    "- What is the coherence of the model with the c_v metric?\n",
    "- Analyze the topics through the business lens.\n",
    "- Determine which of the topics can be combined.\n",
    "- Create topic model using LDA with what you think is the optimal number of topics\n",
    "- What is the coherence of the model?\n",
    "- The business should  be able to interpret the topics.\n",
    "- Name each of the identified topics.\n",
    "- Create a table with the topic name and the top 10 terms in each to present to the  business.\n",
    "\n"
   ]
  },
  {
   "cell_type": "markdown",
   "metadata": {},
   "source": [
    "## _Import Libraries and Load the Data_"
   ]
  },
  {
   "cell_type": "code",
   "execution_count": 194,
   "metadata": {},
   "outputs": [],
   "source": [
    "#data manipulation\n",
    "import numpy as np\n",
    "import pandas as pd\n",
    "import tqdm\n",
    "#file and system operations\n",
    "import os\n",
    "import sys\n",
    "assert sys.version_info >= (3,5)\n",
    "#visualization imports\n",
    "import matplotlib.pyplot as plt\n",
    "import seaborn as sns\n",
    "%matplotlib inline\n",
    "#consistent sized plots\n",
    "from pylab import rcParams\n",
    "rcParams['figure.figsize']=12,5\n",
    "rcParams['axes.labelsize']=12\n",
    "rcParams['ytick.labelsize']=12\n",
    "rcParams['xtick.labelsize']=12\n",
    "#handle unwanted warnings \n",
    "import warnings\n",
    "warnings.filterwarnings(action='ignore',category=DeprecationWarning)\n",
    "warnings.filterwarnings(action='ignore',category=FutureWarning)\n",
    "#view all the columns\n",
    "pd.options.display.max_columns = None\n",
    "#basic text manipulation libraries\n",
    "from nltk.tokenize import word_tokenize\n",
    "from nltk.tokenize import sent_tokenize\n",
    "from nltk.corpus import stopwords\n",
    "from nltk.stem import SnowballStemmer\n",
    "from nltk.stem import WordNetLemmatizer"
   ]
  },
  {
   "cell_type": "markdown",
   "metadata": {},
   "source": [
    "### _Load the Reviews Data_"
   ]
  },
  {
   "cell_type": "code",
   "execution_count": 195,
   "metadata": {},
   "outputs": [
    {
     "data": {
      "text/html": [
       "<div>\n",
       "<style scoped>\n",
       "    .dataframe tbody tr th:only-of-type {\n",
       "        vertical-align: middle;\n",
       "    }\n",
       "\n",
       "    .dataframe tbody tr th {\n",
       "        vertical-align: top;\n",
       "    }\n",
       "\n",
       "    .dataframe thead th {\n",
       "        text-align: right;\n",
       "    }\n",
       "</style>\n",
       "<table border=\"1\" class=\"dataframe\">\n",
       "  <thead>\n",
       "    <tr style=\"text-align: right;\">\n",
       "      <th></th>\n",
       "      <th>sentiment</th>\n",
       "      <th>review</th>\n",
       "    </tr>\n",
       "  </thead>\n",
       "  <tbody>\n",
       "    <tr>\n",
       "      <th>0</th>\n",
       "      <td>1</td>\n",
       "      <td>Good but need updates and improvements</td>\n",
       "    </tr>\n",
       "    <tr>\n",
       "      <th>1</th>\n",
       "      <td>0</td>\n",
       "      <td>Worst mobile i have bought ever, Battery is dr...</td>\n",
       "    </tr>\n",
       "    <tr>\n",
       "      <th>2</th>\n",
       "      <td>1</td>\n",
       "      <td>when I will get my 10% cash back.... its alrea...</td>\n",
       "    </tr>\n",
       "  </tbody>\n",
       "</table>\n",
       "</div>"
      ],
      "text/plain": [
       "   sentiment                                             review\n",
       "0          1             Good but need updates and improvements\n",
       "1          0  Worst mobile i have bought ever, Battery is dr...\n",
       "2          1  when I will get my 10% cash back.... its alrea..."
      ]
     },
     "execution_count": 195,
     "metadata": {},
     "output_type": "execute_result"
    }
   ],
   "source": [
    "reviews = pd.read_csv('K8 Reviews v0.2.csv',delimiter=',',engine='python')\n",
    "reviews.head(3)"
   ]
  },
  {
   "cell_type": "code",
   "execution_count": 196,
   "metadata": {},
   "outputs": [
    {
     "data": {
      "text/plain": [
       "14675"
      ]
     },
     "execution_count": 196,
     "metadata": {},
     "output_type": "execute_result"
    }
   ],
   "source": [
    "#check the number of reviews \n",
    "len(reviews)"
   ]
  },
  {
   "cell_type": "code",
   "execution_count": 197,
   "metadata": {},
   "outputs": [
    {
     "name": "stdout",
     "output_type": "stream",
     "text": [
      "<class 'pandas.core.frame.DataFrame'>\n",
      "RangeIndex: 14675 entries, 0 to 14674\n",
      "Data columns (total 2 columns):\n",
      " #   Column     Non-Null Count  Dtype \n",
      "---  ------     --------------  ----- \n",
      " 0   sentiment  14675 non-null  int64 \n",
      " 1   review     14675 non-null  object\n",
      "dtypes: int64(1), object(1)\n",
      "memory usage: 229.4+ KB\n"
     ]
    }
   ],
   "source": [
    "#check the basic info\n",
    "reviews.info()"
   ]
  },
  {
   "cell_type": "markdown",
   "metadata": {},
   "source": [
    "- _There are no null values or missing values in the dataset_"
   ]
  },
  {
   "cell_type": "code",
   "execution_count": 198,
   "metadata": {},
   "outputs": [
    {
     "data": {
      "text/plain": [
       "0    7712\n",
       "1    6963\n",
       "Name: sentiment, dtype: int64"
      ]
     },
     "execution_count": 198,
     "metadata": {},
     "output_type": "execute_result"
    }
   ],
   "source": [
    "#check the sentiment labels\n",
    "reviews['sentiment'].value_counts()"
   ]
  },
  {
   "cell_type": "code",
   "execution_count": 199,
   "metadata": {},
   "outputs": [
    {
     "data": {
      "image/png": "[encoded data removed]",
      "text/plain": [
       "<Figure size 864x360 with 1 Axes>"
      ]
     },
     "metadata": {
      "needs_background": "light"
     },
     "output_type": "display_data"
    }
   ],
   "source": [
    "sns.countplot(reviews['sentiment'])\n",
    "plt.title('Count of the review sentiments')\n",
    "plt.show()"
   ]
  },
  {
   "cell_type": "markdown",
   "metadata": {},
   "source": [
    "- _The data seems to be fairly balanced. However, the objective of this project is to do topic modeling and not sentiment classification_"
   ]
  },
  {
   "cell_type": "code",
   "execution_count": 200,
   "metadata": {},
   "outputs": [
    {
     "name": "stdout",
     "output_type": "stream",
     "text": [
      "This phone camera quality is not good and future is very poor but Betery back up. Is good\n"
     ]
    }
   ],
   "source": [
    "#check randomly any of the reviews\n",
    "random = np.random.randint(1,len(reviews))\n",
    "print(reviews['review'][random])"
   ]
  },
  {
   "cell_type": "markdown",
   "metadata": {},
   "source": [
    "## _Text Preprocessing_\n",
    "_Following steps will be performed_\n",
    "- _Tokenization - Split the text into sentences and sentences into words. Lowercase the words and remove any punctuation_\n",
    "- _Words that are fewer than 3 characters will be removed_\n",
    "- _All stopwords will be removed_\n",
    "- _Words are lemmatized - words in third person are changed to first person and words in future and past tense are changed to present tense_\n",
    "- _Words are stemmed - words are reduced to the root form_"
   ]
  },
  {
   "cell_type": "code",
   "execution_count": 201,
   "metadata": {},
   "outputs": [],
   "source": [
    "#load the gensim library\n",
    "import gensim"
   ]
  },
  {
   "cell_type": "code",
   "execution_count": 202,
   "metadata": {},
   "outputs": [],
   "source": [
    "'''\n",
    "Write a function to proprocess the entire dataset \n",
    "'''\n",
    "stemmer = SnowballStemmer('english')\n",
    "\n",
    "def lemmatize_stemming(text):\n",
    "    '''This function will lemmatize on Noun POS and stem the text'''\n",
    "    return stemmer.stem(WordNetLemmatizer().lemmatize(text,pos='n'))\n",
    "    #return (WordNetLemmatizer().lemmatize(text,pos='n'))\n",
    "\n",
    "#tokenize and lemmatize\n",
    "def preprocess(text):\n",
    "    '''Function to break into word tokens, remove stopwords, remove short words and finally to lemmatize and stem the individual tokens'''\n",
    "    result = []\n",
    "    for token in gensim.utils.simple_preprocess(text):\n",
    "        if token not in gensim.parsing.preprocessing.STOPWORDS and len(token) > 3:\n",
    "            result.append(lemmatize_stemming(token))\n",
    "    return result"
   ]
  },
  {
   "cell_type": "code",
   "execution_count": 203,
   "metadata": {},
   "outputs": [
    {
     "name": "stdout",
     "output_type": "stream",
     "text": [
      "['worst', 'camera', 'seen', 'configur', 'mobil', 'phone', 'better', 'camera', 'resolut', 'batteri', 'drain', 'faster']\n"
     ]
    }
   ],
   "source": [
    "#check for a sample review\n",
    "result = preprocess('The worst camera I have ever seen. Even my very old configuration mobile phone had a better camera resolution. Battery draining faster.')\n",
    "print(result)"
   ]
  },
  {
   "cell_type": "code",
   "execution_count": 204,
   "metadata": {},
   "outputs": [],
   "source": [
    "processed_docs = []\n",
    "\n",
    "#uncomment below line to find the topics for a particular sentiment\n",
    "#reviews = reviews[reviews['sentiment']==1]\n",
    "\n",
    "for doc in reviews['review']:\n",
    "    processed_docs.append(preprocess(doc))"
   ]
  },
  {
   "cell_type": "code",
   "execution_count": 205,
   "metadata": {},
   "outputs": [
    {
     "name": "stdout",
     "output_type": "stream",
     "text": [
      "[['good', 'need', 'updat', 'improv'], ['worst', 'mobil', 'bought', 'batteri', 'drain', 'like', 'hell', 'backup', 'hour', 'internet', 'us', 'mobil', 'idl', 'get', 'discharg', 'biggest', 'amazon', 'lenov', 'expect', 'make', 'say', 'batteri', 'booster', 'charger', 'fake', 'take', 'hour', 'fulli', 'charg', 'know', 'lenovo', 'surviv', 'make', 'regret', 'like'], ['cash', 'januari'], ['good'], ['worst', 'phone', 'everthey', 'chang', 'phone', 'problem', 'amazon', 'return', 'phone', 'high', 'disappoint', 'amazon'], ['tell', 'buyi', 'total', 'batterypoor', 'camerawast', 'money'], ['phone', 'awesom', 'charg', 'heat', 'allot', 'genuin', 'reason', 'hate', 'lenovo', 'note'], ['batteri', 'level', 'worn'], ['hit', 'problem', 'phone', 'hang', 'problem', 'lenovo', 'note', 'servic', 'station', 'ahmedabad', 'year', 'warranti', 'chang', 'phone', 'lenovo'], ['glitch', 'dont', 'thing', 'better', 'option']]\n"
     ]
    }
   ],
   "source": [
    "'''\n",
    "Preview the processed documents\n",
    "'''\n",
    "print(processed_docs[:10])"
   ]
  },
  {
   "cell_type": "markdown",
   "metadata": {},
   "source": [
    "## _Bag of Words on the Dataset_"
   ]
  },
  {
   "cell_type": "code",
   "execution_count": 206,
   "metadata": {},
   "outputs": [],
   "source": [
    "'''\n",
    "Create a dictionary of the words which appear in the entire corpus\n",
    "'''\n",
    "dictionary = gensim.corpora.Dictionary(processed_docs)"
   ]
  },
  {
   "cell_type": "code",
   "execution_count": 207,
   "metadata": {},
   "outputs": [
    {
     "data": {
      "text/plain": [
       "[0, 1, 2, 3, 4, 5, 6, 7, 8, 9]"
      ]
     },
     "execution_count": 207,
     "metadata": {},
     "output_type": "execute_result"
    }
   ],
   "source": [
    "dictionary.keys()[:10]"
   ]
  },
  {
   "cell_type": "code",
   "execution_count": 208,
   "metadata": {},
   "outputs": [
    {
     "name": "stdout",
     "output_type": "stream",
     "text": [
      "0 good\n",
      "1 improv\n",
      "2 need\n",
      "3 updat\n",
      "4 amazon\n",
      "5 backup\n",
      "6 batteri\n",
      "7 biggest\n",
      "8 booster\n",
      "9 bought\n",
      "10 charg\n"
     ]
    }
   ],
   "source": [
    "#print a few words in the dictionary\n",
    "count = 0\n",
    "for k,v in dictionary.iteritems():\n",
    "    print(k,v)\n",
    "    count = count + 1\n",
    "    if count > 10:\n",
    "        break"
   ]
  },
  {
   "cell_type": "markdown",
   "metadata": {},
   "source": [
    "### _Gensim filter extremes_\n",
    "- _Remove or filter the words that appear less than nobelow_\n",
    "- _Remove or filter the words that apepar more than noabove (fraction)_\n",
    "- _After the above two steps keep only the n most frequent tokens or keep all_"
   ]
  },
  {
   "cell_type": "code",
   "execution_count": 209,
   "metadata": {},
   "outputs": [],
   "source": [
    "dictionary.filter_extremes(no_below=5,no_above=0.1,keep_n=None)"
   ]
  },
  {
   "cell_type": "markdown",
   "metadata": {},
   "source": [
    "### _Gensim doc2bow_\n",
    "- _Create a bag of words for each document ie for each document we create a dictionary reporting how many words and how many times those words appear_"
   ]
  },
  {
   "cell_type": "code",
   "execution_count": 210,
   "metadata": {},
   "outputs": [],
   "source": [
    "bow_corpus = [dictionary.doc2bow(doc) for doc in processed_docs]"
   ]
  },
  {
   "cell_type": "code",
   "execution_count": 211,
   "metadata": {},
   "outputs": [
    {
     "data": {
      "text/plain": [
       "[[(57, 1)],\n",
       " [(9, 1), (58, 1), (59, 1)],\n",
       " [(60, 1), (61, 1), (62, 1), (63, 1)],\n",
       " [(29, 1), (35, 2), (59, 1), (61, 1), (64, 1), (65, 1)],\n",
       " [(4, 1), (66, 1), (67, 1), (68, 1), (69, 1)],\n",
       " [(70, 1), (71, 1)],\n",
       " [(72, 1), (73, 1), (74, 1), (75, 1)],\n",
       " [(3, 2),\n",
       "  (7, 1),\n",
       "  (76, 1),\n",
       "  (77, 2),\n",
       "  (78, 1),\n",
       "  (79, 1),\n",
       "  (80, 1),\n",
       "  (81, 1),\n",
       "  (82, 2),\n",
       "  (83, 1),\n",
       "  (84, 2),\n",
       "  (85, 1),\n",
       "  (86, 1)],\n",
       " [(11, 1), (20, 1), (38, 1), (61, 1), (87, 1), (88, 1), (89, 1)],\n",
       " [(90, 1)]]"
      ]
     },
     "execution_count": 211,
     "metadata": {},
     "output_type": "execute_result"
    }
   ],
   "source": [
    "bow_corpus[10:20]"
   ]
  },
  {
   "cell_type": "code",
   "execution_count": 212,
   "metadata": {},
   "outputs": [
    {
     "name": "stdout",
     "output_type": "stream",
     "text": [
      "Word 62 poor appears 1 times\n",
      "Word 136 qualiti appears 1 times\n",
      "Word 462 futur appears 1 times\n"
     ]
    }
   ],
   "source": [
    "document_num = random\n",
    "bow_doc_x = bow_corpus[random]\n",
    "\n",
    "for i in range(len(bow_doc_x)):\n",
    "    print(f'Word {bow_doc_x[i][0]} {dictionary[bow_doc_x[i][0]]} appears {bow_doc_x[i][1]} times')"
   ]
  },
  {
   "cell_type": "markdown",
   "metadata": {},
   "source": [
    "## _Running LDA using Bag of Words_"
   ]
  },
  {
   "cell_type": "code",
   "execution_count": 213,
   "metadata": {},
   "outputs": [],
   "source": [
    "#apply the gensim LDA model and generate 12 topics from the corpus\n",
    "seed = 41\n",
    "lda_model = gensim.models.LdaMulticore(corpus=bow_corpus,num_topics=12,id2word=dictionary,passes=10,workers=2,\n",
    "                                      random_state=seed,minimum_probability=0.05,alpha='symmetric')"
   ]
  },
  {
   "cell_type": "code",
   "execution_count": 214,
   "metadata": {},
   "outputs": [
    {
     "name": "stdout",
     "output_type": "stream",
     "text": [
      "Topic: 0 \n",
      "Words: 0.086*\"great\" + 0.061*\"charger\" + 0.047*\"updat\" + 0.030*\"receiv\" + 0.022*\"turbo\" + 0.020*\"month\" + 0.020*\"look\" + 0.019*\"slow\" + 0.016*\"charg\" + 0.016*\"oreo\" + 0.016*\"till\" + 0.016*\"perform\" + 0.016*\"piec\" + 0.015*\"handset\" + 0.014*\"long\"\n",
      "\n",
      "\n",
      "Topic: 1 \n",
      "Words: 0.151*\"charg\" + 0.054*\"fast\" + 0.050*\"drain\" + 0.045*\"hour\" + 0.035*\"get\" + 0.035*\"time\" + 0.031*\"take\" + 0.025*\"turbo\" + 0.020*\"glass\" + 0.018*\"issu\" + 0.014*\"charger\" + 0.014*\"screen\" + 0.013*\"gorilla\" + 0.010*\"usag\" + 0.010*\"quick\"\n",
      "\n",
      "\n",
      "Topic: 2 \n",
      "Words: 0.080*\"problem\" + 0.078*\"issu\" + 0.040*\"network\" + 0.023*\"replac\" + 0.023*\"updat\" + 0.023*\"face\" + 0.022*\"connect\" + 0.016*\"hang\" + 0.016*\"get\" + 0.016*\"time\" + 0.016*\"softwar\" + 0.015*\"automat\" + 0.014*\"return\" + 0.014*\"month\" + 0.013*\"start\"\n",
      "\n",
      "\n",
      "Topic: 3 \n",
      "Words: 0.053*\"amazon\" + 0.049*\"servic\" + 0.031*\"return\" + 0.030*\"like\" + 0.026*\"day\" + 0.024*\"purchas\" + 0.020*\"custom\" + 0.019*\"devic\" + 0.017*\"replac\" + 0.015*\"worst\" + 0.015*\"center\" + 0.013*\"month\" + 0.013*\"screen\" + 0.011*\"centr\" + 0.010*\"damag\"\n",
      "\n",
      "\n",
      "Topic: 4 \n",
      "Words: 0.034*\"support\" + 0.029*\"note\" + 0.029*\"worth\" + 0.028*\"featur\" + 0.028*\"satisfi\" + 0.023*\"android\" + 0.018*\"volta\" + 0.018*\"card\" + 0.017*\"plus\" + 0.017*\"user\" + 0.016*\"slot\" + 0.014*\"stock\" + 0.012*\"dual\" + 0.012*\"memori\" + 0.012*\"like\"\n",
      "\n",
      "\n",
      "Topic: 5 \n",
      "Words: 0.105*\"problem\" + 0.045*\"expect\" + 0.039*\"screen\" + 0.034*\"speaker\" + 0.034*\"cast\" + 0.031*\"option\" + 0.024*\"avail\" + 0.020*\"featur\" + 0.019*\"like\" + 0.018*\"miss\" + 0.017*\"hang\" + 0.016*\"function\" + 0.015*\"smart\" + 0.011*\"headphon\" + 0.011*\"record\"\n",
      "\n",
      "\n",
      "Topic: 6 \n",
      "Words: 0.101*\"price\" + 0.095*\"best\" + 0.042*\"rang\" + 0.027*\"superb\" + 0.025*\"better\" + 0.025*\"amaz\" + 0.023*\"featur\" + 0.021*\"perform\" + 0.020*\"great\" + 0.017*\"budget\" + 0.016*\"smartphon\" + 0.016*\"game\" + 0.016*\"qualiti\" + 0.013*\"processor\" + 0.012*\"look\"\n",
      "\n",
      "\n",
      "Topic: 7 \n",
      "Words: 0.304*\"nice\" + 0.138*\"awesom\" + 0.073*\"perform\" + 0.046*\"backup\" + 0.032*\"love\" + 0.029*\"overal\" + 0.020*\"featur\" + 0.019*\"issu\" + 0.019*\"smooth\" + 0.014*\"look\" + 0.014*\"littl\" + 0.009*\"quick\" + 0.009*\"heavi\" + 0.007*\"life\" + 0.007*\"handset\"\n",
      "\n",
      "\n",
      "Topic: 8 \n",
      "Words: 0.068*\"note\" + 0.056*\"excel\" + 0.050*\"amazon\" + 0.029*\"dolbi\" + 0.029*\"deliveri\" + 0.028*\"thank\" + 0.016*\"atmo\" + 0.016*\"killer\" + 0.016*\"sound\" + 0.014*\"processor\" + 0.013*\"time\" + 0.013*\"earphon\" + 0.012*\"speaker\" + 0.011*\"experi\" + 0.011*\"deliv\"\n",
      "\n",
      "\n",
      "Topic: 9 \n",
      "Words: 0.031*\"proper\" + 0.028*\"record\" + 0.026*\"video\" + 0.025*\"call\" + 0.022*\"signal\" + 0.019*\"network\" + 0.018*\"issu\" + 0.018*\"play\" + 0.017*\"time\" + 0.016*\"voic\" + 0.013*\"contact\" + 0.013*\"show\" + 0.010*\"connect\" + 0.010*\"game\" + 0.010*\"abl\"\n",
      "\n",
      "\n",
      "Topic: 10 \n",
      "Words: 0.126*\"qualiti\" + 0.091*\"worst\" + 0.079*\"poor\" + 0.073*\"money\" + 0.037*\"wast\" + 0.035*\"super\" + 0.031*\"valu\" + 0.029*\"sound\" + 0.028*\"perform\" + 0.017*\"backup\" + 0.015*\"life\" + 0.014*\"mark\" + 0.012*\"pictur\" + 0.010*\"hang\" + 0.010*\"disappoint\"\n",
      "\n",
      "\n",
      "Topic: 11 \n",
      "Words: 0.032*\"mode\" + 0.025*\"note\" + 0.024*\"dual\" + 0.022*\"depth\" + 0.021*\"averag\" + 0.015*\"better\" + 0.015*\"updat\" + 0.014*\"like\" + 0.012*\"redmi\" + 0.012*\"need\" + 0.011*\"display\" + 0.011*\"light\" + 0.010*\"improv\" + 0.010*\"qualiti\" + 0.009*\"rear\"\n",
      "\n",
      "\n"
     ]
    }
   ],
   "source": [
    "'''\n",
    "For each topic, explore each word and its relative weight in the topic\n",
    "'''\n",
    "\n",
    "for idx,topic in lda_model.print_topics(-1,num_words=15):\n",
    "    print(\"Topic: {} \\nWords: {}\".format(idx, topic ))\n",
    "    print(\"\\n\")\n",
    "    "
   ]
  },
  {
   "cell_type": "code",
   "execution_count": 215,
   "metadata": {},
   "outputs": [
    {
     "name": "stdout",
     "output_type": "stream",
     "text": [
      "\n",
      "Coherence Score: 0.5956962500145727\n"
     ]
    }
   ],
   "source": [
    "#import Coherence model from gensim\n",
    "from gensim.models import CoherenceModel\n",
    "#compute coherence score\n",
    "lda_model_coherence = CoherenceModel(model=lda_model,texts=processed_docs,dictionary=dictionary,\n",
    "                                    coherence='c_v')\n",
    "coherence_lda = lda_model_coherence.get_coherence()\n",
    "print('\\nCoherence Score:',coherence_lda)"
   ]
  },
  {
   "cell_type": "markdown",
   "metadata": {},
   "source": [
    "## _Hyperparameter Tuning_\n",
    "- _Number of topics K_\n",
    "- _Dirichlet hyperparamater alpha: Document Topic Density_\n",
    "- _Dirichlet hyperparameter beta: Word-Topic Density_"
   ]
  },
  {
   "cell_type": "code",
   "execution_count": 216,
   "metadata": {},
   "outputs": [],
   "source": [
    "#define a helper function\n",
    "def compute_coherence_score(corpus,dictionary,k,a):\n",
    "    #instantiate the model instance based on k,a and b\n",
    "    lda_model = gensim.models.LdaMulticore(corpus=corpus,id2word=dictionary,num_topics=k,alpha=a,\n",
    "                                           passes=10,\n",
    "                                           random_state=seed)\n",
    "    lda_model_coherence = CoherenceModel(model=lda_model,texts=processed_docs,dictionary=dictionary,coherence='c_v')\n",
    "    return lda_model_coherence.get_coherence()\n",
    "    "
   ]
  },
  {
   "cell_type": "code",
   "execution_count": 217,
   "metadata": {},
   "outputs": [
    {
     "name": "stdout",
     "output_type": "stream",
     "text": [
      "Coherence Model with alpha = symmetric\n",
      "-------------------------------------------\n",
      "\n",
      "\n",
      "Coherence score with 2 topics is 0.5104540493286449\n",
      "Coherence score with 3 topics is 0.5523686823594028\n",
      "Coherence score with 4 topics is 0.5631283457544272\n",
      "Coherence score with 5 topics is 0.5739017322513866\n",
      "Coherence score with 6 topics is 0.5854495218097283\n",
      "Coherence score with 7 topics is 0.5949233711008525\n",
      "Coherence score with 8 topics is 0.5999676864818295\n",
      "Coherence score with 9 topics is 0.5850068924671725\n",
      "Coherence score with 10 topics is 0.5967334527088932\n",
      "Coherence score with 11 topics is 0.5887312070795201\n",
      "Coherence score with 12 topics is 0.5946457590662635\n",
      "Coherence score with 13 topics is 0.5719915391713065\n",
      "Coherence score with 14 topics is 0.5719382977251052\n",
      "Coherence Model with alpha = asymmetric\n",
      "-------------------------------------------\n",
      "\n",
      "\n",
      "Coherence score with 2 topics is 0.5177711672161849\n",
      "Coherence score with 3 topics is 0.5674425584404149\n",
      "Coherence score with 4 topics is 0.5671120437810087\n",
      "Coherence score with 5 topics is 0.6118633455486073\n",
      "Coherence score with 6 topics is 0.6028733226571278\n",
      "Coherence score with 7 topics is 0.6262646522612874\n",
      "Coherence score with 8 topics is 0.6240107787716245\n",
      "Coherence score with 9 topics is 0.6360564602748234\n",
      "Coherence score with 10 topics is 0.5911654264294028\n",
      "Coherence score with 11 topics is 0.6133266557717373\n",
      "Coherence score with 12 topics is 0.6501786113960784\n",
      "Coherence score with 13 topics is 0.5974860498607605\n",
      "Coherence score with 14 topics is 0.6052753716177467\n"
     ]
    }
   ],
   "source": [
    "#search for the best alpha and the number of topics --> one with the highest coherence score will be the best hyperparameter\n",
    "alpha =['symmetric','asymmetric']\n",
    "\n",
    "for x in alpha:\n",
    "    print('Coherence Model with alpha = {}'.format(x))\n",
    "    print('-------------------------------------------')\n",
    "    print('\\n')\n",
    "    for i in range(2,15):\n",
    "        score = compute_coherence_score(corpus=bow_corpus,dictionary=dictionary,k=i,a=x)        \n",
    "        print(f'Coherence score with {i} topics is {score}')"
   ]
  },
  {
   "cell_type": "code",
   "execution_count": 218,
   "metadata": {},
   "outputs": [],
   "source": [
    "'''\n",
    "Though the model with alpha='asymmetric' and with 12 topics returned the highest coherence score. For the business use and simplicity, max topics of 7\n",
    "and alpha='asymmetric' as the final model. This also returned a comparable coherence score of 0.6262\n",
    "'''\n",
    "lda_model_final = gensim.models.LdaMulticore(corpus=bow_corpus,num_topics=7,id2word=dictionary,passes=10,workers=2,alpha='asymmetric')"
   ]
  },
  {
   "cell_type": "code",
   "execution_count": 219,
   "metadata": {},
   "outputs": [
    {
     "name": "stdout",
     "output_type": "stream",
     "text": [
      "[(0,\n",
      "  '0.058*\"nice\" + 0.038*\"perform\" + 0.036*\"price\" + 0.036*\"best\" + '\n",
      "  '0.029*\"awesom\" + 0.026*\"qualiti\" + 0.026*\"great\" + 0.020*\"featur\" + '\n",
      "  '0.018*\"better\" + 0.016*\"rang\"'),\n",
      " (1,\n",
      "  '0.042*\"screen\" + 0.028*\"excel\" + 0.024*\"month\" + 0.024*\"day\" + '\n",
      "  '0.019*\"purchas\" + 0.019*\"fine\" + 0.015*\"issu\" + 0.012*\"start\" + '\n",
      "  '0.011*\"bought\" + 0.010*\"superb\"'),\n",
      " (2,\n",
      "  '0.105*\"charg\" + 0.041*\"drain\" + 0.039*\"fast\" + 0.030*\"hour\" + 0.030*\"get\" + '\n",
      "  '0.027*\"issu\" + 0.026*\"charger\" + 0.023*\"turbo\" + 0.023*\"time\" + '\n",
      "  '0.022*\"take\"'),\n",
      " (3,\n",
      "  '0.163*\"problem\" + 0.043*\"wast\" + 0.035*\"money\" + 0.026*\"hang\" + '\n",
      "  '0.021*\"face\" + 0.021*\"issu\" + 0.018*\"note\" + 0.018*\"receiv\" + 0.018*\"time\" '\n",
      "  '+ 0.017*\"handset\"'),\n",
      " (4,\n",
      "  '0.034*\"poor\" + 0.033*\"qualiti\" + 0.026*\"updat\" + 0.015*\"mode\" + '\n",
      "  '0.015*\"sound\" + 0.014*\"video\" + 0.013*\"softwar\" + 0.013*\"speaker\" + '\n",
      "  '0.013*\"like\" + 0.012*\"light\"'),\n",
      " (5,\n",
      "  '0.084*\"worst\" + 0.076*\"amazon\" + 0.044*\"servic\" + 0.033*\"return\" + '\n",
      "  '0.032*\"replac\" + 0.021*\"custom\" + 0.014*\"experi\" + 0.014*\"issu\" + '\n",
      "  '0.012*\"care\" + 0.012*\"refund\"'),\n",
      " (6,\n",
      "  '0.050*\"network\" + 0.050*\"note\" + 0.036*\"connect\" + 0.032*\"issu\" + '\n",
      "  '0.025*\"support\" + 0.020*\"record\" + 0.019*\"option\" + 0.018*\"signal\" + '\n",
      "  '0.018*\"bluetooth\" + 0.017*\"call\"')]\n"
     ]
    }
   ],
   "source": [
    "from pprint import pprint\n",
    "# Print the Keyword in the 7 topics\n",
    "pprint(lda_model_final.print_topics())\n",
    "doc_lda = lda_model_final[bow_corpus]"
   ]
  },
  {
   "cell_type": "markdown",
   "metadata": {},
   "source": [
    "## _Visualize the topics_"
   ]
  },
  {
   "cell_type": "code",
   "execution_count": 221,
   "metadata": {},
   "outputs": [
    {
     "data": {
      "text/html": [
       "\n",
       "<link rel=\"stylesheet\" type=\"text/css\" href=\"https://cdn.rawgit.com/bmabey/pyLDAvis/files/ldavis.v1.0.0.css\">\n",
       "\n",
       "\n",
       "<div id=\"ldavis_el1031398113482760486095027646\"></div>\n",
       "<script type=\"text/javascript\">\n",
       "\n",
       "var ldavis_el1031398113482760486095027646_data = {\"mdsDat\": {\"x\": [-0.2440506997898419, -0.05029202083432639, -0.15644326167802197, 0.06758797096935477, -0.006704908038116087, 0.222854318083401, 0.16704860128755203], \"y\": [0.12336845711954822, 0.11376993354311857, -0.09969809159796003, 0.04576208341578197, -0.2350724150833359, 0.1236228515223263, -0.07175281891947916], \"topics\": [1, 2, 3, 4, 5, 6, 7], \"cluster\": [1, 1, 1, 1, 1, 1, 1], \"Freq\": [24.287073135375977, 17.17890167236328, 16.6146183013916, 12.158487319946289, 10.609597206115723, 10.510102272033691, 8.641229629516602]}, \"tinfo\": {\"Term\": [\"problem\", \"charg\", \"nice\", \"worst\", \"amazon\", \"best\", \"network\", \"drain\", \"price\", \"fast\", \"awesom\", \"servic\", \"screen\", \"perform\", \"wast\", \"connect\", \"great\", \"hour\", \"note\", \"money\", \"excel\", \"return\", \"turbo\", \"charger\", \"replac\", \"poor\", \"qualiti\", \"take\", \"get\", \"month\", \"nice\", \"awesom\", \"best\", \"super\", \"budget\", \"smartphon\", \"decent\", \"class\", \"amaz\", \"great\", \"rang\", \"beauti\", \"segment\", \"deca\", \"mind\", \"awsom\", \"afford\", \"snapdragon\", \"packag\", \"beat\", \"graphic\", \"photographi\", \"categori\", \"outstand\", \"cleariti\", \"fabul\", \"decacor\", \"slim\", \"smooth\", \"rich\", \"price\", \"perform\", \"love\", \"overal\", \"core\", \"processor\", \"look\", \"thank\", \"cool\", \"satisfi\", \"worth\", \"better\", \"happi\", \"selfi\", \"littl\", \"featur\", \"life\", \"qualiti\", \"backup\", \"dual\", \"deliveri\", \"sound\", \"like\", \"note\", \"game\", \"expect\", \"fast\", \"excel\", \"gorilla\", \"turbo\", \"glass\", \"negat\", \"charg\", \"percent\", \"corn\", \"worest\", \"slower\", \"minimum\", \"hour\", \"drain\", \"push\", \"charger\", \"constant\", \"approx\", \"deserv\", \"consumpt\", \"maximum\", \"exhaust\", \"surviv\", \"diya\", \"uniqu\", \"excess\", \"bubbl\", \"world\", \"mila\", \"travel\", \"dri\", \"rough\", \"take\", \"lesser\", \"easili\", \"turbocharg\", \"warm\", \"near\", \"rapid\", \"wrong\", \"standbi\", \"fast\", \"continu\", \"usag\", \"quick\", \"get\", \"stand\", \"fulli\", \"normal\", \"discharg\", \"valu\", \"slow\", \"hold\", \"minut\", \"time\", \"review\", \"game\", \"issu\", \"long\", \"min\", \"heavi\", \"month\", \"money\", \"play\", \"internet\", \"like\", \"updat\", \"backup\", \"hang\", \"day\", \"poor\", \"qualiti\", \"imag\", \"output\", \"ring\", \"crash\", \"print\", \"secur\", \"file\", \"delet\", \"dark\", \"shut\", \"motion\", \"shortcut\", \"button\", \"boot\", \"pixel\", \"tone\", \"vibrat\", \"navig\", \"press\", \"control\", \"player\", \"adjust\", \"gestur\", \"mayb\", \"photo\", \"dial\", \"finger\", \"notif\", \"silent\", \"backlit\", \"key\", \"captur\", \"volum\", \"video\", \"clear\", \"zoom\", \"light\", \"poor\", \"softwar\", \"click\", \"loud\", \"updat\", \"sensor\", \"mode\", \"open\", \"miss\", \"dolbi\", \"depth\", \"music\", \"messag\", \"app\", \"googl\", \"speaker\", \"qualiti\", \"averag\", \"atmo\", \"sound\", \"android\", \"galleri\", \"proper\", \"flash\", \"dual\", \"pictur\", \"display\", \"like\", \"option\", \"featur\", \"time\", \"need\", \"screen\", \"issu\", \"fone\", \"cash\", \"paid\", \"describ\", \"offer\", \"advanc\", \"reboot\", \"guess\", \"stylish\", \"discount\", \"tray\", \"clean\", \"generat\", \"form\", \"tooth\", \"blue\", \"sort\", \"height\", \"suppos\", \"kharab\", \"asap\", \"prize\", \"feedback\", \"heavili\", \"websit\", \"venom\", \"approach\", \"decis\", \"delic\", \"sept\", \"sudden\", \"fine\", \"mail\", \"guard\", \"launch\", \"dead\", \"excel\", \"screen\", \"exchang\", \"till\", \"date\", \"meet\", \"day\", \"broken\", \"month\", \"start\", \"purchas\", \"team\", \"kind\", \"superb\", \"damag\", \"happen\", \"bought\", \"item\", \"model\", \"soon\", \"need\", \"cast\", \"want\", \"help\", \"think\", \"return\", \"stop\", \"issu\", \"receiv\", \"mark\", \"featur\", \"amazon\", \"time\", \"avail\", \"note\", \"hang\", \"expect\", \"like\", \"connect\", \"volta\", \"voic\", \"rington\", \"cabl\", \"bluetooth\", \"facil\", \"incom\", \"hotspot\", \"disconnect\", \"bakwa\", \"caller\", \"wifi\", \"fluctuat\", \"airtel\", \"song\", \"network\", \"laptop\", \"wireless\", \"folder\", \"theme\", \"outgo\", \"china\", \"track\", \"spot\", \"catch\", \"group\", \"enter\", \"reciv\", \"distort\", \"signal\", \"strength\", \"recept\", \"inbuilt\", \"support\", \"record\", \"vibe\", \"call\", \"cast\", \"note\", \"option\", \"data\", \"slot\", \"issu\", \"expect\", \"major\", \"avail\", \"smart\", \"devic\", \"compar\", \"screen\", \"problem\", \"featur\", \"provid\", \"proper\", \"like\", \"better\", \"get\", \"show\", \"centr\", \"nahi\", \"bahut\", \"seller\", \"bekar\", \"ask\", \"wastag\", \"hota\", \"raha\", \"ghatiya\", \"west\", \"damn\", \"technician\", \"hone\", \"fraud\", \"kiya\", \"refund\", \"mobail\", \"lena\", \"camra\", \"extraordinari\", \"promot\", \"abhi\", \"mujh\", \"agre\", \"karta\", \"jyada\", \"agar\", \"truli\", \"kabhi\", \"worst\", \"care\", \"repair\", \"servic\", \"polici\", \"seen\", \"amazon\", \"replac\", \"custom\", \"visit\", \"center\", \"return\", \"told\", \"check\", \"dont\", \"cheat\", \"request\", \"sale\", \"experi\", \"said\", \"defect\", \"pathet\", \"onlin\", \"sell\", \"purchas\", \"want\", \"issu\", \"peopl\", \"devic\", \"total\", \"day\", \"time\", \"money\", \"qualiti\", \"month\", \"poor\", \"solv\", \"overh\", \"wrost\", \"hit\", \"camara\", \"mera\", \"alarm\", \"goodbut\", \"step\", \"bettri\", \"gaya\", \"imei\", \"wasool\", \"trap\", \"problam\", \"bilkul\", \"peac\", \"fetur\", \"earn\", \"vodafon\", \"guarante\", \"deni\", \"verri\", \"divic\", \"wast\", \"piec\", \"keypad\", \"basi\", \"alot\", \"bend\", \"problem\", \"suppli\", \"occur\", \"face\", \"handset\", \"jack\", \"lenova\", \"money\", \"paisa\", \"hang\", \"star\", \"receiv\", \"faulti\", \"defect\", \"friend\", \"headphon\", \"suggest\", \"send\", \"switch\", \"earphon\", \"resolv\", \"automat\", \"small\", \"dont\", \"total\", \"time\", \"issu\", \"note\", \"restart\", \"poor\", \"purchas\", \"proper\", \"like\", \"worth\", \"backup\", \"display\"], \"Freq\": [1615.0, 1864.0, 1414.0, 958.0, 966.0, 867.0, 556.0, 747.0, 929.0, 865.0, 708.0, 521.0, 795.0, 1020.0, 411.0, 378.0, 632.0, 543.0, 1361.0, 655.0, 506.0, 528.0, 404.0, 485.0, 407.0, 847.0, 1399.0, 438.0, 720.0, 555.0, 1413.454833984375, 707.3760375976562, 865.8668212890625, 262.6180419921875, 179.99940490722656, 160.3157958984375, 106.17683410644531, 70.85911560058594, 271.4362487792969, 620.3368530273438, 378.9270324707031, 32.68482208251953, 46.465110778808594, 84.90738677978516, 28.303951263427734, 26.708866119384766, 24.37040138244629, 23.673898696899414, 60.78538513183594, 22.68165397644043, 29.070669174194336, 22.00348472595215, 19.622066497802734, 17.792686462402344, 17.257646560668945, 17.104938507080078, 18.525957107543945, 15.699213027954102, 160.68057250976562, 14.321858406066895, 869.8263549804688, 928.2146606445312, 251.74668884277344, 314.80633544921875, 115.15281677246094, 276.31085205078125, 351.680419921875, 173.06805419921875, 82.47561645507812, 207.8845977783203, 227.51341247558594, 442.09014892578125, 127.50870513916016, 96.58670043945312, 139.6030731201172, 495.0099182128906, 215.05419921875, 636.1837768554688, 349.40155029296875, 240.66598510742188, 150.55467224121094, 230.0251007080078, 317.9655456542969, 343.1092224121094, 174.73605346679688, 168.85223388671875, 184.55113220214844, 166.07513427734375, 145.9805908203125, 401.8649597167969, 227.0244903564453, 32.56673812866211, 1801.0428466796875, 24.23746681213379, 18.577062606811523, 16.94070053100586, 15.504841804504395, 24.013412475585938, 514.7136840820312, 702.9342651367188, 12.948654174804688, 452.640380859375, 11.990835189819336, 13.939138412475586, 11.54838752746582, 11.112998962402344, 21.301645278930664, 10.49476432800293, 9.15999698638916, 9.266812324523926, 9.06502914428711, 8.995636940002441, 8.942633628845215, 20.056474685668945, 8.64441204071045, 10.722899436950684, 8.077213287353516, 8.007977485656738, 385.5762634277344, 11.365636825561523, 43.1140251159668, 31.207326889038086, 67.30622100830078, 41.280513763427734, 26.524736404418945, 32.82217025756836, 40.502132415771484, 667.5844116210938, 70.86030578613281, 228.6144561767578, 194.73841857910156, 513.8046875, 38.967620849609375, 95.24107360839844, 169.0243377685547, 70.70087432861328, 155.04519653320312, 164.1288604736328, 52.75249099731445, 76.5842056274414, 392.72540283203125, 127.9738998413086, 174.35801696777344, 470.968017578125, 90.620361328125, 57.16546630859375, 103.03416442871094, 178.71983337402344, 174.02325439453125, 106.27640533447266, 77.4608154296875, 163.25099182128906, 143.66036987304688, 133.2671356201172, 121.61573028564453, 107.76448059082031, 117.6419448852539, 116.34616088867188, 118.10089111328125, 36.492530822753906, 32.53396987915039, 32.27602767944336, 59.59803009033203, 27.305099487304688, 35.47646713256836, 22.77430534362793, 22.049118041992188, 21.349136352539062, 20.671512603759766, 20.36505699157715, 119.20952606201172, 24.507400512695312, 19.691781997680664, 19.349079132080078, 18.870241165161133, 18.12819480895996, 17.02747344970703, 16.622440338134766, 52.68098831176758, 15.602256774902344, 14.741226196289062, 16.45400619506836, 194.4781951904297, 14.231979370117188, 75.3416519165039, 103.63236999511719, 12.490839004516602, 12.383955001831055, 36.38790512084961, 55.02650833129883, 97.00439453125, 239.49557495117188, 85.7784652709961, 31.04005241394043, 201.12437438964844, 561.1494140625, 223.4662628173828, 36.76994705200195, 40.131534576416016, 426.39654541015625, 98.18746185302734, 252.00424194335938, 103.09864807128906, 168.10072326660156, 177.82313537597656, 174.30140686035156, 162.58468627929688, 69.84476470947266, 161.7050018310547, 74.97264099121094, 212.4751739501953, 541.1532592773438, 178.62342834472656, 96.61310577392578, 240.47727966308594, 162.2521209716797, 83.07466888427734, 184.4778594970703, 102.2302474975586, 192.1034393310547, 102.96749114990234, 154.87982177734375, 207.69998168945312, 142.6754608154297, 177.18031311035156, 183.687255859375, 128.20640563964844, 135.2546844482422, 137.64051818847656, 38.01675033569336, 35.6533088684082, 34.3447151184082, 29.1090145111084, 84.91529846191406, 24.51544952392578, 30.60512924194336, 24.408536911010742, 20.423709869384766, 20.351619720458984, 19.24710464477539, 21.45336151123047, 17.181991577148438, 15.487027168273926, 14.563227653503418, 22.0532169342041, 14.187463760375977, 14.06265640258789, 22.149168014526367, 13.412323951721191, 13.438000679016113, 13.492349624633789, 15.52061939239502, 11.953194618225098, 11.263906478881836, 29.224964141845703, 11.028264999389648, 21.278411865234375, 10.871814727783203, 10.541383743286133, 60.69954299926758, 226.65550231933594, 34.61013412475586, 27.096025466918945, 39.419288635253906, 36.09734344482422, 339.5024719238281, 507.82427978515625, 49.358978271484375, 104.9166259765625, 56.37881088256836, 37.760223388671875, 289.4422607421875, 54.985626220703125, 290.91534423828125, 139.7512664794922, 229.34539794921875, 46.58689498901367, 60.979400634765625, 127.25716400146484, 61.35171890258789, 51.083255767822266, 128.29580688476562, 53.00318908691406, 78.29608917236328, 56.76835250854492, 117.41619873046875, 99.05916595458984, 109.40194702148438, 75.98283386230469, 83.05625915527344, 122.03125, 66.33511352539062, 184.94851684570312, 91.2382583618164, 77.0318832397461, 119.37320709228516, 120.7393569946289, 99.45047760009766, 69.8052749633789, 89.30005645751953, 74.3050537109375, 72.13091278076172, 76.79684448242188, 376.67694091796875, 166.12289428710938, 115.894287109375, 56.70210266113281, 54.97312927246094, 186.86700439453125, 50.04745864868164, 42.71518325805664, 49.2577018737793, 32.38570022583008, 29.72249984741211, 27.916738510131836, 133.81365966796875, 27.273235321044922, 24.650043487548828, 26.624452590942383, 534.7476196289062, 20.816720962524414, 16.02532386779785, 13.572787284851074, 13.796832084655762, 12.397700309753418, 22.74431610107422, 11.502236366271973, 14.413534164428711, 17.976680755615234, 10.388687133789062, 9.4866361618042, 8.619763374328613, 8.403109550476074, 188.44390869140625, 38.321807861328125, 34.40779113769531, 39.118446350097656, 260.14520263671875, 210.86463928222656, 45.31940460205078, 185.0246124267578, 156.17234802246094, 531.676513671875, 199.4797821044922, 102.89246368408203, 73.9959716796875, 335.57965087890625, 146.92140197753906, 51.2337646484375, 90.45781707763672, 66.23825073242188, 106.8125991821289, 80.83857727050781, 115.43510437011719, 147.55917358398438, 118.98133087158203, 68.09839630126953, 78.95720672607422, 92.0030288696289, 79.70433044433594, 74.22210693359375, 61.52791976928711, 100.0439453125, 63.077152252197266, 42.0777473449707, 45.30152893066406, 32.65656280517578, 56.91074752807617, 22.698318481445312, 26.460708618164062, 30.576860427856445, 18.600542068481445, 17.126222610473633, 16.38184928894043, 25.468597412109375, 15.794727325439453, 14.732428550720215, 14.435805320739746, 125.63568878173828, 13.099010467529297, 12.770417213439941, 12.666502952575684, 12.59400749206543, 11.743005752563477, 12.361862182617188, 11.319786071777344, 11.005316734313965, 10.591632843017578, 10.466487884521484, 10.808682441711426, 12.000432014465332, 9.774374008178711, 876.3043823242188, 126.50770568847656, 37.011390686035156, 457.0591735839844, 76.09190368652344, 73.34505462646484, 800.9974365234375, 337.8678283691406, 215.99517822265625, 42.81097412109375, 110.74058532714844, 351.1444396972656, 31.042835235595703, 83.0526351928711, 118.3198013305664, 61.50616455078125, 63.251102447509766, 52.462257385253906, 150.92454528808594, 51.115875244140625, 78.81915283203125, 50.12746810913086, 44.34711456298828, 41.07386016845703, 100.38903045654297, 81.79558563232422, 149.35423278808594, 52.189212799072266, 80.40764617919922, 58.239627838134766, 72.05946350097656, 79.5837631225586, 72.24334716796875, 61.80863952636719, 57.82716751098633, 58.40378189086914, 75.05392456054688, 58.450801849365234, 34.77496337890625, 36.972511291503906, 26.093509674072266, 18.03632354736328, 20.790307998657227, 13.74328327178955, 13.178848266601562, 11.906132698059082, 11.600447654724121, 11.113643646240234, 10.956391334533691, 10.123053550720215, 9.775630950927734, 10.81131649017334, 9.692536354064941, 9.295963287353516, 9.295639991760254, 9.309176445007324, 8.753915786743164, 8.392521858215332, 8.324406623840332, 7.730137825012207, 368.8121032714844, 102.79771423339844, 6.957118988037109, 6.950204372406006, 17.88003158569336, 6.617577075958252, 1404.4271240234375, 19.640148162841797, 27.149314880371094, 181.4195556640625, 150.82958984375, 38.67041015625, 36.90435791015625, 305.3815002441406, 23.80512237548828, 222.02523803710938, 98.14820861816406, 156.00160217285156, 39.99110794067383, 84.52043151855469, 64.05387878417969, 81.38844299316406, 85.49537658691406, 43.22770690917969, 85.99333190917969, 72.84977722167969, 36.719482421875, 67.99610137939453, 35.68583679199219, 68.19241333007812, 61.650054931640625, 151.2874755859375, 179.77867126464844, 158.25885009765625, 53.06979751586914, 95.7698974609375, 72.41991424560547, 62.146881103515625, 73.88809204101562, 55.01520919799805, 55.96411895751953, 53.40657424926758], \"Total\": [1615.0, 1864.0, 1414.0, 958.0, 966.0, 867.0, 556.0, 747.0, 929.0, 865.0, 708.0, 521.0, 795.0, 1020.0, 411.0, 378.0, 632.0, 543.0, 1361.0, 655.0, 506.0, 528.0, 404.0, 485.0, 407.0, 847.0, 1399.0, 438.0, 720.0, 555.0, 1414.3463134765625, 708.2568359375, 867.0776977539062, 263.4962463378906, 181.14505004882812, 161.3626708984375, 107.4065170288086, 71.80040740966797, 275.8310546875, 632.8070678710938, 387.052490234375, 33.54804611206055, 47.81165313720703, 87.47840881347656, 29.169795989990234, 27.57158851623535, 25.237905502319336, 24.538135528564453, 63.02694320678711, 23.547256469726562, 30.25423812866211, 22.943796157836914, 20.486183166503906, 18.655048370361328, 18.12074089050293, 17.968181610107422, 19.540510177612305, 16.575347900390625, 170.26092529296875, 15.18620491027832, 929.7268676757812, 1020.2398681640625, 276.47637939453125, 361.0661315917969, 128.48638916015625, 333.9894104003906, 467.6383361816406, 218.97117614746094, 97.26045989990234, 272.2557678222656, 308.6669616699219, 661.6563110351562, 167.6114501953125, 121.36841583251953, 187.0487518310547, 916.9933471679688, 331.07916259765625, 1399.0303955078125, 638.4290161132812, 483.4263000488281, 236.98757934570312, 526.0919189453125, 970.8671875, 1361.135986328125, 379.0368347167969, 443.4513244628906, 865.1712036132812, 506.31768798828125, 146.92811584472656, 404.65740966796875, 231.5583038330078, 33.42913818359375, 1864.66259765625, 25.11711311340332, 19.44260597229004, 17.800426483154297, 16.364229202270508, 25.35260581970215, 543.5236206054688, 747.4481811523438, 13.811504364013672, 485.0690002441406, 12.852778434753418, 14.961371421813965, 12.409649848937988, 11.987496376037598, 22.99735450744629, 11.430935859680176, 10.019789695739746, 10.13812255859375, 9.925812721252441, 9.855550765991211, 9.802520751953125, 22.044906616210938, 9.507600784301758, 11.83862018585205, 8.941449165344238, 8.866923332214355, 438.9141540527344, 12.595287322998047, 48.4415397644043, 34.9906005859375, 77.44803619384766, 47.11854553222656, 29.914533615112305, 37.37343215942383, 46.66163635253906, 865.1712036132812, 83.6802749633789, 292.5353088378906, 252.38613891601562, 720.6019897460938, 46.861385345458984, 130.05686950683594, 251.21279907226562, 93.01280212402344, 240.70233154296875, 261.43267822265625, 71.59237670898438, 119.50247955322266, 1046.048095703125, 235.409912109375, 379.0368347167969, 1580.7474365234375, 159.04737854003906, 82.1290054321289, 218.4999542236328, 555.7989501953125, 655.230224609375, 280.8559265136719, 151.3960418701172, 970.8671875, 712.8146362304688, 638.4290161132812, 481.95355224609375, 518.459228515625, 847.3665161132812, 1399.0303955078125, 119.61736297607422, 37.45086669921875, 33.39419174194336, 33.13842010498047, 61.34291458129883, 28.199684143066406, 36.71296310424805, 23.633682250976562, 22.907752990722656, 22.209775924682617, 21.529821395874023, 21.223215103149414, 124.30416107177734, 25.56243133544922, 20.551958084106445, 20.206953048706055, 19.732553482055664, 19.00210189819336, 17.885587692260742, 17.483402252197266, 55.502559661865234, 16.47367286682129, 15.600082397460938, 17.426494598388672, 206.0885772705078, 15.09538459777832, 80.30915069580078, 110.53694915771484, 13.352938652038574, 13.247090339660645, 39.621849060058594, 60.65361022949219, 110.64392852783203, 295.3831481933594, 99.64131927490234, 34.237396240234375, 260.0277404785156, 847.3665161132812, 309.6374206542969, 42.05049133300781, 46.451114654541016, 712.8146362304688, 130.99337768554688, 399.8166809082031, 140.56564331054688, 253.6934051513672, 276.01263427734375, 272.3226013183594, 252.71080017089844, 91.64856719970703, 258.5025634765625, 101.61469268798828, 392.6617431640625, 1399.0303955078125, 326.0196533203125, 146.82464599609375, 526.0919189453125, 305.1897888183594, 119.06346130371094, 429.2059326171875, 166.5977325439453, 483.4263000488281, 171.6571502685547, 433.7010803222656, 970.8671875, 414.5231018066406, 916.9933471679688, 1046.048095703125, 345.5601806640625, 795.3294067382812, 1580.7474365234375, 38.88760757446289, 36.50021743774414, 35.34439468383789, 29.958194732666016, 87.56301879882812, 25.365140914916992, 31.68436622619629, 25.42428970336914, 21.27459144592285, 21.21230125427246, 20.115497589111328, 22.44474983215332, 18.06251335144043, 16.335006713867188, 15.419102668762207, 23.35173225402832, 15.037307739257812, 14.910567283630371, 23.554651260375977, 14.263961791992188, 14.295265197753906, 14.38674545288086, 16.549924850463867, 12.802111625671387, 12.111729621887207, 31.454486846923828, 11.875848770141602, 22.919681549072266, 11.71854019165039, 11.38979721069336, 66.03932189941406, 255.79310607910156, 39.98216247558594, 30.824363708496094, 46.238800048828125, 42.067237854003906, 506.31768798828125, 795.3294067382812, 63.305118560791016, 152.7000732421875, 74.82328796386719, 46.761512756347656, 518.459228515625, 72.83946990966797, 555.7989501953125, 242.44039916992188, 461.868896484375, 61.8199577331543, 92.43431854248047, 257.4237976074219, 96.52076721191406, 75.10521697998047, 312.05999755859375, 83.04914855957031, 151.5748748779297, 93.20526885986328, 345.5601806640625, 256.3460388183594, 313.57550048828125, 174.93121337890625, 218.77023315429688, 528.6994018554688, 145.7615966796875, 1580.7474365234375, 322.54052734375, 233.5953826904297, 916.9933471679688, 966.7363891601562, 1046.048095703125, 273.2330627441406, 1361.135986328125, 481.95355224609375, 443.4513244628906, 970.8671875, 378.89007568359375, 167.40769958496094, 117.11756134033203, 57.55937194824219, 55.87016677856445, 190.1591339111328, 50.947811126708984, 43.600746154785156, 50.3778076171875, 33.24430465698242, 30.580495834350586, 28.776206970214844, 137.9534454345703, 28.163530349731445, 25.507217407226562, 27.57452964782715, 556.603759765625, 21.675678253173828, 16.89326286315918, 14.432082176208496, 14.741615295410156, 13.254480361938477, 24.451702117919922, 12.36724853515625, 15.521451950073242, 19.422258377075195, 11.245414733886719, 10.346841812133789, 9.479876518249512, 9.294108390808105, 217.0497283935547, 44.4481201171875, 40.28957748413086, 46.41149139404297, 374.4516296386719, 297.8908386230469, 56.76790237426758, 282.86260986328125, 256.3460388183594, 1361.135986328125, 414.5231018066406, 186.81777954101562, 138.40106201171875, 1580.7474365234375, 443.4513244628906, 86.0210189819336, 273.2330627441406, 151.5278778076172, 474.6829528808594, 276.6426086425781, 795.3294067382812, 1615.703369140625, 916.9933471679688, 242.7587890625, 429.2059326171875, 970.8671875, 661.6563110351562, 720.6019897460938, 176.3792266845703, 100.97130584716797, 63.98408508300781, 42.94004821777344, 46.35283660888672, 33.61146926879883, 58.63429641723633, 23.558713912963867, 27.527910232543945, 31.916019439697266, 19.457399368286133, 17.983444213867188, 17.24075698852539, 26.8964900970459, 16.68368148803711, 15.638463020324707, 15.349733352661133, 133.6454315185547, 13.95572566986084, 13.633707046508789, 13.523112297058105, 13.451600074768066, 12.60212230682373, 13.277923583984375, 12.18936538696289, 11.876018524169922, 11.45319652557373, 11.322535514831543, 11.699213981628418, 12.993237495422363, 10.630266189575195, 958.6480712890625, 138.0177459716797, 40.45957946777344, 521.9614868164062, 84.96916961669922, 82.15116119384766, 966.7363891601562, 407.2221374511719, 264.26385498046875, 48.578773498535156, 146.22218322753906, 528.6994018554688, 39.119178771972656, 133.0714569091797, 218.5225372314453, 95.54202270507812, 99.8908462524414, 78.18444061279297, 319.6976013183594, 78.35208892822266, 165.13638305664062, 82.42044067382812, 69.95059204101562, 61.42361068725586, 461.868896484375, 313.57550048828125, 1580.7474365234375, 106.76283264160156, 474.6829528808594, 183.02130126953125, 518.459228515625, 1046.048095703125, 655.230224609375, 1399.0303955078125, 555.7989501953125, 847.3665161132812, 76.0442123413086, 59.312252044677734, 35.63529586791992, 38.016685485839844, 26.95221519470215, 18.893760681152344, 21.93161392211914, 14.609859466552734, 14.03979206085205, 12.76733112335205, 12.459295272827148, 11.982630729675293, 11.813274383544922, 10.982616424560547, 10.638062477111816, 11.765862464904785, 10.552633285522461, 10.153959274291992, 10.154797554016113, 10.170392990112305, 9.614684104919434, 9.253138542175293, 9.181366920471191, 8.587728500366211, 411.09332275390625, 115.30349731445312, 7.819447994232178, 7.814691543579102, 20.127809524536133, 7.475180625915527, 1615.703369140625, 22.446048736572266, 32.16025161743164, 265.42547607421875, 239.43092346191406, 54.0377197265625, 51.982643127441406, 655.230224609375, 31.28874969482422, 481.95355224609375, 181.22598266601562, 322.54052734375, 60.35853576660156, 165.13638305664062, 116.50025939941406, 159.98464965820312, 178.15798950195312, 73.07656860351562, 194.60906982421875, 158.9051513671875, 61.673858642578125, 180.93759155273438, 63.98773193359375, 218.5225372314453, 183.02130126953125, 1046.048095703125, 1580.7474365234375, 1361.135986328125, 139.01527404785156, 847.3665161132812, 461.868896484375, 429.2059326171875, 970.8671875, 308.6669616699219, 638.4290161132812, 433.7010803222656], \"Category\": [\"Default\", \"Default\", \"Default\", \"Default\", \"Default\", \"Default\", \"Default\", \"Default\", \"Default\", \"Default\", \"Default\", \"Default\", \"Default\", \"Default\", \"Default\", \"Default\", \"Default\", \"Default\", \"Default\", \"Default\", \"Default\", \"Default\", \"Default\", \"Default\", \"Default\", \"Default\", \"Default\", \"Default\", \"Default\", \"Default\", \"Topic1\", \"Topic1\", \"Topic1\", \"Topic1\", \"Topic1\", \"Topic1\", \"Topic1\", \"Topic1\", \"Topic1\", \"Topic1\", \"Topic1\", \"Topic1\", \"Topic1\", \"Topic1\", \"Topic1\", \"Topic1\", \"Topic1\", \"Topic1\", \"Topic1\", \"Topic1\", \"Topic1\", \"Topic1\", \"Topic1\", \"Topic1\", \"Topic1\", \"Topic1\", \"Topic1\", \"Topic1\", \"Topic1\", \"Topic1\", \"Topic1\", \"Topic1\", \"Topic1\", \"Topic1\", \"Topic1\", \"Topic1\", \"Topic1\", \"Topic1\", \"Topic1\", \"Topic1\", \"Topic1\", \"Topic1\", \"Topic1\", \"Topic1\", \"Topic1\", \"Topic1\", \"Topic1\", \"Topic1\", \"Topic1\", \"Topic1\", \"Topic1\", \"Topic1\", \"Topic1\", \"Topic1\", \"Topic1\", \"Topic1\", \"Topic1\", \"Topic1\", \"Topic2\", \"Topic2\", \"Topic2\", \"Topic2\", \"Topic2\", \"Topic2\", \"Topic2\", \"Topic2\", \"Topic2\", \"Topic2\", \"Topic2\", \"Topic2\", \"Topic2\", \"Topic2\", \"Topic2\", \"Topic2\", \"Topic2\", \"Topic2\", \"Topic2\", \"Topic2\", \"Topic2\", \"Topic2\", \"Topic2\", \"Topic2\", \"Topic2\", \"Topic2\", \"Topic2\", \"Topic2\", \"Topic2\", \"Topic2\", \"Topic2\", \"Topic2\", \"Topic2\", \"Topic2\", \"Topic2\", \"Topic2\", \"Topic2\", \"Topic2\", \"Topic2\", \"Topic2\", \"Topic2\", \"Topic2\", \"Topic2\", \"Topic2\", \"Topic2\", \"Topic2\", \"Topic2\", \"Topic2\", \"Topic2\", \"Topic2\", \"Topic2\", \"Topic2\", \"Topic2\", \"Topic2\", \"Topic2\", \"Topic2\", \"Topic2\", \"Topic2\", \"Topic2\", \"Topic2\", \"Topic2\", \"Topic2\", \"Topic2\", \"Topic2\", \"Topic2\", \"Topic2\", \"Topic2\", \"Topic2\", \"Topic2\", \"Topic2\", \"Topic3\", \"Topic3\", \"Topic3\", \"Topic3\", \"Topic3\", \"Topic3\", \"Topic3\", \"Topic3\", \"Topic3\", \"Topic3\", \"Topic3\", \"Topic3\", \"Topic3\", \"Topic3\", \"Topic3\", \"Topic3\", \"Topic3\", \"Topic3\", \"Topic3\", \"Topic3\", \"Topic3\", \"Topic3\", \"Topic3\", \"Topic3\", \"Topic3\", \"Topic3\", \"Topic3\", \"Topic3\", \"Topic3\", \"Topic3\", \"Topic3\", \"Topic3\", \"Topic3\", \"Topic3\", \"Topic3\", \"Topic3\", \"Topic3\", \"Topic3\", \"Topic3\", \"Topic3\", \"Topic3\", \"Topic3\", \"Topic3\", \"Topic3\", \"Topic3\", \"Topic3\", \"Topic3\", \"Topic3\", \"Topic3\", \"Topic3\", \"Topic3\", \"Topic3\", \"Topic3\", \"Topic3\", \"Topic3\", \"Topic3\", \"Topic3\", \"Topic3\", \"Topic3\", \"Topic3\", \"Topic3\", \"Topic3\", \"Topic3\", \"Topic3\", \"Topic3\", \"Topic3\", \"Topic3\", \"Topic3\", \"Topic3\", \"Topic3\", \"Topic3\", \"Topic4\", \"Topic4\", \"Topic4\", \"Topic4\", \"Topic4\", \"Topic4\", \"Topic4\", \"Topic4\", \"Topic4\", \"Topic4\", \"Topic4\", \"Topic4\", \"Topic4\", \"Topic4\", \"Topic4\", \"Topic4\", \"Topic4\", \"Topic4\", \"Topic4\", \"Topic4\", \"Topic4\", \"Topic4\", \"Topic4\", \"Topic4\", \"Topic4\", \"Topic4\", \"Topic4\", \"Topic4\", \"Topic4\", \"Topic4\", \"Topic4\", \"Topic4\", \"Topic4\", \"Topic4\", \"Topic4\", \"Topic4\", \"Topic4\", \"Topic4\", \"Topic4\", \"Topic4\", \"Topic4\", \"Topic4\", \"Topic4\", \"Topic4\", \"Topic4\", \"Topic4\", \"Topic4\", \"Topic4\", \"Topic4\", \"Topic4\", \"Topic4\", \"Topic4\", \"Topic4\", \"Topic4\", \"Topic4\", \"Topic4\", \"Topic4\", \"Topic4\", \"Topic4\", \"Topic4\", \"Topic4\", \"Topic4\", \"Topic4\", \"Topic4\", \"Topic4\", \"Topic4\", \"Topic4\", \"Topic4\", \"Topic4\", \"Topic4\", \"Topic4\", \"Topic4\", \"Topic4\", \"Topic4\", \"Topic5\", \"Topic5\", \"Topic5\", \"Topic5\", \"Topic5\", \"Topic5\", \"Topic5\", \"Topic5\", \"Topic5\", \"Topic5\", \"Topic5\", \"Topic5\", \"Topic5\", \"Topic5\", \"Topic5\", \"Topic5\", \"Topic5\", \"Topic5\", \"Topic5\", \"Topic5\", \"Topic5\", \"Topic5\", \"Topic5\", \"Topic5\", \"Topic5\", \"Topic5\", \"Topic5\", \"Topic5\", \"Topic5\", \"Topic5\", \"Topic5\", \"Topic5\", \"Topic5\", \"Topic5\", \"Topic5\", \"Topic5\", \"Topic5\", \"Topic5\", \"Topic5\", \"Topic5\", \"Topic5\", \"Topic5\", \"Topic5\", \"Topic5\", \"Topic5\", \"Topic5\", \"Topic5\", \"Topic5\", \"Topic5\", \"Topic5\", \"Topic5\", \"Topic5\", \"Topic5\", \"Topic5\", \"Topic5\", \"Topic5\", \"Topic5\", \"Topic5\", \"Topic5\", \"Topic6\", \"Topic6\", \"Topic6\", \"Topic6\", \"Topic6\", \"Topic6\", \"Topic6\", \"Topic6\", \"Topic6\", \"Topic6\", \"Topic6\", \"Topic6\", \"Topic6\", \"Topic6\", \"Topic6\", \"Topic6\", \"Topic6\", \"Topic6\", \"Topic6\", \"Topic6\", \"Topic6\", \"Topic6\", \"Topic6\", \"Topic6\", \"Topic6\", \"Topic6\", \"Topic6\", \"Topic6\", \"Topic6\", \"Topic6\", \"Topic6\", \"Topic6\", \"Topic6\", \"Topic6\", \"Topic6\", \"Topic6\", \"Topic6\", \"Topic6\", \"Topic6\", \"Topic6\", \"Topic6\", \"Topic6\", \"Topic6\", \"Topic6\", \"Topic6\", \"Topic6\", \"Topic6\", \"Topic6\", \"Topic6\", \"Topic6\", \"Topic6\", \"Topic6\", \"Topic6\", \"Topic6\", \"Topic6\", \"Topic6\", \"Topic6\", \"Topic6\", \"Topic6\", \"Topic6\", \"Topic6\", \"Topic6\", \"Topic6\", \"Topic6\", \"Topic6\", \"Topic6\", \"Topic7\", \"Topic7\", \"Topic7\", \"Topic7\", \"Topic7\", \"Topic7\", \"Topic7\", \"Topic7\", \"Topic7\", \"Topic7\", \"Topic7\", \"Topic7\", \"Topic7\", \"Topic7\", \"Topic7\", \"Topic7\", \"Topic7\", \"Topic7\", \"Topic7\", \"Topic7\", \"Topic7\", \"Topic7\", \"Topic7\", \"Topic7\", \"Topic7\", \"Topic7\", \"Topic7\", \"Topic7\", \"Topic7\", \"Topic7\", \"Topic7\", \"Topic7\", \"Topic7\", \"Topic7\", \"Topic7\", \"Topic7\", \"Topic7\", \"Topic7\", \"Topic7\", \"Topic7\", \"Topic7\", \"Topic7\", \"Topic7\", \"Topic7\", \"Topic7\", \"Topic7\", \"Topic7\", \"Topic7\", \"Topic7\", \"Topic7\", \"Topic7\", \"Topic7\", \"Topic7\", \"Topic7\", \"Topic7\", \"Topic7\", \"Topic7\", \"Topic7\", \"Topic7\", \"Topic7\", \"Topic7\", \"Topic7\", \"Topic7\", \"Topic7\", \"Topic7\", \"Topic7\"], \"logprob\": [30.0, 29.0, 28.0, 27.0, 26.0, 25.0, 24.0, 23.0, 22.0, 21.0, 20.0, 19.0, 18.0, 17.0, 16.0, 15.0, 14.0, 13.0, 12.0, 11.0, 10.0, 9.0, 8.0, 7.0, 6.0, 5.0, 4.0, 3.0, 2.0, 1.0, -2.8420000076293945, -3.5343000888824463, -3.3320999145507812, -4.525100231170654, -4.902900218963623, -5.018700122833252, -5.430699825286865, -5.835100173950195, -4.492099761962891, -3.665600061416626, -4.1585001945495605, -6.60890007019043, -6.2571001052856445, -5.654300212860107, -6.752799987792969, -6.810800075531006, -6.902500152587891, -6.93149995803833, -5.988500118255615, -6.974299907684326, -6.726099967956543, -7.0046000480651855, -7.119200229644775, -7.2170000076293945, -7.247600078582764, -7.256499767303467, -7.176700115203857, -7.342199802398682, -5.01639986038208, -7.434000015258789, -3.327500104904175, -3.2625999450683594, -4.567399978637695, -4.343900203704834, -5.349599838256836, -4.474299907684326, -4.233099937438965, -4.942200183868408, -5.683300018310547, -4.758900165557861, -4.668600082397461, -4.004300117492676, -5.247700214385986, -5.525400161743164, -5.1570000648498535, -3.8912999629974365, -4.724899768829346, -3.6403000354766846, -4.23960018157959, -4.612400054931641, -5.081500053405762, -4.657599925994873, -4.333899974822998, -4.257800102233887, -4.932600021362305, -4.966800212860107, -4.877900123596191, -4.983399868011475, -4.76609992980957, -3.753499984741211, -4.32450008392334, -6.266300201416016, -2.253499984741211, -6.561699867248535, -6.827600002288818, -6.919899940490723, -7.008399963378906, -6.571000099182129, -3.50600004196167, -3.1942999362945557, -7.188600063323975, -3.634500026702881, -7.265399932861328, -7.1149001121521, -7.302999973297119, -7.3414998054504395, -6.690800189971924, -7.39870023727417, -7.5346999168396, -7.523099899291992, -7.545199871063232, -7.552800178527832, -7.558700084686279, -6.750999927520752, -7.592700004577637, -7.377200126647949, -7.6605000495910645, -7.669099807739258, -3.794800043106079, -7.318999767303467, -5.9857001304626465, -6.308899879455566, -5.540299892425537, -6.029200077056885, -6.471499919891357, -6.258500099182129, -6.0482001304626465, -3.2458999156951904, -5.488900184631348, -4.317500114440918, -4.47790002822876, -3.507699966430664, -6.0868000984191895, -5.19320011138916, -4.619500160217285, -5.491099834442139, -4.705900192260742, -4.648900032043457, -5.783999919891357, -5.411200046539307, -3.7764999866485596, -4.89769983291626, -4.588500022888184, -3.5947999954223633, -5.2428998947143555, -5.70359992980957, -5.114500045776367, -4.563799858093262, -4.590400218963623, -5.083499908447266, -5.399799823760986, -4.654300212860107, -4.782100200653076, -4.8572001457214355, -4.948699951171875, -5.0696001052856445, -4.981900215148926, -4.993000030517578, -4.9446001052856445, -6.119100093841553, -6.23390007019043, -6.2418999671936035, -5.628600120544434, -6.40910005569458, -6.147299766540527, -6.5904998779296875, -6.622900009155273, -6.655200004577637, -6.687399864196777, -6.702400207519531, -4.935299873352051, -6.517199993133545, -6.736000061035156, -6.753499984741211, -6.778600215911865, -6.818699836730957, -6.88129997253418, -6.905399799346924, -5.7519001960754395, -6.968800067901611, -7.0254998207092285, -6.915599822998047, -4.445899963378906, -7.060699939727783, -5.394100189208984, -5.075300216674805, -7.191199779510498, -7.19980001449585, -6.1219000816345215, -5.708399772644043, -5.14139986038208, -4.237599849700928, -5.264400005340576, -6.280900001525879, -4.412300109863281, -3.386199951171875, -4.3069000244140625, -6.111499786376953, -6.02400016784668, -3.660799980163574, -5.129300117492676, -4.186699867248535, -5.08050012588501, -4.591599941253662, -4.535399913787842, -4.5553998947143555, -4.625, -5.469900131225586, -4.63040018081665, -5.399099826812744, -4.357399940490723, -3.422499895095825, -4.530900001525879, -5.145500183105469, -4.233500003814697, -4.626999855041504, -5.29640007019043, -4.498600006103516, -5.088900089263916, -4.458099842071533, -5.0817999839782715, -4.673500061035156, -4.380099773406982, -4.7555999755859375, -4.539000034332275, -4.502900123596191, -4.862500190734863, -4.809000015258789, -4.791500091552734, -5.765900135040283, -5.830100059509277, -5.867499828338623, -6.032899856567383, -4.962299823760986, -6.204599857330322, -5.982800006866455, -6.209000110626221, -6.387199878692627, -6.3907999992370605, -6.446599960327148, -6.3379998207092285, -6.560100078582764, -6.663899898529053, -6.725399971008301, -6.310500144958496, -6.7515997886657715, -6.76039981842041, -6.306099891662598, -6.807700157165527, -6.805799961090088, -6.801799774169922, -6.661799907684326, -6.922900199890137, -6.9822998046875, -6.028900146484375, -7.003499984741211, -6.346199989318848, -7.0177001953125, -7.048600196838379, -5.297999858856201, -3.9804999828338623, -5.859799861907959, -6.104499816894531, -5.729700088500977, -5.817699909210205, -3.5764000415802, -3.173799991607666, -5.504799842834473, -4.750800132751465, -5.371799945831299, -5.77269983291626, -3.7360000610351562, -5.3968000411987305, -3.7309000492095947, -4.464099884033203, -3.9686999320983887, -5.562600135803223, -5.293399810791016, -4.557700157165527, -5.287300109863281, -5.4704999923706055, -4.549600124359131, -5.433599948883057, -5.043399810791016, -5.3649001121521, -4.638199806213379, -4.808199882507324, -4.708899974822998, -5.073400020599365, -4.984399795532227, -4.599599838256836, -5.209199905395508, -4.183800220489502, -4.890399932861328, -5.059700012207031, -4.621699810028076, -4.610300064086914, -4.804299831390381, -5.158199787139893, -4.911900043487549, -5.095699787139893, -5.125400066375732, -5.06279993057251, -3.3362998962402344, -4.154900074005127, -4.514999866485596, -5.229800224304199, -5.260799884796143, -4.037300109863281, -5.354700088500977, -5.5131001472473145, -5.37060022354126, -5.789899826049805, -5.875699996948242, -5.938399791717529, -4.371200084686279, -5.961699962615967, -6.062900066375732, -5.985799789428711, -2.9858999252319336, -6.231900215148926, -6.493500232696533, -6.659599781036377, -6.643199920654297, -6.750100135803223, -6.1433000564575195, -6.825099945068359, -6.5995001792907715, -6.378600120544434, -6.9268999099731445, -7.0177998542785645, -7.11359977722168, -7.138999938964844, -4.028900146484375, -5.621600151062012, -5.729400157928467, -5.601099967956543, -3.706399917602539, -3.9163999557495117, -5.45389986038208, -4.0472002029418945, -4.216700077056885, -2.9916000366210938, -3.97189998626709, -4.633999824523926, -4.963600158691406, -3.4518001079559326, -4.2778000831604, -5.331299781799316, -4.762800216674805, -5.074399948120117, -4.59660005569458, -4.875199794769287, -4.518899917602539, -4.273399829864502, -4.488699913024902, -5.0467000007629395, -4.89870023727417, -4.745800018310547, -4.8892998695373535, -4.960599899291992, -5.148200035095215, -4.652599811553955, -5.113900184631348, -5.518700122833252, -5.444900035858154, -5.772200107574463, -5.216700077056885, -6.135900020599365, -5.982600212097168, -5.8379998207092285, -6.335000038146973, -6.417600154876709, -6.462100028991699, -6.0208001136779785, -6.498600006103516, -6.56820011138916, -6.588500022888184, -4.424799919128418, -6.685699939727783, -6.711100101470947, -6.719299793243408, -6.724999904632568, -6.795000076293945, -6.743599891662598, -6.831699848175049, -6.859899997711182, -6.898200035095215, -6.910099983215332, -6.877900123596191, -6.7733001708984375, -6.978499889373779, -2.4825000762939453, -4.417900085449219, -5.646999835968018, -3.1333999633789062, -4.926300048828125, -4.963099956512451, -2.5724000930786133, -3.4356000423431396, -3.882999897003174, -5.501399993896484, -4.551000118255615, -3.3970000743865967, -5.82289981842041, -4.838799953460693, -4.484799861907959, -5.139100074768066, -5.111100196838379, -5.298099994659424, -4.241399765014648, -5.324100017547607, -4.89109992980957, -5.343699932098389, -5.46619987487793, -5.542900085449219, -4.649199962615967, -4.854000091552734, -4.2519001960754395, -5.303400039672852, -4.871099948883057, -5.193699836730957, -4.9807000160217285, -4.881400108337402, -4.9781999588012695, -5.134200096130371, -5.200799942016602, -5.190800189971924, -4.744200229644775, -4.99429988861084, -5.513500213623047, -5.452300071716309, -5.80079984664917, -6.170000076293945, -6.0279998779296875, -6.44189977645874, -6.483799934387207, -6.585400104522705, -6.611400127410889, -6.654300212860107, -6.668499946594238, -6.747600078582764, -6.78249979019165, -6.68179988861084, -6.791100025177002, -6.832900047302246, -6.832900047302246, -6.831399917602539, -6.892899990081787, -6.935100078582764, -6.94320011138916, -7.017300128936768, -3.1521999835968018, -4.429699897766113, -7.122700214385986, -7.123700141906738, -6.178800106048584, -7.172699928283691, -1.8150999546051025, -6.08489990234375, -5.761099815368652, -3.861599922180176, -4.046299934387207, -5.407400131225586, -5.454100131988525, -3.34089994430542, -5.892499923706055, -3.659600019454956, -4.47599983215332, -4.012599945068359, -5.373799800872803, -4.625400066375732, -4.902699947357178, -4.6631999015808105, -4.613999843597412, -5.296000003814697, -4.6082000732421875, -4.77400016784668, -5.459099769592285, -4.8429999351501465, -5.48769998550415, -4.840099811553955, -4.940999984741211, -4.043300151824951, -3.870699882507324, -3.998199939727783, -5.090799808502197, -4.500500202178955, -4.78000020980835, -4.9328999519348145, -4.759900093078613, -5.054800033569336, -5.037700176239014, -5.084499835968018], \"loglift\": [30.0, 29.0, 28.0, 27.0, 26.0, 25.0, 24.0, 23.0, 22.0, 21.0, 20.0, 19.0, 18.0, 17.0, 16.0, 15.0, 14.0, 13.0, 12.0, 11.0, 10.0, 9.0, 8.0, 7.0, 6.0, 5.0, 4.0, 3.0, 2.0, 1.0, 1.4146000146865845, 1.4140000343322754, 1.4138000011444092, 1.4119000434875488, 1.4089000225067139, 1.4086999893188477, 1.4036999940872192, 1.4019999504089355, 1.3991999626159668, 1.395300030708313, 1.3940000534057617, 1.38919997215271, 1.3867000341415405, 1.3854000568389893, 1.38510000705719, 1.3833999633789062, 1.3802000284194946, 1.3794000148773193, 1.378999948501587, 1.3777999877929688, 1.3753000497817993, 1.3733999729156494, 1.3720999956130981, 1.367900013923645, 1.3664000034332275, 1.3660000562667847, 1.361899971961975, 1.3609000444412231, 1.357300043106079, 1.356600046157837, 1.3486000299453735, 1.3207000494003296, 1.3214999437332153, 1.2781000137329102, 1.3056999444961548, 1.225600004196167, 1.1303000450134277, 1.1799999475479126, 1.2503000497817993, 1.1454999446868896, 1.110200047492981, 1.0119999647140503, 1.141800045967102, 1.1868000030517578, 1.1226999759674072, 0.7986999750137329, 0.9837999939918518, 0.6272000074386597, 0.8123999834060669, 0.7177000045776367, 0.9614999890327454, 0.5878999829292297, 0.29899999499320984, 0.03720000013709068, 0.6409000158309937, 0.4496999979019165, -0.1298000067472458, 0.3005000054836273, 1.7549999952316284, 1.7546000480651855, 1.7417000532150269, 1.7353999614715576, 1.7267999649047852, 1.7258000373840332, 1.71589994430542, 1.7120000123977661, 1.7074999809265137, 1.707200050354004, 1.7070000171661377, 1.7000999450683594, 1.6970000267028809, 1.6922999620437622, 1.6921000480651855, 1.6907000541687012, 1.6895999908447266, 1.6857000589370728, 1.6849000453948975, 1.6759999990463257, 1.6718000173568726, 1.6715999841690063, 1.670799970626831, 1.670199990272522, 1.669700026512146, 1.6670000553131104, 1.6663000583648682, 1.662500023841858, 1.6598000526428223, 1.659600019454956, 1.6318999528884888, 1.6588000059127808, 1.6449999809265137, 1.6470999717712402, 1.6210999488830566, 1.6291999816894531, 1.6411999464035034, 1.631600022315979, 1.6198999881744385, 1.5022000074386597, 1.5951999425888062, 1.5148999691009521, 1.5022000074386597, 1.423200011253357, 1.5770000219345093, 1.4499000310897827, 1.3652000427246094, 1.4872000217437744, 1.3215999603271484, 1.2960000038146973, 1.4560999870300293, 1.316499948501587, 0.7817999720573425, 1.1519999504089355, 0.9850000143051147, 0.550599992275238, 1.1990000009536743, 1.3990999460220337, 1.0097999572753906, 0.6269000172615051, 0.435699999332428, 0.7896999716758728, 1.0914000272750854, -0.021400000900030136, 0.15970000624656677, 0.19480000436306, 0.38449999690055847, 0.19059999287128448, -0.21299999952316284, -0.7254999876022339, 1.782099962234497, 1.7690000534057617, 1.7688000202178955, 1.7684999704360962, 1.7660000324249268, 1.7625999450683594, 1.760599970817566, 1.7577999830245972, 1.756700038909912, 1.7553999423980713, 1.7541999816894531, 1.753600001335144, 1.753000020980835, 1.7526999711990356, 1.7520999908447266, 1.7515000104904175, 1.7502000331878662, 1.7477999925613403, 1.7457000017166138, 1.7444000244140625, 1.7426999807357788, 1.7404999732971191, 1.7382999658584595, 1.7374999523162842, 1.736899971961975, 1.7359999418258667, 1.7309999465942383, 1.7303999662399292, 1.7280999422073364, 1.7274999618530273, 1.7096999883651733, 1.6974999904632568, 1.6633000373840332, 1.5851000547409058, 1.6450999975204468, 1.6967999935150146, 1.5379999876022339, 1.382699966430664, 1.4687000513076782, 1.6606999635696411, 1.6485999822616577, 1.281000018119812, 1.506600022315979, 1.333299994468689, 1.4848999977111816, 1.3832999467849731, 1.3552000522613525, 1.3487000465393066, 1.3538000583648682, 1.5232000350952148, 1.3257999420166016, 1.4908000230789185, 1.180799961090088, 0.8450999855995178, 1.1931999921798706, 1.3763999938964844, 1.0119999647140503, 1.163100004196167, 1.434999942779541, 0.9505000114440918, 1.30649995803833, 0.871999979019165, 1.2838000059127808, 0.7652000188827515, 0.25279998779296875, 0.7282999753952026, 0.1509999930858612, 0.05530000105500221, 0.8033999800682068, 0.02329999953508377, -0.6460999846458435, 2.0845000743865967, 2.083699941635132, 2.0785000324249268, 2.078399896621704, 2.0764000415802, 2.0731000900268555, 2.072499990463257, 2.0664000511169434, 2.0662999153137207, 2.065700054168701, 2.062999963760376, 2.062000036239624, 2.0571999549865723, 2.053800106048584, 2.049999952316284, 2.0499000549316406, 2.0490000247955322, 2.0485999584198, 2.045599937438965, 2.045599937438965, 2.045300006866455, 2.0429999828338623, 2.0429000854492188, 2.0385000705718994, 2.034600019454956, 2.033600091934204, 2.033099889755249, 2.0327999591827393, 2.032099962234497, 2.0297000408172607, 2.0227999687194824, 1.986199975013733, 1.9629000425338745, 1.9781999588012695, 1.94760000705719, 1.9541000127792358, 1.7074999809265137, 1.6584999561309814, 1.858299970626831, 1.7317999601364136, 1.8241000175476074, 1.8933000564575195, 1.5241999626159668, 1.8259999752044678, 1.4598000049591064, 1.5563000440597534, 1.407099962234497, 1.8242000341415405, 1.6912000179290771, 1.4026000499725342, 1.6540000438690186, 1.7216999530792236, 1.2182999849319458, 1.6581000089645386, 1.4465999603271484, 1.611299991607666, 1.0276999473571777, 1.1562999486923218, 1.0541000366210938, 1.273300051689148, 1.1385999917984009, 0.640999972820282, 1.3199000358581543, -0.03840000182390213, 0.8443999886512756, 0.9977999925613403, 0.06830000132322311, 0.026900000870227814, -0.2460000067949295, 0.7425000071525574, -0.6169000267982483, 0.23749999701976776, 0.29100000858306885, -0.42989999055862427, 2.237600088119507, 2.2356998920440674, 2.2328999042510986, 2.2283999919891357, 2.2272000312805176, 2.2258999347686768, 2.225600004196167, 2.222899913787842, 2.220900058746338, 2.2172000408172607, 2.2149999141693115, 2.213099956512451, 2.212899923324585, 2.2112998962402344, 2.209199905395508, 2.2083001136779785, 2.203399896621704, 2.203000068664551, 2.190700054168701, 2.181999921798706, 2.1772000789642334, 2.1765999794006348, 2.1710000038146973, 2.1709001064300537, 2.1693999767303467, 2.166100025177002, 2.1642000675201416, 2.156599998474121, 2.1482999324798584, 2.1426000595092773, 2.102099895477295, 2.095099925994873, 2.085599899291992, 2.072499990463257, 1.8791999816894531, 1.8978999853134155, 2.018199920654297, 1.8188999891281128, 1.7477999925613403, 1.3034000396728516, 1.5119999647140503, 1.6469999551773071, 1.617300033569336, 0.6935999989509583, 1.138700008392334, 1.7252000570297241, 1.1380000114440918, 1.4158999919891357, 0.751800000667572, 1.013100028038025, 0.313400000333786, -0.14990000426769257, 0.2012999951839447, 0.9722999930381775, 0.5504000186920166, -0.11299999803304672, 0.12700000405311584, -0.029600000008940697, 1.1902999877929688, 2.2435998916625977, 2.238600015640259, 2.2325000762939453, 2.2298998832702637, 2.2239999771118164, 2.2230000495910645, 2.21560001373291, 2.2132999897003174, 2.2100000381469727, 2.2077999114990234, 2.2039999961853027, 2.20169997215271, 2.1982998847961426, 2.1981000900268555, 2.19320011138916, 2.1914000511169434, 2.190999984741211, 2.189500093460083, 2.1874001026153564, 2.1874001026153564, 2.187000036239624, 2.1821999549865723, 2.181299924850464, 2.178800106048584, 2.1767001152038574, 2.1745998859405518, 2.1742000579833984, 2.1737000942230225, 2.17330002784729, 2.1689000129699707, 2.1630001068115234, 2.165800094604492, 2.163800001144409, 2.1201000213623047, 2.1424999237060547, 2.139400005340576, 2.0648000240325928, 2.0660998821258545, 2.051100015640259, 2.1263999938964844, 1.9749000072479248, 1.8436000347137451, 2.0216000080108643, 1.7813999652862549, 1.639299988746643, 1.812399983406067, 1.7958999872207642, 1.8538999557495117, 1.5022000074386597, 1.825700044631958, 1.513200044631958, 1.7555999755859375, 1.7970999479293823, 1.8503999710083008, 0.7265999913215637, 0.9089999794960022, -0.10649999976158142, 1.5370999574661255, 0.4772999882698059, 1.107800006866455, 0.27950000762939453, -0.3231000006198883, 0.0478999987244606, -0.8666999936103821, -0.010099999606609344, -0.4219000041484833, 2.435499906539917, 2.434000015258789, 2.4242000579833984, 2.420799970626831, 2.4161999225616455, 2.4021999835968018, 2.39520001411438, 2.387500047683716, 2.3852999210357666, 2.3787999153137207, 2.37719988822937, 2.373300075531006, 2.373300075531006, 2.3671000003814697, 2.3640999794006348, 2.364000082015991, 2.363600015640259, 2.360300064086914, 2.3601999282836914, 2.360100030899048, 2.35479998588562, 2.3510000705718994, 2.350600004196167, 2.343400001525879, 2.340100049972534, 2.3338000774383545, 2.3317999839782715, 2.331399917602539, 2.330199956893921, 2.3268001079559326, 2.308500051498413, 2.3150999546051025, 2.2792000770568848, 2.0680999755859375, 1.9865000247955322, 2.114000082015991, 2.1059999465942383, 1.6851999759674072, 2.175299882888794, 1.6735999584197998, 1.8353999853134155, 1.7223000526428223, 2.0369999408721924, 1.7788000106811523, 1.8504999876022339, 1.7727999687194824, 1.714400053024292, 1.9235999584197998, 1.6318999528884888, 1.6686999797821045, 1.9300999641418457, 1.4699000120162964, 1.8646999597549438, 1.28410005569458, 1.3604999780654907, 0.5149999856948853, 0.27469998598098755, 0.29679998755455017, 1.4855999946594238, 0.26840001344680786, 0.59579998254776, 0.5162000060081482, -0.12700000405311584, 0.7239999771118164, 0.014299999922513962, 0.35420000553131104]}, \"token.table\": {\"Topic\": [6, 3, 4, 1, 6, 6, 5, 7, 1, 7, 1, 6, 1, 2, 4, 5, 6, 7, 1, 2, 3, 4, 5, 6, 1, 2, 3, 4, 5, 7, 4, 2, 4, 3, 6, 1, 2, 3, 7, 3, 4, 5, 6, 7, 1, 3, 4, 5, 6, 7, 1, 2, 3, 5, 6, 1, 1, 3, 1, 2, 3, 5, 6, 7, 6, 5, 7, 1, 1, 6, 7, 1, 1, 2, 3, 4, 5, 6, 7, 7, 4, 5, 6, 3, 1, 2, 3, 4, 5, 6, 7, 2, 4, 2, 1, 3, 5, 5, 2, 3, 4, 5, 6, 5, 7, 6, 1, 3, 2, 3, 4, 5, 6, 4, 4, 5, 3, 5, 1, 4, 6, 7, 6, 1, 2, 3, 4, 5, 6, 7, 1, 2, 4, 5, 7, 4, 6, 7, 1, 2, 3, 4, 5, 6, 7, 5, 6, 1, 4, 1, 2, 3, 6, 7, 1, 1, 3, 5, 1, 2, 3, 5, 6, 7, 5, 6, 2, 2, 1, 2, 3, 5, 7, 3, 1, 2, 5, 1, 2, 2, 3, 2, 3, 4, 5, 6, 7, 2, 3, 4, 6, 6, 3, 1, 2, 3, 5, 6, 7, 2, 4, 5, 6, 7, 1, 2, 3, 4, 5, 6, 7, 4, 6, 1, 2, 1, 1, 4, 6, 4, 6, 7, 3, 4, 1, 2, 3, 4, 6, 7, 1, 2, 3, 4, 2, 1, 2, 3, 4, 5, 6, 7, 3, 2, 5, 7, 5, 4, 1, 2, 3, 5, 6, 7, 5, 7, 2, 1, 2, 3, 7, 1, 2, 3, 5, 6, 7, 1, 2, 3, 4, 6, 7, 2, 1, 2, 3, 4, 5, 6, 7, 7, 1, 2, 3, 4, 7, 2, 5, 5, 1, 4, 2, 2, 3, 4, 5, 6, 2, 1, 2, 3, 4, 5, 7, 1, 2, 3, 4, 5, 6, 7, 6, 1, 2, 3, 4, 5, 6, 7, 5, 1, 2, 3, 4, 5, 6, 4, 6, 7, 1, 2, 3, 4, 5, 4, 7, 3, 1, 2, 4, 5, 3, 5, 1, 2, 3, 6, 5, 5, 4, 4, 6, 1, 2, 3, 4, 5, 7, 1, 2, 4, 7, 3, 5, 1, 2, 3, 5, 6, 7, 7, 4, 3, 1, 2, 3, 4, 5, 6, 7, 6, 2, 4, 7, 3, 5, 2, 1, 1, 2, 3, 6, 5, 7, 2, 4, 4, 1, 2, 3, 4, 5, 7, 1, 2, 3, 4, 5, 6, 7, 2, 3, 4, 5, 6, 1, 2, 4, 5, 6, 1, 3, 7, 1, 2, 3, 5, 4, 4, 2, 3, 4, 5, 6, 7, 7, 1, 2, 5, 6, 6, 6, 5, 2, 4, 6, 3, 7, 3, 5, 5, 2, 3, 5, 7, 1, 2, 3, 4, 5, 6, 7, 4, 6, 7, 1, 2, 3, 4, 7, 6, 6, 6, 2, 3, 7, 4, 2, 4, 5, 6, 7, 6, 5, 1, 3, 4, 5, 7, 6, 2, 3, 4, 5, 7, 2, 6, 1, 2, 3, 4, 6, 7, 1, 2, 3, 5, 1, 2, 3, 4, 5, 6, 7, 1, 2, 3, 4, 5, 1, 2, 3, 4, 1, 2, 3, 4, 5, 1, 2, 3, 5, 1, 4, 3, 4, 1, 2, 3, 5, 6, 7, 1, 2, 3, 4, 5, 2, 3, 3, 1, 4, 5, 7, 3, 5, 2, 1, 2, 3, 4, 5, 6, 1, 2, 4, 1, 2, 3, 5, 6, 7, 1, 3, 4, 5, 6, 1, 2, 3, 5, 6, 7, 1, 3, 4, 5, 6, 7, 1, 2, 4, 6, 7, 1, 2, 3, 4, 5, 6, 7, 3, 6, 1, 2, 3, 5, 6, 3, 2, 6, 1, 2, 3, 4, 5, 6, 2, 3, 5, 6, 7, 1, 1, 2, 3, 4, 5, 6, 1, 2, 3, 4, 5, 6, 7, 3, 5, 7, 3, 6, 7, 1, 4, 2, 5, 6, 7, 1, 2, 3, 4, 5, 6, 7, 1, 2, 3, 4, 5, 6, 7, 5, 3, 1, 1, 2, 3, 4, 5, 7, 7, 1, 4, 4, 6, 7, 2, 4, 5, 6, 7, 1, 2, 3, 4, 6, 7, 2, 1, 2, 3, 4, 5, 6, 7, 1, 3, 5, 6, 1, 1, 2, 3, 6, 1, 4, 7, 3, 1, 2, 3, 5, 6, 7, 3, 5, 4, 6, 1, 2, 3, 5, 6, 7, 3, 1, 2, 3, 4, 1, 3, 4, 7, 1, 2, 3, 4, 5, 6, 7, 1, 2, 3, 7, 6, 2, 3, 5, 6, 7, 1, 2, 3, 4, 5, 6, 7, 1, 2, 3, 4, 5, 6, 7, 2, 1, 2, 3, 4, 5, 6, 1, 2, 3, 4, 5, 6, 7, 6, 1, 2, 3, 4, 5, 1, 2, 4, 7, 4, 1, 2, 3, 4, 5, 6, 7, 2, 5, 5, 3, 5, 5, 6, 7, 4, 6, 3, 4, 5, 6, 7, 2, 4, 5, 6, 7, 3, 4, 5, 7, 2, 3, 5, 6, 7, 2, 3, 4, 5, 6, 7, 1, 2, 3, 4, 5, 6, 1, 3, 5, 2, 1, 2, 4, 6, 1, 3, 4, 6, 1, 2, 3, 4, 6, 1, 2, 3, 4, 5, 6, 7, 3, 1, 6, 1, 4, 1, 2, 3, 1, 3, 4, 5, 6, 7, 6, 3, 4, 5, 6, 7, 1, 3, 4, 4, 4, 6, 7, 3, 2, 3, 4, 5, 6, 7, 3, 2, 3, 5, 6, 7, 3, 1, 1, 2, 3, 4, 5, 2, 3, 4, 5, 6, 7, 2, 1, 2, 4, 5, 7, 1, 4, 5, 6, 1, 1, 2, 3, 1, 2, 3, 4, 6, 7, 7, 5, 2, 4, 5, 4, 1, 2, 3, 4, 5, 6, 7, 1, 3, 4, 5, 6, 7, 5, 2, 5, 6, 2, 4, 5, 1, 2, 3, 4, 6, 7, 2, 3, 4, 5, 6, 7, 7, 2, 3, 4, 5, 6, 5, 7, 4, 4, 6, 1, 2, 3, 4, 5, 6, 7, 1, 1, 4, 4, 7, 2, 3, 4, 5, 6, 7, 1, 4, 2, 2, 3, 4, 5, 6, 7, 1, 2, 3, 4, 5, 6, 7, 2, 4, 5, 6, 6, 7, 1, 2, 4, 6, 5, 1, 2, 3, 4, 5, 6, 7, 1, 2, 4, 6, 1, 2, 3, 4, 5, 6, 7, 5, 6, 7, 3, 4, 1, 2, 3, 4, 6, 7, 5, 7, 2, 4, 6, 1, 2, 1, 2, 2, 1, 2, 3, 4, 5, 6, 7, 1, 2, 3, 4, 5, 6, 1, 2, 7, 1, 4, 7, 1, 2, 3, 5, 3, 2, 3, 4, 5, 6, 7, 6, 7, 7, 5, 5, 3, 5, 1, 2, 3, 4, 5, 6, 7, 1, 2, 5, 7, 2, 6, 7, 6, 4, 6, 2, 5, 5, 2, 1, 2, 2, 3, 4, 5, 6, 7, 1, 3, 4, 7, 2, 6, 7, 3, 6], \"Freq\": [0.903755784034729, 0.9712466597557068, 0.9856046438217163, 0.950950562953949, 0.9402341246604919, 0.9262363314628601, 0.980114758014679, 0.9575218558311462, 0.09936501085758209, 0.8942850828170776, 0.9824854731559753, 0.014501630328595638, 0.025860203430056572, 0.0020688162185251713, 0.12516339123249054, 0.0010344081092625856, 0.8285609483718872, 0.017584938555955887, 0.3309416174888611, 0.08191624283790588, 0.5308172106742859, 0.006553299259394407, 0.045873094350099564, 0.006553299259394407, 0.011605300940573215, 0.17794793844223022, 0.6266862154006958, 0.13152673840522766, 0.050289638340473175, 0.0038684336468577385, 0.9262495636940002, 0.9357430934906006, 0.9093919992446899, 0.017054865136742592, 0.9721273183822632, 0.3064880669116974, 0.00681084580719471, 0.6606520414352417, 0.02724338322877884, 0.37582018971443176, 0.08290151506662369, 0.15474948287010193, 0.011053535155951977, 0.37582018971443176, 0.09515685588121414, 0.28913044929504395, 0.25619155168533325, 0.32938912510871887, 0.0036598790902644396, 0.029279032722115517, 0.40795087814331055, 0.033740296959877014, 0.5490466356277466, 0.003067299723625183, 0.003067299723625183, 0.9982254505157471, 0.9792689085006714, 0.9058592915534973, 0.5466543436050415, 0.2083238661289215, 0.15036910772323608, 0.0015663448721170425, 0.003132689744234085, 0.08771531283855438, 0.9781078696250916, 0.9810174703598022, 0.8957487344741821, 0.9767592549324036, 0.9836638569831848, 0.9818077087402344, 0.9364322423934937, 0.9987570643424988, 0.6680205464363098, 0.1224200502038002, 0.02418173849582672, 0.04534076154232025, 0.1209086924791336, 0.019647663459181786, 0.9398988485336304, 0.9349080920219421, 0.9421142339706421, 0.9833868741989136, 0.0157762598246336, 0.9779977202415466, 0.07690829038619995, 0.18906620144844055, 0.02563609555363655, 0.4101775288581848, 0.08011280000209808, 0.17624816298484802, 0.04165865480899811, 0.2333899438381195, 0.7550851106643677, 0.9181311726570129, 0.9936788082122803, 0.9573291540145874, 0.03217913210391998, 0.9844251871109009, 0.08131156116724014, 0.10959383845329285, 0.017676426097750664, 0.6540277600288391, 0.13434083759784698, 0.9730260968208313, 0.9646702408790588, 0.9613171815872192, 0.08243532478809357, 0.9067885875701904, 0.014490890316665173, 0.02173633500933647, 0.007245445158332586, 0.028981780633330345, 0.9201714992523193, 0.9862955212593079, 0.38619673252105713, 0.6085523962974548, 0.05148731917142868, 0.9267717003822327, 0.9762677550315857, 0.12310034036636353, 0.7591187357902527, 0.11626143008470535, 0.9903804063796997, 0.002145160222426057, 0.9658583998680115, 0.002145160222426057, 0.0005362900556065142, 0.0005362900556065142, 0.014479831792414188, 0.013943541795015335, 0.006184686906635761, 0.933887779712677, 0.002061562379822135, 0.002061562379822135, 0.05360062047839165, 0.3244645595550537, 0.6489291191101074, 0.02093319781124592, 0.007514759432524443, 0.04508855566382408, 0.15780994296073914, 0.0751475989818573, 0.0751475989818573, 0.6237250566482544, 0.02254427783191204, 0.9406298398971558, 0.0408969484269619, 0.988852322101593, 0.9356308579444885, 0.02007199451327324, 0.02007199451327324, 0.863095760345459, 0.01003599725663662, 0.08028797805309296, 0.938151478767395, 0.023780934512615204, 0.8798946142196655, 0.07134280353784561, 0.3976249396800995, 0.07229544222354889, 0.22411587834358215, 0.2927965521812439, 0.007229544222354889, 0.0036147721111774445, 0.995011568069458, 0.0026392878498882055, 0.9336502552032471, 0.9176228046417236, 0.011950247921049595, 0.8484675884246826, 0.02390049584209919, 0.07170148193836212, 0.04780099168419838, 0.9723507761955261, 0.8430969715118408, 0.13366171717643738, 0.010281670838594437, 0.8950364589691162, 0.10117803514003754, 0.9772352576255798, 0.965646505355835, 0.0037840967997908592, 0.01892048306763172, 0.07568193227052689, 0.07189784198999405, 0.8173649311065674, 0.015136387199163437, 0.010360464453697205, 0.06216278672218323, 0.6319883465766907, 0.29009300470352173, 0.9280334711074829, 0.9603735208511353, 0.005352809559553862, 0.17664271593093872, 0.10170338302850723, 0.5513393878936768, 0.037469666451215744, 0.13382023572921753, 0.01336482260376215, 0.748430073261261, 0.01336482260376215, 0.13364823162555695, 0.08018893748521805, 0.036647047847509384, 0.20830953121185303, 0.021216711029410362, 0.5574209094047546, 0.0057863760739564896, 0.13887302577495575, 0.030860671773552895, 0.855772852897644, 0.11885733902454376, 0.9716683626174927, 0.022862784564495087, 0.9723389744758606, 0.9869047403335571, 0.9162430763244629, 0.04363062232732773, 0.006055600941181183, 0.47839245200157166, 0.5147260427474976, 0.9731873273849487, 0.9386834502220154, 0.6371641755104065, 0.021098151803016663, 0.012658891268074512, 0.14768706262111664, 0.18144410848617554, 0.8645715117454529, 0.3561951816082001, 0.003672115271911025, 0.6389480829238892, 0.9680156111717224, 0.9669893980026245, 0.2865070104598999, 0.13482683897018433, 0.04424005374312401, 0.04424005374312401, 0.22541362047195435, 0.1685335487127304, 0.09480011463165283, 0.9274358153343201, 0.7633357644081116, 0.09676087647676468, 0.13976570963859558, 0.9625709056854248, 0.9428491592407227, 0.28129974007606506, 0.19829325377941132, 0.35738900303840637, 0.02997456304728985, 0.011528677307069302, 0.12220398336648941, 0.8607603311538696, 0.9315618276596069, 0.8877383470535278, 0.3224489986896515, 0.0036230224650353193, 0.644897997379303, 0.028984179720282555, 0.009152374230325222, 0.10067611187696457, 0.009152374230325222, 0.022880936041474342, 0.5399900674819946, 0.3111807107925415, 0.0013378853909671307, 0.9405333995819092, 0.006689426954835653, 0.0013378853909671307, 0.04950175806879997, 0.0013378853909671307, 0.8947095274925232, 0.49852481484413147, 0.01654854044318199, 0.3971650004386902, 0.04757705703377724, 0.012411406263709068, 0.004137135110795498, 0.024822812527418137, 0.8862805962562561, 0.3272392451763153, 0.025172248482704163, 0.13215430080890656, 0.056637559086084366, 0.45939353108406067, 0.8876678943634033, 0.10321719944477081, 0.8698306083679199, 0.3278574049472809, 0.671515166759491, 0.9131909608840942, 0.015796510502696037, 0.015796510502696037, 0.774029016494751, 0.04738953337073326, 0.14216859638690948, 0.8748190402984619, 0.3811015784740448, 0.07667132467031479, 0.004510077647864819, 0.16236279904842377, 0.33149072527885437, 0.04284574091434479, 0.3628428876399994, 0.043791383504867554, 0.018767734989523888, 0.012511823326349258, 0.018767734989523888, 0.4723213315010071, 0.07194298505783081, 0.9664278030395508, 0.9461168646812439, 0.09795593470335007, 0.08288578689098358, 0.007535071577876806, 0.1205611452460289, 0.003767535788938403, 0.6819239854812622, 0.9813964366912842, 0.21383051574230194, 0.7721015214920044, 0.010402565822005272, 0.0011558405822142959, 0.0011558405822142959, 0.0023116811644285917, 0.03313532844185829, 0.2982179820537567, 0.6627066135406494, 0.5398076176643372, 0.006543122697621584, 0.19302211701869965, 0.12977193295955658, 0.12977193295955658, 0.9667717814445496, 0.8863537907600403, 0.9533417224884033, 0.06255055218935013, 0.03518468514084816, 0.8874359726905823, 0.011728228069841862, 0.9338910579681396, 0.04980752617120743, 0.28211668133735657, 0.0420173779129982, 0.6122532486915588, 0.06002482771873474, 0.9586866497993469, 0.9700610041618347, 0.9771750569343567, 0.9182732701301575, 0.9591735601425171, 0.12875507771968842, 0.051502030342817307, 0.19742445647716522, 0.051502030342817307, 0.017167342826724052, 0.5493549704551697, 0.2229793816804886, 0.7304496765136719, 0.03844472020864487, 0.007688944227993488, 0.6971072554588318, 0.2939608693122864, 0.4616965651512146, 0.4590582847595215, 0.04748879000544548, 0.01319133024662733, 0.015829596668481827, 0.0026382659561932087, 0.9631363153457642, 0.9411757588386536, 0.9615333676338196, 0.0013877286110073328, 0.7132924795150757, 0.05412141606211662, 0.02775457315146923, 0.10269191861152649, 0.07771280407905579, 0.022203657776117325, 0.9764922857284546, 0.9803146719932556, 0.017274267971515656, 0.9582570195198059, 0.738082230091095, 0.246027410030365, 0.9936832189559937, 0.9585434198379517, 0.9797614812850952, 0.01106182299554348, 0.00790130253881216, 0.0015802604611963034, 0.8892513513565063, 0.9360681772232056, 0.09732560813426971, 0.8759304881095886, 0.9439792037010193, 0.0918845385313034, 0.02923598885536194, 0.008353140205144882, 0.17541593313217163, 0.06682512164115906, 0.6306620836257935, 0.06432154774665833, 0.25313642621040344, 0.04149777442216873, 0.15354177355766296, 0.010374443605542183, 0.016599109396338463, 0.4606252908706665, 0.07988792657852173, 0.013314654119312763, 0.6790473461151123, 0.2130344659090042, 0.013314654119312763, 0.7636709809303284, 0.04772943630814552, 0.11932358890771866, 0.03579707816243172, 0.03579707816243172, 0.037503596395254135, 0.4500431716442108, 0.5062986016273499, 0.4347827136516571, 0.47139596939086914, 0.08695653825998306, 0.004576660227030516, 0.9373453855514526, 0.938931405544281, 0.09146451950073242, 0.040015727281570435, 0.4344564974308014, 0.07431492209434509, 0.18292903900146484, 0.17721250653266907, 0.9732568860054016, 0.02793593518435955, 0.7403022646903992, 0.12571170926094055, 0.09777577221393585, 0.9590209722518921, 0.9444959759712219, 0.9726505279541016, 0.947520911693573, 0.012878925539553165, 0.03863677382469177, 0.986478865146637, 0.9179953932762146, 0.15082471072673798, 0.8403091430664062, 0.9862216711044312, 0.5085998177528381, 0.019815577194094658, 0.303838849067688, 0.15852461755275726, 0.07717867940664291, 0.2979603111743927, 0.08730047196149826, 0.11703324317932129, 0.21255767345428467, 0.09425920993089676, 0.11387018114328384, 0.6381763219833374, 0.27694442868232727, 0.07224637269973755, 0.01850559189915657, 0.01850559189915657, 0.22206710278987885, 0.01850559189915657, 0.7217180728912354, 0.8831943869590759, 0.940710186958313, 0.9604305624961853, 0.0757158026099205, 0.9085896015167236, 0.8952038288116455, 0.9113877415657043, 0.010818492621183395, 0.6599280834197998, 0.02163698524236679, 0.2271883487701416, 0.08654794096946716, 0.9120679497718811, 0.9688278436660767, 0.021626858040690422, 0.06488057971000671, 0.8434475064277649, 0.021626858040690422, 0.043253716081380844, 0.9535191059112549, 0.1731347143650055, 0.01923719048500061, 0.01923719048500061, 0.07694876194000244, 0.7117760181427002, 0.8733425140380859, 0.07939477264881134, 0.6493915319442749, 0.14498043060302734, 0.04832680895924568, 0.009061276912689209, 0.10873532295227051, 0.03926553204655647, 0.1692127138376236, 0.026920204982161522, 0.7729944586753845, 0.026920204982161522, 0.3275422155857086, 0.16789114475250244, 0.21424145996570587, 0.07931053638458252, 0.09476064145565033, 0.040170274674892426, 0.07622051984071732, 0.7484679818153381, 0.15503978729248047, 0.03742339834570885, 0.03207719698548317, 0.02673099935054779, 0.34580889344215393, 0.572156548500061, 0.04401204362511635, 0.037724606692790985, 0.752718448638916, 0.08553618937730789, 0.07698256522417068, 0.05346011742949486, 0.029937665909528732, 0.04305601865053177, 0.021528009325265884, 0.861120343208313, 0.06458402425050735, 0.9114702939987183, 0.08680669218301773, 0.12505576014518738, 0.875390350818634, 0.011625065468251705, 0.22087624669075012, 0.12787573039531708, 0.5928783416748047, 0.04650026187300682, 0.011625065468251705, 0.355315238237381, 0.098460853099823, 0.20976442098617554, 0.3296298086643219, 0.0042809066362679005, 0.9131485223770142, 0.04348326101899147, 0.9181421995162964, 0.06415532529354095, 0.8126341104507446, 0.10692553967237473, 0.9526954293251038, 0.7637871503829956, 0.2291361540555954, 0.9466110467910767, 0.012175966054201126, 0.6940301060676575, 0.024351932108402252, 0.024351932108402252, 0.2313433587551117, 0.012175966054201126, 0.9598970413208008, 0.9466482400894165, 0.03944367542862892, 0.00836802739650011, 0.644338071346283, 0.10878435522317886, 0.1171523779630661, 0.10878435522317886, 0.01673605479300022, 0.1419035643339157, 0.6622166633605957, 0.023650595918297768, 0.17343769967556, 0.9315173029899597, 0.21259742975234985, 0.14756762981414795, 0.63028883934021, 0.005002292338758707, 0.0025011461693793535, 0.0025011461693793535, 0.05937659367918968, 0.03958439826965332, 0.5145971775054932, 0.28368818759918213, 0.006597399245947599, 0.09236359596252441, 0.14498721063137054, 0.2655555009841919, 0.012209448963403702, 0.10988504439592361, 0.46548524498939514, 0.010795270092785358, 0.32205891609191895, 0.0035984234418720007, 0.5235705971717834, 0.008996059186756611, 0.10435428470373154, 0.028787387534976006, 0.9753912687301636, 0.90242600440979, 0.21764008700847626, 0.0474851094186306, 0.6450060606002808, 0.08705603331327438, 0.9846198558807373, 0.9472636580467224, 0.8701456785202026, 0.10611532628536224, 0.17363111674785614, 0.04051392897963524, 0.37041303515434265, 0.3385806679725647, 0.02604466676712036, 0.04630162939429283, 0.9871627688407898, 0.0017966101877391338, 0.9611864686012268, 0.0017966101877391338, 0.034135594964027405, 0.999048113822937, 0.1990344375371933, 0.672736406326294, 0.02786482311785221, 0.003980688750743866, 0.03980688750743866, 0.051748957484960556, 0.25199538469314575, 0.062447838485240936, 0.07199868559837341, 0.065386563539505, 0.3908500075340271, 0.04114210605621338, 0.11607950925827026, 0.9408618807792664, 0.03618699312210083, 0.018093496561050415, 0.09328284859657288, 0.03109428472816944, 0.8395456671714783, 0.02284069173038006, 0.970729410648346, 0.2716203033924103, 0.04288741573691368, 0.6290153861045837, 0.04288741573691368, 0.00711411377415061, 0.00711411377415061, 0.7327537536621094, 0.09248348325490952, 0.00711411377415061, 0.03557056933641434, 0.1209399402141571, 0.009649642743170261, 0.012062054127454758, 0.3449747562408447, 0.11820812523365021, 0.48006975650787354, 0.024124108254909515, 0.012062054127454758, 0.9053542613983154, 0.9612594842910767, 0.9648862481117249, 0.8724163770675659, 0.05262193828821182, 0.05262193828821182, 0.002769575687125325, 0.013847879134118557, 0.00830872729420662, 0.9778755307197571, 0.9678400754928589, 0.0158662311732769, 0.9619629979133606, 0.22372259199619293, 0.7670488953590393, 0.15772786736488342, 0.04853165149688721, 0.16986078023910522, 0.6066456437110901, 0.947630763053894, 0.1123986691236496, 0.1966976672410965, 0.13113178312778473, 0.06556589156389236, 0.48706087470054626, 0.009366555139422417, 0.9555238485336304, 0.9095900058746338, 0.023523880168795586, 0.012742101214826107, 0.004900808446109295, 0.03724614158272743, 0.010781778022646904, 0.0009801617125049233, 0.024261413142085075, 0.941342830657959, 0.02911369502544403, 0.004852282349020243, 0.9588648676872253, 0.3844873309135437, 0.011651131324470043, 0.6000332832336426, 0.005825565662235022, 0.07805487513542175, 0.017345527186989784, 0.8932946920394897, 0.9731432795524597, 0.12817959487438202, 0.3774177134037018, 0.3240095376968384, 0.14954286813735962, 0.010681632906198502, 0.007121088914573193, 0.954910933971405, 0.03603437542915344, 0.09415179491043091, 0.894442081451416, 0.0035403806250542402, 0.13925497233867645, 0.6620512008666992, 0.012981395237147808, 0.06844735890626907, 0.11329218000173569, 0.9504859447479248, 0.9357587099075317, 0.0010755846742540598, 0.0021511693485081196, 0.0602327436208725, 0.016301801428198814, 0.9781080484390259, 0.9036095142364502, 0.9400207996368408, 0.003094627521932125, 0.0123785100877285, 0.0018567764200270176, 0.01175958476960659, 0.09160096943378448, 0.009902807883918285, 0.8689714074134827, 0.8263735175132751, 0.16467587649822235, 0.002994106849655509, 0.002994106849655509, 0.9522205591201782, 0.14212292432785034, 0.4286986291408539, 0.18406082689762115, 0.09785512089729309, 0.14445281028747559, 0.1359374076128006, 0.03295452147722244, 0.2883520722389221, 0.10298288613557816, 0.28011342883110046, 0.12357945740222931, 0.0411931537091732, 0.02381628192961216, 0.032476749271154404, 0.00866046641021967, 0.49581170082092285, 0.06278838217258453, 0.21651165187358856, 0.1558883935213089, 0.9412443041801453, 0.45460057258605957, 0.0829145684838295, 0.38669639825820923, 0.03002079203724861, 0.0007147807627916336, 0.044316407293081284, 0.07528147101402283, 0.7726256251335144, 0.019810913130640984, 0.05547055974602699, 0.05150837451219559, 0.02377309650182724, 0.003962182905524969, 0.9712990522384644, 0.9791953563690186, 0.002583628986030817, 0.005167257972061634, 0.007750886492431164, 0.005167257972061634, 0.03342856839299202, 0.9025713205337524, 0.03342856839299202, 0.06685713678598404, 0.9784005284309387, 0.031003855168819427, 0.040305010974407196, 0.015501927584409714, 0.28213509917259216, 0.08991118520498276, 0.05580694228410721, 0.48366016149520874, 0.12410157173871994, 0.8438907265663147, 0.9493794441223145, 0.2886963486671448, 0.7083131670951843, 0.007482485380023718, 0.9427931904792786, 0.04489491134881973, 0.07414807379245758, 0.9144929647445679, 0.002455662237480283, 0.04665758088231087, 0.004911324474960566, 0.8300138115882874, 0.11541612446308136, 0.010010926984250546, 0.02002185396850109, 0.1501639038324356, 0.6306884288787842, 0.1902076154947281, 0.01621432602405548, 0.29185783863067627, 0.09728594869375229, 0.5999300479888916, 0.02877381630241871, 0.510735273361206, 0.05035417899489403, 0.02158036269247532, 0.38125306367874146, 0.001891433959826827, 0.001891433959826827, 0.23075494170188904, 0.007565735839307308, 0.6638933420181274, 0.09268026053905487, 0.07221446186304092, 0.5437324047088623, 0.11894146353006363, 0.1954038292169571, 0.033983275294303894, 0.033983275294303894, 0.9218893051147461, 0.9881957769393921, 0.9902818202972412, 0.9022295475006104, 0.10210321098566055, 0.2169693261384964, 0.012762901373207569, 0.6509079933166504, 0.2558053731918335, 0.038370806723833084, 0.02558053657412529, 0.6650939583778381, 0.7639874815940857, 0.003673016792163253, 0.04040318354964256, 0.18732385337352753, 0.003673016792163253, 0.007544043939560652, 0.03646288067102432, 0.16974098980426788, 0.6387290358543396, 0.14459417760372162, 0.001257340656593442, 0.001257340656593442, 0.9574575424194336, 0.09738145768642426, 0.8886058330535889, 0.9621085524559021, 0.020915403962135315, 0.7992194890975952, 0.008239376358687878, 0.19774502515792847, 0.06512153893709183, 0.04884115234017372, 0.016280384734272957, 0.08140192180871964, 0.6674957871437073, 0.11396269500255585, 0.9708143472671509, 0.21894842386245728, 0.12315849214792252, 0.01368427649140358, 0.04105282947421074, 0.5884239077568054, 0.1679474264383316, 0.7481294274330139, 0.0763397365808487, 0.9657766222953796, 0.09770835936069489, 0.8755435347557068, 0.02682190202176571, 0.9423642754554749, 0.1077224388718605, 0.06236562132835388, 0.23245367407798767, 0.3515153229236603, 0.07370482385158539, 0.17575766146183014, 0.945529580116272, 0.00460723927244544, 0.01842895708978176, 0.8661609292030334, 0.013821717351675034, 0.09214477986097336, 0.8986786007881165, 0.9652889370918274, 0.17340907454490662, 0.05780302360653877, 0.14450755715370178, 0.08670453727245331, 0.5346779823303223, 0.6273125410079956, 0.22567951679229736, 0.09562691301107407, 0.003825076622888446, 0.003825076622888446, 0.04207584261894226, 0.9777423739433289, 0.1719079464673996, 0.03125599026679993, 0.20316395163536072, 0.015627995133399963, 0.5626078248023987, 0.3431711792945862, 0.2045828104019165, 0.43556341528892517, 0.006599445827305317, 0.9915552139282227, 0.9456074237823486, 0.00587333831936121, 0.04698670655488968, 0.9780694246292114, 0.10334668308496475, 0.7201972007751465, 0.04198458790779114, 0.09365793317556381, 0.03875500708818436, 0.9862683415412903, 0.9791644811630249, 0.22530914843082428, 0.611553430557251, 0.15020610392093658, 0.9310176968574524, 0.43718597292900085, 0.020908894017338753, 0.45619404315948486, 0.013305659405887127, 0.0038016170728951693, 0.013305659405887127, 0.05512344837188721, 0.09168196469545364, 0.5399048924446106, 0.08404180407524109, 0.1146024540066719, 0.05093442648649216, 0.11969589442014694, 0.9019774794578552, 0.8322417140007019, 0.12803718447685242, 0.021339531987905502, 0.8786661624908447, 0.04286176338791847, 0.08572352677583694, 0.12691336870193481, 0.12139539420604706, 0.049661751836538315, 0.14346729218959808, 0.01655391789972782, 0.5407612919807434, 0.17736317217350006, 0.03299780189990997, 0.5774615406990051, 0.1196170300245285, 0.045371975749731064, 0.045371975749731064, 0.9259396195411682, 0.17837345600128174, 0.19209448993206024, 0.4527941644191742, 0.006860517431050539, 0.1577918976545334, 0.8549292683601379, 0.1124906986951828, 0.9400885701179504, 0.9236921072006226, 0.06056997552514076, 0.08980792760848999, 0.022451981902122498, 0.028064977377653122, 0.24135880172252655, 0.033677972853183746, 0.11225990951061249, 0.47710463404655457, 0.998116672039032, 0.5011191964149475, 0.4933498799800873, 0.08910254389047623, 0.8910254240036011, 0.05608201026916504, 0.042729150503873825, 0.07477601617574692, 0.6943486928939819, 0.0774465873837471, 0.053411439061164856, 0.04245445877313614, 0.9339981079101562, 0.8982224464416504, 0.3494184613227844, 0.03596954792737961, 0.05652357265353203, 0.11818565428256989, 0.005138506647199392, 0.44191157817840576, 0.004556699655950069, 0.8794430494308472, 0.07974224537611008, 0.0022783498279750347, 0.022783499211072922, 0.009113399311900139, 0.0022783498279750347, 0.04852801933884621, 0.7602722644805908, 0.12940804660320282, 0.04852801933884621, 0.9294893145561218, 0.03717957064509392, 0.7900583148002625, 0.08220259845256805, 0.02283405512571335, 0.1050366535782814, 0.94969242811203, 0.08227810263633728, 0.22397927939891815, 0.054852068424224854, 0.37939348816871643, 0.06399407982826233, 0.10970413684844971, 0.08684910833835602, 0.17681720852851868, 0.03929271176457405, 0.6876224875450134, 0.08513420820236206, 0.07552234083414078, 0.3756997287273407, 0.17590013146400452, 0.09464191645383835, 0.05735873803496361, 0.07647831737995148, 0.14435282349586487, 0.0766887292265892, 0.7924501895904541, 0.10225163400173187, 0.9402704238891602, 0.9728192687034607, 0.08742152154445648, 0.12020459026098251, 0.13659612834453583, 0.00546384509652853, 0.3169029951095581, 0.3387583792209625, 0.9703047275543213, 0.9105298519134521, 0.929162323474884, 0.9445453882217407, 0.9235573410987854, 0.004942452535033226, 0.9934329390525818, 0.08573731034994125, 0.8859522342681885, 0.9067267775535583, 0.053309790790081024, 0.20201605558395386, 0.5976307988166809, 0.046295344829559326, 0.044892456382513046, 0.03507222980260849, 0.019640449434518814, 0.17775632441043854, 0.7828114628791809, 0.013673563487827778, 0.0034183908719569445, 0.006836781743913889, 0.01709195412695408, 0.34482425451278687, 0.6439489126205444, 0.0083090178668499, 0.06358393281698227, 0.9219670295715332, 0.8713299632072449, 0.035231176763772964, 0.017615588381886482, 0.14092470705509186, 0.7927014827728271, 0.9628759026527405, 0.02369803376495838, 0.8091186285018921, 0.02369803376495838, 0.13541734218597412, 0.006770866923034191, 0.0033854334615170956, 0.8851602673530579, 0.1029256135225296, 0.8849215507507324, 0.9904577732086182, 0.991591215133667, 0.876686155796051, 0.11749401688575745, 0.08929269015789032, 0.03826829418540001, 0.05421341955661774, 0.3476036787033081, 0.05421341955661774, 0.2615000307559967, 0.15307317674160004, 0.05164753273129463, 0.8650961518287659, 0.06455941498279572, 0.9311558604240417, 0.004865075461566448, 0.09730150550603867, 0.8976064324378967, 0.9762842059135437, 0.9082105159759521, 0.9453139305114746, 0.02174646593630314, 0.9713422060012817, 0.947123110294342, 0.9550333023071289, 0.0453619509935379, 0.9072390198707581, 0.005215678364038467, 0.022948984056711197, 0.003129407064989209, 0.003129407064989209, 0.9137868285179138, 0.05111364647746086, 0.7386602163314819, 0.0032397378236055374, 0.0777537077665329, 0.1781855821609497, 0.8829801678657532, 0.10702790319919586, 0.9821723103523254, 0.9054427146911621, 0.05841565877199173], \"Term\": [\"abhi\", \"adjust\", \"advanc\", \"afford\", \"agar\", \"agre\", \"airtel\", \"alarm\", \"alot\", \"alot\", \"amaz\", \"amaz\", \"amazon\", \"amazon\", \"amazon\", \"amazon\", \"amazon\", \"amazon\", \"android\", \"android\", \"android\", \"android\", \"android\", \"android\", \"app\", \"app\", \"app\", \"app\", \"app\", \"app\", \"approach\", \"approx\", \"asap\", \"ask\", \"ask\", \"atmo\", \"atmo\", \"atmo\", \"atmo\", \"automat\", \"automat\", \"automat\", \"automat\", \"automat\", \"avail\", \"avail\", \"avail\", \"avail\", \"avail\", \"avail\", \"averag\", \"averag\", \"averag\", \"averag\", \"averag\", \"awesom\", \"awsom\", \"backlit\", \"backup\", \"backup\", \"backup\", \"backup\", \"backup\", \"backup\", \"bahut\", \"bakwa\", \"basi\", \"beat\", \"beauti\", \"bekar\", \"bend\", \"best\", \"better\", \"better\", \"better\", \"better\", \"better\", \"better\", \"bettri\", \"bilkul\", \"blue\", \"bluetooth\", \"bluetooth\", \"boot\", \"bought\", \"bought\", \"bought\", \"bought\", \"bought\", \"bought\", \"bought\", \"broken\", \"broken\", \"bubbl\", \"budget\", \"button\", \"button\", \"cabl\", \"call\", \"call\", \"call\", \"call\", \"call\", \"caller\", \"camara\", \"camra\", \"captur\", \"captur\", \"care\", \"care\", \"care\", \"care\", \"care\", \"cash\", \"cast\", \"cast\", \"catch\", \"catch\", \"categori\", \"center\", \"center\", \"center\", \"centr\", \"charg\", \"charg\", \"charg\", \"charg\", \"charg\", \"charg\", \"charg\", \"charger\", \"charger\", \"charger\", \"charger\", \"charger\", \"cheat\", \"cheat\", \"cheat\", \"check\", \"check\", \"check\", \"check\", \"check\", \"check\", \"check\", \"china\", \"china\", \"class\", \"clean\", \"clear\", \"clear\", \"clear\", \"clear\", \"clear\", \"cleariti\", \"click\", \"click\", \"click\", \"compar\", \"compar\", \"compar\", \"compar\", \"compar\", \"compar\", \"connect\", \"connect\", \"constant\", \"consumpt\", \"continu\", \"continu\", \"continu\", \"continu\", \"continu\", \"control\", \"cool\", \"cool\", \"cool\", \"core\", \"core\", \"corn\", \"crash\", \"custom\", \"custom\", \"custom\", \"custom\", \"custom\", \"custom\", \"damag\", \"damag\", \"damag\", \"damag\", \"damn\", \"dark\", \"data\", \"data\", \"data\", \"data\", \"data\", \"data\", \"date\", \"date\", \"date\", \"date\", \"date\", \"day\", \"day\", \"day\", \"day\", \"day\", \"day\", \"day\", \"dead\", \"dead\", \"deca\", \"deca\", \"decacor\", \"decent\", \"decis\", \"decis\", \"defect\", \"defect\", \"defect\", \"delet\", \"delic\", \"deliveri\", \"deliveri\", \"deliveri\", \"deliveri\", \"deliveri\", \"deni\", \"depth\", \"depth\", \"depth\", \"describ\", \"deserv\", \"devic\", \"devic\", \"devic\", \"devic\", \"devic\", \"devic\", \"devic\", \"dial\", \"discharg\", \"discharg\", \"discharg\", \"disconnect\", \"discount\", \"display\", \"display\", \"display\", \"display\", \"display\", \"display\", \"distort\", \"divic\", \"diya\", \"dolbi\", \"dolbi\", \"dolbi\", \"dolbi\", \"dont\", \"dont\", \"dont\", \"dont\", \"dont\", \"dont\", \"drain\", \"drain\", \"drain\", \"drain\", \"drain\", \"drain\", \"dri\", \"dual\", \"dual\", \"dual\", \"dual\", \"dual\", \"dual\", \"dual\", \"earn\", \"earphon\", \"earphon\", \"earphon\", \"earphon\", \"earphon\", \"easili\", \"easili\", \"enter\", \"excel\", \"excel\", \"excess\", \"exchang\", \"exchang\", \"exchang\", \"exchang\", \"exchang\", \"exhaust\", \"expect\", \"expect\", \"expect\", \"expect\", \"expect\", \"expect\", \"experi\", \"experi\", \"experi\", \"experi\", \"experi\", \"experi\", \"experi\", \"extraordinari\", \"fabul\", \"face\", \"face\", \"face\", \"face\", \"face\", \"face\", \"facil\", \"fast\", \"fast\", \"fast\", \"fast\", \"fast\", \"fast\", \"faulti\", \"faulti\", \"faulti\", \"featur\", \"featur\", \"featur\", \"featur\", \"featur\", \"feedback\", \"fetur\", \"file\", \"fine\", \"fine\", \"fine\", \"fine\", \"finger\", \"finger\", \"flash\", \"flash\", \"flash\", \"flash\", \"fluctuat\", \"folder\", \"fone\", \"form\", \"fraud\", \"friend\", \"friend\", \"friend\", \"friend\", \"friend\", \"friend\", \"fulli\", \"fulli\", \"fulli\", \"fulli\", \"galleri\", \"galleri\", \"game\", \"game\", \"game\", \"game\", \"game\", \"game\", \"gaya\", \"generat\", \"gestur\", \"get\", \"get\", \"get\", \"get\", \"get\", \"get\", \"get\", \"ghatiya\", \"glass\", \"glass\", \"goodbut\", \"googl\", \"googl\", \"gorilla\", \"graphic\", \"great\", \"great\", \"great\", \"great\", \"group\", \"guarante\", \"guard\", \"guard\", \"guess\", \"handset\", \"handset\", \"handset\", \"handset\", \"handset\", \"handset\", \"hang\", \"hang\", \"hang\", \"hang\", \"hang\", \"hang\", \"hang\", \"happen\", \"happen\", \"happen\", \"happen\", \"happen\", \"happi\", \"happi\", \"happi\", \"happi\", \"happi\", \"headphon\", \"headphon\", \"headphon\", \"heavi\", \"heavi\", \"heavi\", \"heavi\", \"heavili\", \"height\", \"help\", \"help\", \"help\", \"help\", \"help\", \"help\", \"hit\", \"hold\", \"hold\", \"hold\", \"hold\", \"hone\", \"hota\", \"hotspot\", \"hour\", \"hour\", \"hour\", \"imag\", \"imei\", \"inbuilt\", \"inbuilt\", \"incom\", \"internet\", \"internet\", \"internet\", \"internet\", \"issu\", \"issu\", \"issu\", \"issu\", \"issu\", \"issu\", \"issu\", \"item\", \"item\", \"item\", \"jack\", \"jack\", \"jack\", \"jack\", \"jack\", \"jyada\", \"kabhi\", \"karta\", \"key\", \"key\", \"keypad\", \"kharab\", \"kind\", \"kind\", \"kind\", \"kind\", \"kind\", \"kiya\", \"laptop\", \"launch\", \"launch\", \"launch\", \"launch\", \"launch\", \"lena\", \"lenova\", \"lenova\", \"lenova\", \"lenova\", \"lenova\", \"lesser\", \"lesser\", \"life\", \"life\", \"life\", \"life\", \"life\", \"life\", \"light\", \"light\", \"light\", \"light\", \"like\", \"like\", \"like\", \"like\", \"like\", \"like\", \"like\", \"littl\", \"littl\", \"littl\", \"littl\", \"littl\", \"long\", \"long\", \"long\", \"long\", \"look\", \"look\", \"look\", \"look\", \"look\", \"loud\", \"loud\", \"loud\", \"loud\", \"love\", \"love\", \"mail\", \"mail\", \"major\", \"major\", \"major\", \"major\", \"major\", \"major\", \"mark\", \"mark\", \"mark\", \"mark\", \"mark\", \"maximum\", \"maximum\", \"mayb\", \"meet\", \"meet\", \"meet\", \"mera\", \"messag\", \"messag\", \"mila\", \"min\", \"min\", \"min\", \"min\", \"min\", \"min\", \"mind\", \"minimum\", \"minimum\", \"minut\", \"minut\", \"minut\", \"minut\", \"minut\", \"minut\", \"miss\", \"miss\", \"miss\", \"miss\", \"mobail\", \"mode\", \"mode\", \"mode\", \"mode\", \"mode\", \"mode\", \"model\", \"model\", \"model\", \"model\", \"model\", \"model\", \"money\", \"money\", \"money\", \"money\", \"money\", \"month\", \"month\", \"month\", \"month\", \"month\", \"month\", \"month\", \"motion\", \"mujh\", \"music\", \"music\", \"music\", \"music\", \"nahi\", \"navig\", \"near\", \"near\", \"need\", \"need\", \"need\", \"need\", \"need\", \"need\", \"negat\", \"network\", \"network\", \"network\", \"network\", \"nice\", \"normal\", \"normal\", \"normal\", \"normal\", \"normal\", \"normal\", \"note\", \"note\", \"note\", \"note\", \"note\", \"note\", \"note\", \"notif\", \"notif\", \"notif\", \"occur\", \"occur\", \"occur\", \"offer\", \"offer\", \"onlin\", \"onlin\", \"onlin\", \"onlin\", \"open\", \"open\", \"open\", \"open\", \"open\", \"open\", \"open\", \"option\", \"option\", \"option\", \"option\", \"option\", \"option\", \"option\", \"outgo\", \"output\", \"outstand\", \"overal\", \"overal\", \"overal\", \"overal\", \"overal\", \"overal\", \"overh\", \"packag\", \"packag\", \"paid\", \"paisa\", \"paisa\", \"pathet\", \"pathet\", \"pathet\", \"pathet\", \"peac\", \"peopl\", \"peopl\", \"peopl\", \"peopl\", \"peopl\", \"peopl\", \"percent\", \"perform\", \"perform\", \"perform\", \"perform\", \"perform\", \"perform\", \"perform\", \"photo\", \"photo\", \"photo\", \"photo\", \"photographi\", \"pictur\", \"pictur\", \"pictur\", \"pictur\", \"piec\", \"piec\", \"piec\", \"pixel\", \"play\", \"play\", \"play\", \"play\", \"play\", \"play\", \"player\", \"player\", \"polici\", \"polici\", \"poor\", \"poor\", \"poor\", \"poor\", \"poor\", \"poor\", \"press\", \"price\", \"price\", \"price\", \"price\", \"print\", \"print\", \"prize\", \"problam\", \"problem\", \"problem\", \"problem\", \"problem\", \"problem\", \"problem\", \"problem\", \"processor\", \"processor\", \"processor\", \"processor\", \"promot\", \"proper\", \"proper\", \"proper\", \"proper\", \"proper\", \"provid\", \"provid\", \"provid\", \"provid\", \"provid\", \"provid\", \"provid\", \"purchas\", \"purchas\", \"purchas\", \"purchas\", \"purchas\", \"purchas\", \"purchas\", \"push\", \"qualiti\", \"qualiti\", \"qualiti\", \"qualiti\", \"qualiti\", \"qualiti\", \"quick\", \"quick\", \"quick\", \"quick\", \"quick\", \"quick\", \"quick\", \"raha\", \"rang\", \"rang\", \"rang\", \"rang\", \"rang\", \"rapid\", \"rapid\", \"rapid\", \"rapid\", \"reboot\", \"receiv\", \"receiv\", \"receiv\", \"receiv\", \"receiv\", \"receiv\", \"receiv\", \"recept\", \"recept\", \"reciv\", \"record\", \"record\", \"refund\", \"refund\", \"refund\", \"repair\", \"repair\", \"replac\", \"replac\", \"replac\", \"replac\", \"replac\", \"request\", \"request\", \"request\", \"request\", \"request\", \"resolv\", \"resolv\", \"resolv\", \"resolv\", \"restart\", \"restart\", \"restart\", \"restart\", \"restart\", \"return\", \"return\", \"return\", \"return\", \"return\", \"return\", \"review\", \"review\", \"review\", \"review\", \"review\", \"review\", \"rich\", \"ring\", \"rington\", \"rough\", \"said\", \"said\", \"said\", \"said\", \"sale\", \"sale\", \"sale\", \"sale\", \"satisfi\", \"satisfi\", \"satisfi\", \"satisfi\", \"satisfi\", \"screen\", \"screen\", \"screen\", \"screen\", \"screen\", \"screen\", \"screen\", \"secur\", \"seen\", \"seen\", \"segment\", \"segment\", \"selfi\", \"selfi\", \"selfi\", \"sell\", \"sell\", \"sell\", \"sell\", \"sell\", \"sell\", \"seller\", \"send\", \"send\", \"send\", \"send\", \"send\", \"sensor\", \"sensor\", \"sensor\", \"sept\", \"servic\", \"servic\", \"servic\", \"shortcut\", \"show\", \"show\", \"show\", \"show\", \"show\", \"show\", \"shut\", \"signal\", \"signal\", \"signal\", \"signal\", \"signal\", \"silent\", \"slim\", \"slot\", \"slot\", \"slot\", \"slot\", \"slot\", \"slow\", \"slow\", \"slow\", \"slow\", \"slow\", \"slow\", \"slower\", \"small\", \"small\", \"small\", \"small\", \"small\", \"smart\", \"smart\", \"smart\", \"smart\", \"smartphon\", \"smooth\", \"smooth\", \"smooth\", \"snapdragon\", \"softwar\", \"softwar\", \"softwar\", \"softwar\", \"softwar\", \"solv\", \"song\", \"soon\", \"soon\", \"soon\", \"sort\", \"sound\", \"sound\", \"sound\", \"sound\", \"sound\", \"sound\", \"sound\", \"speaker\", \"speaker\", \"speaker\", \"speaker\", \"speaker\", \"speaker\", \"spot\", \"stand\", \"stand\", \"stand\", \"standbi\", \"standbi\", \"standbi\", \"star\", \"star\", \"star\", \"star\", \"star\", \"star\", \"start\", \"start\", \"start\", \"start\", \"start\", \"start\", \"step\", \"stop\", \"stop\", \"stop\", \"stop\", \"stop\", \"strength\", \"strength\", \"stylish\", \"sudden\", \"sudden\", \"suggest\", \"suggest\", \"suggest\", \"suggest\", \"suggest\", \"suggest\", \"suggest\", \"super\", \"superb\", \"superb\", \"suppli\", \"suppli\", \"support\", \"support\", \"support\", \"support\", \"support\", \"support\", \"suppos\", \"suppos\", \"surviv\", \"switch\", \"switch\", \"switch\", \"switch\", \"switch\", \"switch\", \"take\", \"take\", \"take\", \"take\", \"take\", \"take\", \"take\", \"team\", \"team\", \"team\", \"team\", \"technician\", \"technician\", \"thank\", \"thank\", \"thank\", \"thank\", \"theme\", \"think\", \"think\", \"think\", \"think\", \"think\", \"think\", \"think\", \"till\", \"till\", \"till\", \"till\", \"time\", \"time\", \"time\", \"time\", \"time\", \"time\", \"time\", \"told\", \"told\", \"told\", \"tone\", \"tooth\", \"total\", \"total\", \"total\", \"total\", \"total\", \"total\", \"track\", \"trap\", \"travel\", \"tray\", \"truli\", \"turbo\", \"turbo\", \"turbocharg\", \"turbocharg\", \"uniqu\", \"updat\", \"updat\", \"updat\", \"updat\", \"updat\", \"updat\", \"updat\", \"usag\", \"usag\", \"usag\", \"usag\", \"usag\", \"usag\", \"valu\", \"valu\", \"valu\", \"venom\", \"venom\", \"verri\", \"vibe\", \"vibe\", \"vibe\", \"vibe\", \"vibrat\", \"video\", \"video\", \"video\", \"video\", \"video\", \"video\", \"visit\", \"visit\", \"vodafon\", \"voic\", \"volta\", \"volum\", \"volum\", \"want\", \"want\", \"want\", \"want\", \"want\", \"want\", \"want\", \"warm\", \"warm\", \"warm\", \"wasool\", \"wast\", \"wast\", \"wast\", \"wastag\", \"websit\", \"west\", \"wifi\", \"wifi\", \"wireless\", \"worest\", \"world\", \"world\", \"worst\", \"worst\", \"worst\", \"worst\", \"worst\", \"worst\", \"worth\", \"worth\", \"worth\", \"worth\", \"wrong\", \"wrong\", \"wrost\", \"zoom\", \"zoom\"]}, \"R\": 30, \"lambda.step\": 0.01, \"plot.opts\": {\"xlab\": \"PC1\", \"ylab\": \"PC2\"}, \"topic.order\": [1, 3, 5, 2, 7, 6, 4]};\n",
       "\n",
       "function LDAvis_load_lib(url, callback){\n",
       "  var s = document.createElement('script');\n",
       "  s.src = url;\n",
       "  s.async = true;\n",
       "  s.onreadystatechange = s.onload = callback;\n",
       "  s.onerror = function(){console.warn(\"failed to load library \" + url);};\n",
       "  document.getElementsByTagName(\"head\")[0].appendChild(s);\n",
       "}\n",
       "\n",
       "if(typeof(LDAvis) !== \"undefined\"){\n",
       "   // already loaded: just create the visualization\n",
       "   !function(LDAvis){\n",
       "       new LDAvis(\"#\" + \"ldavis_el1031398113482760486095027646\", ldavis_el1031398113482760486095027646_data);\n",
       "   }(LDAvis);\n",
       "}else if(typeof define === \"function\" && define.amd){\n",
       "   // require.js is available: use it to load d3/LDAvis\n",
       "   require.config({paths: {d3: \"https://cdnjs.cloudflare.com/ajax/libs/d3/3.5.5/d3.min\"}});\n",
       "   require([\"d3\"], function(d3){\n",
       "      window.d3 = d3;\n",
       "      LDAvis_load_lib(\"https://cdn.rawgit.com/bmabey/pyLDAvis/files/ldavis.v1.0.0.js\", function(){\n",
       "        new LDAvis(\"#\" + \"ldavis_el1031398113482760486095027646\", ldavis_el1031398113482760486095027646_data);\n",
       "      });\n",
       "    });\n",
       "}else{\n",
       "    // require.js not available: dynamically load d3 & LDAvis\n",
       "    LDAvis_load_lib(\"https://cdnjs.cloudflare.com/ajax/libs/d3/3.5.5/d3.min.js\", function(){\n",
       "         LDAvis_load_lib(\"https://cdn.rawgit.com/bmabey/pyLDAvis/files/ldavis.v1.0.0.js\", function(){\n",
       "                 new LDAvis(\"#\" + \"ldavis_el1031398113482760486095027646\", ldavis_el1031398113482760486095027646_data);\n",
       "            })\n",
       "         });\n",
       "}\n",
       "</script>"
      ],
      "text/plain": [
       "PreparedData(topic_coordinates=              x         y  topics  cluster       Freq\n",
       "topic                                                \n",
       "0     -0.244051  0.123368       1        1  24.287073\n",
       "2     -0.050292  0.113770       2        1  17.178902\n",
       "4     -0.156443 -0.099698       3        1  16.614618\n",
       "1      0.067588  0.045762       4        1  12.158487\n",
       "6     -0.006705 -0.235072       5        1  10.609597\n",
       "5      0.222854  0.123623       6        1  10.510102\n",
       "3      0.167049 -0.071753       7        1   8.641230, topic_info=        Term         Freq        Total Category  logprob  loglift\n",
       "35   problem  1615.000000  1615.000000  Default  30.0000  30.0000\n",
       "8      charg  1864.000000  1864.000000  Default  29.0000  29.0000\n",
       "148     nice  1414.000000  1414.000000  Default  28.0000  28.0000\n",
       "29     worst   958.000000   958.000000  Default  27.0000  27.0000\n",
       "3     amazon   966.000000   966.000000  Default  26.0000  26.0000\n",
       "..       ...          ...          ...      ...      ...      ...\n",
       "340   proper    62.146881   429.205933   Topic7  -4.9329   0.5162\n",
       "22      like    73.888092   970.867188   Topic7  -4.7599  -0.1270\n",
       "135    worth    55.015209   308.666962   Topic7  -5.0548   0.7240\n",
       "4     backup    55.964119   638.429016   Topic7  -5.0377   0.0143\n",
       "105  display    53.406574   433.701080   Topic7  -5.0845   0.3542\n",
       "\n",
       "[494 rows x 6 columns], token_table=      Topic      Freq    Term\n",
       "term                         \n",
       "1509      6  0.903756    abhi\n",
       "358       3  0.971247  adjust\n",
       "897       4  0.985605  advanc\n",
       "538       1  0.950951  afford\n",
       "693       6  0.940234    agar\n",
       "...     ...       ...     ...\n",
       "485       2  0.882980   wrong\n",
       "485       6  0.107028   wrong\n",
       "57        7  0.982172   wrost\n",
       "457       3  0.905443    zoom\n",
       "457       6  0.058416    zoom\n",
       "\n",
       "[1144 rows x 3 columns], R=30, lambda_step=0.01, plot_opts={'xlab': 'PC1', 'ylab': 'PC2'}, topic_order=[1, 3, 5, 2, 7, 6, 4])"
      ]
     },
     "execution_count": 221,
     "metadata": {},
     "output_type": "execute_result"
    }
   ],
   "source": [
    "import pyLDAvis.gensim\n",
    "import pickle \n",
    "import pyLDAvis\n",
    "# Visualize the topics\n",
    "pyLDAvis.enable_notebook()\n",
    "LDAvis_prepared = pyLDAvis.gensim.prepare(lda_model_final, bow_corpus, dictionary)\n",
    "LDAvis_prepared"
   ]
  },
  {
   "cell_type": "markdown",
   "metadata": {},
   "source": [
    "## _Topic Classification_\n",
    "\n",
    "- _Topic 1: Nice performance for the budget (all the good reviews)_\n",
    "- _Topic 2: Problems with battery charge and drain_\n",
    "- _Topic 3: Poor quality of sound and video_\n",
    "- _Topic 4: Reliiability issues very early since bought_\n",
    "- _Topic 5: Connectivity Issues_ \n",
    "- _Topic 6: Poor customer and replacement service_\n",
    "- _Topic 7: Quality and Reliability Issues like phone hangs_ "
   ]
  },
  {
   "cell_type": "code",
   "execution_count": null,
   "metadata": {},
   "outputs": [],
   "source": []
  }
 ],
 "metadata": {
  "kernelspec": {
   "display_name": "Python 3",
   "language": "python",
   "name": "python3"
  },
  "language_info": {
   "codemirror_mode": {
    "name": "ipython",
    "version": 3
   },
   "file_extension": ".py",
   "mimetype": "text/x-python",
   "name": "python",
   "nbconvert_exporter": "python",
   "pygments_lexer": "ipython3",
   "version": "3.7.6"
  }
 },
 "nbformat": 4,
 "nbformat_minor": 4
}
