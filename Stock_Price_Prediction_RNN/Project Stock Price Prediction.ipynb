{
 "cells": [
  {
   "cell_type": "markdown",
   "metadata": {},
   "source": [
    " # Predicting Stock Prices\n",
    " Author - Prakhar Prasad"
   ]
  },
  {
   "cell_type": "markdown",
   "metadata": {},
   "source": [
    "## Import the required python libraries"
   ]
  },
  {
   "cell_type": "code",
   "execution_count": 2,
   "metadata": {},
   "outputs": [],
   "source": [
    "# usual imports\n",
    "import pandas as pd\n",
    "import numpy as np\n",
    "\n",
    "# visualization imports\n",
    "import seaborn as sns\n",
    "import matplotlib.pyplot as plt\n",
    "%matplotlib inline\n",
    "\n",
    "# ignore unwanted warnings\n",
    "import warnings\n",
    "warnings.filterwarnings(action='ignore',message='')\n",
    "\n",
    "# view all the columns of the dataframe\n",
    "pd.options.display.max_columns = None\n",
    "\n",
    "# consistent image plot\n",
    "from pylab import rcParams\n",
    "rcParams['figure.figsize'] = 15,7\n",
    "rcParams['axes.labelsize'] = 12\n",
    "rcParams['xtick.labelsize'] = 12\n",
    "rcParams['ytick.labelsize'] = 12"
   ]
  },
  {
   "cell_type": "markdown",
   "metadata": {},
   "source": [
    "## Load the dataset"
   ]
  },
  {
   "cell_type": "code",
   "execution_count": 85,
   "metadata": {},
   "outputs": [],
   "source": [
    "prices = pd.read_csv('/cxldata/datasets/project/ny_stock_prediction/prices-split-adjusted.csv')"
   ]
  },
  {
   "cell_type": "code",
   "execution_count": 86,
   "metadata": {},
   "outputs": [],
   "source": [
    "fundamentals = pd.read_csv('/cxldata/datasets/project/ny_stock_prediction/fundamentals.csv')"
   ]
  },
  {
   "cell_type": "markdown",
   "metadata": {},
   "source": [
    "## Data Exploration"
   ]
  },
  {
   "cell_type": "code",
   "execution_count": 87,
   "metadata": {},
   "outputs": [
    {
     "data": {
      "text/html": [
       "<div>\n",
       "<style scoped>\n",
       "    .dataframe tbody tr th:only-of-type {\n",
       "        vertical-align: middle;\n",
       "    }\n",
       "\n",
       "    .dataframe tbody tr th {\n",
       "        vertical-align: top;\n",
       "    }\n",
       "\n",
       "    .dataframe thead th {\n",
       "        text-align: right;\n",
       "    }\n",
       "</style>\n",
       "<table border=\"1\" class=\"dataframe\">\n",
       "  <thead>\n",
       "    <tr style=\"text-align: right;\">\n",
       "      <th></th>\n",
       "      <th>date</th>\n",
       "      <th>symbol</th>\n",
       "      <th>open</th>\n",
       "      <th>close</th>\n",
       "      <th>low</th>\n",
       "      <th>high</th>\n",
       "      <th>volume</th>\n",
       "    </tr>\n",
       "  </thead>\n",
       "  <tbody>\n",
       "    <tr>\n",
       "      <td>0</td>\n",
       "      <td>2016-01-05</td>\n",
       "      <td>WLTW</td>\n",
       "      <td>123.430000</td>\n",
       "      <td>125.839996</td>\n",
       "      <td>122.309998</td>\n",
       "      <td>126.250000</td>\n",
       "      <td>2163600.0</td>\n",
       "    </tr>\n",
       "    <tr>\n",
       "      <td>1</td>\n",
       "      <td>2016-01-06</td>\n",
       "      <td>WLTW</td>\n",
       "      <td>125.239998</td>\n",
       "      <td>119.980003</td>\n",
       "      <td>119.940002</td>\n",
       "      <td>125.540001</td>\n",
       "      <td>2386400.0</td>\n",
       "    </tr>\n",
       "    <tr>\n",
       "      <td>2</td>\n",
       "      <td>2016-01-07</td>\n",
       "      <td>WLTW</td>\n",
       "      <td>116.379997</td>\n",
       "      <td>114.949997</td>\n",
       "      <td>114.930000</td>\n",
       "      <td>119.739998</td>\n",
       "      <td>2489500.0</td>\n",
       "    </tr>\n",
       "    <tr>\n",
       "      <td>3</td>\n",
       "      <td>2016-01-08</td>\n",
       "      <td>WLTW</td>\n",
       "      <td>115.480003</td>\n",
       "      <td>116.620003</td>\n",
       "      <td>113.500000</td>\n",
       "      <td>117.440002</td>\n",
       "      <td>2006300.0</td>\n",
       "    </tr>\n",
       "    <tr>\n",
       "      <td>4</td>\n",
       "      <td>2016-01-11</td>\n",
       "      <td>WLTW</td>\n",
       "      <td>117.010002</td>\n",
       "      <td>114.970001</td>\n",
       "      <td>114.089996</td>\n",
       "      <td>117.330002</td>\n",
       "      <td>1408600.0</td>\n",
       "    </tr>\n",
       "  </tbody>\n",
       "</table>\n",
       "</div>"
      ],
      "text/plain": [
       "         date symbol        open       close         low        high  \\\n",
       "0  2016-01-05   WLTW  123.430000  125.839996  122.309998  126.250000   \n",
       "1  2016-01-06   WLTW  125.239998  119.980003  119.940002  125.540001   \n",
       "2  2016-01-07   WLTW  116.379997  114.949997  114.930000  119.739998   \n",
       "3  2016-01-08   WLTW  115.480003  116.620003  113.500000  117.440002   \n",
       "4  2016-01-11   WLTW  117.010002  114.970001  114.089996  117.330002   \n",
       "\n",
       "      volume  \n",
       "0  2163600.0  \n",
       "1  2386400.0  \n",
       "2  2489500.0  \n",
       "3  2006300.0  \n",
       "4  1408600.0  "
      ]
     },
     "execution_count": 87,
     "metadata": {},
     "output_type": "execute_result"
    }
   ],
   "source": [
    "# check the first few rows of the stock prices\n",
    "prices.head()"
   ]
  },
  {
   "cell_type": "code",
   "execution_count": 88,
   "metadata": {},
   "outputs": [
    {
     "data": {
      "text/html": [
       "<div>\n",
       "<style scoped>\n",
       "    .dataframe tbody tr th:only-of-type {\n",
       "        vertical-align: middle;\n",
       "    }\n",
       "\n",
       "    .dataframe tbody tr th {\n",
       "        vertical-align: top;\n",
       "    }\n",
       "\n",
       "    .dataframe thead th {\n",
       "        text-align: right;\n",
       "    }\n",
       "</style>\n",
       "<table border=\"1\" class=\"dataframe\">\n",
       "  <thead>\n",
       "    <tr style=\"text-align: right;\">\n",
       "      <th></th>\n",
       "      <th>Unnamed: 0</th>\n",
       "      <th>Ticker Symbol</th>\n",
       "      <th>Period Ending</th>\n",
       "      <th>Accounts Payable</th>\n",
       "      <th>Accounts Receivable</th>\n",
       "      <th>Add'l income/expense items</th>\n",
       "      <th>After Tax ROE</th>\n",
       "      <th>Capital Expenditures</th>\n",
       "      <th>Capital Surplus</th>\n",
       "      <th>Cash Ratio</th>\n",
       "      <th>Cash and Cash Equivalents</th>\n",
       "      <th>Changes in Inventories</th>\n",
       "      <th>Common Stocks</th>\n",
       "      <th>Cost of Revenue</th>\n",
       "      <th>Current Ratio</th>\n",
       "      <th>Deferred Asset Charges</th>\n",
       "      <th>Deferred Liability Charges</th>\n",
       "      <th>Depreciation</th>\n",
       "      <th>Earnings Before Interest and Tax</th>\n",
       "      <th>Earnings Before Tax</th>\n",
       "      <th>Effect of Exchange Rate</th>\n",
       "      <th>Equity Earnings/Loss Unconsolidated Subsidiary</th>\n",
       "      <th>Fixed Assets</th>\n",
       "      <th>Goodwill</th>\n",
       "      <th>Gross Margin</th>\n",
       "      <th>Gross Profit</th>\n",
       "      <th>Income Tax</th>\n",
       "      <th>Intangible Assets</th>\n",
       "      <th>Interest Expense</th>\n",
       "      <th>Inventory</th>\n",
       "      <th>Investments</th>\n",
       "      <th>Liabilities</th>\n",
       "      <th>Long-Term Debt</th>\n",
       "      <th>Long-Term Investments</th>\n",
       "      <th>Minority Interest</th>\n",
       "      <th>Misc. Stocks</th>\n",
       "      <th>Net Borrowings</th>\n",
       "      <th>Net Cash Flow</th>\n",
       "      <th>Net Cash Flow-Operating</th>\n",
       "      <th>Net Cash Flows-Financing</th>\n",
       "      <th>Net Cash Flows-Investing</th>\n",
       "      <th>Net Income</th>\n",
       "      <th>Net Income Adjustments</th>\n",
       "      <th>Net Income Applicable to Common Shareholders</th>\n",
       "      <th>Net Income-Cont. Operations</th>\n",
       "      <th>Net Receivables</th>\n",
       "      <th>Non-Recurring Items</th>\n",
       "      <th>Operating Income</th>\n",
       "      <th>Operating Margin</th>\n",
       "      <th>Other Assets</th>\n",
       "      <th>Other Current Assets</th>\n",
       "      <th>Other Current Liabilities</th>\n",
       "      <th>Other Equity</th>\n",
       "      <th>Other Financing Activities</th>\n",
       "      <th>Other Investing Activities</th>\n",
       "      <th>Other Liabilities</th>\n",
       "      <th>Other Operating Activities</th>\n",
       "      <th>Other Operating Items</th>\n",
       "      <th>Pre-Tax Margin</th>\n",
       "      <th>Pre-Tax ROE</th>\n",
       "      <th>Profit Margin</th>\n",
       "      <th>Quick Ratio</th>\n",
       "      <th>Research and Development</th>\n",
       "      <th>Retained Earnings</th>\n",
       "      <th>Sale and Purchase of Stock</th>\n",
       "      <th>Sales, General and Admin.</th>\n",
       "      <th>Short-Term Debt / Current Portion of Long-Term Debt</th>\n",
       "      <th>Short-Term Investments</th>\n",
       "      <th>Total Assets</th>\n",
       "      <th>Total Current Assets</th>\n",
       "      <th>Total Current Liabilities</th>\n",
       "      <th>Total Equity</th>\n",
       "      <th>Total Liabilities</th>\n",
       "      <th>Total Liabilities &amp; Equity</th>\n",
       "      <th>Total Revenue</th>\n",
       "      <th>Treasury Stock</th>\n",
       "      <th>For Year</th>\n",
       "      <th>Earnings Per Share</th>\n",
       "      <th>Estimated Shares Outstanding</th>\n",
       "    </tr>\n",
       "  </thead>\n",
       "  <tbody>\n",
       "    <tr>\n",
       "      <td>0</td>\n",
       "      <td>0</td>\n",
       "      <td>AAL</td>\n",
       "      <td>2012-12-31</td>\n",
       "      <td>3.068000e+09</td>\n",
       "      <td>-222000000.0</td>\n",
       "      <td>-1.961000e+09</td>\n",
       "      <td>23.0</td>\n",
       "      <td>-1.888000e+09</td>\n",
       "      <td>4.695000e+09</td>\n",
       "      <td>53.0</td>\n",
       "      <td>1.330000e+09</td>\n",
       "      <td>0.0</td>\n",
       "      <td>127000000.0</td>\n",
       "      <td>1.049900e+10</td>\n",
       "      <td>78.0</td>\n",
       "      <td>0.000000e+00</td>\n",
       "      <td>223000000.0</td>\n",
       "      <td>1.001000e+09</td>\n",
       "      <td>-1.813000e+09</td>\n",
       "      <td>-2.445000e+09</td>\n",
       "      <td>0.0</td>\n",
       "      <td>0.0</td>\n",
       "      <td>1.340200e+10</td>\n",
       "      <td>0.000000e+00</td>\n",
       "      <td>58.0</td>\n",
       "      <td>1.435600e+10</td>\n",
       "      <td>-5.690000e+08</td>\n",
       "      <td>8.690000e+08</td>\n",
       "      <td>632000000.0</td>\n",
       "      <td>5.800000e+08</td>\n",
       "      <td>3.060000e+08</td>\n",
       "      <td>4.730000e+08</td>\n",
       "      <td>7.116000e+09</td>\n",
       "      <td>0.0</td>\n",
       "      <td>0.0</td>\n",
       "      <td>0.0</td>\n",
       "      <td>-1.020000e+09</td>\n",
       "      <td>197000000.0</td>\n",
       "      <td>1.285000e+09</td>\n",
       "      <td>4.830000e+08</td>\n",
       "      <td>-1.571000e+09</td>\n",
       "      <td>-1.876000e+09</td>\n",
       "      <td>2.050000e+09</td>\n",
       "      <td>-1.876000e+09</td>\n",
       "      <td>-4.084000e+09</td>\n",
       "      <td>1.124000e+09</td>\n",
       "      <td>3.860000e+08</td>\n",
       "      <td>1.480000e+08</td>\n",
       "      <td>1.0</td>\n",
       "      <td>2.167000e+09</td>\n",
       "      <td>6.260000e+08</td>\n",
       "      <td>4.524000e+09</td>\n",
       "      <td>-2.980000e+09</td>\n",
       "      <td>1.509000e+09</td>\n",
       "      <td>11000000.0</td>\n",
       "      <td>1.514700e+10</td>\n",
       "      <td>-141000000.0</td>\n",
       "      <td>8.450000e+08</td>\n",
       "      <td>10.0</td>\n",
       "      <td>31.0</td>\n",
       "      <td>8.0</td>\n",
       "      <td>72.0</td>\n",
       "      <td>0.0</td>\n",
       "      <td>-9.462000e+09</td>\n",
       "      <td>0.000000e+00</td>\n",
       "      <td>1.297700e+10</td>\n",
       "      <td>1.419000e+09</td>\n",
       "      <td>3.412000e+09</td>\n",
       "      <td>2.351000e+10</td>\n",
       "      <td>7.072000e+09</td>\n",
       "      <td>9.011000e+09</td>\n",
       "      <td>-7.987000e+09</td>\n",
       "      <td>2.489100e+10</td>\n",
       "      <td>1.690400e+10</td>\n",
       "      <td>2.485500e+10</td>\n",
       "      <td>-367000000.0</td>\n",
       "      <td>2012.0</td>\n",
       "      <td>-5.60</td>\n",
       "      <td>3.350000e+08</td>\n",
       "    </tr>\n",
       "    <tr>\n",
       "      <td>1</td>\n",
       "      <td>1</td>\n",
       "      <td>AAL</td>\n",
       "      <td>2013-12-31</td>\n",
       "      <td>4.975000e+09</td>\n",
       "      <td>-93000000.0</td>\n",
       "      <td>-2.723000e+09</td>\n",
       "      <td>67.0</td>\n",
       "      <td>-3.114000e+09</td>\n",
       "      <td>1.059200e+10</td>\n",
       "      <td>75.0</td>\n",
       "      <td>2.175000e+09</td>\n",
       "      <td>0.0</td>\n",
       "      <td>5000000.0</td>\n",
       "      <td>1.101900e+10</td>\n",
       "      <td>104.0</td>\n",
       "      <td>0.000000e+00</td>\n",
       "      <td>935000000.0</td>\n",
       "      <td>1.020000e+09</td>\n",
       "      <td>-1.324000e+09</td>\n",
       "      <td>-2.180000e+09</td>\n",
       "      <td>0.0</td>\n",
       "      <td>0.0</td>\n",
       "      <td>1.925900e+10</td>\n",
       "      <td>4.086000e+09</td>\n",
       "      <td>59.0</td>\n",
       "      <td>1.572400e+10</td>\n",
       "      <td>-3.460000e+08</td>\n",
       "      <td>2.311000e+09</td>\n",
       "      <td>856000000.0</td>\n",
       "      <td>1.012000e+09</td>\n",
       "      <td>-1.181000e+09</td>\n",
       "      <td>-2.350000e+08</td>\n",
       "      <td>1.535300e+10</td>\n",
       "      <td>0.0</td>\n",
       "      <td>0.0</td>\n",
       "      <td>0.0</td>\n",
       "      <td>2.208000e+09</td>\n",
       "      <td>660000000.0</td>\n",
       "      <td>6.750000e+08</td>\n",
       "      <td>3.799000e+09</td>\n",
       "      <td>-3.814000e+09</td>\n",
       "      <td>-1.834000e+09</td>\n",
       "      <td>1.873000e+09</td>\n",
       "      <td>-1.834000e+09</td>\n",
       "      <td>-4.489000e+09</td>\n",
       "      <td>1.560000e+09</td>\n",
       "      <td>5.590000e+08</td>\n",
       "      <td>1.399000e+09</td>\n",
       "      <td>5.0</td>\n",
       "      <td>2.299000e+09</td>\n",
       "      <td>1.465000e+09</td>\n",
       "      <td>7.385000e+09</td>\n",
       "      <td>-2.032000e+09</td>\n",
       "      <td>1.711000e+09</td>\n",
       "      <td>481000000.0</td>\n",
       "      <td>1.491500e+10</td>\n",
       "      <td>-56000000.0</td>\n",
       "      <td>8.530000e+08</td>\n",
       "      <td>8.0</td>\n",
       "      <td>80.0</td>\n",
       "      <td>7.0</td>\n",
       "      <td>96.0</td>\n",
       "      <td>0.0</td>\n",
       "      <td>-1.129600e+10</td>\n",
       "      <td>0.000000e+00</td>\n",
       "      <td>1.291300e+10</td>\n",
       "      <td>1.446000e+09</td>\n",
       "      <td>8.111000e+09</td>\n",
       "      <td>4.227800e+10</td>\n",
       "      <td>1.432300e+10</td>\n",
       "      <td>1.380600e+10</td>\n",
       "      <td>-2.731000e+09</td>\n",
       "      <td>4.500900e+10</td>\n",
       "      <td>4.227800e+10</td>\n",
       "      <td>2.674300e+10</td>\n",
       "      <td>0.0</td>\n",
       "      <td>2013.0</td>\n",
       "      <td>-11.25</td>\n",
       "      <td>1.630222e+08</td>\n",
       "    </tr>\n",
       "    <tr>\n",
       "      <td>2</td>\n",
       "      <td>2</td>\n",
       "      <td>AAL</td>\n",
       "      <td>2014-12-31</td>\n",
       "      <td>4.668000e+09</td>\n",
       "      <td>-160000000.0</td>\n",
       "      <td>-1.500000e+08</td>\n",
       "      <td>143.0</td>\n",
       "      <td>-5.311000e+09</td>\n",
       "      <td>1.513500e+10</td>\n",
       "      <td>60.0</td>\n",
       "      <td>1.768000e+09</td>\n",
       "      <td>0.0</td>\n",
       "      <td>7000000.0</td>\n",
       "      <td>1.562000e+10</td>\n",
       "      <td>88.0</td>\n",
       "      <td>0.000000e+00</td>\n",
       "      <td>829000000.0</td>\n",
       "      <td>1.342000e+09</td>\n",
       "      <td>4.099000e+09</td>\n",
       "      <td>3.212000e+09</td>\n",
       "      <td>0.0</td>\n",
       "      <td>0.0</td>\n",
       "      <td>2.308400e+10</td>\n",
       "      <td>4.091000e+09</td>\n",
       "      <td>63.0</td>\n",
       "      <td>2.703000e+10</td>\n",
       "      <td>3.300000e+08</td>\n",
       "      <td>2.240000e+09</td>\n",
       "      <td>887000000.0</td>\n",
       "      <td>1.004000e+09</td>\n",
       "      <td>1.799000e+09</td>\n",
       "      <td>-1.026000e+09</td>\n",
       "      <td>1.604300e+10</td>\n",
       "      <td>0.0</td>\n",
       "      <td>0.0</td>\n",
       "      <td>0.0</td>\n",
       "      <td>1.700000e+08</td>\n",
       "      <td>-146000000.0</td>\n",
       "      <td>3.080000e+09</td>\n",
       "      <td>-3.150000e+08</td>\n",
       "      <td>-2.911000e+09</td>\n",
       "      <td>2.882000e+09</td>\n",
       "      <td>5.420000e+08</td>\n",
       "      <td>2.882000e+09</td>\n",
       "      <td>2.882000e+09</td>\n",
       "      <td>1.771000e+09</td>\n",
       "      <td>8.000000e+08</td>\n",
       "      <td>4.249000e+09</td>\n",
       "      <td>10.0</td>\n",
       "      <td>2.060000e+09</td>\n",
       "      <td>8.980000e+08</td>\n",
       "      <td>7.059000e+09</td>\n",
       "      <td>-4.559000e+09</td>\n",
       "      <td>8.170000e+08</td>\n",
       "      <td>601000000.0</td>\n",
       "      <td>1.092800e+10</td>\n",
       "      <td>-500000000.0</td>\n",
       "      <td>1.295000e+09</td>\n",
       "      <td>8.0</td>\n",
       "      <td>159.0</td>\n",
       "      <td>7.0</td>\n",
       "      <td>80.0</td>\n",
       "      <td>0.0</td>\n",
       "      <td>-8.562000e+09</td>\n",
       "      <td>-1.052000e+09</td>\n",
       "      <td>2.068600e+10</td>\n",
       "      <td>1.677000e+09</td>\n",
       "      <td>6.309000e+09</td>\n",
       "      <td>4.322500e+10</td>\n",
       "      <td>1.175000e+10</td>\n",
       "      <td>1.340400e+10</td>\n",
       "      <td>2.021000e+09</td>\n",
       "      <td>4.120400e+10</td>\n",
       "      <td>4.322500e+10</td>\n",
       "      <td>4.265000e+10</td>\n",
       "      <td>0.0</td>\n",
       "      <td>2014.0</td>\n",
       "      <td>4.02</td>\n",
       "      <td>7.169154e+08</td>\n",
       "    </tr>\n",
       "    <tr>\n",
       "      <td>3</td>\n",
       "      <td>3</td>\n",
       "      <td>AAL</td>\n",
       "      <td>2015-12-31</td>\n",
       "      <td>5.102000e+09</td>\n",
       "      <td>352000000.0</td>\n",
       "      <td>-7.080000e+08</td>\n",
       "      <td>135.0</td>\n",
       "      <td>-6.151000e+09</td>\n",
       "      <td>1.159100e+10</td>\n",
       "      <td>51.0</td>\n",
       "      <td>1.085000e+09</td>\n",
       "      <td>0.0</td>\n",
       "      <td>6000000.0</td>\n",
       "      <td>1.109600e+10</td>\n",
       "      <td>73.0</td>\n",
       "      <td>2.477000e+09</td>\n",
       "      <td>667000000.0</td>\n",
       "      <td>1.487000e+09</td>\n",
       "      <td>5.496000e+09</td>\n",
       "      <td>4.616000e+09</td>\n",
       "      <td>0.0</td>\n",
       "      <td>0.0</td>\n",
       "      <td>2.751000e+10</td>\n",
       "      <td>4.091000e+09</td>\n",
       "      <td>73.0</td>\n",
       "      <td>2.989400e+10</td>\n",
       "      <td>-2.994000e+09</td>\n",
       "      <td>2.249000e+09</td>\n",
       "      <td>880000000.0</td>\n",
       "      <td>8.630000e+08</td>\n",
       "      <td>4.430000e+08</td>\n",
       "      <td>-6.330000e+08</td>\n",
       "      <td>1.833000e+10</td>\n",
       "      <td>0.0</td>\n",
       "      <td>0.0</td>\n",
       "      <td>0.0</td>\n",
       "      <td>2.856000e+09</td>\n",
       "      <td>-604000000.0</td>\n",
       "      <td>6.249000e+09</td>\n",
       "      <td>-1.259000e+09</td>\n",
       "      <td>-5.594000e+09</td>\n",
       "      <td>7.610000e+09</td>\n",
       "      <td>-2.662000e+09</td>\n",
       "      <td>7.610000e+09</td>\n",
       "      <td>7.610000e+09</td>\n",
       "      <td>1.425000e+09</td>\n",
       "      <td>1.051000e+09</td>\n",
       "      <td>6.204000e+09</td>\n",
       "      <td>15.0</td>\n",
       "      <td>2.103000e+09</td>\n",
       "      <td>7.480000e+08</td>\n",
       "      <td>6.272000e+09</td>\n",
       "      <td>-4.732000e+09</td>\n",
       "      <td>9.600000e+07</td>\n",
       "      <td>114000000.0</td>\n",
       "      <td>1.017800e+10</td>\n",
       "      <td>95000000.0</td>\n",
       "      <td>1.364000e+09</td>\n",
       "      <td>11.0</td>\n",
       "      <td>82.0</td>\n",
       "      <td>19.0</td>\n",
       "      <td>67.0</td>\n",
       "      <td>0.0</td>\n",
       "      <td>-1.230000e+09</td>\n",
       "      <td>-3.846000e+09</td>\n",
       "      <td>2.127500e+10</td>\n",
       "      <td>2.231000e+09</td>\n",
       "      <td>5.864000e+09</td>\n",
       "      <td>4.841500e+10</td>\n",
       "      <td>9.985000e+09</td>\n",
       "      <td>1.360500e+10</td>\n",
       "      <td>5.635000e+09</td>\n",
       "      <td>4.278000e+10</td>\n",
       "      <td>4.841500e+10</td>\n",
       "      <td>4.099000e+10</td>\n",
       "      <td>0.0</td>\n",
       "      <td>2015.0</td>\n",
       "      <td>11.39</td>\n",
       "      <td>6.681299e+08</td>\n",
       "    </tr>\n",
       "    <tr>\n",
       "      <td>4</td>\n",
       "      <td>4</td>\n",
       "      <td>AAP</td>\n",
       "      <td>2012-12-29</td>\n",
       "      <td>2.409453e+09</td>\n",
       "      <td>-89482000.0</td>\n",
       "      <td>6.000000e+05</td>\n",
       "      <td>32.0</td>\n",
       "      <td>-2.711820e+08</td>\n",
       "      <td>5.202150e+08</td>\n",
       "      <td>23.0</td>\n",
       "      <td>5.981110e+08</td>\n",
       "      <td>-260298000.0</td>\n",
       "      <td>7000.0</td>\n",
       "      <td>3.106967e+09</td>\n",
       "      <td>124.0</td>\n",
       "      <td>0.000000e+00</td>\n",
       "      <td>0.0</td>\n",
       "      <td>1.895440e+08</td>\n",
       "      <td>6.579150e+08</td>\n",
       "      <td>6.240740e+08</td>\n",
       "      <td>0.0</td>\n",
       "      <td>0.0</td>\n",
       "      <td>1.292547e+09</td>\n",
       "      <td>7.638900e+07</td>\n",
       "      <td>50.0</td>\n",
       "      <td>3.098036e+09</td>\n",
       "      <td>2.364040e+08</td>\n",
       "      <td>2.884500e+07</td>\n",
       "      <td>33841000.0</td>\n",
       "      <td>2.308609e+09</td>\n",
       "      <td>0.000000e+00</td>\n",
       "      <td>4.263230e+08</td>\n",
       "      <td>6.044610e+08</td>\n",
       "      <td>0.0</td>\n",
       "      <td>0.0</td>\n",
       "      <td>0.0</td>\n",
       "      <td>1.774450e+08</td>\n",
       "      <td>540210000.0</td>\n",
       "      <td>6.852810e+08</td>\n",
       "      <td>1.279070e+08</td>\n",
       "      <td>-2.729780e+08</td>\n",
       "      <td>3.876700e+08</td>\n",
       "      <td>2.331100e+07</td>\n",
       "      <td>3.876700e+08</td>\n",
       "      <td>3.876700e+08</td>\n",
       "      <td>2.298660e+08</td>\n",
       "      <td>0.000000e+00</td>\n",
       "      <td>6.573150e+08</td>\n",
       "      <td>11.0</td>\n",
       "      <td>3.183300e+07</td>\n",
       "      <td>4.761400e+07</td>\n",
       "      <td>1.495580e+08</td>\n",
       "      <td>2.667000e+06</td>\n",
       "      <td>-3.349900e+07</td>\n",
       "      <td>-1796000.0</td>\n",
       "      <td>2.390210e+08</td>\n",
       "      <td>8213000.0</td>\n",
       "      <td>0.000000e+00</td>\n",
       "      <td>10.0</td>\n",
       "      <td>52.0</td>\n",
       "      <td>6.0</td>\n",
       "      <td>34.0</td>\n",
       "      <td>0.0</td>\n",
       "      <td>7.149000e+08</td>\n",
       "      <td>-1.860000e+07</td>\n",
       "      <td>2.440721e+09</td>\n",
       "      <td>6.270000e+05</td>\n",
       "      <td>0.000000e+00</td>\n",
       "      <td>4.613814e+09</td>\n",
       "      <td>3.184200e+09</td>\n",
       "      <td>2.559638e+09</td>\n",
       "      <td>1.210694e+09</td>\n",
       "      <td>3.403120e+09</td>\n",
       "      <td>4.613814e+09</td>\n",
       "      <td>6.205003e+09</td>\n",
       "      <td>-27095000.0</td>\n",
       "      <td>2012.0</td>\n",
       "      <td>5.29</td>\n",
       "      <td>7.328355e+07</td>\n",
       "    </tr>\n",
       "  </tbody>\n",
       "</table>\n",
       "</div>"
      ],
      "text/plain": [
       "   Unnamed: 0 Ticker Symbol Period Ending  Accounts Payable  \\\n",
       "0           0           AAL    2012-12-31      3.068000e+09   \n",
       "1           1           AAL    2013-12-31      4.975000e+09   \n",
       "2           2           AAL    2014-12-31      4.668000e+09   \n",
       "3           3           AAL    2015-12-31      5.102000e+09   \n",
       "4           4           AAP    2012-12-29      2.409453e+09   \n",
       "\n",
       "   Accounts Receivable  Add'l income/expense items  After Tax ROE  \\\n",
       "0         -222000000.0               -1.961000e+09           23.0   \n",
       "1          -93000000.0               -2.723000e+09           67.0   \n",
       "2         -160000000.0               -1.500000e+08          143.0   \n",
       "3          352000000.0               -7.080000e+08          135.0   \n",
       "4          -89482000.0                6.000000e+05           32.0   \n",
       "\n",
       "   Capital Expenditures  Capital Surplus  Cash Ratio  \\\n",
       "0         -1.888000e+09     4.695000e+09        53.0   \n",
       "1         -3.114000e+09     1.059200e+10        75.0   \n",
       "2         -5.311000e+09     1.513500e+10        60.0   \n",
       "3         -6.151000e+09     1.159100e+10        51.0   \n",
       "4         -2.711820e+08     5.202150e+08        23.0   \n",
       "\n",
       "   Cash and Cash Equivalents  Changes in Inventories  Common Stocks  \\\n",
       "0               1.330000e+09                     0.0    127000000.0   \n",
       "1               2.175000e+09                     0.0      5000000.0   \n",
       "2               1.768000e+09                     0.0      7000000.0   \n",
       "3               1.085000e+09                     0.0      6000000.0   \n",
       "4               5.981110e+08            -260298000.0         7000.0   \n",
       "\n",
       "   Cost of Revenue  Current Ratio  Deferred Asset Charges  \\\n",
       "0     1.049900e+10           78.0            0.000000e+00   \n",
       "1     1.101900e+10          104.0            0.000000e+00   \n",
       "2     1.562000e+10           88.0            0.000000e+00   \n",
       "3     1.109600e+10           73.0            2.477000e+09   \n",
       "4     3.106967e+09          124.0            0.000000e+00   \n",
       "\n",
       "   Deferred Liability Charges  Depreciation  Earnings Before Interest and Tax  \\\n",
       "0                 223000000.0  1.001000e+09                     -1.813000e+09   \n",
       "1                 935000000.0  1.020000e+09                     -1.324000e+09   \n",
       "2                 829000000.0  1.342000e+09                      4.099000e+09   \n",
       "3                 667000000.0  1.487000e+09                      5.496000e+09   \n",
       "4                         0.0  1.895440e+08                      6.579150e+08   \n",
       "\n",
       "   Earnings Before Tax  Effect of Exchange Rate  \\\n",
       "0        -2.445000e+09                      0.0   \n",
       "1        -2.180000e+09                      0.0   \n",
       "2         3.212000e+09                      0.0   \n",
       "3         4.616000e+09                      0.0   \n",
       "4         6.240740e+08                      0.0   \n",
       "\n",
       "   Equity Earnings/Loss Unconsolidated Subsidiary  Fixed Assets      Goodwill  \\\n",
       "0                                             0.0  1.340200e+10  0.000000e+00   \n",
       "1                                             0.0  1.925900e+10  4.086000e+09   \n",
       "2                                             0.0  2.308400e+10  4.091000e+09   \n",
       "3                                             0.0  2.751000e+10  4.091000e+09   \n",
       "4                                             0.0  1.292547e+09  7.638900e+07   \n",
       "\n",
       "   Gross Margin  Gross Profit    Income Tax  Intangible Assets  \\\n",
       "0          58.0  1.435600e+10 -5.690000e+08       8.690000e+08   \n",
       "1          59.0  1.572400e+10 -3.460000e+08       2.311000e+09   \n",
       "2          63.0  2.703000e+10  3.300000e+08       2.240000e+09   \n",
       "3          73.0  2.989400e+10 -2.994000e+09       2.249000e+09   \n",
       "4          50.0  3.098036e+09  2.364040e+08       2.884500e+07   \n",
       "\n",
       "   Interest Expense     Inventory   Investments   Liabilities  Long-Term Debt  \\\n",
       "0       632000000.0  5.800000e+08  3.060000e+08  4.730000e+08    7.116000e+09   \n",
       "1       856000000.0  1.012000e+09 -1.181000e+09 -2.350000e+08    1.535300e+10   \n",
       "2       887000000.0  1.004000e+09  1.799000e+09 -1.026000e+09    1.604300e+10   \n",
       "3       880000000.0  8.630000e+08  4.430000e+08 -6.330000e+08    1.833000e+10   \n",
       "4        33841000.0  2.308609e+09  0.000000e+00  4.263230e+08    6.044610e+08   \n",
       "\n",
       "   Long-Term Investments  Minority Interest  Misc. Stocks  Net Borrowings  \\\n",
       "0                    0.0                0.0           0.0   -1.020000e+09   \n",
       "1                    0.0                0.0           0.0    2.208000e+09   \n",
       "2                    0.0                0.0           0.0    1.700000e+08   \n",
       "3                    0.0                0.0           0.0    2.856000e+09   \n",
       "4                    0.0                0.0           0.0    1.774450e+08   \n",
       "\n",
       "   Net Cash Flow  Net Cash Flow-Operating  Net Cash Flows-Financing  \\\n",
       "0    197000000.0             1.285000e+09              4.830000e+08   \n",
       "1    660000000.0             6.750000e+08              3.799000e+09   \n",
       "2   -146000000.0             3.080000e+09             -3.150000e+08   \n",
       "3   -604000000.0             6.249000e+09             -1.259000e+09   \n",
       "4    540210000.0             6.852810e+08              1.279070e+08   \n",
       "\n",
       "   Net Cash Flows-Investing    Net Income  Net Income Adjustments  \\\n",
       "0             -1.571000e+09 -1.876000e+09            2.050000e+09   \n",
       "1             -3.814000e+09 -1.834000e+09            1.873000e+09   \n",
       "2             -2.911000e+09  2.882000e+09            5.420000e+08   \n",
       "3             -5.594000e+09  7.610000e+09           -2.662000e+09   \n",
       "4             -2.729780e+08  3.876700e+08            2.331100e+07   \n",
       "\n",
       "   Net Income Applicable to Common Shareholders  Net Income-Cont. Operations  \\\n",
       "0                                 -1.876000e+09                -4.084000e+09   \n",
       "1                                 -1.834000e+09                -4.489000e+09   \n",
       "2                                  2.882000e+09                 2.882000e+09   \n",
       "3                                  7.610000e+09                 7.610000e+09   \n",
       "4                                  3.876700e+08                 3.876700e+08   \n",
       "\n",
       "   Net Receivables  Non-Recurring Items  Operating Income  Operating Margin  \\\n",
       "0     1.124000e+09         3.860000e+08      1.480000e+08               1.0   \n",
       "1     1.560000e+09         5.590000e+08      1.399000e+09               5.0   \n",
       "2     1.771000e+09         8.000000e+08      4.249000e+09              10.0   \n",
       "3     1.425000e+09         1.051000e+09      6.204000e+09              15.0   \n",
       "4     2.298660e+08         0.000000e+00      6.573150e+08              11.0   \n",
       "\n",
       "   Other Assets  Other Current Assets  Other Current Liabilities  \\\n",
       "0  2.167000e+09          6.260000e+08               4.524000e+09   \n",
       "1  2.299000e+09          1.465000e+09               7.385000e+09   \n",
       "2  2.060000e+09          8.980000e+08               7.059000e+09   \n",
       "3  2.103000e+09          7.480000e+08               6.272000e+09   \n",
       "4  3.183300e+07          4.761400e+07               1.495580e+08   \n",
       "\n",
       "   Other Equity  Other Financing Activities  Other Investing Activities  \\\n",
       "0 -2.980000e+09                1.509000e+09                  11000000.0   \n",
       "1 -2.032000e+09                1.711000e+09                 481000000.0   \n",
       "2 -4.559000e+09                8.170000e+08                 601000000.0   \n",
       "3 -4.732000e+09                9.600000e+07                 114000000.0   \n",
       "4  2.667000e+06               -3.349900e+07                  -1796000.0   \n",
       "\n",
       "   Other Liabilities  Other Operating Activities  Other Operating Items  \\\n",
       "0       1.514700e+10                -141000000.0           8.450000e+08   \n",
       "1       1.491500e+10                 -56000000.0           8.530000e+08   \n",
       "2       1.092800e+10                -500000000.0           1.295000e+09   \n",
       "3       1.017800e+10                  95000000.0           1.364000e+09   \n",
       "4       2.390210e+08                   8213000.0           0.000000e+00   \n",
       "\n",
       "   Pre-Tax Margin  Pre-Tax ROE  Profit Margin  Quick Ratio  \\\n",
       "0            10.0         31.0            8.0         72.0   \n",
       "1             8.0         80.0            7.0         96.0   \n",
       "2             8.0        159.0            7.0         80.0   \n",
       "3            11.0         82.0           19.0         67.0   \n",
       "4            10.0         52.0            6.0         34.0   \n",
       "\n",
       "   Research and Development  Retained Earnings  Sale and Purchase of Stock  \\\n",
       "0                       0.0      -9.462000e+09                0.000000e+00   \n",
       "1                       0.0      -1.129600e+10                0.000000e+00   \n",
       "2                       0.0      -8.562000e+09               -1.052000e+09   \n",
       "3                       0.0      -1.230000e+09               -3.846000e+09   \n",
       "4                       0.0       7.149000e+08               -1.860000e+07   \n",
       "\n",
       "   Sales, General and Admin.  \\\n",
       "0               1.297700e+10   \n",
       "1               1.291300e+10   \n",
       "2               2.068600e+10   \n",
       "3               2.127500e+10   \n",
       "4               2.440721e+09   \n",
       "\n",
       "   Short-Term Debt / Current Portion of Long-Term Debt  \\\n",
       "0                                       1.419000e+09     \n",
       "1                                       1.446000e+09     \n",
       "2                                       1.677000e+09     \n",
       "3                                       2.231000e+09     \n",
       "4                                       6.270000e+05     \n",
       "\n",
       "   Short-Term Investments  Total Assets  Total Current Assets  \\\n",
       "0            3.412000e+09  2.351000e+10          7.072000e+09   \n",
       "1            8.111000e+09  4.227800e+10          1.432300e+10   \n",
       "2            6.309000e+09  4.322500e+10          1.175000e+10   \n",
       "3            5.864000e+09  4.841500e+10          9.985000e+09   \n",
       "4            0.000000e+00  4.613814e+09          3.184200e+09   \n",
       "\n",
       "   Total Current Liabilities  Total Equity  Total Liabilities  \\\n",
       "0               9.011000e+09 -7.987000e+09       2.489100e+10   \n",
       "1               1.380600e+10 -2.731000e+09       4.500900e+10   \n",
       "2               1.340400e+10  2.021000e+09       4.120400e+10   \n",
       "3               1.360500e+10  5.635000e+09       4.278000e+10   \n",
       "4               2.559638e+09  1.210694e+09       3.403120e+09   \n",
       "\n",
       "   Total Liabilities & Equity  Total Revenue  Treasury Stock  For Year  \\\n",
       "0                1.690400e+10   2.485500e+10    -367000000.0    2012.0   \n",
       "1                4.227800e+10   2.674300e+10             0.0    2013.0   \n",
       "2                4.322500e+10   4.265000e+10             0.0    2014.0   \n",
       "3                4.841500e+10   4.099000e+10             0.0    2015.0   \n",
       "4                4.613814e+09   6.205003e+09     -27095000.0    2012.0   \n",
       "\n",
       "   Earnings Per Share  Estimated Shares Outstanding  \n",
       "0               -5.60                  3.350000e+08  \n",
       "1              -11.25                  1.630222e+08  \n",
       "2                4.02                  7.169154e+08  \n",
       "3               11.39                  6.681299e+08  \n",
       "4                5.29                  7.328355e+07  "
      ]
     },
     "execution_count": 88,
     "metadata": {},
     "output_type": "execute_result"
    }
   ],
   "source": [
    "# check the top five rows of the fundamentals\n",
    "fundamentals.head()"
   ]
  },
  {
   "cell_type": "markdown",
   "metadata": {},
   "source": [
    "I have no clue on what information to derive from the fundamentals. Per stock, there are 4 values only, 1 per year from 2012 to 2016. I would treat this exercise as a sole stock price prediction from the price dataset. A person with finance domain knowledge would be key to bridge any gap due to non inclusion of fundamentals in my modeling. "
   ]
  },
  {
   "cell_type": "code",
   "execution_count": 89,
   "metadata": {},
   "outputs": [
    {
     "data": {
      "text/plain": [
       "501"
      ]
     },
     "execution_count": 89,
     "metadata": {},
     "output_type": "execute_result"
    }
   ],
   "source": [
    "# check the number of stocks included in the dataset\n",
    "len(prices['symbol'].unique())"
   ]
  },
  {
   "cell_type": "code",
   "execution_count": 90,
   "metadata": {},
   "outputs": [
    {
     "data": {
      "text/plain": [
       "448"
      ]
     },
     "execution_count": 90,
     "metadata": {},
     "output_type": "execute_result"
    }
   ],
   "source": [
    "# check the number of stocks included in the fundamentals\n",
    "len(fundamentals['Ticker Symbol'].unique())"
   ]
  },
  {
   "cell_type": "code",
   "execution_count": 91,
   "metadata": {},
   "outputs": [],
   "source": [
    "# pick one of the stocks --- > top in the list is AAL\n",
    "prices_aal = prices[prices['symbol']=='AAL']"
   ]
  },
  {
   "cell_type": "markdown",
   "metadata": {},
   "source": [
    "### explore the selected stock"
   ]
  },
  {
   "cell_type": "code",
   "execution_count": 92,
   "metadata": {},
   "outputs": [
    {
     "data": {
      "text/html": [
       "<div>\n",
       "<style scoped>\n",
       "    .dataframe tbody tr th:only-of-type {\n",
       "        vertical-align: middle;\n",
       "    }\n",
       "\n",
       "    .dataframe tbody tr th {\n",
       "        vertical-align: top;\n",
       "    }\n",
       "\n",
       "    .dataframe thead th {\n",
       "        text-align: right;\n",
       "    }\n",
       "</style>\n",
       "<table border=\"1\" class=\"dataframe\">\n",
       "  <thead>\n",
       "    <tr style=\"text-align: right;\">\n",
       "      <th></th>\n",
       "      <th>date</th>\n",
       "      <th>symbol</th>\n",
       "      <th>open</th>\n",
       "      <th>close</th>\n",
       "      <th>low</th>\n",
       "      <th>high</th>\n",
       "      <th>volume</th>\n",
       "    </tr>\n",
       "  </thead>\n",
       "  <tbody>\n",
       "    <tr>\n",
       "      <td>252</td>\n",
       "      <td>2010-01-04</td>\n",
       "      <td>AAL</td>\n",
       "      <td>4.84</td>\n",
       "      <td>4.77</td>\n",
       "      <td>4.66</td>\n",
       "      <td>4.94</td>\n",
       "      <td>9837300.0</td>\n",
       "    </tr>\n",
       "    <tr>\n",
       "      <td>719</td>\n",
       "      <td>2010-01-05</td>\n",
       "      <td>AAL</td>\n",
       "      <td>4.79</td>\n",
       "      <td>5.31</td>\n",
       "      <td>4.71</td>\n",
       "      <td>5.37</td>\n",
       "      <td>25212000.0</td>\n",
       "    </tr>\n",
       "    <tr>\n",
       "      <td>1187</td>\n",
       "      <td>2010-01-06</td>\n",
       "      <td>AAL</td>\n",
       "      <td>5.19</td>\n",
       "      <td>5.09</td>\n",
       "      <td>5.00</td>\n",
       "      <td>5.38</td>\n",
       "      <td>16597900.0</td>\n",
       "    </tr>\n",
       "    <tr>\n",
       "      <td>1655</td>\n",
       "      <td>2010-01-07</td>\n",
       "      <td>AAL</td>\n",
       "      <td>5.06</td>\n",
       "      <td>5.24</td>\n",
       "      <td>5.05</td>\n",
       "      <td>5.43</td>\n",
       "      <td>14033400.0</td>\n",
       "    </tr>\n",
       "    <tr>\n",
       "      <td>2123</td>\n",
       "      <td>2010-01-08</td>\n",
       "      <td>AAL</td>\n",
       "      <td>5.27</td>\n",
       "      <td>5.14</td>\n",
       "      <td>5.06</td>\n",
       "      <td>5.43</td>\n",
       "      <td>12760000.0</td>\n",
       "    </tr>\n",
       "  </tbody>\n",
       "</table>\n",
       "</div>"
      ],
      "text/plain": [
       "            date symbol  open  close   low  high      volume\n",
       "252   2010-01-04    AAL  4.84   4.77  4.66  4.94   9837300.0\n",
       "719   2010-01-05    AAL  4.79   5.31  4.71  5.37  25212000.0\n",
       "1187  2010-01-06    AAL  5.19   5.09  5.00  5.38  16597900.0\n",
       "1655  2010-01-07    AAL  5.06   5.24  5.05  5.43  14033400.0\n",
       "2123  2010-01-08    AAL  5.27   5.14  5.06  5.43  12760000.0"
      ]
     },
     "execution_count": 92,
     "metadata": {},
     "output_type": "execute_result"
    }
   ],
   "source": [
    "# check the head\n",
    "prices_aal.head()"
   ]
  },
  {
   "cell_type": "code",
   "execution_count": 93,
   "metadata": {},
   "outputs": [
    {
     "data": {
      "text/html": [
       "<div>\n",
       "<style scoped>\n",
       "    .dataframe tbody tr th:only-of-type {\n",
       "        vertical-align: middle;\n",
       "    }\n",
       "\n",
       "    .dataframe tbody tr th {\n",
       "        vertical-align: top;\n",
       "    }\n",
       "\n",
       "    .dataframe thead th {\n",
       "        text-align: right;\n",
       "    }\n",
       "</style>\n",
       "<table border=\"1\" class=\"dataframe\">\n",
       "  <thead>\n",
       "    <tr style=\"text-align: right;\">\n",
       "      <th></th>\n",
       "      <th>open</th>\n",
       "      <th>close</th>\n",
       "      <th>low</th>\n",
       "      <th>high</th>\n",
       "      <th>volume</th>\n",
       "    </tr>\n",
       "  </thead>\n",
       "  <tbody>\n",
       "    <tr>\n",
       "      <td>count</td>\n",
       "      <td>1762.000000</td>\n",
       "      <td>1762.000000</td>\n",
       "      <td>1762.000000</td>\n",
       "      <td>1762.000000</td>\n",
       "      <td>1.762000e+03</td>\n",
       "    </tr>\n",
       "    <tr>\n",
       "      <td>mean</td>\n",
       "      <td>23.875108</td>\n",
       "      <td>23.873768</td>\n",
       "      <td>23.466453</td>\n",
       "      <td>24.283933</td>\n",
       "      <td>9.354038e+06</td>\n",
       "    </tr>\n",
       "    <tr>\n",
       "      <td>std</td>\n",
       "      <td>15.555224</td>\n",
       "      <td>15.557106</td>\n",
       "      <td>15.346569</td>\n",
       "      <td>15.752355</td>\n",
       "      <td>6.361233e+06</td>\n",
       "    </tr>\n",
       "    <tr>\n",
       "      <td>min</td>\n",
       "      <td>3.990000</td>\n",
       "      <td>4.000000</td>\n",
       "      <td>3.960000</td>\n",
       "      <td>4.060000</td>\n",
       "      <td>1.158400e+06</td>\n",
       "    </tr>\n",
       "    <tr>\n",
       "      <td>25%</td>\n",
       "      <td>9.405000</td>\n",
       "      <td>9.332500</td>\n",
       "      <td>9.170000</td>\n",
       "      <td>9.640000</td>\n",
       "      <td>5.915950e+06</td>\n",
       "    </tr>\n",
       "    <tr>\n",
       "      <td>50%</td>\n",
       "      <td>17.155000</td>\n",
       "      <td>17.224999</td>\n",
       "      <td>16.960000</td>\n",
       "      <td>17.449999</td>\n",
       "      <td>8.078550e+06</td>\n",
       "    </tr>\n",
       "    <tr>\n",
       "      <td>75%</td>\n",
       "      <td>39.292499</td>\n",
       "      <td>39.349998</td>\n",
       "      <td>38.730002</td>\n",
       "      <td>39.997501</td>\n",
       "      <td>1.108758e+07</td>\n",
       "    </tr>\n",
       "    <tr>\n",
       "      <td>max</td>\n",
       "      <td>55.889999</td>\n",
       "      <td>55.759998</td>\n",
       "      <td>54.860001</td>\n",
       "      <td>56.200001</td>\n",
       "      <td>1.377672e+08</td>\n",
       "    </tr>\n",
       "  </tbody>\n",
       "</table>\n",
       "</div>"
      ],
      "text/plain": [
       "              open        close          low         high        volume\n",
       "count  1762.000000  1762.000000  1762.000000  1762.000000  1.762000e+03\n",
       "mean     23.875108    23.873768    23.466453    24.283933  9.354038e+06\n",
       "std      15.555224    15.557106    15.346569    15.752355  6.361233e+06\n",
       "min       3.990000     4.000000     3.960000     4.060000  1.158400e+06\n",
       "25%       9.405000     9.332500     9.170000     9.640000  5.915950e+06\n",
       "50%      17.155000    17.224999    16.960000    17.449999  8.078550e+06\n",
       "75%      39.292499    39.349998    38.730002    39.997501  1.108758e+07\n",
       "max      55.889999    55.759998    54.860001    56.200001  1.377672e+08"
      ]
     },
     "execution_count": 93,
     "metadata": {},
     "output_type": "execute_result"
    }
   ],
   "source": [
    "# basic descriptive stats\n",
    "prices_aal.describe()"
   ]
  },
  {
   "cell_type": "code",
   "execution_count": 94,
   "metadata": {},
   "outputs": [
    {
     "name": "stdout",
     "output_type": "stream",
     "text": [
      "<class 'pandas.core.frame.DataFrame'>\n",
      "Int64Index: 1762 entries, 252 to 850765\n",
      "Data columns (total 7 columns):\n",
      "date      1762 non-null object\n",
      "symbol    1762 non-null object\n",
      "open      1762 non-null float64\n",
      "close     1762 non-null float64\n",
      "low       1762 non-null float64\n",
      "high      1762 non-null float64\n",
      "volume    1762 non-null float64\n",
      "dtypes: float64(5), object(2)\n",
      "memory usage: 110.1+ KB\n"
     ]
    }
   ],
   "source": [
    "# check info \n",
    "prices_aal.info()"
   ]
  },
  {
   "cell_type": "markdown",
   "metadata": {},
   "source": [
    "Note here that the date column is of Object type. Later I will change this to datetime pd type"
   ]
  },
  {
   "cell_type": "code",
   "execution_count": 95,
   "metadata": {},
   "outputs": [
    {
     "data": {
      "text/plain": [
       "date      0\n",
       "symbol    0\n",
       "open      0\n",
       "close     0\n",
       "low       0\n",
       "high      0\n",
       "volume    0\n",
       "dtype: int64"
      ]
     },
     "execution_count": 95,
     "metadata": {},
     "output_type": "execute_result"
    }
   ],
   "source": [
    "# check for null values\n",
    "prices_aal.isnull().sum()"
   ]
  },
  {
   "cell_type": "code",
   "execution_count": 96,
   "metadata": {},
   "outputs": [
    {
     "data": {
      "text/plain": [
       "1762"
      ]
     },
     "execution_count": 96,
     "metadata": {},
     "output_type": "execute_result"
    }
   ],
   "source": [
    "len(prices_aal)"
   ]
  },
  {
   "cell_type": "code",
   "execution_count": 97,
   "metadata": {},
   "outputs": [
    {
     "data": {
      "text/plain": [
       "Index(['date', 'symbol', 'open', 'close', 'low', 'high', 'volume'], dtype='object')"
      ]
     },
     "execution_count": 97,
     "metadata": {},
     "output_type": "execute_result"
    }
   ],
   "source": [
    "prices_aal.columns"
   ]
  },
  {
   "cell_type": "markdown",
   "metadata": {},
   "source": [
    "Reset the index of the dataframe to the date column"
   ]
  },
  {
   "cell_type": "code",
   "execution_count": 98,
   "metadata": {},
   "outputs": [],
   "source": [
    "prices_aal['date'] = pd.to_datetime(prices_aal['date'])"
   ]
  },
  {
   "cell_type": "code",
   "execution_count": 99,
   "metadata": {},
   "outputs": [
    {
     "name": "stdout",
     "output_type": "stream",
     "text": [
      "<class 'pandas.core.frame.DataFrame'>\n",
      "Int64Index: 1762 entries, 252 to 850765\n",
      "Data columns (total 7 columns):\n",
      "date      1762 non-null datetime64[ns]\n",
      "symbol    1762 non-null object\n",
      "open      1762 non-null float64\n",
      "close     1762 non-null float64\n",
      "low       1762 non-null float64\n",
      "high      1762 non-null float64\n",
      "volume    1762 non-null float64\n",
      "dtypes: datetime64[ns](1), float64(5), object(1)\n",
      "memory usage: 110.1+ KB\n"
     ]
    }
   ],
   "source": [
    "prices_aal.info()"
   ]
  },
  {
   "cell_type": "markdown",
   "metadata": {},
   "source": [
    "The date column is now converted to a pandas datetime object. \n",
    "\n",
    "The data is for all the business days and does not include the weekends. No need to check for holidays as there are no null values. Else I would have to backward fill or forward fill those missing values. "
   ]
  },
  {
   "cell_type": "code",
   "execution_count": 100,
   "metadata": {},
   "outputs": [],
   "source": [
    "# Reset the index of the dataframe ---- set date as the index\n",
    "prices_aal = prices_aal.set_index('date')"
   ]
  },
  {
   "cell_type": "code",
   "execution_count": 101,
   "metadata": {},
   "outputs": [
    {
     "data": {
      "text/html": [
       "<div>\n",
       "<style scoped>\n",
       "    .dataframe tbody tr th:only-of-type {\n",
       "        vertical-align: middle;\n",
       "    }\n",
       "\n",
       "    .dataframe tbody tr th {\n",
       "        vertical-align: top;\n",
       "    }\n",
       "\n",
       "    .dataframe thead th {\n",
       "        text-align: right;\n",
       "    }\n",
       "</style>\n",
       "<table border=\"1\" class=\"dataframe\">\n",
       "  <thead>\n",
       "    <tr style=\"text-align: right;\">\n",
       "      <th></th>\n",
       "      <th>symbol</th>\n",
       "      <th>open</th>\n",
       "      <th>close</th>\n",
       "      <th>low</th>\n",
       "      <th>high</th>\n",
       "      <th>volume</th>\n",
       "    </tr>\n",
       "    <tr>\n",
       "      <th>date</th>\n",
       "      <th></th>\n",
       "      <th></th>\n",
       "      <th></th>\n",
       "      <th></th>\n",
       "      <th></th>\n",
       "      <th></th>\n",
       "    </tr>\n",
       "  </thead>\n",
       "  <tbody>\n",
       "    <tr>\n",
       "      <td>2010-01-04</td>\n",
       "      <td>AAL</td>\n",
       "      <td>4.84</td>\n",
       "      <td>4.77</td>\n",
       "      <td>4.66</td>\n",
       "      <td>4.94</td>\n",
       "      <td>9837300.0</td>\n",
       "    </tr>\n",
       "    <tr>\n",
       "      <td>2010-01-05</td>\n",
       "      <td>AAL</td>\n",
       "      <td>4.79</td>\n",
       "      <td>5.31</td>\n",
       "      <td>4.71</td>\n",
       "      <td>5.37</td>\n",
       "      <td>25212000.0</td>\n",
       "    </tr>\n",
       "    <tr>\n",
       "      <td>2010-01-06</td>\n",
       "      <td>AAL</td>\n",
       "      <td>5.19</td>\n",
       "      <td>5.09</td>\n",
       "      <td>5.00</td>\n",
       "      <td>5.38</td>\n",
       "      <td>16597900.0</td>\n",
       "    </tr>\n",
       "    <tr>\n",
       "      <td>2010-01-07</td>\n",
       "      <td>AAL</td>\n",
       "      <td>5.06</td>\n",
       "      <td>5.24</td>\n",
       "      <td>5.05</td>\n",
       "      <td>5.43</td>\n",
       "      <td>14033400.0</td>\n",
       "    </tr>\n",
       "    <tr>\n",
       "      <td>2010-01-08</td>\n",
       "      <td>AAL</td>\n",
       "      <td>5.27</td>\n",
       "      <td>5.14</td>\n",
       "      <td>5.06</td>\n",
       "      <td>5.43</td>\n",
       "      <td>12760000.0</td>\n",
       "    </tr>\n",
       "    <tr>\n",
       "      <td>2010-01-11</td>\n",
       "      <td>AAL</td>\n",
       "      <td>5.13</td>\n",
       "      <td>5.04</td>\n",
       "      <td>4.94</td>\n",
       "      <td>5.23</td>\n",
       "      <td>10952900.0</td>\n",
       "    </tr>\n",
       "    <tr>\n",
       "      <td>2010-01-12</td>\n",
       "      <td>AAL</td>\n",
       "      <td>5.06</td>\n",
       "      <td>5.08</td>\n",
       "      <td>4.96</td>\n",
       "      <td>5.15</td>\n",
       "      <td>7870300.0</td>\n",
       "    </tr>\n",
       "    <tr>\n",
       "      <td>2010-01-13</td>\n",
       "      <td>AAL</td>\n",
       "      <td>5.12</td>\n",
       "      <td>5.48</td>\n",
       "      <td>5.02</td>\n",
       "      <td>5.50</td>\n",
       "      <td>16400500.0</td>\n",
       "    </tr>\n",
       "    <tr>\n",
       "      <td>2010-01-14</td>\n",
       "      <td>AAL</td>\n",
       "      <td>5.46</td>\n",
       "      <td>5.59</td>\n",
       "      <td>5.41</td>\n",
       "      <td>5.71</td>\n",
       "      <td>12767100.0</td>\n",
       "    </tr>\n",
       "    <tr>\n",
       "      <td>2010-01-15</td>\n",
       "      <td>AAL</td>\n",
       "      <td>5.64</td>\n",
       "      <td>5.50</td>\n",
       "      <td>5.43</td>\n",
       "      <td>5.84</td>\n",
       "      <td>10985300.0</td>\n",
       "    </tr>\n",
       "  </tbody>\n",
       "</table>\n",
       "</div>"
      ],
      "text/plain": [
       "           symbol  open  close   low  high      volume\n",
       "date                                                  \n",
       "2010-01-04    AAL  4.84   4.77  4.66  4.94   9837300.0\n",
       "2010-01-05    AAL  4.79   5.31  4.71  5.37  25212000.0\n",
       "2010-01-06    AAL  5.19   5.09  5.00  5.38  16597900.0\n",
       "2010-01-07    AAL  5.06   5.24  5.05  5.43  14033400.0\n",
       "2010-01-08    AAL  5.27   5.14  5.06  5.43  12760000.0\n",
       "2010-01-11    AAL  5.13   5.04  4.94  5.23  10952900.0\n",
       "2010-01-12    AAL  5.06   5.08  4.96  5.15   7870300.0\n",
       "2010-01-13    AAL  5.12   5.48  5.02  5.50  16400500.0\n",
       "2010-01-14    AAL  5.46   5.59  5.41  5.71  12767100.0\n",
       "2010-01-15    AAL  5.64   5.50  5.43  5.84  10985300.0"
      ]
     },
     "execution_count": 101,
     "metadata": {},
     "output_type": "execute_result"
    }
   ],
   "source": [
    "prices_aal.head(10)"
   ]
  },
  {
   "cell_type": "markdown",
   "metadata": {},
   "source": [
    "For time series data the index should be set in one of the frequencies - business days / monthly start etc. \n",
    "\n",
    "For stock prices, daily business day makes sense. "
   ]
  },
  {
   "cell_type": "code",
   "execution_count": 102,
   "metadata": {},
   "outputs": [],
   "source": [
    "# set the frequency to daily business day\n",
    "prices_aal = prices_aal.asfreq('b')"
   ]
  },
  {
   "cell_type": "code",
   "execution_count": 103,
   "metadata": {},
   "outputs": [
    {
     "data": {
      "text/plain": [
       "DatetimeIndex(['2010-01-04', '2010-01-05', '2010-01-06', '2010-01-07',\n",
       "               '2010-01-08', '2010-01-11', '2010-01-12', '2010-01-13',\n",
       "               '2010-01-14', '2010-01-15',\n",
       "               ...\n",
       "               '2016-12-19', '2016-12-20', '2016-12-21', '2016-12-22',\n",
       "               '2016-12-23', '2016-12-26', '2016-12-27', '2016-12-28',\n",
       "               '2016-12-29', '2016-12-30'],\n",
       "              dtype='datetime64[ns]', name='date', length=1825, freq='B')"
      ]
     },
     "execution_count": 103,
     "metadata": {},
     "output_type": "execute_result"
    }
   ],
   "source": [
    "prices_aal.index"
   ]
  },
  {
   "cell_type": "markdown",
   "metadata": {},
   "source": [
    "## Visualize the data "
   ]
  },
  {
   "cell_type": "code",
   "execution_count": 104,
   "metadata": {},
   "outputs": [
    {
     "data": {
      "image/png": "[encoded data removed]",
      "text/plain": [
       "<Figure size 1080x504 with 1 Axes>"
      ]
     },
     "metadata": {
      "needs_background": "light"
     },
     "output_type": "display_data"
    }
   ],
   "source": [
    "plt.plot(prices_aal['close'])\n",
    "plt.xlabel('Time Period')\n",
    "plt.ylabel('Closing Price')\n",
    "plt.title('AAL Stock Daily Close Price');"
   ]
  },
  {
   "cell_type": "markdown",
   "metadata": {},
   "source": [
    "There seems to be a break in some periods after 2015. Now this is something to look closer. "
   ]
  },
  {
   "cell_type": "code",
   "execution_count": 105,
   "metadata": {},
   "outputs": [
    {
     "data": {
      "text/plain": [
       "63"
      ]
     },
     "execution_count": 105,
     "metadata": {},
     "output_type": "execute_result"
    }
   ],
   "source": [
    "# Check for the null values in the dataset\n",
    "prices_aal['close'].isnull().sum()"
   ]
  },
  {
   "cell_type": "markdown",
   "metadata": {},
   "source": [
    "Great, there are null values in the dataset. Possibly these are weekdays which could be holidays or days not holidays but with missing values. \n",
    "\n",
    "- We need to first drop the holidays from the dataset\n",
    "- Impute the remaining dates with null values with one of the imputing strategy. "
   ]
  },
  {
   "cell_type": "code",
   "execution_count": 106,
   "metadata": {},
   "outputs": [],
   "source": [
    "# create a list of the dates in the stock\n",
    "date_list = prices_aal.index"
   ]
  },
  {
   "cell_type": "markdown",
   "metadata": {},
   "source": [
    "- We will explore all the holiday dates from 2010 to 2016 in USA and remove those date values from the index. \n",
    "- After this, whichever date has a missing value will be imputed"
   ]
  },
  {
   "cell_type": "code",
   "execution_count": 107,
   "metadata": {},
   "outputs": [],
   "source": [
    "# import the holiday library\n",
    "from datetime import date\n",
    "import holidays"
   ]
  },
  {
   "cell_type": "code",
   "execution_count": 108,
   "metadata": {},
   "outputs": [],
   "source": [
    "# initialize the holidays object, this returns a dict\n",
    "us_holidays = holidays.UnitedStates()"
   ]
  },
  {
   "cell_type": "code",
   "execution_count": 109,
   "metadata": {},
   "outputs": [
    {
     "name": "stdout",
     "output_type": "stream",
     "text": [
      "(datetime.date(2016, 1, 1), \"New Year's Day\")\n",
      "(datetime.date(2016, 1, 18), 'Martin Luther King, Jr. Day')\n",
      "(datetime.date(2016, 2, 15), \"Washington's Birthday\")\n",
      "(datetime.date(2016, 5, 30), 'Memorial Day')\n",
      "(datetime.date(2016, 7, 4), 'Independence Day')\n",
      "(datetime.date(2016, 9, 5), 'Labor Day')\n",
      "(datetime.date(2016, 10, 10), 'Columbus Day')\n",
      "(datetime.date(2016, 11, 11), 'Veterans Day')\n",
      "(datetime.date(2016, 11, 24), 'Thanksgiving')\n",
      "(datetime.date(2016, 12, 25), 'Christmas Day')\n",
      "(datetime.date(2016, 12, 26), 'Christmas Day (Observed)')\n",
      "(datetime.date(2010, 1, 1), \"New Year's Day\")\n",
      "(datetime.date(2010, 12, 31), \"New Year's Day (Observed)\")\n",
      "(datetime.date(2010, 1, 18), 'Martin Luther King, Jr. Day')\n",
      "(datetime.date(2010, 2, 15), \"Washington's Birthday\")\n",
      "(datetime.date(2010, 5, 31), 'Memorial Day')\n",
      "(datetime.date(2010, 7, 4), 'Independence Day')\n",
      "(datetime.date(2010, 7, 5), 'Independence Day (Observed)')\n",
      "(datetime.date(2010, 9, 6), 'Labor Day')\n",
      "(datetime.date(2010, 10, 11), 'Columbus Day')\n",
      "(datetime.date(2010, 11, 11), 'Veterans Day')\n",
      "(datetime.date(2010, 11, 25), 'Thanksgiving')\n",
      "(datetime.date(2010, 12, 25), 'Christmas Day')\n",
      "(datetime.date(2010, 12, 24), 'Christmas Day (Observed)')\n",
      "(datetime.date(2011, 1, 1), \"New Year's Day\")\n",
      "(datetime.date(2011, 1, 17), 'Martin Luther King, Jr. Day')\n",
      "(datetime.date(2011, 2, 21), \"Washington's Birthday\")\n",
      "(datetime.date(2011, 5, 30), 'Memorial Day')\n",
      "(datetime.date(2011, 7, 4), 'Independence Day')\n",
      "(datetime.date(2011, 9, 5), 'Labor Day')\n",
      "(datetime.date(2011, 10, 10), 'Columbus Day')\n",
      "(datetime.date(2011, 11, 11), 'Veterans Day')\n",
      "(datetime.date(2011, 11, 24), 'Thanksgiving')\n",
      "(datetime.date(2011, 12, 25), 'Christmas Day')\n",
      "(datetime.date(2011, 12, 26), 'Christmas Day (Observed)')\n",
      "(datetime.date(2012, 1, 1), \"New Year's Day\")\n",
      "(datetime.date(2012, 1, 2), \"New Year's Day (Observed)\")\n",
      "(datetime.date(2012, 1, 16), 'Martin Luther King, Jr. Day')\n",
      "(datetime.date(2012, 2, 20), \"Washington's Birthday\")\n",
      "(datetime.date(2012, 5, 28), 'Memorial Day')\n",
      "(datetime.date(2012, 7, 4), 'Independence Day')\n",
      "(datetime.date(2012, 9, 3), 'Labor Day')\n",
      "(datetime.date(2012, 10, 8), 'Columbus Day')\n",
      "(datetime.date(2012, 11, 11), 'Veterans Day')\n",
      "(datetime.date(2012, 11, 12), 'Veterans Day (Observed)')\n",
      "(datetime.date(2012, 11, 22), 'Thanksgiving')\n",
      "(datetime.date(2012, 12, 25), 'Christmas Day')\n",
      "(datetime.date(2013, 1, 1), \"New Year's Day\")\n",
      "(datetime.date(2013, 1, 21), 'Martin Luther King, Jr. Day')\n",
      "(datetime.date(2013, 2, 18), \"Washington's Birthday\")\n",
      "(datetime.date(2013, 5, 27), 'Memorial Day')\n",
      "(datetime.date(2013, 7, 4), 'Independence Day')\n",
      "(datetime.date(2013, 9, 2), 'Labor Day')\n",
      "(datetime.date(2013, 10, 14), 'Columbus Day')\n",
      "(datetime.date(2013, 11, 11), 'Veterans Day')\n",
      "(datetime.date(2013, 11, 28), 'Thanksgiving')\n",
      "(datetime.date(2013, 12, 25), 'Christmas Day')\n",
      "(datetime.date(2014, 1, 1), \"New Year's Day\")\n",
      "(datetime.date(2014, 1, 20), 'Martin Luther King, Jr. Day')\n",
      "(datetime.date(2014, 2, 17), \"Washington's Birthday\")\n",
      "(datetime.date(2014, 5, 26), 'Memorial Day')\n",
      "(datetime.date(2014, 7, 4), 'Independence Day')\n",
      "(datetime.date(2014, 9, 1), 'Labor Day')\n",
      "(datetime.date(2014, 10, 13), 'Columbus Day')\n",
      "(datetime.date(2014, 11, 11), 'Veterans Day')\n",
      "(datetime.date(2014, 11, 27), 'Thanksgiving')\n",
      "(datetime.date(2014, 12, 25), 'Christmas Day')\n",
      "(datetime.date(2015, 1, 1), \"New Year's Day\")\n",
      "(datetime.date(2015, 1, 19), 'Martin Luther King, Jr. Day')\n",
      "(datetime.date(2015, 2, 16), \"Washington's Birthday\")\n",
      "(datetime.date(2015, 5, 25), 'Memorial Day')\n",
      "(datetime.date(2015, 7, 4), 'Independence Day')\n",
      "(datetime.date(2015, 7, 3), 'Independence Day (Observed)')\n",
      "(datetime.date(2015, 9, 7), 'Labor Day')\n",
      "(datetime.date(2015, 10, 12), 'Columbus Day')\n",
      "(datetime.date(2015, 11, 11), 'Veterans Day')\n",
      "(datetime.date(2015, 11, 26), 'Thanksgiving')\n",
      "(datetime.date(2015, 12, 25), 'Christmas Day')\n"
     ]
    }
   ],
   "source": [
    "# view the holidays in the US during the period 2010 till end of 2016\n",
    "for date in holidays.UnitedStates(years = [2010,2011,2012,2013,2014,2015,2016]).items():\n",
    "    print (date)"
   ]
  },
  {
   "cell_type": "code",
   "execution_count": 110,
   "metadata": {},
   "outputs": [],
   "source": [
    "# create a list of all the holidays in US from 2010 till end of 2016\n",
    "holiday = []\n",
    "\n",
    "for date in holidays.UnitedStates(years=[2010,2011,2012,2013,2014,2015,2016]).keys():\n",
    "    holiday.append(date)"
   ]
  },
  {
   "cell_type": "code",
   "execution_count": 111,
   "metadata": {},
   "outputs": [],
   "source": [
    "# retrieve all the rows which have null values\n",
    "null_date = prices_aal[prices_aal.isnull().any(axis=1)]"
   ]
  },
  {
   "cell_type": "code",
   "execution_count": 112,
   "metadata": {},
   "outputs": [
    {
     "data": {
      "text/html": [
       "<div>\n",
       "<style scoped>\n",
       "    .dataframe tbody tr th:only-of-type {\n",
       "        vertical-align: middle;\n",
       "    }\n",
       "\n",
       "    .dataframe tbody tr th {\n",
       "        vertical-align: top;\n",
       "    }\n",
       "\n",
       "    .dataframe thead th {\n",
       "        text-align: right;\n",
       "    }\n",
       "</style>\n",
       "<table border=\"1\" class=\"dataframe\">\n",
       "  <thead>\n",
       "    <tr style=\"text-align: right;\">\n",
       "      <th></th>\n",
       "      <th>symbol</th>\n",
       "      <th>open</th>\n",
       "      <th>close</th>\n",
       "      <th>low</th>\n",
       "      <th>high</th>\n",
       "      <th>volume</th>\n",
       "    </tr>\n",
       "    <tr>\n",
       "      <th>date</th>\n",
       "      <th></th>\n",
       "      <th></th>\n",
       "      <th></th>\n",
       "      <th></th>\n",
       "      <th></th>\n",
       "      <th></th>\n",
       "    </tr>\n",
       "  </thead>\n",
       "  <tbody>\n",
       "    <tr>\n",
       "      <td>2010-01-18</td>\n",
       "      <td>NaN</td>\n",
       "      <td>NaN</td>\n",
       "      <td>NaN</td>\n",
       "      <td>NaN</td>\n",
       "      <td>NaN</td>\n",
       "      <td>NaN</td>\n",
       "    </tr>\n",
       "    <tr>\n",
       "      <td>2010-02-15</td>\n",
       "      <td>NaN</td>\n",
       "      <td>NaN</td>\n",
       "      <td>NaN</td>\n",
       "      <td>NaN</td>\n",
       "      <td>NaN</td>\n",
       "      <td>NaN</td>\n",
       "    </tr>\n",
       "    <tr>\n",
       "      <td>2010-04-02</td>\n",
       "      <td>NaN</td>\n",
       "      <td>NaN</td>\n",
       "      <td>NaN</td>\n",
       "      <td>NaN</td>\n",
       "      <td>NaN</td>\n",
       "      <td>NaN</td>\n",
       "    </tr>\n",
       "    <tr>\n",
       "      <td>2010-05-31</td>\n",
       "      <td>NaN</td>\n",
       "      <td>NaN</td>\n",
       "      <td>NaN</td>\n",
       "      <td>NaN</td>\n",
       "      <td>NaN</td>\n",
       "      <td>NaN</td>\n",
       "    </tr>\n",
       "    <tr>\n",
       "      <td>2010-07-05</td>\n",
       "      <td>NaN</td>\n",
       "      <td>NaN</td>\n",
       "      <td>NaN</td>\n",
       "      <td>NaN</td>\n",
       "      <td>NaN</td>\n",
       "      <td>NaN</td>\n",
       "    </tr>\n",
       "  </tbody>\n",
       "</table>\n",
       "</div>"
      ],
      "text/plain": [
       "           symbol  open  close  low  high  volume\n",
       "date                                             \n",
       "2010-01-18    NaN   NaN    NaN  NaN   NaN     NaN\n",
       "2010-02-15    NaN   NaN    NaN  NaN   NaN     NaN\n",
       "2010-04-02    NaN   NaN    NaN  NaN   NaN     NaN\n",
       "2010-05-31    NaN   NaN    NaN  NaN   NaN     NaN\n",
       "2010-07-05    NaN   NaN    NaN  NaN   NaN     NaN"
      ]
     },
     "execution_count": 112,
     "metadata": {},
     "output_type": "execute_result"
    }
   ],
   "source": [
    "# check the initial 5 values\n",
    "null_date.head()"
   ]
  },
  {
   "cell_type": "code",
   "execution_count": 113,
   "metadata": {},
   "outputs": [],
   "source": [
    "# take the dates which are index and convert it to a list\n",
    "null_dates = null_date.index.tolist()"
   ]
  },
  {
   "cell_type": "code",
   "execution_count": 114,
   "metadata": {},
   "outputs": [
    {
     "data": {
      "text/plain": [
       "[Timestamp('2010-01-18 00:00:00'),\n",
       " Timestamp('2010-02-15 00:00:00'),\n",
       " Timestamp('2010-04-02 00:00:00'),\n",
       " Timestamp('2010-05-31 00:00:00'),\n",
       " Timestamp('2010-07-05 00:00:00'),\n",
       " Timestamp('2010-09-06 00:00:00'),\n",
       " Timestamp('2010-11-25 00:00:00'),\n",
       " Timestamp('2010-12-24 00:00:00'),\n",
       " Timestamp('2011-01-17 00:00:00'),\n",
       " Timestamp('2011-02-21 00:00:00')]"
      ]
     },
     "execution_count": 114,
     "metadata": {},
     "output_type": "execute_result"
    }
   ],
   "source": [
    "# check the first 10 values\n",
    "null_dates[:10]"
   ]
  },
  {
   "cell_type": "markdown",
   "metadata": {},
   "source": [
    "Now the challenge is to get rid of the rows where the index of the dataframe is matching with the dates in the holidays list"
   ]
  },
  {
   "cell_type": "code",
   "execution_count": 115,
   "metadata": {},
   "outputs": [
    {
     "data": {
      "text/plain": [
       "63"
      ]
     },
     "execution_count": 115,
     "metadata": {},
     "output_type": "execute_result"
    }
   ],
   "source": [
    "len(null_dates)"
   ]
  },
  {
   "cell_type": "code",
   "execution_count": 116,
   "metadata": {},
   "outputs": [
    {
     "data": {
      "text/plain": [
       "78"
      ]
     },
     "execution_count": 116,
     "metadata": {},
     "output_type": "execute_result"
    }
   ],
   "source": [
    "len(holiday)"
   ]
  },
  {
   "cell_type": "markdown",
   "metadata": {},
   "source": [
    "Seems like there were more holidays than the number of nulls in the dataset. We will ignore any rows which is not null. "
   ]
  },
  {
   "cell_type": "code",
   "execution_count": 117,
   "metadata": {},
   "outputs": [],
   "source": [
    "non_holidays = [x for x in null_dates if x not in holiday]"
   ]
  },
  {
   "cell_type": "code",
   "execution_count": 118,
   "metadata": {},
   "outputs": [
    {
     "data": {
      "text/plain": [
       "[Timestamp('2010-04-02 00:00:00'),\n",
       " Timestamp('2011-04-22 00:00:00'),\n",
       " Timestamp('2012-04-06 00:00:00'),\n",
       " Timestamp('2012-10-29 00:00:00'),\n",
       " Timestamp('2012-10-30 00:00:00'),\n",
       " Timestamp('2013-03-29 00:00:00'),\n",
       " Timestamp('2014-04-18 00:00:00'),\n",
       " Timestamp('2015-04-03 00:00:00'),\n",
       " Timestamp('2016-03-25 00:00:00')]"
      ]
     },
     "execution_count": 118,
     "metadata": {},
     "output_type": "execute_result"
    }
   ],
   "source": [
    "non_holidays"
   ]
  },
  {
   "cell_type": "markdown",
   "metadata": {},
   "source": [
    "Run through the list of dates in the index and compare if that date in in the holidays. If it matches, then drop that matching row from the dataframe."
   ]
  },
  {
   "cell_type": "code",
   "execution_count": 119,
   "metadata": {},
   "outputs": [],
   "source": [
    "# run through the date list and drop if it is on a holiday --> only missing rows on non-holidays\n",
    "# will remain\n",
    "for d in prices_aal.index.tolist():\n",
    "    if d in holiday:\n",
    "        prices_aal = prices_aal.drop(d)\n",
    "        "
   ]
  },
  {
   "cell_type": "code",
   "execution_count": 120,
   "metadata": {},
   "outputs": [
    {
     "data": {
      "text/plain": [
       "symbol    9\n",
       "open      9\n",
       "close     9\n",
       "low       9\n",
       "high      9\n",
       "volume    9\n",
       "dtype: int64"
      ]
     },
     "execution_count": 120,
     "metadata": {},
     "output_type": "execute_result"
    }
   ],
   "source": [
    "# check the remaininng number of missing values\n",
    "prices_aal.isnull().sum()"
   ]
  },
  {
   "cell_type": "markdown",
   "metadata": {},
   "source": [
    "Now, only the non holiday dates with missing values are remaining. Will use forward or backward fill to impute these rows."
   ]
  },
  {
   "cell_type": "code",
   "execution_count": 121,
   "metadata": {},
   "outputs": [],
   "source": [
    "# use backward fill to impute the missing values\n",
    "prices_aal_modified = prices_aal.bfill(axis='rows')"
   ]
  },
  {
   "cell_type": "code",
   "execution_count": 122,
   "metadata": {},
   "outputs": [
    {
     "data": {
      "text/plain": [
       "symbol    0\n",
       "open      0\n",
       "close     0\n",
       "low       0\n",
       "high      0\n",
       "volume    0\n",
       "dtype: int64"
      ]
     },
     "execution_count": 122,
     "metadata": {},
     "output_type": "execute_result"
    }
   ],
   "source": [
    "# check the missing values --- > there should not be any now !\n",
    "prices_aal_modified.isnull().sum()"
   ]
  },
  {
   "cell_type": "markdown",
   "metadata": {},
   "source": [
    "## Split the dataset into train, validation and test set\n",
    "- 80% of the data into train set and 20% into the test set\n",
    "- The model will be trained on the train data and validated into the test set. \n",
    "- Subsequently will use the model to predict into the real future. "
   ]
  },
  {
   "cell_type": "code",
   "execution_count": 123,
   "metadata": {},
   "outputs": [
    {
     "data": {
      "text/plain": [
       "1756"
      ]
     },
     "execution_count": 123,
     "metadata": {},
     "output_type": "execute_result"
    }
   ],
   "source": [
    "len(prices_aal_modified)"
   ]
  },
  {
   "cell_type": "code",
   "execution_count": 124,
   "metadata": {},
   "outputs": [],
   "source": [
    "# determine the length of the train and test set\n",
    "train_len = int(0.8 * len(prices_aal_modified))\n",
    "test_len = int(0.2 * len(prices_aal_modified))"
   ]
  },
  {
   "cell_type": "code",
   "execution_count": 125,
   "metadata": {},
   "outputs": [],
   "source": [
    "# create the train data\n",
    "train_data = prices_aal_modified[0:train_len]"
   ]
  },
  {
   "cell_type": "code",
   "execution_count": 126,
   "metadata": {},
   "outputs": [
    {
     "data": {
      "text/html": [
       "<div>\n",
       "<style scoped>\n",
       "    .dataframe tbody tr th:only-of-type {\n",
       "        vertical-align: middle;\n",
       "    }\n",
       "\n",
       "    .dataframe tbody tr th {\n",
       "        vertical-align: top;\n",
       "    }\n",
       "\n",
       "    .dataframe thead th {\n",
       "        text-align: right;\n",
       "    }\n",
       "</style>\n",
       "<table border=\"1\" class=\"dataframe\">\n",
       "  <thead>\n",
       "    <tr style=\"text-align: right;\">\n",
       "      <th></th>\n",
       "      <th>symbol</th>\n",
       "      <th>open</th>\n",
       "      <th>close</th>\n",
       "      <th>low</th>\n",
       "      <th>high</th>\n",
       "      <th>volume</th>\n",
       "    </tr>\n",
       "    <tr>\n",
       "      <th>date</th>\n",
       "      <th></th>\n",
       "      <th></th>\n",
       "      <th></th>\n",
       "      <th></th>\n",
       "      <th></th>\n",
       "      <th></th>\n",
       "    </tr>\n",
       "  </thead>\n",
       "  <tbody>\n",
       "    <tr>\n",
       "      <td>2010-01-04</td>\n",
       "      <td>AAL</td>\n",
       "      <td>4.84</td>\n",
       "      <td>4.77</td>\n",
       "      <td>4.66</td>\n",
       "      <td>4.94</td>\n",
       "      <td>9837300.0</td>\n",
       "    </tr>\n",
       "    <tr>\n",
       "      <td>2010-01-05</td>\n",
       "      <td>AAL</td>\n",
       "      <td>4.79</td>\n",
       "      <td>5.31</td>\n",
       "      <td>4.71</td>\n",
       "      <td>5.37</td>\n",
       "      <td>25212000.0</td>\n",
       "    </tr>\n",
       "    <tr>\n",
       "      <td>2010-01-06</td>\n",
       "      <td>AAL</td>\n",
       "      <td>5.19</td>\n",
       "      <td>5.09</td>\n",
       "      <td>5.00</td>\n",
       "      <td>5.38</td>\n",
       "      <td>16597900.0</td>\n",
       "    </tr>\n",
       "    <tr>\n",
       "      <td>2010-01-07</td>\n",
       "      <td>AAL</td>\n",
       "      <td>5.06</td>\n",
       "      <td>5.24</td>\n",
       "      <td>5.05</td>\n",
       "      <td>5.43</td>\n",
       "      <td>14033400.0</td>\n",
       "    </tr>\n",
       "    <tr>\n",
       "      <td>2010-01-08</td>\n",
       "      <td>AAL</td>\n",
       "      <td>5.27</td>\n",
       "      <td>5.14</td>\n",
       "      <td>5.06</td>\n",
       "      <td>5.43</td>\n",
       "      <td>12760000.0</td>\n",
       "    </tr>\n",
       "  </tbody>\n",
       "</table>\n",
       "</div>"
      ],
      "text/plain": [
       "           symbol  open  close   low  high      volume\n",
       "date                                                  \n",
       "2010-01-04    AAL  4.84   4.77  4.66  4.94   9837300.0\n",
       "2010-01-05    AAL  4.79   5.31  4.71  5.37  25212000.0\n",
       "2010-01-06    AAL  5.19   5.09  5.00  5.38  16597900.0\n",
       "2010-01-07    AAL  5.06   5.24  5.05  5.43  14033400.0\n",
       "2010-01-08    AAL  5.27   5.14  5.06  5.43  12760000.0"
      ]
     },
     "execution_count": 126,
     "metadata": {},
     "output_type": "execute_result"
    }
   ],
   "source": [
    "train_data.head()"
   ]
  },
  {
   "cell_type": "code",
   "execution_count": 127,
   "metadata": {},
   "outputs": [],
   "source": [
    "# create the test data sequence\n",
    "test_data = prices_aal_modified[train_len:train_len+test_len]"
   ]
  },
  {
   "cell_type": "code",
   "execution_count": 128,
   "metadata": {},
   "outputs": [
    {
     "data": {
      "text/html": [
       "<div>\n",
       "<style scoped>\n",
       "    .dataframe tbody tr th:only-of-type {\n",
       "        vertical-align: middle;\n",
       "    }\n",
       "\n",
       "    .dataframe tbody tr th {\n",
       "        vertical-align: top;\n",
       "    }\n",
       "\n",
       "    .dataframe thead th {\n",
       "        text-align: right;\n",
       "    }\n",
       "</style>\n",
       "<table border=\"1\" class=\"dataframe\">\n",
       "  <thead>\n",
       "    <tr style=\"text-align: right;\">\n",
       "      <th></th>\n",
       "      <th>symbol</th>\n",
       "      <th>open</th>\n",
       "      <th>close</th>\n",
       "      <th>low</th>\n",
       "      <th>high</th>\n",
       "      <th>volume</th>\n",
       "    </tr>\n",
       "    <tr>\n",
       "      <th>date</th>\n",
       "      <th></th>\n",
       "      <th></th>\n",
       "      <th></th>\n",
       "      <th></th>\n",
       "      <th></th>\n",
       "      <th></th>\n",
       "    </tr>\n",
       "  </thead>\n",
       "  <tbody>\n",
       "    <tr>\n",
       "      <td>2015-08-06</td>\n",
       "      <td>AAL</td>\n",
       "      <td>43.250000</td>\n",
       "      <td>42.180000</td>\n",
       "      <td>41.759998</td>\n",
       "      <td>43.450001</td>\n",
       "      <td>7395500.0</td>\n",
       "    </tr>\n",
       "    <tr>\n",
       "      <td>2015-08-07</td>\n",
       "      <td>AAL</td>\n",
       "      <td>42.209999</td>\n",
       "      <td>41.490002</td>\n",
       "      <td>41.400002</td>\n",
       "      <td>42.480000</td>\n",
       "      <td>5588600.0</td>\n",
       "    </tr>\n",
       "    <tr>\n",
       "      <td>2015-08-10</td>\n",
       "      <td>AAL</td>\n",
       "      <td>41.750000</td>\n",
       "      <td>41.680000</td>\n",
       "      <td>41.450001</td>\n",
       "      <td>42.430000</td>\n",
       "      <td>6860600.0</td>\n",
       "    </tr>\n",
       "    <tr>\n",
       "      <td>2015-08-11</td>\n",
       "      <td>AAL</td>\n",
       "      <td>41.740002</td>\n",
       "      <td>42.700001</td>\n",
       "      <td>41.650002</td>\n",
       "      <td>43.419998</td>\n",
       "      <td>10378600.0</td>\n",
       "    </tr>\n",
       "    <tr>\n",
       "      <td>2015-08-12</td>\n",
       "      <td>AAL</td>\n",
       "      <td>42.369999</td>\n",
       "      <td>42.520000</td>\n",
       "      <td>40.680000</td>\n",
       "      <td>42.680000</td>\n",
       "      <td>10391900.0</td>\n",
       "    </tr>\n",
       "  </tbody>\n",
       "</table>\n",
       "</div>"
      ],
      "text/plain": [
       "           symbol       open      close        low       high      volume\n",
       "date                                                                     \n",
       "2015-08-06    AAL  43.250000  42.180000  41.759998  43.450001   7395500.0\n",
       "2015-08-07    AAL  42.209999  41.490002  41.400002  42.480000   5588600.0\n",
       "2015-08-10    AAL  41.750000  41.680000  41.450001  42.430000   6860600.0\n",
       "2015-08-11    AAL  41.740002  42.700001  41.650002  43.419998  10378600.0\n",
       "2015-08-12    AAL  42.369999  42.520000  40.680000  42.680000  10391900.0"
      ]
     },
     "execution_count": 128,
     "metadata": {},
     "output_type": "execute_result"
    }
   ],
   "source": [
    "test_data.head()"
   ]
  },
  {
   "cell_type": "markdown",
   "metadata": {},
   "source": [
    "## Feature scaling"
   ]
  },
  {
   "cell_type": "code",
   "execution_count": 129,
   "metadata": {},
   "outputs": [],
   "source": [
    "from sklearn.preprocessing import StandardScaler"
   ]
  },
  {
   "cell_type": "code",
   "execution_count": 130,
   "metadata": {},
   "outputs": [],
   "source": [
    "scaler = StandardScaler()"
   ]
  },
  {
   "cell_type": "code",
   "execution_count": 131,
   "metadata": {},
   "outputs": [],
   "source": [
    "train_data = train_data.drop('symbol',axis=1)\n",
    "test_data = test_data.drop('symbol',axis=1)\n"
   ]
  },
  {
   "cell_type": "code",
   "execution_count": 132,
   "metadata": {},
   "outputs": [],
   "source": [
    "train_data = scaler.fit_transform(train_data)\n",
    "test_data = scaler.transform(test_data)"
   ]
  },
  {
   "cell_type": "code",
   "execution_count": 133,
   "metadata": {},
   "outputs": [
    {
     "data": {
      "text/plain": [
       "(1404, 5)"
      ]
     },
     "execution_count": 133,
     "metadata": {},
     "output_type": "execute_result"
    }
   ],
   "source": [
    "train_data.shape"
   ]
  },
  {
   "cell_type": "code",
   "execution_count": 134,
   "metadata": {},
   "outputs": [
    {
     "data": {
      "text/plain": [
       "(351, 5)"
      ]
     },
     "execution_count": 134,
     "metadata": {},
     "output_type": "execute_result"
    }
   ],
   "source": [
    "test_data.shape"
   ]
  },
  {
   "cell_type": "markdown",
   "metadata": {},
   "source": [
    "## Data preparation for RNN \n",
    "- LSTM/GRU expects data to be in three dimensions whereas the currently the data is in 2 dimensions\n",
    "- I will make use of the TimeSeriesGenerator to prepare the data for LSTM/GRU model\n",
    "- Refer the following link for some great advice from an expert\n",
    "https://machinelearningmastery.com/reshape-input-data-long-short-term-memory-networks-keras/\n",
    "\n",
    "\n",
    "The three dimensions of this input are:\n",
    "\n",
    "- Samples. One sequence is one sample. A batch is comprised of one or more samples.\n",
    "- Time Steps. One time step is one point of observation in the sample.\n",
    "- Features. One feature is one observation at a time step.\n",
    "    "
   ]
  },
  {
   "cell_type": "code",
   "execution_count": 135,
   "metadata": {},
   "outputs": [],
   "source": [
    "from keras.preprocessing.sequence import TimeseriesGenerator"
   ]
  },
  {
   "cell_type": "code",
   "execution_count": 136,
   "metadata": {},
   "outputs": [],
   "source": [
    "# define the following\n",
    "n_input = 30   # the number of samples\n",
    "n_features = 5 # the number of features to be predicted \n",
    "batch_size = 1 # the number of batch size "
   ]
  },
  {
   "cell_type": "code",
   "execution_count": 137,
   "metadata": {},
   "outputs": [],
   "source": [
    "generator = TimeseriesGenerator(data=train_data,targets=train_data,length=n_input,batch_size=batch_size)"
   ]
  },
  {
   "cell_type": "code",
   "execution_count": 138,
   "metadata": {},
   "outputs": [],
   "source": [
    "X_train,y_train = generator[0]"
   ]
  },
  {
   "cell_type": "code",
   "execution_count": 139,
   "metadata": {},
   "outputs": [
    {
     "data": {
      "text/plain": [
       "array([[[-1.01738111, -1.0221086 , -1.01969524, -1.02161387,\n",
       "          0.06445885],\n",
       "        [-1.02074299, -0.9857873 , -1.01628418, -0.99308108,\n",
       "          2.32586376],\n",
       "        [-0.99384796, -1.00058486, -0.99650006, -0.99241753,\n",
       "          1.05884924],\n",
       "        [-1.00258884, -0.99049561, -0.993089  , -0.98909976,\n",
       "          0.6816469 ],\n",
       "        [-0.98846895, -0.99722178, -0.99240679, -0.98909976,\n",
       "          0.49434744],\n",
       "        [-0.99788221, -1.00394795, -1.00059333, -1.00237082,\n",
       "          0.22854812],\n",
       "        [-1.00258884, -1.00125748, -0.9992289 , -1.00767925,\n",
       "         -0.22485954],\n",
       "        [-0.99855459, -0.97435281, -0.99513564, -0.98445489,\n",
       "          1.02981444],\n",
       "        [-0.97569381, -0.96695403, -0.9685294 , -0.97052027,\n",
       "          0.49539175],\n",
       "        [-0.96359105, -0.97300758, -0.96716498, -0.96189408,\n",
       "          0.23331371],\n",
       "        [-0.97300431, -0.96359095, -0.9623895 , -0.96919317,\n",
       "         -0.23406714],\n",
       "        [-0.96291868, -0.95686478, -0.95488518, -0.95857631,\n",
       "          0.5721707 ],\n",
       "        [-0.94745403, -0.97569805, -0.96784719, -0.95393144,\n",
       "          0.91810254],\n",
       "        [-0.97434906, -0.99049561, -0.98899574, -0.98312778,\n",
       "          0.30363558],\n",
       "        [-0.98376232, -0.99184085, -0.98626689, -0.98445489,\n",
       "         -0.18104259],\n",
       "        [-0.99250321, -1.00327533, -0.993089  , -0.99905306,\n",
       "         -0.08995216],\n",
       "        [-0.99989934, -1.01605505, -1.03265725, -1.00635214,\n",
       "          1.80273728],\n",
       "        [-1.00729547, -0.99722178, -1.01628418, -1.00303438,\n",
       "          1.43530145],\n",
       "        [-0.99115846, -0.9857873 , -0.98490247, -0.9771558 ,\n",
       "          1.42607915],\n",
       "        [-0.97771094, -0.96628141, -0.97262267, -0.9758287 ,\n",
       "          0.23034257],\n",
       "        [-0.96291868, -0.94206721, -0.95420297, -0.95127723,\n",
       "          0.73022944],\n",
       "        [-0.94341978, -0.96224571, -0.95215634, -0.95260434,\n",
       "         -0.03848673],\n",
       "        [-0.95148829, -0.9736802 , -0.96443614, -0.96322119,\n",
       "          0.32243318],\n",
       "        [-0.97300431, -0.94677553, -0.96716498, -0.94928657,\n",
       "          1.34682915],\n",
       "        [-0.94745403, -0.94408506, -0.94055875, -0.94397814,\n",
       "          0.0539569 ],\n",
       "        [-0.92929989, -0.90978161, -0.91804578, -0.91876312,\n",
       "          1.63021997],\n",
       "        [-0.91316287, -0.91852563, -0.91395251, -0.92274444,\n",
       "          0.0563544 ],\n",
       "        [-0.91921425, -0.91785301, -0.9132703 , -0.91677246,\n",
       "          0.689163  ],\n",
       "        [-0.92123138, -0.8848948 , -0.91531694, -0.89089389,\n",
       "          1.13214225],\n",
       "        [-0.87685458, -0.88018648, -0.87711311, -0.88492191,\n",
       "          1.82900686]]])"
      ]
     },
     "execution_count": 139,
     "metadata": {},
     "output_type": "execute_result"
    }
   ],
   "source": [
    "X_train"
   ]
  },
  {
   "cell_type": "code",
   "execution_count": 140,
   "metadata": {},
   "outputs": [
    {
     "data": {
      "text/plain": [
       "array([[-0.87954408, -0.88556741, -0.8764309 , -0.88691257, -0.03680995]])"
      ]
     },
     "execution_count": 140,
     "metadata": {},
     "output_type": "execute_result"
    }
   ],
   "source": [
    "y_train"
   ]
  },
  {
   "cell_type": "code",
   "execution_count": 141,
   "metadata": {},
   "outputs": [
    {
     "data": {
      "text/plain": [
       "(1, 30, 5)"
      ]
     },
     "execution_count": 141,
     "metadata": {},
     "output_type": "execute_result"
    }
   ],
   "source": [
    "# check the shape of the X_train and y_train ---- > should be 3D for X_train for LSTM model input\n",
    "X_train.shape"
   ]
  },
  {
   "cell_type": "code",
   "execution_count": 142,
   "metadata": {},
   "outputs": [
    {
     "data": {
      "text/plain": [
       "(1, 5)"
      ]
     },
     "execution_count": 142,
     "metadata": {},
     "output_type": "execute_result"
    }
   ],
   "source": [
    "y_train.shape"
   ]
  },
  {
   "cell_type": "markdown",
   "metadata": {},
   "source": [
    "## Train the Model"
   ]
  },
  {
   "cell_type": "code",
   "execution_count": 143,
   "metadata": {},
   "outputs": [],
   "source": [
    "# import the models and the required layers\n",
    "from tensorflow.keras.models import Sequential\n",
    "from tensorflow.keras.layers import LSTM,Dense,Dropout,GRU\n",
    "from tensorflow.keras.callbacks import EarlyStopping"
   ]
  },
  {
   "cell_type": "code",
   "execution_count": 144,
   "metadata": {},
   "outputs": [],
   "source": [
    "import keras\n",
    "keras.backend.clear_session()"
   ]
  },
  {
   "cell_type": "code",
   "execution_count": 147,
   "metadata": {},
   "outputs": [],
   "source": [
    "# Early stop criteria\n",
    "early_stop = EarlyStopping(patience=10,monitor='val_loss',restore_best_weights=True)"
   ]
  },
  {
   "cell_type": "code",
   "execution_count": 148,
   "metadata": {},
   "outputs": [],
   "source": [
    "# validation data during the model training\n",
    "validation_generator = TimeseriesGenerator(data=test_data,targets=test_data,length=n_input,\n",
    "                                          batch_size=batch_size)"
   ]
  },
  {
   "cell_type": "code",
   "execution_count": 149,
   "metadata": {},
   "outputs": [],
   "source": [
    "X_test,y_test = validation_generator[0]"
   ]
  },
  {
   "cell_type": "code",
   "execution_count": 150,
   "metadata": {},
   "outputs": [
    {
     "data": {
      "text/plain": [
       "(1, 30, 5)"
      ]
     },
     "execution_count": 150,
     "metadata": {},
     "output_type": "execute_result"
    }
   ],
   "source": [
    "X_test.shape"
   ]
  },
  {
   "cell_type": "code",
   "execution_count": 151,
   "metadata": {},
   "outputs": [
    {
     "data": {
      "text/plain": [
       "(1, 5)"
      ]
     },
     "execution_count": 151,
     "metadata": {},
     "output_type": "execute_result"
    }
   ],
   "source": [
    "y_test.shape"
   ]
  },
  {
   "cell_type": "markdown",
   "metadata": {},
   "source": [
    "### Train a GRU Model"
   ]
  },
  {
   "cell_type": "code",
   "execution_count": 155,
   "metadata": {},
   "outputs": [],
   "source": [
    "model = Sequential()\n",
    "\n",
    "# Add the first GRU layer\n",
    "model.add(GRU(units=100,activation='tanh',return_sequences=True,input_shape=(n_input,n_features)))\n",
    "model.add(Dropout(0.2))\n",
    "\n",
    "# Add the second GRU layer\n",
    "model.add(GRU(units=150,activation='tanh',return_sequences=True,input_shape=(n_input,n_features)))\n",
    "model.add(Dropout(0.2))\n",
    "\n",
    "# Add the third GRU layer and a dropout\n",
    "model.add(GRU(units=100,activation='tanh'))\n",
    "model.add(Dropout(0.2))\n",
    "\n",
    "# the output layer --- >  5 neurons equal to the total features which is 5\n",
    "model.add(Dense(n_features,activation='linear',kernel_initializer='he_normal'))\n",
    "\n",
    "# compile the model\n",
    "model.compile(optimizer='adam',loss='mse')"
   ]
  },
  {
   "cell_type": "code",
   "execution_count": 156,
   "metadata": {},
   "outputs": [
    {
     "name": "stdout",
     "output_type": "stream",
     "text": [
      "Epoch 1/100\n",
      "1374/1374 [==============================] - 116s 85ms/step - loss: 0.2141 - val_loss: 0.0815\n",
      "Epoch 2/100\n",
      "1374/1374 [==============================] - 105s 76ms/step - loss: 0.1940 - val_loss: 0.1799\n",
      "Epoch 3/100\n",
      "1374/1374 [==============================] - 104s 76ms/step - loss: 0.1860 - val_loss: 0.0827\n",
      "Epoch 4/100\n",
      "1374/1374 [==============================] - 105s 76ms/step - loss: 0.1825 - val_loss: 0.1233\n",
      "Epoch 5/100\n",
      "1374/1374 [==============================] - 98s 71ms/step - loss: 0.1810 - val_loss: 0.0636\n",
      "Epoch 6/100\n",
      "1374/1374 [==============================] - 98s 71ms/step - loss: 0.1818 - val_loss: 0.0662\n",
      "Epoch 7/100\n",
      "1374/1374 [==============================] - 105s 76ms/step - loss: 0.1803 - val_loss: 0.0760\n",
      "Epoch 8/100\n",
      "1374/1374 [==============================] - 97s 71ms/step - loss: 0.1761 - val_loss: 0.0669\n",
      "Epoch 9/100\n",
      "1374/1374 [==============================] - 96s 70ms/step - loss: 0.1756 - val_loss: 0.1141\n",
      "Epoch 10/100\n",
      "1374/1374 [==============================] - 101s 73ms/step - loss: 0.1752 - val_loss: 0.0656\n",
      "Epoch 11/100\n",
      "1374/1374 [==============================] - 96s 70ms/step - loss: 0.1759 - val_loss: 0.0853\n",
      "Epoch 12/100\n",
      "1374/1374 [==============================] - 95s 69ms/step - loss: 0.1773 - val_loss: 0.1025\n",
      "Epoch 13/100\n",
      "1374/1374 [==============================] - 100s 73ms/step - loss: 0.1729 - val_loss: 0.0793\n",
      "Epoch 14/100\n",
      "1374/1374 [==============================] - 96s 70ms/step - loss: 0.1712 - val_loss: 0.1560\n",
      "Epoch 15/100\n",
      "1374/1374 [==============================] - 96s 70ms/step - loss: 0.1688 - val_loss: 0.0810\n"
     ]
    },
    {
     "data": {
      "text/plain": [
       "<tensorflow.python.keras.callbacks.History at 0x7f265c5b9cc0>"
      ]
     },
     "execution_count": 156,
     "metadata": {},
     "output_type": "execute_result"
    }
   ],
   "source": [
    "# fit the model --- > will use fit_generator instead of fit \n",
    "model.fit_generator(generator=generator,epochs=100,callbacks=[early_stop],validation_data=validation_generator,\n",
    "                    verbose=1)"
   ]
  },
  {
   "cell_type": "code",
   "execution_count": 158,
   "metadata": {},
   "outputs": [],
   "source": [
    "loss = pd.DataFrame(model.history.history)"
   ]
  },
  {
   "cell_type": "code",
   "execution_count": 159,
   "metadata": {},
   "outputs": [
    {
     "data": {
      "image/png": "[encoded data removed]",
      "text/plain": [
       "<Figure size 1080x504 with 1 Axes>"
      ]
     },
     "metadata": {
      "needs_background": "light"
     },
     "output_type": "display_data"
    }
   ],
   "source": [
    "plt.plot(loss['loss']) # plotting the train loss\n",
    "plt.plot(loss['val_loss']) # plotting the validation loss\n",
    "\n",
    "plt.title('model loss')\n",
    "plt.ylabel('loss')\n",
    "plt.xlabel('epoch')\n",
    "plt.ylim(0,1)\n",
    "plt.legend(['train','val'], loc = 'upper left')\n",
    "plt.show()\n"
   ]
  },
  {
   "cell_type": "markdown",
   "metadata": {},
   "source": [
    "### Save the trained model"
   ]
  },
  {
   "cell_type": "code",
   "execution_count": 160,
   "metadata": {},
   "outputs": [],
   "source": [
    "model.save('prd_stock_GRU_model.h5')"
   ]
  },
  {
   "cell_type": "markdown",
   "metadata": {},
   "source": [
    "## Prediction"
   ]
  },
  {
   "cell_type": "code",
   "execution_count": 234,
   "metadata": {},
   "outputs": [],
   "source": [
    "# use the model and predict_generator to get the scaled predictions \n",
    "pred = model.predict_generator(validation_generator)"
   ]
  },
  {
   "cell_type": "code",
   "execution_count": 236,
   "metadata": {},
   "outputs": [],
   "source": [
    "# inverse transform the scaled predictions to get the true predictions\n",
    "true_pred = scaler.inverse_transform(pred)"
   ]
  },
  {
   "cell_type": "code",
   "execution_count": 237,
   "metadata": {},
   "outputs": [
    {
     "data": {
      "text/plain": [
       "array([[4.1236046e+01, 4.1500195e+01, 4.1955238e+01, 4.2749043e+01,\n",
       "        1.0667255e+07],\n",
       "       [4.1784637e+01, 4.2171791e+01, 4.2446953e+01, 4.3339081e+01,\n",
       "        1.0818615e+07],\n",
       "       [4.1250835e+01, 4.1843929e+01, 4.2191643e+01, 4.2818733e+01,\n",
       "        8.4019090e+06],\n",
       "       ...,\n",
       "       [4.4683849e+01, 4.5321663e+01, 4.6429749e+01, 4.6593815e+01,\n",
       "        6.4776710e+06],\n",
       "       [4.4511955e+01, 4.5065033e+01, 4.6231419e+01, 4.6357819e+01,\n",
       "        6.4976940e+06],\n",
       "       [4.4470421e+01, 4.4991379e+01, 4.6269623e+01, 4.6354004e+01,\n",
       "        7.0963260e+06]], dtype=float32)"
      ]
     },
     "execution_count": 237,
     "metadata": {},
     "output_type": "execute_result"
    }
   ],
   "source": [
    "# check the true predictions\n",
    "true_pred"
   ]
  },
  {
   "cell_type": "code",
   "execution_count": 255,
   "metadata": {},
   "outputs": [
    {
     "data": {
      "text/plain": [
       "321"
      ]
     },
     "execution_count": 255,
     "metadata": {},
     "output_type": "execute_result"
    }
   ],
   "source": [
    "# confirm the len of the validation set -- > use as input to carve for plotting the actual\n",
    "len(validation_generator)"
   ]
  },
  {
   "cell_type": "code",
   "execution_count": 250,
   "metadata": {},
   "outputs": [],
   "source": [
    "# test subset from the actual dataset\n",
    "prices_aal_test = prices_aal_modified[-321:]"
   ]
  },
  {
   "cell_type": "code",
   "execution_count": 265,
   "metadata": {},
   "outputs": [
    {
     "data": {
      "text/html": [
       "<div>\n",
       "<style scoped>\n",
       "    .dataframe tbody tr th:only-of-type {\n",
       "        vertical-align: middle;\n",
       "    }\n",
       "\n",
       "    .dataframe tbody tr th {\n",
       "        vertical-align: top;\n",
       "    }\n",
       "\n",
       "    .dataframe thead th {\n",
       "        text-align: right;\n",
       "    }\n",
       "</style>\n",
       "<table border=\"1\" class=\"dataframe\">\n",
       "  <thead>\n",
       "    <tr style=\"text-align: right;\">\n",
       "      <th></th>\n",
       "      <th>symbol</th>\n",
       "      <th>open</th>\n",
       "      <th>close</th>\n",
       "      <th>low</th>\n",
       "      <th>high</th>\n",
       "      <th>volume</th>\n",
       "    </tr>\n",
       "    <tr>\n",
       "      <th>date</th>\n",
       "      <th></th>\n",
       "      <th></th>\n",
       "      <th></th>\n",
       "      <th></th>\n",
       "      <th></th>\n",
       "      <th></th>\n",
       "    </tr>\n",
       "  </thead>\n",
       "  <tbody>\n",
       "    <tr>\n",
       "      <td>2015-09-21</td>\n",
       "      <td>AAL</td>\n",
       "      <td>43.720001</td>\n",
       "      <td>43.230000</td>\n",
       "      <td>42.880001</td>\n",
       "      <td>44.009998</td>\n",
       "      <td>6687200.0</td>\n",
       "    </tr>\n",
       "    <tr>\n",
       "      <td>2015-09-22</td>\n",
       "      <td>AAL</td>\n",
       "      <td>42.770000</td>\n",
       "      <td>41.189999</td>\n",
       "      <td>40.919998</td>\n",
       "      <td>43.080002</td>\n",
       "      <td>12483700.0</td>\n",
       "    </tr>\n",
       "    <tr>\n",
       "      <td>2015-09-23</td>\n",
       "      <td>AAL</td>\n",
       "      <td>41.320000</td>\n",
       "      <td>41.240002</td>\n",
       "      <td>40.500000</td>\n",
       "      <td>41.500000</td>\n",
       "      <td>8248800.0</td>\n",
       "    </tr>\n",
       "    <tr>\n",
       "      <td>2015-09-24</td>\n",
       "      <td>AAL</td>\n",
       "      <td>41.150002</td>\n",
       "      <td>40.250000</td>\n",
       "      <td>39.919998</td>\n",
       "      <td>41.150002</td>\n",
       "      <td>10507300.0</td>\n",
       "    </tr>\n",
       "    <tr>\n",
       "      <td>2015-09-25</td>\n",
       "      <td>AAL</td>\n",
       "      <td>40.930000</td>\n",
       "      <td>40.240002</td>\n",
       "      <td>39.919998</td>\n",
       "      <td>41.029999</td>\n",
       "      <td>7524900.0</td>\n",
       "    </tr>\n",
       "    <tr>\n",
       "      <td>...</td>\n",
       "      <td>...</td>\n",
       "      <td>...</td>\n",
       "      <td>...</td>\n",
       "      <td>...</td>\n",
       "      <td>...</td>\n",
       "      <td>...</td>\n",
       "    </tr>\n",
       "    <tr>\n",
       "      <td>2016-12-23</td>\n",
       "      <td>AAL</td>\n",
       "      <td>48.610001</td>\n",
       "      <td>48.480000</td>\n",
       "      <td>48.290001</td>\n",
       "      <td>48.840000</td>\n",
       "      <td>2914800.0</td>\n",
       "    </tr>\n",
       "    <tr>\n",
       "      <td>2016-12-27</td>\n",
       "      <td>AAL</td>\n",
       "      <td>48.290001</td>\n",
       "      <td>48.610001</td>\n",
       "      <td>48.139999</td>\n",
       "      <td>48.919998</td>\n",
       "      <td>2797800.0</td>\n",
       "    </tr>\n",
       "    <tr>\n",
       "      <td>2016-12-28</td>\n",
       "      <td>AAL</td>\n",
       "      <td>48.730000</td>\n",
       "      <td>47.669998</td>\n",
       "      <td>47.610001</td>\n",
       "      <td>48.830002</td>\n",
       "      <td>4153600.0</td>\n",
       "    </tr>\n",
       "    <tr>\n",
       "      <td>2016-12-29</td>\n",
       "      <td>AAL</td>\n",
       "      <td>47.799999</td>\n",
       "      <td>47.250000</td>\n",
       "      <td>46.959999</td>\n",
       "      <td>48.000000</td>\n",
       "      <td>3709300.0</td>\n",
       "    </tr>\n",
       "    <tr>\n",
       "      <td>2016-12-30</td>\n",
       "      <td>AAL</td>\n",
       "      <td>47.419998</td>\n",
       "      <td>46.689999</td>\n",
       "      <td>46.470001</td>\n",
       "      <td>47.660000</td>\n",
       "      <td>4495000.0</td>\n",
       "    </tr>\n",
       "  </tbody>\n",
       "</table>\n",
       "<p>321 rows × 6 columns</p>\n",
       "</div>"
      ],
      "text/plain": [
       "           symbol       open      close        low       high      volume\n",
       "date                                                                     \n",
       "2015-09-21    AAL  43.720001  43.230000  42.880001  44.009998   6687200.0\n",
       "2015-09-22    AAL  42.770000  41.189999  40.919998  43.080002  12483700.0\n",
       "2015-09-23    AAL  41.320000  41.240002  40.500000  41.500000   8248800.0\n",
       "2015-09-24    AAL  41.150002  40.250000  39.919998  41.150002  10507300.0\n",
       "2015-09-25    AAL  40.930000  40.240002  39.919998  41.029999   7524900.0\n",
       "...           ...        ...        ...        ...        ...         ...\n",
       "2016-12-23    AAL  48.610001  48.480000  48.290001  48.840000   2914800.0\n",
       "2016-12-27    AAL  48.290001  48.610001  48.139999  48.919998   2797800.0\n",
       "2016-12-28    AAL  48.730000  47.669998  47.610001  48.830002   4153600.0\n",
       "2016-12-29    AAL  47.799999  47.250000  46.959999  48.000000   3709300.0\n",
       "2016-12-30    AAL  47.419998  46.689999  46.470001  47.660000   4495000.0\n",
       "\n",
       "[321 rows x 6 columns]"
      ]
     },
     "execution_count": 265,
     "metadata": {},
     "output_type": "execute_result"
    }
   ],
   "source": [
    "prices_aal_test"
   ]
  },
  {
   "cell_type": "code",
   "execution_count": 251,
   "metadata": {},
   "outputs": [],
   "source": [
    "# create a data frame of the predicted values\n",
    "predicted_df = pd.DataFrame(true_pred,columns=[['open','close','low','high','volume']],\n",
    "                           index=prices_aal_test.index)"
   ]
  },
  {
   "cell_type": "code",
   "execution_count": 252,
   "metadata": {},
   "outputs": [
    {
     "data": {
      "text/html": [
       "<div>\n",
       "<style scoped>\n",
       "    .dataframe tbody tr th:only-of-type {\n",
       "        vertical-align: middle;\n",
       "    }\n",
       "\n",
       "    .dataframe tbody tr th {\n",
       "        vertical-align: top;\n",
       "    }\n",
       "\n",
       "    .dataframe thead tr th {\n",
       "        text-align: left;\n",
       "    }\n",
       "\n",
       "    .dataframe thead tr:last-of-type th {\n",
       "        text-align: right;\n",
       "    }\n",
       "</style>\n",
       "<table border=\"1\" class=\"dataframe\">\n",
       "  <thead>\n",
       "    <tr>\n",
       "      <th></th>\n",
       "      <th>open</th>\n",
       "      <th>close</th>\n",
       "      <th>low</th>\n",
       "      <th>high</th>\n",
       "      <th>volume</th>\n",
       "    </tr>\n",
       "    <tr>\n",
       "      <th>date</th>\n",
       "      <th></th>\n",
       "      <th></th>\n",
       "      <th></th>\n",
       "      <th></th>\n",
       "      <th></th>\n",
       "    </tr>\n",
       "  </thead>\n",
       "  <tbody>\n",
       "    <tr>\n",
       "      <td>2015-09-21</td>\n",
       "      <td>41.236046</td>\n",
       "      <td>41.500195</td>\n",
       "      <td>41.955238</td>\n",
       "      <td>42.749043</td>\n",
       "      <td>10667255.0</td>\n",
       "    </tr>\n",
       "    <tr>\n",
       "      <td>2015-09-22</td>\n",
       "      <td>41.784637</td>\n",
       "      <td>42.171791</td>\n",
       "      <td>42.446953</td>\n",
       "      <td>43.339081</td>\n",
       "      <td>10818615.0</td>\n",
       "    </tr>\n",
       "    <tr>\n",
       "      <td>2015-09-23</td>\n",
       "      <td>41.250835</td>\n",
       "      <td>41.843929</td>\n",
       "      <td>42.191643</td>\n",
       "      <td>42.818733</td>\n",
       "      <td>8401909.0</td>\n",
       "    </tr>\n",
       "    <tr>\n",
       "      <td>2015-09-24</td>\n",
       "      <td>40.480991</td>\n",
       "      <td>40.636974</td>\n",
       "      <td>41.029469</td>\n",
       "      <td>41.806343</td>\n",
       "      <td>10623074.0</td>\n",
       "    </tr>\n",
       "    <tr>\n",
       "      <td>2015-09-25</td>\n",
       "      <td>40.053864</td>\n",
       "      <td>40.576004</td>\n",
       "      <td>40.955688</td>\n",
       "      <td>41.567089</td>\n",
       "      <td>8690319.0</td>\n",
       "    </tr>\n",
       "    <tr>\n",
       "      <td>...</td>\n",
       "      <td>...</td>\n",
       "      <td>...</td>\n",
       "      <td>...</td>\n",
       "      <td>...</td>\n",
       "      <td>...</td>\n",
       "    </tr>\n",
       "    <tr>\n",
       "      <td>2016-12-23</td>\n",
       "      <td>45.400753</td>\n",
       "      <td>46.053040</td>\n",
       "      <td>47.047577</td>\n",
       "      <td>47.320217</td>\n",
       "      <td>6892383.5</td>\n",
       "    </tr>\n",
       "    <tr>\n",
       "      <td>2016-12-27</td>\n",
       "      <td>45.057758</td>\n",
       "      <td>45.619659</td>\n",
       "      <td>46.718128</td>\n",
       "      <td>46.920105</td>\n",
       "      <td>6979529.5</td>\n",
       "    </tr>\n",
       "    <tr>\n",
       "      <td>2016-12-28</td>\n",
       "      <td>44.683849</td>\n",
       "      <td>45.321663</td>\n",
       "      <td>46.429749</td>\n",
       "      <td>46.593815</td>\n",
       "      <td>6477671.0</td>\n",
       "    </tr>\n",
       "    <tr>\n",
       "      <td>2016-12-29</td>\n",
       "      <td>44.511955</td>\n",
       "      <td>45.065033</td>\n",
       "      <td>46.231419</td>\n",
       "      <td>46.357819</td>\n",
       "      <td>6497694.0</td>\n",
       "    </tr>\n",
       "    <tr>\n",
       "      <td>2016-12-30</td>\n",
       "      <td>44.470421</td>\n",
       "      <td>44.991379</td>\n",
       "      <td>46.269623</td>\n",
       "      <td>46.354004</td>\n",
       "      <td>7096326.0</td>\n",
       "    </tr>\n",
       "  </tbody>\n",
       "</table>\n",
       "<p>321 rows × 5 columns</p>\n",
       "</div>"
      ],
      "text/plain": [
       "                 open      close        low       high      volume\n",
       "date                                                              \n",
       "2015-09-21  41.236046  41.500195  41.955238  42.749043  10667255.0\n",
       "2015-09-22  41.784637  42.171791  42.446953  43.339081  10818615.0\n",
       "2015-09-23  41.250835  41.843929  42.191643  42.818733   8401909.0\n",
       "2015-09-24  40.480991  40.636974  41.029469  41.806343  10623074.0\n",
       "2015-09-25  40.053864  40.576004  40.955688  41.567089   8690319.0\n",
       "...               ...        ...        ...        ...         ...\n",
       "2016-12-23  45.400753  46.053040  47.047577  47.320217   6892383.5\n",
       "2016-12-27  45.057758  45.619659  46.718128  46.920105   6979529.5\n",
       "2016-12-28  44.683849  45.321663  46.429749  46.593815   6477671.0\n",
       "2016-12-29  44.511955  45.065033  46.231419  46.357819   6497694.0\n",
       "2016-12-30  44.470421  44.991379  46.269623  46.354004   7096326.0\n",
       "\n",
       "[321 rows x 5 columns]"
      ]
     },
     "execution_count": 252,
     "metadata": {},
     "output_type": "execute_result"
    }
   ],
   "source": [
    "predicted_df"
   ]
  },
  {
   "cell_type": "code",
   "execution_count": 263,
   "metadata": {},
   "outputs": [],
   "source": [
    "# trim the dataframe to contain only the close column --- > to address error during plotting\n",
    "predicted_df_close = predicted_df.drop(['open','low','high','volume'],axis=1)"
   ]
  },
  {
   "cell_type": "code",
   "execution_count": 264,
   "metadata": {},
   "outputs": [
    {
     "data": {
      "image/png": "[encoded data removed]",
      "text/plain": [
       "<Figure size 1080x504 with 1 Axes>"
      ]
     },
     "metadata": {
      "needs_background": "light"
     },
     "output_type": "display_data"
    }
   ],
   "source": [
    "# plot the predicted vs the actual and compare the results\n",
    "plt.plot(prices_aal_test['close'] , 'b')\n",
    "plt.plot(predicted_df_close , 'r')\n",
    "\n",
    "plt.xlabel('Time')\n",
    "plt.ylabel('Stock Prices')\n",
    "plt.title('Check the performance of the model with time')\n",
    "plt.legend(['Actual', 'Predicted'], loc='upper left')\n",
    "\n",
    "plt.grid(True)\n",
    "plt.show()"
   ]
  },
  {
   "cell_type": "code",
   "execution_count": null,
   "metadata": {},
   "outputs": [],
   "source": []
  }
 ],
 "metadata": {
  "kernelspec": {
   "display_name": "Python 3",
   "language": "python",
   "name": "python3"
  },
  "language_info": {
   "codemirror_mode": {
    "name": "ipython",
    "version": 3
   },
   "file_extension": ".py",
   "mimetype": "text/x-python",
   "name": "python",
   "nbconvert_exporter": "python",
   "pygments_lexer": "ipython3",
   "version": "3.7.4"
  },
  "toc": {
   "base_numbering": 1,
   "nav_menu": {},
   "number_sections": true,
   "sideBar": true,
   "skip_h1_title": false,
   "title_cell": "Table of Contents",
   "title_sidebar": "Contents",
   "toc_cell": false,
   "toc_position": {},
   "toc_section_display": true,
   "toc_window_display": false
  }
 },
 "nbformat": 4,
 "nbformat_minor": 2
}
