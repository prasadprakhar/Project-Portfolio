{
 "cells": [
  {
   "cell_type": "markdown",
   "metadata": {},
   "source": [
    "## _Target Spam Words and Patterns_\n",
    "***\n",
    "DESCRIPTION\n",
    "\n",
    "How to build a spam filter for text messages using Natural Language Processing.\n",
    "\n",
    "We'll make use of some of the NLP concepts and combine them with machine learning to build a spam filter for SMS text messages.      \n",
    "\n",
    "\n"
   ]
  },
  {
   "cell_type": "markdown",
   "metadata": {},
   "source": [
    "## _Import Libraries and Load the Data_"
   ]
  },
  {
   "cell_type": "code",
   "execution_count": 32,
   "metadata": {},
   "outputs": [],
   "source": [
    "#import the libraries\n",
    "import os \n",
    "import sys\n",
    "import io\n",
    "import pickle\n",
    "from sys import path\n",
    "assert sys.version_info >= (3,5)\n",
    "\n",
    "#data manipulation\n",
    "import pandas as pd\n",
    "import numpy as np\n",
    "\n",
    "#visualization\n",
    "import matplotlib.pyplot as plt\n",
    "import seaborn as sns\n",
    "%matplotlib inline\n",
    "from IPython.core.display import display\n",
    "from IPython.core.display import HTML\n",
    "\n",
    "#consistent sized plot\n",
    "from pylab import rcParams\n",
    "rcParams['figure.figsize'] = 12,5\n",
    "rcParams['xtick.labelsize'] = 12\n",
    "rcParams['ytick.labelsize'] = 12\n",
    "rcParams['axes.labelsize'] = 12\n",
    "\n",
    "#display options for dataframe\n",
    "pd.options.display.max_columns = None\n",
    "\n",
    "#text processing\n",
    "import nltk\n",
    "from nltk.tokenize import word_tokenize\n",
    "from nltk.tokenize import sent_tokenize\n",
    "from nltk.tokenize import RegexpTokenizer\n",
    "from nltk.stem import SnowballStemmer\n",
    "from nltk.stem import PorterStemmer\n",
    "from nltk.corpus import stopwords\n",
    "from fuzzywuzzy import process\n",
    "from fuzzywuzzy import fuzz\n",
    "\n",
    "#text feature engineering\n",
    "from sklearn.feature_extraction.text import CountVectorizer\n",
    "from sklearn.feature_extraction.text import TfidfVectorizer\n",
    "from sklearn.preprocessing import LabelEncoder\n",
    "\n",
    "#models\n",
    "from sklearn.naive_bayes import MultinomialNB\n",
    "from sklearn.model_selection import train_test_split\n",
    "from sklearn.model_selection import learning_curve\n",
    "from sklearn.model_selection import StratifiedShuffleSplit\n",
    "from sklearn.model_selection import GridSearchCV\n",
    "from sklearn.model_selection import StratifiedKFold\n",
    "from sklearn.preprocessing import LabelBinarizer\n",
    "from sklearn.linear_model import SGDClassifier\n",
    "from sklearn.svm import LinearSVC\n",
    "\n",
    "#regular expressions\n",
    "import re\n",
    "\n",
    "#string operations\n",
    "import string\n",
    "from string import punctuation\n",
    "from string import digits\n",
    "\n",
    "#compute articles similarity\n",
    "from sklearn.metrics.pairwise import cosine_similarity\n",
    "from sklearn.metrics import accuracy_score\n",
    "from sklearn.metrics import confusion_matrix\n",
    "from sklearn.metrics import classification_report\n",
    "from sklearn.metrics import f1_score\n",
    "\n",
    "#for file extraction\n",
    "from zipfile import ZipFile\n",
    "\n",
    "#ignore warnings\n",
    "import warnings\n",
    "warnings.filterwarnings(action='ignore',message='')"
   ]
  },
  {
   "cell_type": "code",
   "execution_count": 2,
   "metadata": {},
   "outputs": [
    {
     "name": "stdout",
     "output_type": "stream",
     "text": [
      "File Name                                             Modified             Size\n",
      "SMSSpamCollection.txt                          2019-09-15 01:40:06       477907\n",
      "extracting contents, please wait ...\n",
      "done, your files have been unzipped !\n"
     ]
    }
   ],
   "source": [
    "# untar the file\n",
    "filename = '1599823601_smsspamcollection.zip'\n",
    "with ZipFile(filename, 'r') as zip:\n",
    "    #list the contents of the zip file\n",
    "    zip.printdir()\n",
    "    #extract the contents of the zip file\n",
    "    print('extracting contents, please wait ...')\n",
    "    zip.extractall()\n",
    "    print('done, your files have been unzipped !')"
   ]
  },
  {
   "cell_type": "code",
   "execution_count": 3,
   "metadata": {},
   "outputs": [
    {
     "data": {
      "text/html": [
       "<div>\n",
       "<style scoped>\n",
       "    .dataframe tbody tr th:only-of-type {\n",
       "        vertical-align: middle;\n",
       "    }\n",
       "\n",
       "    .dataframe tbody tr th {\n",
       "        vertical-align: top;\n",
       "    }\n",
       "\n",
       "    .dataframe thead th {\n",
       "        text-align: right;\n",
       "    }\n",
       "</style>\n",
       "<table border=\"1\" class=\"dataframe\">\n",
       "  <thead>\n",
       "    <tr style=\"text-align: right;\">\n",
       "      <th></th>\n",
       "      <th>label</th>\n",
       "      <th>message</th>\n",
       "    </tr>\n",
       "  </thead>\n",
       "  <tbody>\n",
       "    <tr>\n",
       "      <th>0</th>\n",
       "      <td>ham</td>\n",
       "      <td>Go until jurong point, crazy.. Available only ...</td>\n",
       "    </tr>\n",
       "    <tr>\n",
       "      <th>1</th>\n",
       "      <td>ham</td>\n",
       "      <td>Ok lar... Joking wif u oni...</td>\n",
       "    </tr>\n",
       "    <tr>\n",
       "      <th>2</th>\n",
       "      <td>spam</td>\n",
       "      <td>Free entry in 2 a wkly comp to win FA Cup fina...</td>\n",
       "    </tr>\n",
       "    <tr>\n",
       "      <th>3</th>\n",
       "      <td>ham</td>\n",
       "      <td>U dun say so early hor... U c already then say...</td>\n",
       "    </tr>\n",
       "    <tr>\n",
       "      <th>4</th>\n",
       "      <td>ham</td>\n",
       "      <td>Nah I don't think he goes to usf, he lives aro...</td>\n",
       "    </tr>\n",
       "  </tbody>\n",
       "</table>\n",
       "</div>"
      ],
      "text/plain": [
       "  label                                            message\n",
       "0   ham  Go until jurong point, crazy.. Available only ...\n",
       "1   ham                      Ok lar... Joking wif u oni...\n",
       "2  spam  Free entry in 2 a wkly comp to win FA Cup fina...\n",
       "3   ham  U dun say so early hor... U c already then say...\n",
       "4   ham  Nah I don't think he goes to usf, he lives aro..."
      ]
     },
     "execution_count": 3,
     "metadata": {},
     "output_type": "execute_result"
    }
   ],
   "source": [
    "# load the spam collection sms file\n",
    "sms =  pd.read_table('SMSSpamCollection.txt',names=['label','message'])\n",
    "sms.head()"
   ]
  },
  {
   "cell_type": "code",
   "execution_count": 4,
   "metadata": {},
   "outputs": [
    {
     "name": "stdout",
     "output_type": "stream",
     "text": [
      "<class 'pandas.core.frame.DataFrame'>\n",
      "RangeIndex: 5572 entries, 0 to 5571\n",
      "Data columns (total 2 columns):\n",
      " #   Column   Non-Null Count  Dtype \n",
      "---  ------   --------------  ----- \n",
      " 0   label    5572 non-null   object\n",
      " 1   message  5572 non-null   object\n",
      "dtypes: object(2)\n",
      "memory usage: 87.2+ KB\n"
     ]
    }
   ],
   "source": [
    "sms.info()"
   ]
  },
  {
   "cell_type": "code",
   "execution_count": 5,
   "metadata": {},
   "outputs": [
    {
     "data": {
      "text/plain": [
       "ham     4825\n",
       "spam     747\n",
       "Name: label, dtype: int64"
      ]
     },
     "execution_count": 5,
     "metadata": {},
     "output_type": "execute_result"
    }
   ],
   "source": [
    "sms['label'].value_counts()"
   ]
  },
  {
   "cell_type": "code",
   "execution_count": 6,
   "metadata": {},
   "outputs": [
    {
     "data": {
      "image/png": "[encoded data removed]",
      "text/plain": [
       "<Figure size 864x360 with 1 Axes>"
      ]
     },
     "metadata": {
      "needs_background": "light"
     },
     "output_type": "display_data"
    }
   ],
   "source": [
    "#countplot of the categories of sentiments\n",
    "sns.countplot(sms['label'])\n",
    "plt.title('Countplot of the SMS labels (ham or spam)')\n",
    "plt.show()"
   ]
  },
  {
   "cell_type": "markdown",
   "metadata": {},
   "source": [
    "- <b> _The data is highly imbalanced. There are a lot more ham messages than the spam messages_ </b>"
   ]
  },
  {
   "cell_type": "code",
   "execution_count": 7,
   "metadata": {},
   "outputs": [
    {
     "data": {
      "text/plain": [
       "label      0\n",
       "message    0\n",
       "dtype: int64"
      ]
     },
     "execution_count": 7,
     "metadata": {},
     "output_type": "execute_result"
    }
   ],
   "source": [
    "sms.isna().sum()"
   ]
  },
  {
   "cell_type": "code",
   "execution_count": 8,
   "metadata": {},
   "outputs": [
    {
     "name": "stdout",
     "output_type": "stream",
     "text": [
      "[]\n"
     ]
    }
   ],
   "source": [
    "#check for any empty string\n",
    "blanks = []\n",
    "for idx,rev,lab in sms.itertuples():\n",
    "    if type(rev) == 'str':\n",
    "        if rev.isspace():\n",
    "            blanks.append(idx)\n",
    "print(blanks)  "
   ]
  },
  {
   "cell_type": "markdown",
   "metadata": {},
   "source": [
    "- <b> _There are no blank messages in the dataset. Also, there are no null or missing values in the dataset_ </b>"
   ]
  },
  {
   "cell_type": "markdown",
   "metadata": {},
   "source": [
    "## _Split the dataset into train and test set_"
   ]
  },
  {
   "cell_type": "code",
   "execution_count": 9,
   "metadata": {},
   "outputs": [
    {
     "data": {
      "text/plain": [
       "((3900, 1), (1672, 1))"
      ]
     },
     "execution_count": 9,
     "metadata": {},
     "output_type": "execute_result"
    }
   ],
   "source": [
    "X = sms.drop('label',axis=1)\n",
    "y = sms['label']\n",
    "test_size = 0.3\n",
    "random_state = 42\n",
    "#split the dataset\n",
    "X_train,X_test,y_train,y_test = train_test_split(X,y,test_size=test_size,random_state=random_state,stratify=sms['label'])\n",
    "X_train.shape,X_test.shape"
   ]
  },
  {
   "cell_type": "markdown",
   "metadata": {},
   "source": [
    "## _Text Preprocessing - Cleaning & Preparing for Modeling_"
   ]
  },
  {
   "cell_type": "code",
   "execution_count": 10,
   "metadata": {},
   "outputs": [],
   "source": [
    "def simplify(text):\n",
    "    '''Function to handle the diacritics in the text'''\n",
    "    import unicodedata\n",
    "    try:\n",
    "        text = unicode(text, 'utf-8')\n",
    "    except NameError:\n",
    "        pass\n",
    "    text = unicodedata.normalize('NFD', text).encode('ascii', 'ignore').decode(\"utf-8\")\n",
    "    return str(text)"
   ]
  },
  {
   "cell_type": "code",
   "execution_count": 11,
   "metadata": {},
   "outputs": [],
   "source": [
    "stemmer = PorterStemmer()\n",
    "def text_cleaning(text):\n",
    "    '''Function to clean the text'''\n",
    "    #convert to lower case\n",
    "    text = text.lower()\n",
    "    #remove the email address\n",
    "    text = text.replace(r'[a-zA-z0-9._]+@[a-zA-z0-9._]+','emailaddr')\n",
    "    #replace the URL's\n",
    "    text = text.replace(r'(http[s]?\\S+)|(\\w+\\.[a-zA-Z]{2,4}\\S*)','httpaddr')\n",
    "    #replace currency symbol with moneysymb\n",
    "    text = text.replace(r'£|\\$', 'moneysymb')\n",
    "    # Replace phone numbers with 'phonenumbr'\n",
    "    text = text.replace(r'\\b(\\+\\d{1,2}\\s)?\\d?[\\-(.]?\\d{3}\\)?[\\s.-]?\\d{3}[\\s.-]?\\d{4}\\b','phonenumbr')\n",
    "    #remove the ip address\n",
    "    text = text.replace(r'((2[0-5]|2[0-4][0-9]|[01]?[0-9][0-9]?)(\\.|$)){4}','')\n",
    "    #remove the user handles\n",
    "    text = text.replace(r'@\\w+','')\n",
    "    #remove the string punctuation\n",
    "    text = ' '.join([txt for txt in word_tokenize(text) if txt not in string.punctuation])\n",
    "    #replace the digits from the text with numbr\n",
    "    text = text.replace(r'\\d','numbr')    \n",
    "    #remove all non alphabetical characters\n",
    "    text = ' '.join([txt for txt in word_tokenize(text) if txt.isalpha()])\n",
    "    #replace multiple white space with a single one\n",
    "    text = text.replace(r'\\s+', ' ')\n",
    "    #remove the leading and trailing whitespaces\n",
    "    text = text.replace(r'^\\s+|\\s+?$', '')\n",
    "    #remove the stop words\n",
    "    text = ' '.join([txt for txt in word_tokenize(text) if txt not in stopwords.words('english')])\n",
    "    #apply stemmer\n",
    "    text = ' '.join([stemmer.stem(txt) for txt in word_tokenize(text)])\n",
    "    \n",
    "    #return the cleaned text\n",
    "    return text"
   ]
  },
  {
   "cell_type": "code",
   "execution_count": 12,
   "metadata": {},
   "outputs": [],
   "source": [
    "'''\n",
    "Clean the text values in train and test\n",
    "'''\n",
    "preprocesses = [simplify,text_cleaning]\n",
    "\n",
    "for preprocess in preprocesses:\n",
    "    X_train['message'] = X_train['message'].apply(preprocess)\n",
    "    X_test['message'] = X_test['message'].apply(preprocess)"
   ]
  },
  {
   "cell_type": "code",
   "execution_count": 13,
   "metadata": {},
   "outputs": [],
   "source": [
    "# Construct a design matrix using an n-gram model and a tf-idf statistics\n",
    "vectorizer = TfidfVectorizer(ngram_range=(1, 2))\n",
    "counts = vectorizer.fit_transform(X_train['message'])\n",
    "vocab = vectorizer.vocabulary_"
   ]
  },
  {
   "cell_type": "code",
   "execution_count": 14,
   "metadata": {},
   "outputs": [],
   "source": [
    "test_counts = vectorizer.transform(X_test['message'])"
   ]
  },
  {
   "cell_type": "code",
   "execution_count": 15,
   "metadata": {},
   "outputs": [],
   "source": [
    "#label encode the target features\n",
    "encoder = LabelEncoder()\n",
    "y_train = encoder.fit_transform(y_train)\n",
    "y_test = encoder.transform(y_test)"
   ]
  },
  {
   "cell_type": "code",
   "execution_count": 16,
   "metadata": {},
   "outputs": [
    {
     "data": {
      "text/plain": [
       "LinearSVC(C=1.0, class_weight=None, dual=True, fit_intercept=True,\n",
       "          intercept_scaling=1, loss='hinge', max_iter=1000, multi_class='ovr',\n",
       "          penalty='l2', random_state=None, tol=0.0001, verbose=0)"
      ]
     },
     "execution_count": 16,
     "metadata": {},
     "output_type": "execute_result"
    }
   ],
   "source": [
    "# Train SVM with a linear kernel on the training set\n",
    "clf = LinearSVC(loss='hinge')\n",
    "clf.fit(counts, y_train)"
   ]
  },
  {
   "cell_type": "code",
   "execution_count": 17,
   "metadata": {},
   "outputs": [],
   "source": [
    "train_predictions = clf.predict(counts)"
   ]
  },
  {
   "cell_type": "code",
   "execution_count": 18,
   "metadata": {},
   "outputs": [],
   "source": [
    "test_predictions = clf.predict(test_counts)"
   ]
  },
  {
   "cell_type": "code",
   "execution_count": 19,
   "metadata": {},
   "outputs": [
    {
     "name": "stdout",
     "output_type": "stream",
     "text": [
      "Accuracy Score on the Train and Test Set\n",
      "Train Accuracy = 0.9974358974358974\n",
      "Test Accuracy = 0.9844497607655502\n"
     ]
    }
   ],
   "source": [
    "print('Accuracy Score on the Train and Test Set')\n",
    "print('Train Accuracy = {}'.format(accuracy_score(y_train,train_predictions)))\n",
    "print('Test Accuracy = {}'.format(accuracy_score(y_test,test_predictions)))"
   ]
  },
  {
   "cell_type": "code",
   "execution_count": 20,
   "metadata": {},
   "outputs": [
    {
     "name": "stdout",
     "output_type": "stream",
     "text": [
      "Classification Report on Test Set\n",
      "              precision    recall  f1-score   support\n",
      "\n",
      "           0       0.99      1.00      0.99      1448\n",
      "           1       0.97      0.91      0.94       224\n",
      "\n",
      "    accuracy                           0.98      1672\n",
      "   macro avg       0.98      0.95      0.97      1672\n",
      "weighted avg       0.98      0.98      0.98      1672\n",
      "\n"
     ]
    }
   ],
   "source": [
    "print('Classification Report on Test Set')\n",
    "print(classification_report(y_test,test_predictions))"
   ]
  },
  {
   "cell_type": "code",
   "execution_count": 21,
   "metadata": {},
   "outputs": [
    {
     "name": "stdout",
     "output_type": "stream",
     "text": [
      "F-1 score on the test set\n",
      "Test Set F1 Score = 0.9400921658986174\n"
     ]
    }
   ],
   "source": [
    "print('F-1 score on the test set')\n",
    "print('Test Set F1 Score = {}'.format(f1_score(y_test,test_predictions)))"
   ]
  },
  {
   "cell_type": "code",
   "execution_count": 22,
   "metadata": {},
   "outputs": [
    {
     "name": "stdout",
     "output_type": "stream",
     "text": [
      "Confusion Matrix on the Test Set\n",
      "[[1442    6]\n",
      " [  20  204]]\n"
     ]
    }
   ],
   "source": [
    "print('Confusion Matrix on the Test Set')\n",
    "print(confusion_matrix(y_test,test_predictions))"
   ]
  },
  {
   "cell_type": "code",
   "execution_count": 23,
   "metadata": {},
   "outputs": [
    {
     "data": {
      "text/html": [
       "<div>\n",
       "<style scoped>\n",
       "    .dataframe tbody tr th:only-of-type {\n",
       "        vertical-align: middle;\n",
       "    }\n",
       "\n",
       "    .dataframe tbody tr th {\n",
       "        vertical-align: top;\n",
       "    }\n",
       "\n",
       "    .dataframe thead tr th {\n",
       "        text-align: left;\n",
       "    }\n",
       "</style>\n",
       "<table border=\"1\" class=\"dataframe\">\n",
       "  <thead>\n",
       "    <tr>\n",
       "      <th></th>\n",
       "      <th></th>\n",
       "      <th colspan=\"2\" halign=\"left\">predicted</th>\n",
       "    </tr>\n",
       "    <tr>\n",
       "      <th></th>\n",
       "      <th></th>\n",
       "      <th>spam</th>\n",
       "      <th>ham</th>\n",
       "    </tr>\n",
       "  </thead>\n",
       "  <tbody>\n",
       "    <tr>\n",
       "      <th rowspan=\"2\" valign=\"top\">actual</th>\n",
       "      <th>spam</th>\n",
       "      <td>1442</td>\n",
       "      <td>6</td>\n",
       "    </tr>\n",
       "    <tr>\n",
       "      <th>ham</th>\n",
       "      <td>20</td>\n",
       "      <td>204</td>\n",
       "    </tr>\n",
       "  </tbody>\n",
       "</table>\n",
       "</div>"
      ],
      "text/plain": [
       "            predicted     \n",
       "                 spam  ham\n",
       "actual spam      1442    6\n",
       "       ham         20  204"
      ]
     },
     "execution_count": 23,
     "metadata": {},
     "output_type": "execute_result"
    }
   ],
   "source": [
    "# Display a confusion matrix\n",
    "\n",
    "pd.DataFrame(confusion_matrix(y_test,test_predictions),index=[['actual', 'actual'], ['spam', 'ham']],\n",
    "             columns=[['predicted', 'predicted'], ['spam', 'ham']])"
   ]
  },
  {
   "cell_type": "markdown",
   "metadata": {},
   "source": [
    "## _Model Fine Tuning_"
   ]
  },
  {
   "cell_type": "code",
   "execution_count": 24,
   "metadata": {},
   "outputs": [],
   "source": [
    "# select 10 different sizes of the entire training dataset. The test set will still be kept separate an an unseen data\n",
    "raw_text = X_train['message']\n",
    "sample_space = np.linspace(500,len(raw_text)*.80,10,dtype='int')\n",
    "\n",
    "# Compute learning curves without regularization for the SVM model\n",
    "train_size,train_scores,valid_scores = learning_curve(estimator=LinearSVC(loss='hinge',C=1e10),\n",
    "                                                      X=counts,y=y_train,\n",
    "                                                      train_sizes=sample_space,\n",
    "                                                      cv=StratifiedShuffleSplit(n_splits=10,test_size=0.2,random_state=42),\n",
    "                                                      scoring='f1',\n",
    "                                                      n_jobs=-1)"
   ]
  },
  {
   "cell_type": "code",
   "execution_count": 25,
   "metadata": {},
   "outputs": [
    {
     "data": {
      "text/plain": [
       "array([ 500,  791, 1082, 1373, 1664, 1955, 2246, 2537, 2828, 3120])"
      ]
     },
     "execution_count": 25,
     "metadata": {},
     "output_type": "execute_result"
    }
   ],
   "source": [
    "train_size"
   ]
  },
  {
   "cell_type": "code",
   "execution_count": 26,
   "metadata": {},
   "outputs": [
    {
     "data": {
      "text/plain": [
       "array([[1.        , 1.        , 1.        , 0.99236641, 1.        ,\n",
       "        1.        , 1.        , 1.        , 1.        , 1.        ],\n",
       "       [1.        , 1.        , 1.        , 0.99530516, 1.        ,\n",
       "        1.        , 1.        , 1.        , 1.        , 0.99415205],\n",
       "       [1.        , 1.        , 1.        , 0.99646643, 1.        ,\n",
       "        1.        , 1.        , 1.        , 1.        , 0.99616858],\n",
       "       [1.        , 1.        , 1.        , 0.99726027, 1.        ,\n",
       "        1.        , 1.        , 1.        , 1.        , 0.99711816],\n",
       "       [1.        , 1.        , 1.        , 0.99779249, 1.        ,\n",
       "        1.        , 1.        , 1.        , 0.99788584, 0.99765808],\n",
       "       [0.99796334, 0.99815157, 1.        , 0.99815838, 1.        ,\n",
       "        0.99802761, 1.        , 1.        , 0.99815838, 0.99800399],\n",
       "       [0.9982669 , 0.99836334, 1.        , 0.99835796, 1.        ,\n",
       "        0.99833055, 1.        , 1.        , 0.99838969, 0.9981982 ],\n",
       "       [0.99848714, 0.99854015, 1.        , 0.9985229 , 0.99853587,\n",
       "        0.9984917 , 1.        , 1.        , 0.99853587, 0.99847328],\n",
       "       [0.99867198, 0.99865772, 1.        , 0.99866844, 0.99868938,\n",
       "        0.9986755 , 1.        , 1.        , 0.99866131, 0.9986541 ],\n",
       "       [0.9988024 , 0.9988024 , 1.        , 0.9988024 , 0.9988024 ,\n",
       "        0.9988024 , 1.        , 1.        , 0.9988024 , 0.9988024 ]])"
      ]
     },
     "execution_count": 26,
     "metadata": {},
     "output_type": "execute_result"
    }
   ],
   "source": [
    "#check the train scores\n",
    "train_scores"
   ]
  },
  {
   "cell_type": "code",
   "execution_count": 27,
   "metadata": {},
   "outputs": [
    {
     "data": {
      "text/plain": [
       "array([[0.59060403, 0.5106383 , 0.45588235, 0.83333333, 0.61437908,\n",
       "        0.52413793, 0.64516129, 0.62745098, 0.61437908, 0.34375   ],\n",
       "       [0.75739645, 0.7037037 , 0.65384615, 0.87700535, 0.69135802,\n",
       "        0.65408805, 0.72727273, 0.79310345, 0.74117647, 0.68322981],\n",
       "       [0.82681564, 0.79310345, 0.7195122 , 0.85869565, 0.74251497,\n",
       "        0.70731707, 0.76023392, 0.85405405, 0.82417582, 0.74418605],\n",
       "       [0.82022472, 0.83977901, 0.79545455, 0.86021505, 0.77906977,\n",
       "        0.77456647, 0.7816092 , 0.87096774, 0.84946237, 0.79329609],\n",
       "       [0.86486486, 0.84615385, 0.80225989, 0.87830688, 0.79310345,\n",
       "        0.82872928, 0.79545455, 0.90052356, 0.87046632, 0.82608696],\n",
       "       [0.91836735, 0.89119171, 0.81564246, 0.90052356, 0.83977901,\n",
       "        0.86170213, 0.80681818, 0.91282051, 0.88541667, 0.84491979],\n",
       "       [0.90625   , 0.90816327, 0.82222222, 0.90052356, 0.85869565,\n",
       "        0.87958115, 0.82022472, 0.94      , 0.88082902, 0.85106383],\n",
       "       [0.90721649, 0.9015544 , 0.84782609, 0.88888889, 0.87830688,\n",
       "        0.875     , 0.83977901, 0.93      , 0.88659794, 0.86315789],\n",
       "       [0.91836735, 0.9025641 , 0.84153005, 0.89473684, 0.9015544 ,\n",
       "        0.88659794, 0.83516484, 0.92929293, 0.88659794, 0.86910995],\n",
       "       [0.91282051, 0.91370558, 0.84153005, 0.90052356, 0.9015544 ,\n",
       "        0.88659794, 0.85405405, 0.94      , 0.89230769, 0.875     ]])"
      ]
     },
     "execution_count": 27,
     "metadata": {},
     "output_type": "execute_result"
    }
   ],
   "source": [
    "#checl the test scores \n",
    "valid_scores"
   ]
  },
  {
   "cell_type": "code",
   "execution_count": 28,
   "metadata": {},
   "outputs": [],
   "source": [
    "def make_tidy(sample_space, train_scores, valid_scores):\n",
    "    # Join train_scores and valid_scores, and label with sample_space\n",
    "    messy_format = pd.DataFrame(np.stack((sample_space, train_scores.mean(axis=1),valid_scores.mean(axis=1)), axis=1),\n",
    "                                columns=['# of training examples', 'Training set', 'Validation set'])\n",
    "     # Re-structure into into tidy format\n",
    "    return pd.melt(messy_format,id_vars='# of training examples',value_vars=['Training set', 'Validation set'],\n",
    "                   var_name='Scores',value_name='F1 score')"
   ]
  },
  {
   "cell_type": "code",
   "execution_count": 29,
   "metadata": {},
   "outputs": [
    {
     "data": {
      "image/png": "[encoded data removed]",
      "text/plain": [
       "<Figure size 464x360 with 1 Axes>"
      ]
     },
     "metadata": {
      "needs_background": "light"
     },
     "output_type": "display_data"
    }
   ],
   "source": [
    "# Initialize a FacetGrid object using the table of scores and facet on the type of score\n",
    "g = sns.FacetGrid(make_tidy(sample_space, train_scores, valid_scores), hue='Scores', size=5)\n",
    "# Plot the learning curves and add a legend\n",
    "g.map(plt.scatter, '# of training examples', 'F1 score')\n",
    "g.map(plt.plot, '# of training examples', 'F1 score').add_legend()\n",
    "plt.show()"
   ]
  },
  {
   "cell_type": "code",
   "execution_count": 37,
   "metadata": {},
   "outputs": [
    {
     "name": "stdout",
     "output_type": "stream",
     "text": [
      "{'penalty': ['l1', 'l2', 'elasticnet'], 'loss': ['squared_hinge', 'hinge'], 'C': [10000000000.0, 100]}\n"
     ]
    }
   ],
   "source": [
    "''' Grid Search for the best hyperparameter '''\n",
    "from scipy.stats import loguniform\n",
    "space = dict()\n",
    "space['penalty'] = ['l1', 'l2', 'elasticnet']\n",
    "space['loss'] = ['squared_hinge','hinge']\n",
    "space['C'] = [1e10,100]\n",
    "print(space)"
   ]
  },
  {
   "cell_type": "code",
   "execution_count": 63,
   "metadata": {},
   "outputs": [],
   "source": [
    "clf = LinearSVC()\n",
    "folds = StratifiedKFold(n_splits=10,random_state=random_state)\n",
    "grid_search = GridSearchCV(estimator=clf,param_grid=space,scoring='f1',\n",
    "                           n_jobs=-1, cv=folds)\n",
    "grid_result = grid_search.fit(counts,y_train)"
   ]
  },
  {
   "cell_type": "code",
   "execution_count": 64,
   "metadata": {},
   "outputs": [
    {
     "data": {
      "text/plain": [
       "{'C': 100, 'loss': 'hinge', 'penalty': 'l2'}"
      ]
     },
     "execution_count": 64,
     "metadata": {},
     "output_type": "execute_result"
    }
   ],
   "source": [
    "grid_result.best_params_"
   ]
  },
  {
   "cell_type": "code",
   "execution_count": null,
   "metadata": {},
   "outputs": [],
   "source": [
    "#clf = LinearSVC(loss='hinge',penalty='l2',C=100)\n",
    "clf = grid_result.best_estimator_\n",
    "clf.fit(counts,y_train)\n",
    "train_predictions = clf.predict(counts)\n",
    "test_predictions = clf.predict(test_counts)"
   ]
  },
  {
   "cell_type": "code",
   "execution_count": 71,
   "metadata": {},
   "outputs": [
    {
     "name": "stdout",
     "output_type": "stream",
     "text": [
      "Accuracy Score on the Train and Test Set\n",
      "Train Accuracy = 0.9997435897435898\n",
      "Test Accuracy = 0.9826555023923444\n"
     ]
    }
   ],
   "source": [
    "print('Accuracy Score on the Train and Test Set')\n",
    "print('Train Accuracy = {}'.format(accuracy_score(y_train,train_predictions)))\n",
    "print('Test Accuracy = {}'.format(accuracy_score(y_test,test_predictions)))"
   ]
  },
  {
   "cell_type": "code",
   "execution_count": 72,
   "metadata": {},
   "outputs": [
    {
     "name": "stdout",
     "output_type": "stream",
     "text": [
      "Classification Report on Test Set\n",
      "              precision    recall  f1-score   support\n",
      "\n",
      "           0       0.99      0.99      0.99      1448\n",
      "           1       0.95      0.92      0.93       224\n",
      "\n",
      "    accuracy                           0.98      1672\n",
      "   macro avg       0.97      0.96      0.96      1672\n",
      "weighted avg       0.98      0.98      0.98      1672\n",
      "\n"
     ]
    }
   ],
   "source": [
    "print('Classification Report on Test Set')\n",
    "print(classification_report(y_test,test_predictions))"
   ]
  },
  {
   "cell_type": "markdown",
   "metadata": {},
   "source": [
    "- <b> _Grid search fine tuned hyperparameters does not outperform the f1 score achieved using the base model. Other combinations of hyper parameters can also be tried_ </b>"
   ]
  },
  {
   "cell_type": "code",
   "execution_count": 73,
   "metadata": {},
   "outputs": [
    {
     "data": {
      "text/html": [
       "<div>\n",
       "<style scoped>\n",
       "    .dataframe tbody tr th:only-of-type {\n",
       "        vertical-align: middle;\n",
       "    }\n",
       "\n",
       "    .dataframe tbody tr th {\n",
       "        vertical-align: top;\n",
       "    }\n",
       "\n",
       "    .dataframe thead tr th {\n",
       "        text-align: left;\n",
       "    }\n",
       "</style>\n",
       "<table border=\"1\" class=\"dataframe\">\n",
       "  <thead>\n",
       "    <tr>\n",
       "      <th></th>\n",
       "      <th></th>\n",
       "      <th colspan=\"2\" halign=\"left\">predicted</th>\n",
       "    </tr>\n",
       "    <tr>\n",
       "      <th></th>\n",
       "      <th></th>\n",
       "      <th>spam</th>\n",
       "      <th>ham</th>\n",
       "    </tr>\n",
       "  </thead>\n",
       "  <tbody>\n",
       "    <tr>\n",
       "      <th rowspan=\"2\" valign=\"top\">actual</th>\n",
       "      <th>spam</th>\n",
       "      <td>1436</td>\n",
       "      <td>12</td>\n",
       "    </tr>\n",
       "    <tr>\n",
       "      <th>ham</th>\n",
       "      <td>17</td>\n",
       "      <td>207</td>\n",
       "    </tr>\n",
       "  </tbody>\n",
       "</table>\n",
       "</div>"
      ],
      "text/plain": [
       "            predicted     \n",
       "                 spam  ham\n",
       "actual spam      1436   12\n",
       "       ham         17  207"
      ]
     },
     "execution_count": 73,
     "metadata": {},
     "output_type": "execute_result"
    }
   ],
   "source": [
    "# Display a confusion matrix\n",
    "\n",
    "pd.DataFrame(confusion_matrix(y_test,test_predictions),index=[['actual', 'actual'], ['spam', 'ham']],\n",
    "             columns=[['predicted', 'predicted'], ['spam', 'ham']])"
   ]
  },
  {
   "cell_type": "code",
   "execution_count": 74,
   "metadata": {},
   "outputs": [
    {
     "data": {
      "text/plain": [
       "txt          3.523728\n",
       "claim        2.539601\n",
       "servic       2.309778\n",
       "repli        2.289231\n",
       "mobil        2.195162\n",
       "prize        1.999999\n",
       "cost         1.999958\n",
       "stop         1.950816\n",
       "rington      1.898867\n",
       "http         1.858149\n",
       "text         1.806301\n",
       "tone         1.725355\n",
       "uk           1.707445\n",
       "collect      1.665023\n",
       "lost help    1.650025\n",
       "award        1.617781\n",
       "new          1.588394\n",
       "video        1.558271\n",
       "bid          1.547377\n",
       "order        1.540384\n",
       "dtype: float64"
      ]
     },
     "execution_count": 74,
     "metadata": {},
     "output_type": "execute_result"
    }
   ],
   "source": [
    "# Display the features with the highest weights in the SVM model\n",
    "pd.Series(clf.coef_.T.ravel(),index=vectorizer.get_feature_names()).sort_values(ascending=False)[:20]"
   ]
  },
  {
   "cell_type": "code",
   "execution_count": 87,
   "metadata": {},
   "outputs": [
    {
     "data": {
      "text/plain": [
       "'not spam'"
      ]
     },
     "execution_count": 87,
     "metadata": {},
     "output_type": "execute_result"
    }
   ],
   "source": [
    "# to finish up, let's write up a function that'll decide whether a string is spam or not, and apply it on the hypothetical message from earlier.\n",
    "\n",
    "def spam_filter(message):\n",
    "    '''Classify whether spam or ham for an unseen text message'''\n",
    "    text = simplify(message)\n",
    "    text_clean = text_cleaning(text)\n",
    "    if clf.predict(vectorizer.transform([text_clean])):\n",
    "        return 'spam'\n",
    "    else:\n",
    "        return 'not spam'   \n",
    "\n",
    "# spam_filter(example)\n",
    "\n",
    "spam_filter('Ohhh, but those are the best kind of foods')"
   ]
  },
  {
   "cell_type": "code",
   "execution_count": 90,
   "metadata": {},
   "outputs": [
    {
     "data": {
      "text/plain": [
       "'spam'"
      ]
     },
     "execution_count": 90,
     "metadata": {},
     "output_type": "execute_result"
    }
   ],
   "source": [
    "spam_filter('You have won 10 million as an award. Send me your personal details on this number 898876446 or http://www.prd.com')"
   ]
  },
  {
   "cell_type": "code",
   "execution_count": null,
   "metadata": {},
   "outputs": [],
   "source": []
  }
 ],
 "metadata": {
  "kernelspec": {
   "display_name": "Python 3",
   "language": "python",
   "name": "python3"
  },
  "language_info": {
   "codemirror_mode": {
    "name": "ipython",
    "version": 3
   },
   "file_extension": ".py",
   "mimetype": "text/x-python",
   "name": "python",
   "nbconvert_exporter": "python",
   "pygments_lexer": "ipython3",
   "version": "3.7.6"
  }
 },
 "nbformat": 4,
 "nbformat_minor": 4
}
